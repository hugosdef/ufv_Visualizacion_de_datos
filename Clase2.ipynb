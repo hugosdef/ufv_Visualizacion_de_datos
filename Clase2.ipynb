{
  "nbformat": 4,
  "nbformat_minor": 0,
  "metadata": {
    "colab": {
      "provenance": [],
      "toc_visible": true,
      "authorship_tag": "ABX9TyMx0Qd9qewAE8AFBZ0m0sGp",
      "include_colab_link": true
    },
    "kernelspec": {
      "name": "python3",
      "display_name": "Python 3"
    },
    "language_info": {
      "name": "python"
    }
  },
  "cells": [
    {
      "cell_type": "markdown",
      "metadata": {
        "id": "view-in-github",
        "colab_type": "text"
      },
      "source": [
        "<a href=\"https://colab.research.google.com/github/hugosdef/ufv_Visualizacion_de_datos/blob/main/Clase2.ipynb\" target=\"_parent\"><img src=\"https://colab.research.google.com/assets/colab-badge.svg\" alt=\"Open In Colab\"/></a>"
      ]
    },
    {
      "cell_type": "markdown",
      "source": [
        "# **PRÁCTICA 1**\n",
        "Visualización de Datos.\n",
        "\n",
        "Hugo Santos de Felipe"
      ],
      "metadata": {
        "id": "_mxR62AVa_LF"
      }
    },
    {
      "cell_type": "markdown",
      "source": [
        "Se importan las librerias necesarias para realizar el ejercicio."
      ],
      "metadata": {
        "id": "xj91Pi3pcIEF"
      }
    },
    {
      "cell_type": "code",
      "execution_count": null,
      "metadata": {
        "id": "LVNM90ey22G5"
      },
      "outputs": [],
      "source": [
        "from google.colab import files\n",
        "import pandas as pd\n",
        "from IPython.display import display\n",
        "import warnings\n",
        "import plotly.express as px\n",
        "import numpy as np\n"
      ]
    },
    {
      "cell_type": "markdown",
      "source": [
        "Con la siguiente línea de código se suprimirán las advertencias de obsolescencia (deprecation warnings) que se mostrarían en el código si no se utilizase. Estos warnings solo indican que se está utilizando una función que ha sido marcada como obsoleta y que se eliminará en futuras versiones."
      ],
      "metadata": {
        "id": "EmjlSmTycVCW"
      }
    },
    {
      "cell_type": "code",
      "source": [
        "warnings.filterwarnings(\"ignore\", category=DeprecationWarning)"
      ],
      "metadata": {
        "id": "na-SpJdZcZ5g"
      },
      "execution_count": null,
      "outputs": []
    },
    {
      "cell_type": "markdown",
      "source": [
        "# CARGA DE LA BASE DE DATOS"
      ],
      "metadata": {
        "id": "pTRgs8VIcrb1"
      }
    },
    {
      "cell_type": "markdown",
      "source": [
        "Se carga la base de datos **datos_ejercicio_ventas** y se muestran los 5 primeros registros."
      ],
      "metadata": {
        "id": "mL75jSGNc-46"
      }
    },
    {
      "cell_type": "code",
      "source": [
        "uploaded = files.upload()\n",
        "filename = list(uploaded.keys())[0]\n",
        "dfVentas = pd.read_csv(filename, delimiter=',')\n",
        "dfVentas.head(5)"
      ],
      "metadata": {
        "colab": {
          "base_uri": "https://localhost:8080/",
          "height": 262
        },
        "id": "p-oZ7KBX246K",
        "outputId": "83f72dd2-6583-4ae1-fed2-472d47168f64"
      },
      "execution_count": null,
      "outputs": [
        {
          "output_type": "display_data",
          "data": {
            "text/plain": [
              "<IPython.core.display.HTML object>"
            ],
            "text/html": [
              "\n",
              "     <input type=\"file\" id=\"files-90f834db-917e-4a5f-bffa-fcd7e966e05a\" name=\"files[]\" multiple disabled\n",
              "        style=\"border:none\" />\n",
              "     <output id=\"result-90f834db-917e-4a5f-bffa-fcd7e966e05a\">\n",
              "      Upload widget is only available when the cell has been executed in the\n",
              "      current browser session. Please rerun this cell to enable.\n",
              "      </output>\n",
              "      <script>// Copyright 2017 Google LLC\n",
              "//\n",
              "// Licensed under the Apache License, Version 2.0 (the \"License\");\n",
              "// you may not use this file except in compliance with the License.\n",
              "// You may obtain a copy of the License at\n",
              "//\n",
              "//      http://www.apache.org/licenses/LICENSE-2.0\n",
              "//\n",
              "// Unless required by applicable law or agreed to in writing, software\n",
              "// distributed under the License is distributed on an \"AS IS\" BASIS,\n",
              "// WITHOUT WARRANTIES OR CONDITIONS OF ANY KIND, either express or implied.\n",
              "// See the License for the specific language governing permissions and\n",
              "// limitations under the License.\n",
              "\n",
              "/**\n",
              " * @fileoverview Helpers for google.colab Python module.\n",
              " */\n",
              "(function(scope) {\n",
              "function span(text, styleAttributes = {}) {\n",
              "  const element = document.createElement('span');\n",
              "  element.textContent = text;\n",
              "  for (const key of Object.keys(styleAttributes)) {\n",
              "    element.style[key] = styleAttributes[key];\n",
              "  }\n",
              "  return element;\n",
              "}\n",
              "\n",
              "// Max number of bytes which will be uploaded at a time.\n",
              "const MAX_PAYLOAD_SIZE = 100 * 1024;\n",
              "\n",
              "function _uploadFiles(inputId, outputId) {\n",
              "  const steps = uploadFilesStep(inputId, outputId);\n",
              "  const outputElement = document.getElementById(outputId);\n",
              "  // Cache steps on the outputElement to make it available for the next call\n",
              "  // to uploadFilesContinue from Python.\n",
              "  outputElement.steps = steps;\n",
              "\n",
              "  return _uploadFilesContinue(outputId);\n",
              "}\n",
              "\n",
              "// This is roughly an async generator (not supported in the browser yet),\n",
              "// where there are multiple asynchronous steps and the Python side is going\n",
              "// to poll for completion of each step.\n",
              "// This uses a Promise to block the python side on completion of each step,\n",
              "// then passes the result of the previous step as the input to the next step.\n",
              "function _uploadFilesContinue(outputId) {\n",
              "  const outputElement = document.getElementById(outputId);\n",
              "  const steps = outputElement.steps;\n",
              "\n",
              "  const next = steps.next(outputElement.lastPromiseValue);\n",
              "  return Promise.resolve(next.value.promise).then((value) => {\n",
              "    // Cache the last promise value to make it available to the next\n",
              "    // step of the generator.\n",
              "    outputElement.lastPromiseValue = value;\n",
              "    return next.value.response;\n",
              "  });\n",
              "}\n",
              "\n",
              "/**\n",
              " * Generator function which is called between each async step of the upload\n",
              " * process.\n",
              " * @param {string} inputId Element ID of the input file picker element.\n",
              " * @param {string} outputId Element ID of the output display.\n",
              " * @return {!Iterable<!Object>} Iterable of next steps.\n",
              " */\n",
              "function* uploadFilesStep(inputId, outputId) {\n",
              "  const inputElement = document.getElementById(inputId);\n",
              "  inputElement.disabled = false;\n",
              "\n",
              "  const outputElement = document.getElementById(outputId);\n",
              "  outputElement.innerHTML = '';\n",
              "\n",
              "  const pickedPromise = new Promise((resolve) => {\n",
              "    inputElement.addEventListener('change', (e) => {\n",
              "      resolve(e.target.files);\n",
              "    });\n",
              "  });\n",
              "\n",
              "  const cancel = document.createElement('button');\n",
              "  inputElement.parentElement.appendChild(cancel);\n",
              "  cancel.textContent = 'Cancel upload';\n",
              "  const cancelPromise = new Promise((resolve) => {\n",
              "    cancel.onclick = () => {\n",
              "      resolve(null);\n",
              "    };\n",
              "  });\n",
              "\n",
              "  // Wait for the user to pick the files.\n",
              "  const files = yield {\n",
              "    promise: Promise.race([pickedPromise, cancelPromise]),\n",
              "    response: {\n",
              "      action: 'starting',\n",
              "    }\n",
              "  };\n",
              "\n",
              "  cancel.remove();\n",
              "\n",
              "  // Disable the input element since further picks are not allowed.\n",
              "  inputElement.disabled = true;\n",
              "\n",
              "  if (!files) {\n",
              "    return {\n",
              "      response: {\n",
              "        action: 'complete',\n",
              "      }\n",
              "    };\n",
              "  }\n",
              "\n",
              "  for (const file of files) {\n",
              "    const li = document.createElement('li');\n",
              "    li.append(span(file.name, {fontWeight: 'bold'}));\n",
              "    li.append(span(\n",
              "        `(${file.type || 'n/a'}) - ${file.size} bytes, ` +\n",
              "        `last modified: ${\n",
              "            file.lastModifiedDate ? file.lastModifiedDate.toLocaleDateString() :\n",
              "                                    'n/a'} - `));\n",
              "    const percent = span('0% done');\n",
              "    li.appendChild(percent);\n",
              "\n",
              "    outputElement.appendChild(li);\n",
              "\n",
              "    const fileDataPromise = new Promise((resolve) => {\n",
              "      const reader = new FileReader();\n",
              "      reader.onload = (e) => {\n",
              "        resolve(e.target.result);\n",
              "      };\n",
              "      reader.readAsArrayBuffer(file);\n",
              "    });\n",
              "    // Wait for the data to be ready.\n",
              "    let fileData = yield {\n",
              "      promise: fileDataPromise,\n",
              "      response: {\n",
              "        action: 'continue',\n",
              "      }\n",
              "    };\n",
              "\n",
              "    // Use a chunked sending to avoid message size limits. See b/62115660.\n",
              "    let position = 0;\n",
              "    do {\n",
              "      const length = Math.min(fileData.byteLength - position, MAX_PAYLOAD_SIZE);\n",
              "      const chunk = new Uint8Array(fileData, position, length);\n",
              "      position += length;\n",
              "\n",
              "      const base64 = btoa(String.fromCharCode.apply(null, chunk));\n",
              "      yield {\n",
              "        response: {\n",
              "          action: 'append',\n",
              "          file: file.name,\n",
              "          data: base64,\n",
              "        },\n",
              "      };\n",
              "\n",
              "      let percentDone = fileData.byteLength === 0 ?\n",
              "          100 :\n",
              "          Math.round((position / fileData.byteLength) * 100);\n",
              "      percent.textContent = `${percentDone}% done`;\n",
              "\n",
              "    } while (position < fileData.byteLength);\n",
              "  }\n",
              "\n",
              "  // All done.\n",
              "  yield {\n",
              "    response: {\n",
              "      action: 'complete',\n",
              "    }\n",
              "  };\n",
              "}\n",
              "\n",
              "scope.google = scope.google || {};\n",
              "scope.google.colab = scope.google.colab || {};\n",
              "scope.google.colab._files = {\n",
              "  _uploadFiles,\n",
              "  _uploadFilesContinue,\n",
              "};\n",
              "})(self);\n",
              "</script> "
            ]
          },
          "metadata": {}
        },
        {
          "output_type": "stream",
          "name": "stdout",
          "text": [
            "Saving datos_ejercicio_ventas (1).csv to datos_ejercicio_ventas (1) (1).csv\n"
          ]
        },
        {
          "output_type": "execute_result",
          "data": {
            "text/plain": [
              "         COUNTRY        SUBBRAND  YEAR  MONTH     SCENARIO FORECAST  \\\n",
              "0       Portugal     Lipton (L3)  2023     12  AI_forecast  AI_P02F   \n",
              "1  Great Britain     Lipton (L3)  2023     12  AI_forecast  AI_P10F   \n",
              "2          Spain  Pepsi Max (L3)  2023     12  AI_forecast  AI_P09F   \n",
              "3  Great Britain        7up (L3)  2024     12  AI_forecast  AI_P10F   \n",
              "4        Hungary     Lipton (L3)  2023      9  AI_forecast  AI_P03F   \n",
              "\n",
              "   FORECAST_YEAR         AMOUNT  \n",
              "0         2023.0  754356.237194  \n",
              "1         2023.0  560030.558029  \n",
              "2         2023.0   88501.980847  \n",
              "3         2023.0  363224.511516  \n",
              "4         2023.0  396176.120491  "
            ],
            "text/html": [
              "\n",
              "  <div id=\"df-7bc88939-7354-4a72-9dc5-3bc4c070a807\" class=\"colab-df-container\">\n",
              "    <div>\n",
              "<style scoped>\n",
              "    .dataframe tbody tr th:only-of-type {\n",
              "        vertical-align: middle;\n",
              "    }\n",
              "\n",
              "    .dataframe tbody tr th {\n",
              "        vertical-align: top;\n",
              "    }\n",
              "\n",
              "    .dataframe thead th {\n",
              "        text-align: right;\n",
              "    }\n",
              "</style>\n",
              "<table border=\"1\" class=\"dataframe\">\n",
              "  <thead>\n",
              "    <tr style=\"text-align: right;\">\n",
              "      <th></th>\n",
              "      <th>COUNTRY</th>\n",
              "      <th>SUBBRAND</th>\n",
              "      <th>YEAR</th>\n",
              "      <th>MONTH</th>\n",
              "      <th>SCENARIO</th>\n",
              "      <th>FORECAST</th>\n",
              "      <th>FORECAST_YEAR</th>\n",
              "      <th>AMOUNT</th>\n",
              "    </tr>\n",
              "  </thead>\n",
              "  <tbody>\n",
              "    <tr>\n",
              "      <th>0</th>\n",
              "      <td>Portugal</td>\n",
              "      <td>Lipton (L3)</td>\n",
              "      <td>2023</td>\n",
              "      <td>12</td>\n",
              "      <td>AI_forecast</td>\n",
              "      <td>AI_P02F</td>\n",
              "      <td>2023.0</td>\n",
              "      <td>754356.237194</td>\n",
              "    </tr>\n",
              "    <tr>\n",
              "      <th>1</th>\n",
              "      <td>Great Britain</td>\n",
              "      <td>Lipton (L3)</td>\n",
              "      <td>2023</td>\n",
              "      <td>12</td>\n",
              "      <td>AI_forecast</td>\n",
              "      <td>AI_P10F</td>\n",
              "      <td>2023.0</td>\n",
              "      <td>560030.558029</td>\n",
              "    </tr>\n",
              "    <tr>\n",
              "      <th>2</th>\n",
              "      <td>Spain</td>\n",
              "      <td>Pepsi Max (L3)</td>\n",
              "      <td>2023</td>\n",
              "      <td>12</td>\n",
              "      <td>AI_forecast</td>\n",
              "      <td>AI_P09F</td>\n",
              "      <td>2023.0</td>\n",
              "      <td>88501.980847</td>\n",
              "    </tr>\n",
              "    <tr>\n",
              "      <th>3</th>\n",
              "      <td>Great Britain</td>\n",
              "      <td>7up (L3)</td>\n",
              "      <td>2024</td>\n",
              "      <td>12</td>\n",
              "      <td>AI_forecast</td>\n",
              "      <td>AI_P10F</td>\n",
              "      <td>2023.0</td>\n",
              "      <td>363224.511516</td>\n",
              "    </tr>\n",
              "    <tr>\n",
              "      <th>4</th>\n",
              "      <td>Hungary</td>\n",
              "      <td>Lipton (L3)</td>\n",
              "      <td>2023</td>\n",
              "      <td>9</td>\n",
              "      <td>AI_forecast</td>\n",
              "      <td>AI_P03F</td>\n",
              "      <td>2023.0</td>\n",
              "      <td>396176.120491</td>\n",
              "    </tr>\n",
              "  </tbody>\n",
              "</table>\n",
              "</div>\n",
              "    <div class=\"colab-df-buttons\">\n",
              "\n",
              "  <div class=\"colab-df-container\">\n",
              "    <button class=\"colab-df-convert\" onclick=\"convertToInteractive('df-7bc88939-7354-4a72-9dc5-3bc4c070a807')\"\n",
              "            title=\"Convert this dataframe to an interactive table.\"\n",
              "            style=\"display:none;\">\n",
              "\n",
              "  <svg xmlns=\"http://www.w3.org/2000/svg\" height=\"24px\" viewBox=\"0 -960 960 960\">\n",
              "    <path d=\"M120-120v-720h720v720H120Zm60-500h600v-160H180v160Zm220 220h160v-160H400v160Zm0 220h160v-160H400v160ZM180-400h160v-160H180v160Zm440 0h160v-160H620v160ZM180-180h160v-160H180v160Zm440 0h160v-160H620v160Z\"/>\n",
              "  </svg>\n",
              "    </button>\n",
              "\n",
              "  <style>\n",
              "    .colab-df-container {\n",
              "      display:flex;\n",
              "      gap: 12px;\n",
              "    }\n",
              "\n",
              "    .colab-df-convert {\n",
              "      background-color: #E8F0FE;\n",
              "      border: none;\n",
              "      border-radius: 50%;\n",
              "      cursor: pointer;\n",
              "      display: none;\n",
              "      fill: #1967D2;\n",
              "      height: 32px;\n",
              "      padding: 0 0 0 0;\n",
              "      width: 32px;\n",
              "    }\n",
              "\n",
              "    .colab-df-convert:hover {\n",
              "      background-color: #E2EBFA;\n",
              "      box-shadow: 0px 1px 2px rgba(60, 64, 67, 0.3), 0px 1px 3px 1px rgba(60, 64, 67, 0.15);\n",
              "      fill: #174EA6;\n",
              "    }\n",
              "\n",
              "    .colab-df-buttons div {\n",
              "      margin-bottom: 4px;\n",
              "    }\n",
              "\n",
              "    [theme=dark] .colab-df-convert {\n",
              "      background-color: #3B4455;\n",
              "      fill: #D2E3FC;\n",
              "    }\n",
              "\n",
              "    [theme=dark] .colab-df-convert:hover {\n",
              "      background-color: #434B5C;\n",
              "      box-shadow: 0px 1px 3px 1px rgba(0, 0, 0, 0.15);\n",
              "      filter: drop-shadow(0px 1px 2px rgba(0, 0, 0, 0.3));\n",
              "      fill: #FFFFFF;\n",
              "    }\n",
              "  </style>\n",
              "\n",
              "    <script>\n",
              "      const buttonEl =\n",
              "        document.querySelector('#df-7bc88939-7354-4a72-9dc5-3bc4c070a807 button.colab-df-convert');\n",
              "      buttonEl.style.display =\n",
              "        google.colab.kernel.accessAllowed ? 'block' : 'none';\n",
              "\n",
              "      async function convertToInteractive(key) {\n",
              "        const element = document.querySelector('#df-7bc88939-7354-4a72-9dc5-3bc4c070a807');\n",
              "        const dataTable =\n",
              "          await google.colab.kernel.invokeFunction('convertToInteractive',\n",
              "                                                    [key], {});\n",
              "        if (!dataTable) return;\n",
              "\n",
              "        const docLinkHtml = 'Like what you see? Visit the ' +\n",
              "          '<a target=\"_blank\" href=https://colab.research.google.com/notebooks/data_table.ipynb>data table notebook</a>'\n",
              "          + ' to learn more about interactive tables.';\n",
              "        element.innerHTML = '';\n",
              "        dataTable['output_type'] = 'display_data';\n",
              "        await google.colab.output.renderOutput(dataTable, element);\n",
              "        const docLink = document.createElement('div');\n",
              "        docLink.innerHTML = docLinkHtml;\n",
              "        element.appendChild(docLink);\n",
              "      }\n",
              "    </script>\n",
              "  </div>\n",
              "\n",
              "\n",
              "<div id=\"df-fd494606-3492-4372-9659-aaf93d7c36a1\">\n",
              "  <button class=\"colab-df-quickchart\" onclick=\"quickchart('df-fd494606-3492-4372-9659-aaf93d7c36a1')\"\n",
              "            title=\"Suggest charts\"\n",
              "            style=\"display:none;\">\n",
              "\n",
              "<svg xmlns=\"http://www.w3.org/2000/svg\" height=\"24px\"viewBox=\"0 0 24 24\"\n",
              "     width=\"24px\">\n",
              "    <g>\n",
              "        <path d=\"M19 3H5c-1.1 0-2 .9-2 2v14c0 1.1.9 2 2 2h14c1.1 0 2-.9 2-2V5c0-1.1-.9-2-2-2zM9 17H7v-7h2v7zm4 0h-2V7h2v10zm4 0h-2v-4h2v4z\"/>\n",
              "    </g>\n",
              "</svg>\n",
              "  </button>\n",
              "\n",
              "<style>\n",
              "  .colab-df-quickchart {\n",
              "      --bg-color: #E8F0FE;\n",
              "      --fill-color: #1967D2;\n",
              "      --hover-bg-color: #E2EBFA;\n",
              "      --hover-fill-color: #174EA6;\n",
              "      --disabled-fill-color: #AAA;\n",
              "      --disabled-bg-color: #DDD;\n",
              "  }\n",
              "\n",
              "  [theme=dark] .colab-df-quickchart {\n",
              "      --bg-color: #3B4455;\n",
              "      --fill-color: #D2E3FC;\n",
              "      --hover-bg-color: #434B5C;\n",
              "      --hover-fill-color: #FFFFFF;\n",
              "      --disabled-bg-color: #3B4455;\n",
              "      --disabled-fill-color: #666;\n",
              "  }\n",
              "\n",
              "  .colab-df-quickchart {\n",
              "    background-color: var(--bg-color);\n",
              "    border: none;\n",
              "    border-radius: 50%;\n",
              "    cursor: pointer;\n",
              "    display: none;\n",
              "    fill: var(--fill-color);\n",
              "    height: 32px;\n",
              "    padding: 0;\n",
              "    width: 32px;\n",
              "  }\n",
              "\n",
              "  .colab-df-quickchart:hover {\n",
              "    background-color: var(--hover-bg-color);\n",
              "    box-shadow: 0 1px 2px rgba(60, 64, 67, 0.3), 0 1px 3px 1px rgba(60, 64, 67, 0.15);\n",
              "    fill: var(--button-hover-fill-color);\n",
              "  }\n",
              "\n",
              "  .colab-df-quickchart-complete:disabled,\n",
              "  .colab-df-quickchart-complete:disabled:hover {\n",
              "    background-color: var(--disabled-bg-color);\n",
              "    fill: var(--disabled-fill-color);\n",
              "    box-shadow: none;\n",
              "  }\n",
              "\n",
              "  .colab-df-spinner {\n",
              "    border: 2px solid var(--fill-color);\n",
              "    border-color: transparent;\n",
              "    border-bottom-color: var(--fill-color);\n",
              "    animation:\n",
              "      spin 1s steps(1) infinite;\n",
              "  }\n",
              "\n",
              "  @keyframes spin {\n",
              "    0% {\n",
              "      border-color: transparent;\n",
              "      border-bottom-color: var(--fill-color);\n",
              "      border-left-color: var(--fill-color);\n",
              "    }\n",
              "    20% {\n",
              "      border-color: transparent;\n",
              "      border-left-color: var(--fill-color);\n",
              "      border-top-color: var(--fill-color);\n",
              "    }\n",
              "    30% {\n",
              "      border-color: transparent;\n",
              "      border-left-color: var(--fill-color);\n",
              "      border-top-color: var(--fill-color);\n",
              "      border-right-color: var(--fill-color);\n",
              "    }\n",
              "    40% {\n",
              "      border-color: transparent;\n",
              "      border-right-color: var(--fill-color);\n",
              "      border-top-color: var(--fill-color);\n",
              "    }\n",
              "    60% {\n",
              "      border-color: transparent;\n",
              "      border-right-color: var(--fill-color);\n",
              "    }\n",
              "    80% {\n",
              "      border-color: transparent;\n",
              "      border-right-color: var(--fill-color);\n",
              "      border-bottom-color: var(--fill-color);\n",
              "    }\n",
              "    90% {\n",
              "      border-color: transparent;\n",
              "      border-bottom-color: var(--fill-color);\n",
              "    }\n",
              "  }\n",
              "</style>\n",
              "\n",
              "  <script>\n",
              "    async function quickchart(key) {\n",
              "      const quickchartButtonEl =\n",
              "        document.querySelector('#' + key + ' button');\n",
              "      quickchartButtonEl.disabled = true;  // To prevent multiple clicks.\n",
              "      quickchartButtonEl.classList.add('colab-df-spinner');\n",
              "      try {\n",
              "        const charts = await google.colab.kernel.invokeFunction(\n",
              "            'suggestCharts', [key], {});\n",
              "      } catch (error) {\n",
              "        console.error('Error during call to suggestCharts:', error);\n",
              "      }\n",
              "      quickchartButtonEl.classList.remove('colab-df-spinner');\n",
              "      quickchartButtonEl.classList.add('colab-df-quickchart-complete');\n",
              "    }\n",
              "    (() => {\n",
              "      let quickchartButtonEl =\n",
              "        document.querySelector('#df-fd494606-3492-4372-9659-aaf93d7c36a1 button');\n",
              "      quickchartButtonEl.style.display =\n",
              "        google.colab.kernel.accessAllowed ? 'block' : 'none';\n",
              "    })();\n",
              "  </script>\n",
              "</div>\n",
              "\n",
              "    </div>\n",
              "  </div>\n"
            ],
            "application/vnd.google.colaboratory.intrinsic+json": {
              "type": "dataframe",
              "variable_name": "dfVentas",
              "summary": "{\n  \"name\": \"dfVentas\",\n  \"rows\": 18666,\n  \"fields\": [\n    {\n      \"column\": \"COUNTRY\",\n      \"properties\": {\n        \"dtype\": \"category\",\n        \"num_unique_values\": 9,\n        \"samples\": [\n          \"Italy\",\n          \"Great Britain\",\n          \"Denmark\"\n        ],\n        \"semantic_type\": \"\",\n        \"description\": \"\"\n      }\n    },\n    {\n      \"column\": \"SUBBRAND\",\n      \"properties\": {\n        \"dtype\": \"category\",\n        \"num_unique_values\": 6,\n        \"samples\": [\n          \"Lipton (L3)\",\n          \"Pepsi Max (L3)\",\n          \"7up Free (L3)\"\n        ],\n        \"semantic_type\": \"\",\n        \"description\": \"\"\n      }\n    },\n    {\n      \"column\": \"YEAR\",\n      \"properties\": {\n        \"dtype\": \"number\",\n        \"std\": 0,\n        \"min\": 2023,\n        \"max\": 2025,\n        \"num_unique_values\": 3,\n        \"samples\": [\n          2023,\n          2024,\n          2025\n        ],\n        \"semantic_type\": \"\",\n        \"description\": \"\"\n      }\n    },\n    {\n      \"column\": \"MONTH\",\n      \"properties\": {\n        \"dtype\": \"number\",\n        \"std\": 3,\n        \"min\": 1,\n        \"max\": 12,\n        \"num_unique_values\": 12,\n        \"samples\": [\n          5,\n          3,\n          12\n        ],\n        \"semantic_type\": \"\",\n        \"description\": \"\"\n      }\n    },\n    {\n      \"column\": \"SCENARIO\",\n      \"properties\": {\n        \"dtype\": \"category\",\n        \"num_unique_values\": 2,\n        \"samples\": [\n          \"actual\",\n          \"AI_forecast\"\n        ],\n        \"semantic_type\": \"\",\n        \"description\": \"\"\n      }\n    },\n    {\n      \"column\": \"FORECAST\",\n      \"properties\": {\n        \"dtype\": \"category\",\n        \"num_unique_values\": 12,\n        \"samples\": [\n          \"AI_P08F\",\n          \"AI_P12F\"\n        ],\n        \"semantic_type\": \"\",\n        \"description\": \"\"\n      }\n    },\n    {\n      \"column\": \"FORECAST_YEAR\",\n      \"properties\": {\n        \"dtype\": \"number\",\n        \"std\": 0.0,\n        \"min\": 2023.0,\n        \"max\": 2023.0,\n        \"num_unique_values\": 1,\n        \"samples\": [\n          2023.0\n        ],\n        \"semantic_type\": \"\",\n        \"description\": \"\"\n      }\n    },\n    {\n      \"column\": \"AMOUNT\",\n      \"properties\": {\n        \"dtype\": \"number\",\n        \"std\": 1915283.448382496,\n        \"min\": -217120.10313272703,\n        \"max\": 14815628.237867463,\n        \"num_unique_values\": 17121,\n        \"samples\": [\n          2568883.4881238216\n        ],\n        \"semantic_type\": \"\",\n        \"description\": \"\"\n      }\n    }\n  ]\n}"
            }
          },
          "metadata": {},
          "execution_count": 40
        }
      ]
    },
    {
      "cell_type": "markdown",
      "source": [
        "# ANÁLISIS DE LA BASE DE DATOS"
      ],
      "metadata": {
        "id": "CfdOTc8meVKs"
      }
    },
    {
      "cell_type": "markdown",
      "source": [
        "## NANS Y NULLS"
      ],
      "metadata": {
        "id": "28W6AuJiUGt0"
      }
    },
    {
      "cell_type": "markdown",
      "source": [
        "Se comprueba los NaNs y los nulls además del tipo de variable de cada atributo."
      ],
      "metadata": {
        "id": "p3FsbtssJmY2"
      }
    },
    {
      "cell_type": "code",
      "source": [
        "dfVentas.info()"
      ],
      "metadata": {
        "colab": {
          "base_uri": "https://localhost:8080/"
        },
        "id": "-oP4PqSXUN52",
        "outputId": "fb19299a-cbd8-47b6-9a4a-d5ed025ea6da"
      },
      "execution_count": null,
      "outputs": [
        {
          "output_type": "stream",
          "name": "stdout",
          "text": [
            "<class 'pandas.core.frame.DataFrame'>\n",
            "RangeIndex: 18666 entries, 0 to 18665\n",
            "Data columns (total 8 columns):\n",
            " #   Column         Non-Null Count  Dtype  \n",
            "---  ------         --------------  -----  \n",
            " 0   COUNTRY        18666 non-null  object \n",
            " 1   SUBBRAND       18666 non-null  object \n",
            " 2   YEAR           18666 non-null  int64  \n",
            " 3   MONTH          18666 non-null  int64  \n",
            " 4   SCENARIO       18666 non-null  object \n",
            " 5   FORECAST       17766 non-null  object \n",
            " 6   FORECAST_YEAR  17766 non-null  float64\n",
            " 7   AMOUNT         18666 non-null  float64\n",
            "dtypes: float64(2), int64(2), object(4)\n",
            "memory usage: 1.1+ MB\n"
          ]
        }
      ]
    },
    {
      "cell_type": "markdown",
      "source": [
        "Hay Nulls en la bbdd, en concreto, 900 pertenecientes al atributo FORECAST y 900 a FORECAST_YEAR, se procede a analizar los NaNs pues estos no siempre se consideran Nulls."
      ],
      "metadata": {
        "id": "42V9Y3h4Ueqw"
      }
    },
    {
      "cell_type": "code",
      "source": [
        "dfVentas.isna().sum()"
      ],
      "metadata": {
        "colab": {
          "base_uri": "https://localhost:8080/",
          "height": 335
        },
        "id": "BlIb12WVUsiV",
        "outputId": "3a8bb520-db5c-4034-9a2e-a18325b9c7dc"
      },
      "execution_count": null,
      "outputs": [
        {
          "output_type": "execute_result",
          "data": {
            "text/plain": [
              "COUNTRY            0\n",
              "SUBBRAND           0\n",
              "YEAR               0\n",
              "MONTH              0\n",
              "SCENARIO           0\n",
              "FORECAST         900\n",
              "FORECAST_YEAR    900\n",
              "AMOUNT             0\n",
              "dtype: int64"
            ],
            "text/html": [
              "<div>\n",
              "<style scoped>\n",
              "    .dataframe tbody tr th:only-of-type {\n",
              "        vertical-align: middle;\n",
              "    }\n",
              "\n",
              "    .dataframe tbody tr th {\n",
              "        vertical-align: top;\n",
              "    }\n",
              "\n",
              "    .dataframe thead th {\n",
              "        text-align: right;\n",
              "    }\n",
              "</style>\n",
              "<table border=\"1\" class=\"dataframe\">\n",
              "  <thead>\n",
              "    <tr style=\"text-align: right;\">\n",
              "      <th></th>\n",
              "      <th>0</th>\n",
              "    </tr>\n",
              "  </thead>\n",
              "  <tbody>\n",
              "    <tr>\n",
              "      <th>COUNTRY</th>\n",
              "      <td>0</td>\n",
              "    </tr>\n",
              "    <tr>\n",
              "      <th>SUBBRAND</th>\n",
              "      <td>0</td>\n",
              "    </tr>\n",
              "    <tr>\n",
              "      <th>YEAR</th>\n",
              "      <td>0</td>\n",
              "    </tr>\n",
              "    <tr>\n",
              "      <th>MONTH</th>\n",
              "      <td>0</td>\n",
              "    </tr>\n",
              "    <tr>\n",
              "      <th>SCENARIO</th>\n",
              "      <td>0</td>\n",
              "    </tr>\n",
              "    <tr>\n",
              "      <th>FORECAST</th>\n",
              "      <td>900</td>\n",
              "    </tr>\n",
              "    <tr>\n",
              "      <th>FORECAST_YEAR</th>\n",
              "      <td>900</td>\n",
              "    </tr>\n",
              "    <tr>\n",
              "      <th>AMOUNT</th>\n",
              "      <td>0</td>\n",
              "    </tr>\n",
              "  </tbody>\n",
              "</table>\n",
              "</div><br><label><b>dtype:</b> int64</label>"
            ]
          },
          "metadata": {},
          "execution_count": 42
        }
      ]
    },
    {
      "cell_type": "markdown",
      "source": [
        "## EXPLICACIÓN DE VARIABLES"
      ],
      "metadata": {
        "id": "ouZ_zi6jdjWr"
      }
    },
    {
      "cell_type": "markdown",
      "source": [
        "*  **COUNTRY y SUBBRAND**: Indican el país y la sub-marca del producto para el cual se registran las ventas.\n",
        "\n",
        "*  **YEAR y MONTH:** Indican el año y el mes del registro:\n",
        "\n",
        "  Si el registro es un valor \"actual\" (observado), YEAR y MONTH son el año y mes en que se obtuvieron los datos.\n",
        "\n",
        "  Si el registro es una predicción (\"AI_forecast\"), YEAR y MONTH indican el período al cual se aplica esa predicción.\n",
        "\n",
        "*  **SCENARIO**: Determina si el registro es una predicción (AI_forecast) o un valor \"actual\" (realmente observado).\n",
        "\n",
        "*  **FORECAST**: Mes en el que se generó la predicción. La fórmula para calcular el mes a partir del registro de FORECAST es AI_PXXF = XX - 01, siendo, por ejemplo, P02F = 02 - 01 = 01 que es el mes 1, por lo tanto AI_P02F es enero.\n",
        "AI_PF corresponde a diciembre.\n",
        "Solo aplica cuando el valor es una proyección (AI_forecast).\n",
        "\n",
        "*  **FORECAST_YEAR:** Año en que se generó la predicción. Solo aplica cuando el valor es una proyección (AI_forecast).\n",
        "\n",
        "*  **AMOUNT:** Indica la cantidad (de ventas, ingresos, u otra métrica) para el registro. Dependiendo de SCENARIO:\n",
        "\n",
        "    Si el SCENARIO es \"actual\", AMOUNT es el valor observado en el año y mes indicados.\n",
        "\n",
        "    Si el SCENARIO es \"AI_forecast\", AMOUNT es el valor estimado por la IA para el período especificado."
      ],
      "metadata": {
        "id": "xSTj7T9vYsM2"
      }
    },
    {
      "cell_type": "markdown",
      "source": [
        "Una vez explicadas las variables, se procede a comprobar que todos los NaNs encontrados en FORECAST Y FORECAST_YEAR equivalen a cuando el valor de SCENARIO es actual."
      ],
      "metadata": {
        "id": "azq_z59ebG_q"
      }
    },
    {
      "cell_type": "code",
      "source": [
        "dfVentas[dfVentas['SCENARIO'] == 'actual'].isna().sum()"
      ],
      "metadata": {
        "colab": {
          "base_uri": "https://localhost:8080/",
          "height": 335
        },
        "id": "kSmHCfo35PBR",
        "outputId": "1bb5a7ea-b0df-4ed9-8983-c346bb8440a0"
      },
      "execution_count": null,
      "outputs": [
        {
          "output_type": "execute_result",
          "data": {
            "text/plain": [
              "COUNTRY            0\n",
              "SUBBRAND           0\n",
              "YEAR               0\n",
              "MONTH              0\n",
              "SCENARIO           0\n",
              "FORECAST         900\n",
              "FORECAST_YEAR    900\n",
              "AMOUNT             0\n",
              "dtype: int64"
            ],
            "text/html": [
              "<div>\n",
              "<style scoped>\n",
              "    .dataframe tbody tr th:only-of-type {\n",
              "        vertical-align: middle;\n",
              "    }\n",
              "\n",
              "    .dataframe tbody tr th {\n",
              "        vertical-align: top;\n",
              "    }\n",
              "\n",
              "    .dataframe thead th {\n",
              "        text-align: right;\n",
              "    }\n",
              "</style>\n",
              "<table border=\"1\" class=\"dataframe\">\n",
              "  <thead>\n",
              "    <tr style=\"text-align: right;\">\n",
              "      <th></th>\n",
              "      <th>0</th>\n",
              "    </tr>\n",
              "  </thead>\n",
              "  <tbody>\n",
              "    <tr>\n",
              "      <th>COUNTRY</th>\n",
              "      <td>0</td>\n",
              "    </tr>\n",
              "    <tr>\n",
              "      <th>SUBBRAND</th>\n",
              "      <td>0</td>\n",
              "    </tr>\n",
              "    <tr>\n",
              "      <th>YEAR</th>\n",
              "      <td>0</td>\n",
              "    </tr>\n",
              "    <tr>\n",
              "      <th>MONTH</th>\n",
              "      <td>0</td>\n",
              "    </tr>\n",
              "    <tr>\n",
              "      <th>SCENARIO</th>\n",
              "      <td>0</td>\n",
              "    </tr>\n",
              "    <tr>\n",
              "      <th>FORECAST</th>\n",
              "      <td>900</td>\n",
              "    </tr>\n",
              "    <tr>\n",
              "      <th>FORECAST_YEAR</th>\n",
              "      <td>900</td>\n",
              "    </tr>\n",
              "    <tr>\n",
              "      <th>AMOUNT</th>\n",
              "      <td>0</td>\n",
              "    </tr>\n",
              "  </tbody>\n",
              "</table>\n",
              "</div><br><label><b>dtype:</b> int64</label>"
            ]
          },
          "metadata": {},
          "execution_count": 43
        }
      ]
    },
    {
      "cell_type": "markdown",
      "source": [
        "Efectivamente, es correcto que esos valores de los atributos FORECAST Y FORECAST_YEAR sean NaNs ya que corresponden a registros que no son predicciones si no ventas reales."
      ],
      "metadata": {
        "id": "vbulzRAQ5T-A"
      }
    },
    {
      "cell_type": "markdown",
      "source": [
        "## CAMBIO DE FORECAST_YEAR A VARIABLE DE TIPO ENTERO"
      ],
      "metadata": {
        "id": "D_0jOT0wEw7q"
      }
    },
    {
      "cell_type": "markdown",
      "source": [
        "Se procede a cambiar el tipo de variable ya que aunque no parezca un problema a la hora de manejar el dato, los años son siempre números enteros."
      ],
      "metadata": {
        "id": "q9fdn8tr59e7"
      }
    },
    {
      "cell_type": "code",
      "source": [
        "dfVentas['FORECAST_YEAR'] = pd.to_numeric(dfVentas['FORECAST_YEAR'], errors='coerce').astype('Int64')\n",
        "print(dfVentas['FORECAST_YEAR'].dtype)"
      ],
      "metadata": {
        "colab": {
          "base_uri": "https://localhost:8080/"
        },
        "id": "9ZUuvrUdEwqT",
        "outputId": "c7f0cb80-c9c3-40fe-e2a7-ec023a15a8ac"
      },
      "execution_count": null,
      "outputs": [
        {
          "output_type": "stream",
          "name": "stdout",
          "text": [
            "Int64\n"
          ]
        }
      ]
    },
    {
      "cell_type": "markdown",
      "source": [
        "## REGISTROS DUPLICADOS"
      ],
      "metadata": {
        "id": "g7_XiCfFjg0F"
      }
    },
    {
      "cell_type": "markdown",
      "source": [
        "Se procede a comprobar si hay registros exactamente idénticos en la bbdd, en caso afirmativo se procedería a la eliminación de los duplicados."
      ],
      "metadata": {
        "id": "82RX9DVn6M1_"
      }
    },
    {
      "cell_type": "code",
      "source": [
        "duplicados = dfVentas[dfVentas.duplicated()]\n",
        "print(len(duplicados))"
      ],
      "metadata": {
        "colab": {
          "base_uri": "https://localhost:8080/"
        },
        "id": "aJmEJfDlj9aI",
        "outputId": "7b5514f8-af38-4f9e-affb-4cd56c3fe392"
      },
      "execution_count": null,
      "outputs": [
        {
          "output_type": "stream",
          "name": "stdout",
          "text": [
            "663\n"
          ]
        }
      ]
    },
    {
      "cell_type": "code",
      "source": [
        "print(duplicados)"
      ],
      "metadata": {
        "colab": {
          "base_uri": "https://localhost:8080/"
        },
        "id": "rdWgn772LnNR",
        "outputId": "4369d0a7-a059-4eda-afc6-cba93bbc817e"
      },
      "execution_count": null,
      "outputs": [
        {
          "output_type": "stream",
          "name": "stdout",
          "text": [
            "             COUNTRY       SUBBRAND  YEAR  MONTH     SCENARIO FORECAST  \\\n",
            "349    Great Britain    Lipton (L3)  2024      9  AI_forecast  AI_P11F   \n",
            "455    Great Britain    Lipton (L3)  2024      6  AI_forecast  AI_P03F   \n",
            "540    Great Britain  7up Free (L3)  2024      2  AI_forecast    AI_PF   \n",
            "652    Great Britain    Lipton (L3)  2024      1  AI_forecast  AI_P05F   \n",
            "789    Great Britain    Lipton (L3)  2024     11  AI_forecast  AI_P11F   \n",
            "...              ...            ...   ...    ...          ...      ...   \n",
            "18590        Hungary       7up (L3)  2025      1  AI_forecast  AI_P12F   \n",
            "18606  Great Britain  7up Free (L3)  2024      8  AI_forecast  AI_P03F   \n",
            "18631  Great Britain       7up (L3)  2024     10  AI_forecast  AI_P11F   \n",
            "18649  Great Britain    Lipton (L3)  2024      5  AI_forecast  AI_P11F   \n",
            "18650  Great Britain    Lipton (L3)  2024      5  AI_forecast  AI_P09F   \n",
            "\n",
            "       FORECAST_YEAR        AMOUNT  \n",
            "349             2023  7.367201e+05  \n",
            "455             2023  8.156165e+05  \n",
            "540             2023  9.402300e+05  \n",
            "652             2023  5.730475e+05  \n",
            "789             2023  7.039466e+05  \n",
            "...              ...           ...  \n",
            "18590           2023  0.000000e+00  \n",
            "18606           2023  1.117629e+06  \n",
            "18631           2023  7.512755e+04  \n",
            "18649           2023  9.124481e+05  \n",
            "18650           2023  7.005938e+05  \n",
            "\n",
            "[663 rows x 8 columns]\n"
          ]
        }
      ]
    },
    {
      "cell_type": "markdown",
      "source": [
        "## ELIMINAMOS REGISTROS DUPLICADOS"
      ],
      "metadata": {
        "id": "zPEDBoiQm2ol"
      }
    },
    {
      "cell_type": "markdown",
      "source": [
        "Al haber 663 registros duplicados, se procede a la eliminación de los mismos."
      ],
      "metadata": {
        "id": "YptqR-1h6Yxx"
      }
    },
    {
      "cell_type": "code",
      "source": [
        "dfVentas = dfVentas.drop_duplicates()"
      ],
      "metadata": {
        "id": "eeXRcjJonbKv"
      },
      "execution_count": null,
      "outputs": []
    },
    {
      "cell_type": "markdown",
      "source": [
        "## COMPROBACIÓN AMOUNTS NEGATIVOS"
      ],
      "metadata": {
        "id": "bVMIWJQeIkmr"
      }
    },
    {
      "cell_type": "markdown",
      "source": [
        "Dado que no se puede haber ventas negativas, nos quedamos solo con los AMOUNTs positivos o iguales a cero, ya que se debe entender que tu puedes o no vender algo pero considero que los AMOUNTs negativos son errores, aunque también entiendo que se pueda interpretar como que se han comprado X productos y no se han vendido ninguno por lo que son pérdidas."
      ],
      "metadata": {
        "id": "cyTyLV91NYG9"
      }
    },
    {
      "cell_type": "code",
      "source": [
        "dfVentas = dfVentas[dfVentas['AMOUNT'] >= 0]"
      ],
      "metadata": {
        "id": "Rd-2gbArI6sI"
      },
      "execution_count": null,
      "outputs": []
    },
    {
      "cell_type": "markdown",
      "source": [
        "## DISTRIBUCIÓN DE ACTUAL Y DE FORECAST"
      ],
      "metadata": {
        "id": "OGp0DpQyGPBW"
      }
    },
    {
      "cell_type": "markdown",
      "source": [
        "Se procede a comprobar cuantos registros de la base de datos corresponden a predicciones y cuantos son ventas reales."
      ],
      "metadata": {
        "id": "08Z1eGbz6kEt"
      }
    },
    {
      "cell_type": "code",
      "source": [
        "fig = px.pie(dfVentas['SCENARIO'].value_counts().reset_index(name='COUNT'), values='COUNT', names='SCENARIO', hole=0.4,\n",
        "             title='Distribución de actual y AI_forecast')\n",
        "fig.show()"
      ],
      "metadata": {
        "colab": {
          "base_uri": "https://localhost:8080/",
          "height": 542
        },
        "id": "9PFo0gj6Fjha",
        "outputId": "c8c6aaeb-6a71-44ba-c15c-a5fd8017a19a"
      },
      "execution_count": null,
      "outputs": [
        {
          "output_type": "display_data",
          "data": {
            "text/html": [
              "<html>\n",
              "<head><meta charset=\"utf-8\" /></head>\n",
              "<body>\n",
              "    <div>            <script src=\"https://cdnjs.cloudflare.com/ajax/libs/mathjax/2.7.5/MathJax.js?config=TeX-AMS-MML_SVG\"></script><script type=\"text/javascript\">if (window.MathJax && window.MathJax.Hub && window.MathJax.Hub.Config) {window.MathJax.Hub.Config({SVG: {font: \"STIX-Web\"}});}</script>                <script type=\"text/javascript\">window.PlotlyConfig = {MathJaxConfig: 'local'};</script>\n",
              "        <script charset=\"utf-8\" src=\"https://cdn.plot.ly/plotly-2.35.2.min.js\"></script>                <div id=\"2545ef33-8171-4246-a7a5-78d578ce9889\" class=\"plotly-graph-div\" style=\"height:525px; width:100%;\"></div>            <script type=\"text/javascript\">                                    window.PLOTLYENV=window.PLOTLYENV || {};                                    if (document.getElementById(\"2545ef33-8171-4246-a7a5-78d578ce9889\")) {                    Plotly.newPlot(                        \"2545ef33-8171-4246-a7a5-78d578ce9889\",                        [{\"domain\":{\"x\":[0.0,1.0],\"y\":[0.0,1.0]},\"hole\":0.4,\"hovertemplate\":\"SCENARIO=%{label}\\u003cbr\\u003eCOUNT=%{value}\\u003cextra\\u003e\\u003c\\u002fextra\\u003e\",\"labels\":[\"AI_forecast\",\"actual\"],\"legendgroup\":\"\",\"name\":\"\",\"showlegend\":true,\"values\":[17103,890],\"type\":\"pie\"}],                        {\"template\":{\"data\":{\"histogram2dcontour\":[{\"type\":\"histogram2dcontour\",\"colorbar\":{\"outlinewidth\":0,\"ticks\":\"\"},\"colorscale\":[[0.0,\"#0d0887\"],[0.1111111111111111,\"#46039f\"],[0.2222222222222222,\"#7201a8\"],[0.3333333333333333,\"#9c179e\"],[0.4444444444444444,\"#bd3786\"],[0.5555555555555556,\"#d8576b\"],[0.6666666666666666,\"#ed7953\"],[0.7777777777777778,\"#fb9f3a\"],[0.8888888888888888,\"#fdca26\"],[1.0,\"#f0f921\"]]}],\"choropleth\":[{\"type\":\"choropleth\",\"colorbar\":{\"outlinewidth\":0,\"ticks\":\"\"}}],\"histogram2d\":[{\"type\":\"histogram2d\",\"colorbar\":{\"outlinewidth\":0,\"ticks\":\"\"},\"colorscale\":[[0.0,\"#0d0887\"],[0.1111111111111111,\"#46039f\"],[0.2222222222222222,\"#7201a8\"],[0.3333333333333333,\"#9c179e\"],[0.4444444444444444,\"#bd3786\"],[0.5555555555555556,\"#d8576b\"],[0.6666666666666666,\"#ed7953\"],[0.7777777777777778,\"#fb9f3a\"],[0.8888888888888888,\"#fdca26\"],[1.0,\"#f0f921\"]]}],\"heatmap\":[{\"type\":\"heatmap\",\"colorbar\":{\"outlinewidth\":0,\"ticks\":\"\"},\"colorscale\":[[0.0,\"#0d0887\"],[0.1111111111111111,\"#46039f\"],[0.2222222222222222,\"#7201a8\"],[0.3333333333333333,\"#9c179e\"],[0.4444444444444444,\"#bd3786\"],[0.5555555555555556,\"#d8576b\"],[0.6666666666666666,\"#ed7953\"],[0.7777777777777778,\"#fb9f3a\"],[0.8888888888888888,\"#fdca26\"],[1.0,\"#f0f921\"]]}],\"heatmapgl\":[{\"type\":\"heatmapgl\",\"colorbar\":{\"outlinewidth\":0,\"ticks\":\"\"},\"colorscale\":[[0.0,\"#0d0887\"],[0.1111111111111111,\"#46039f\"],[0.2222222222222222,\"#7201a8\"],[0.3333333333333333,\"#9c179e\"],[0.4444444444444444,\"#bd3786\"],[0.5555555555555556,\"#d8576b\"],[0.6666666666666666,\"#ed7953\"],[0.7777777777777778,\"#fb9f3a\"],[0.8888888888888888,\"#fdca26\"],[1.0,\"#f0f921\"]]}],\"contourcarpet\":[{\"type\":\"contourcarpet\",\"colorbar\":{\"outlinewidth\":0,\"ticks\":\"\"}}],\"contour\":[{\"type\":\"contour\",\"colorbar\":{\"outlinewidth\":0,\"ticks\":\"\"},\"colorscale\":[[0.0,\"#0d0887\"],[0.1111111111111111,\"#46039f\"],[0.2222222222222222,\"#7201a8\"],[0.3333333333333333,\"#9c179e\"],[0.4444444444444444,\"#bd3786\"],[0.5555555555555556,\"#d8576b\"],[0.6666666666666666,\"#ed7953\"],[0.7777777777777778,\"#fb9f3a\"],[0.8888888888888888,\"#fdca26\"],[1.0,\"#f0f921\"]]}],\"surface\":[{\"type\":\"surface\",\"colorbar\":{\"outlinewidth\":0,\"ticks\":\"\"},\"colorscale\":[[0.0,\"#0d0887\"],[0.1111111111111111,\"#46039f\"],[0.2222222222222222,\"#7201a8\"],[0.3333333333333333,\"#9c179e\"],[0.4444444444444444,\"#bd3786\"],[0.5555555555555556,\"#d8576b\"],[0.6666666666666666,\"#ed7953\"],[0.7777777777777778,\"#fb9f3a\"],[0.8888888888888888,\"#fdca26\"],[1.0,\"#f0f921\"]]}],\"mesh3d\":[{\"type\":\"mesh3d\",\"colorbar\":{\"outlinewidth\":0,\"ticks\":\"\"}}],\"scatter\":[{\"fillpattern\":{\"fillmode\":\"overlay\",\"size\":10,\"solidity\":0.2},\"type\":\"scatter\"}],\"parcoords\":[{\"type\":\"parcoords\",\"line\":{\"colorbar\":{\"outlinewidth\":0,\"ticks\":\"\"}}}],\"scatterpolargl\":[{\"type\":\"scatterpolargl\",\"marker\":{\"colorbar\":{\"outlinewidth\":0,\"ticks\":\"\"}}}],\"bar\":[{\"error_x\":{\"color\":\"#2a3f5f\"},\"error_y\":{\"color\":\"#2a3f5f\"},\"marker\":{\"line\":{\"color\":\"#E5ECF6\",\"width\":0.5},\"pattern\":{\"fillmode\":\"overlay\",\"size\":10,\"solidity\":0.2}},\"type\":\"bar\"}],\"scattergeo\":[{\"type\":\"scattergeo\",\"marker\":{\"colorbar\":{\"outlinewidth\":0,\"ticks\":\"\"}}}],\"scatterpolar\":[{\"type\":\"scatterpolar\",\"marker\":{\"colorbar\":{\"outlinewidth\":0,\"ticks\":\"\"}}}],\"histogram\":[{\"marker\":{\"pattern\":{\"fillmode\":\"overlay\",\"size\":10,\"solidity\":0.2}},\"type\":\"histogram\"}],\"scattergl\":[{\"type\":\"scattergl\",\"marker\":{\"colorbar\":{\"outlinewidth\":0,\"ticks\":\"\"}}}],\"scatter3d\":[{\"type\":\"scatter3d\",\"line\":{\"colorbar\":{\"outlinewidth\":0,\"ticks\":\"\"}},\"marker\":{\"colorbar\":{\"outlinewidth\":0,\"ticks\":\"\"}}}],\"scattermapbox\":[{\"type\":\"scattermapbox\",\"marker\":{\"colorbar\":{\"outlinewidth\":0,\"ticks\":\"\"}}}],\"scatterternary\":[{\"type\":\"scatterternary\",\"marker\":{\"colorbar\":{\"outlinewidth\":0,\"ticks\":\"\"}}}],\"scattercarpet\":[{\"type\":\"scattercarpet\",\"marker\":{\"colorbar\":{\"outlinewidth\":0,\"ticks\":\"\"}}}],\"carpet\":[{\"aaxis\":{\"endlinecolor\":\"#2a3f5f\",\"gridcolor\":\"white\",\"linecolor\":\"white\",\"minorgridcolor\":\"white\",\"startlinecolor\":\"#2a3f5f\"},\"baxis\":{\"endlinecolor\":\"#2a3f5f\",\"gridcolor\":\"white\",\"linecolor\":\"white\",\"minorgridcolor\":\"white\",\"startlinecolor\":\"#2a3f5f\"},\"type\":\"carpet\"}],\"table\":[{\"cells\":{\"fill\":{\"color\":\"#EBF0F8\"},\"line\":{\"color\":\"white\"}},\"header\":{\"fill\":{\"color\":\"#C8D4E3\"},\"line\":{\"color\":\"white\"}},\"type\":\"table\"}],\"barpolar\":[{\"marker\":{\"line\":{\"color\":\"#E5ECF6\",\"width\":0.5},\"pattern\":{\"fillmode\":\"overlay\",\"size\":10,\"solidity\":0.2}},\"type\":\"barpolar\"}],\"pie\":[{\"automargin\":true,\"type\":\"pie\"}]},\"layout\":{\"autotypenumbers\":\"strict\",\"colorway\":[\"#636efa\",\"#EF553B\",\"#00cc96\",\"#ab63fa\",\"#FFA15A\",\"#19d3f3\",\"#FF6692\",\"#B6E880\",\"#FF97FF\",\"#FECB52\"],\"font\":{\"color\":\"#2a3f5f\"},\"hovermode\":\"closest\",\"hoverlabel\":{\"align\":\"left\"},\"paper_bgcolor\":\"white\",\"plot_bgcolor\":\"#E5ECF6\",\"polar\":{\"bgcolor\":\"#E5ECF6\",\"angularaxis\":{\"gridcolor\":\"white\",\"linecolor\":\"white\",\"ticks\":\"\"},\"radialaxis\":{\"gridcolor\":\"white\",\"linecolor\":\"white\",\"ticks\":\"\"}},\"ternary\":{\"bgcolor\":\"#E5ECF6\",\"aaxis\":{\"gridcolor\":\"white\",\"linecolor\":\"white\",\"ticks\":\"\"},\"baxis\":{\"gridcolor\":\"white\",\"linecolor\":\"white\",\"ticks\":\"\"},\"caxis\":{\"gridcolor\":\"white\",\"linecolor\":\"white\",\"ticks\":\"\"}},\"coloraxis\":{\"colorbar\":{\"outlinewidth\":0,\"ticks\":\"\"}},\"colorscale\":{\"sequential\":[[0.0,\"#0d0887\"],[0.1111111111111111,\"#46039f\"],[0.2222222222222222,\"#7201a8\"],[0.3333333333333333,\"#9c179e\"],[0.4444444444444444,\"#bd3786\"],[0.5555555555555556,\"#d8576b\"],[0.6666666666666666,\"#ed7953\"],[0.7777777777777778,\"#fb9f3a\"],[0.8888888888888888,\"#fdca26\"],[1.0,\"#f0f921\"]],\"sequentialminus\":[[0.0,\"#0d0887\"],[0.1111111111111111,\"#46039f\"],[0.2222222222222222,\"#7201a8\"],[0.3333333333333333,\"#9c179e\"],[0.4444444444444444,\"#bd3786\"],[0.5555555555555556,\"#d8576b\"],[0.6666666666666666,\"#ed7953\"],[0.7777777777777778,\"#fb9f3a\"],[0.8888888888888888,\"#fdca26\"],[1.0,\"#f0f921\"]],\"diverging\":[[0,\"#8e0152\"],[0.1,\"#c51b7d\"],[0.2,\"#de77ae\"],[0.3,\"#f1b6da\"],[0.4,\"#fde0ef\"],[0.5,\"#f7f7f7\"],[0.6,\"#e6f5d0\"],[0.7,\"#b8e186\"],[0.8,\"#7fbc41\"],[0.9,\"#4d9221\"],[1,\"#276419\"]]},\"xaxis\":{\"gridcolor\":\"white\",\"linecolor\":\"white\",\"ticks\":\"\",\"title\":{\"standoff\":15},\"zerolinecolor\":\"white\",\"automargin\":true,\"zerolinewidth\":2},\"yaxis\":{\"gridcolor\":\"white\",\"linecolor\":\"white\",\"ticks\":\"\",\"title\":{\"standoff\":15},\"zerolinecolor\":\"white\",\"automargin\":true,\"zerolinewidth\":2},\"scene\":{\"xaxis\":{\"backgroundcolor\":\"#E5ECF6\",\"gridcolor\":\"white\",\"linecolor\":\"white\",\"showbackground\":true,\"ticks\":\"\",\"zerolinecolor\":\"white\",\"gridwidth\":2},\"yaxis\":{\"backgroundcolor\":\"#E5ECF6\",\"gridcolor\":\"white\",\"linecolor\":\"white\",\"showbackground\":true,\"ticks\":\"\",\"zerolinecolor\":\"white\",\"gridwidth\":2},\"zaxis\":{\"backgroundcolor\":\"#E5ECF6\",\"gridcolor\":\"white\",\"linecolor\":\"white\",\"showbackground\":true,\"ticks\":\"\",\"zerolinecolor\":\"white\",\"gridwidth\":2}},\"shapedefaults\":{\"line\":{\"color\":\"#2a3f5f\"}},\"annotationdefaults\":{\"arrowcolor\":\"#2a3f5f\",\"arrowhead\":0,\"arrowwidth\":1},\"geo\":{\"bgcolor\":\"white\",\"landcolor\":\"#E5ECF6\",\"subunitcolor\":\"white\",\"showland\":true,\"showlakes\":true,\"lakecolor\":\"white\"},\"title\":{\"x\":0.05},\"mapbox\":{\"style\":\"light\"}}},\"legend\":{\"tracegroupgap\":0},\"title\":{\"text\":\"Distribución de actual y AI_forecast\"}},                        {\"responsive\": true}                    ).then(function(){\n",
              "                            \n",
              "var gd = document.getElementById('2545ef33-8171-4246-a7a5-78d578ce9889');\n",
              "var x = new MutationObserver(function (mutations, observer) {{\n",
              "        var display = window.getComputedStyle(gd).display;\n",
              "        if (!display || display === 'none') {{\n",
              "            console.log([gd, 'removed!']);\n",
              "            Plotly.purge(gd);\n",
              "            observer.disconnect();\n",
              "        }}\n",
              "}});\n",
              "\n",
              "// Listen for the removal of the full notebook cells\n",
              "var notebookContainer = gd.closest('#notebook-container');\n",
              "if (notebookContainer) {{\n",
              "    x.observe(notebookContainer, {childList: true});\n",
              "}}\n",
              "\n",
              "// Listen for the clearing of the current output cell\n",
              "var outputEl = gd.closest('.output');\n",
              "if (outputEl) {{\n",
              "    x.observe(outputEl, {childList: true});\n",
              "}}\n",
              "\n",
              "                        })                };                            </script>        </div>\n",
              "</body>\n",
              "</html>"
            ]
          },
          "metadata": {}
        }
      ]
    },
    {
      "cell_type": "markdown",
      "source": [
        "## NÚMERO DE PAÍSES"
      ],
      "metadata": {
        "id": "e1Rlh2o5oIII"
      }
    },
    {
      "cell_type": "code",
      "source": [
        "paises = dfVentas['COUNTRY'].unique()\n",
        "print(paises)"
      ],
      "metadata": {
        "id": "YRksTQBwoOrY",
        "colab": {
          "base_uri": "https://localhost:8080/"
        },
        "outputId": "b7fc6762-f366-4415-ea94-1f724a7566d6"
      },
      "execution_count": null,
      "outputs": [
        {
          "output_type": "stream",
          "name": "stdout",
          "text": [
            "['Portugal' 'Great Britain' 'Spain' 'Hungary' 'Norway' 'Denmark'\n",
            " 'Netherlands' 'Italy' 'Czech']\n"
          ]
        }
      ]
    },
    {
      "cell_type": "markdown",
      "source": [
        "### DISTRIBUCIÓN DE LOS PAÍSES"
      ],
      "metadata": {
        "id": "t60f8snNAeqS"
      }
    },
    {
      "cell_type": "code",
      "source": [
        "fig = px.pie(dfVentas['COUNTRY'].value_counts().reset_index(name='COUNT').sort_values(by='COUNT', ascending=False), values='COUNT', names='COUNTRY', hole=0.4, title='Distribución de Países', category_orders={\"COUNTRY\": dfVentas['COUNTRY'].value_counts().index.tolist()})\n",
        "fig.show()\n"
      ],
      "metadata": {
        "colab": {
          "base_uri": "https://localhost:8080/",
          "height": 542
        },
        "id": "EFTe6PktApbs",
        "outputId": "95124a73-facd-494e-b5de-21ee87e936e7"
      },
      "execution_count": null,
      "outputs": [
        {
          "output_type": "display_data",
          "data": {
            "text/html": [
              "<html>\n",
              "<head><meta charset=\"utf-8\" /></head>\n",
              "<body>\n",
              "    <div>            <script src=\"https://cdnjs.cloudflare.com/ajax/libs/mathjax/2.7.5/MathJax.js?config=TeX-AMS-MML_SVG\"></script><script type=\"text/javascript\">if (window.MathJax && window.MathJax.Hub && window.MathJax.Hub.Config) {window.MathJax.Hub.Config({SVG: {font: \"STIX-Web\"}});}</script>                <script type=\"text/javascript\">window.PlotlyConfig = {MathJaxConfig: 'local'};</script>\n",
              "        <script charset=\"utf-8\" src=\"https://cdn.plot.ly/plotly-2.35.2.min.js\"></script>                <div id=\"8f010965-8a70-49fe-888b-7f908a4085f9\" class=\"plotly-graph-div\" style=\"height:525px; width:100%;\"></div>            <script type=\"text/javascript\">                                    window.PLOTLYENV=window.PLOTLYENV || {};                                    if (document.getElementById(\"8f010965-8a70-49fe-888b-7f908a4085f9\")) {                    Plotly.newPlot(                        \"8f010965-8a70-49fe-888b-7f908a4085f9\",                        [{\"direction\":\"clockwise\",\"domain\":{\"x\":[0.0,1.0],\"y\":[0.0,1.0]},\"hole\":0.4,\"hovertemplate\":\"COUNTRY=%{label}\\u003cbr\\u003eCOUNT=%{value}\\u003cextra\\u003e\\u003c\\u002fextra\\u003e\",\"labels\":[\"Great Britain\",\"Netherlands\",\"Hungary\",\"Denmark\",\"Spain\",\"Norway\",\"Czech\",\"Portugal\",\"Italy\"],\"legendgroup\":\"\",\"name\":\"\",\"showlegend\":true,\"sort\":false,\"values\":[3372,2476,2358,2294,2152,2051,1403,1179,708],\"type\":\"pie\"}],                        {\"template\":{\"data\":{\"histogram2dcontour\":[{\"type\":\"histogram2dcontour\",\"colorbar\":{\"outlinewidth\":0,\"ticks\":\"\"},\"colorscale\":[[0.0,\"#0d0887\"],[0.1111111111111111,\"#46039f\"],[0.2222222222222222,\"#7201a8\"],[0.3333333333333333,\"#9c179e\"],[0.4444444444444444,\"#bd3786\"],[0.5555555555555556,\"#d8576b\"],[0.6666666666666666,\"#ed7953\"],[0.7777777777777778,\"#fb9f3a\"],[0.8888888888888888,\"#fdca26\"],[1.0,\"#f0f921\"]]}],\"choropleth\":[{\"type\":\"choropleth\",\"colorbar\":{\"outlinewidth\":0,\"ticks\":\"\"}}],\"histogram2d\":[{\"type\":\"histogram2d\",\"colorbar\":{\"outlinewidth\":0,\"ticks\":\"\"},\"colorscale\":[[0.0,\"#0d0887\"],[0.1111111111111111,\"#46039f\"],[0.2222222222222222,\"#7201a8\"],[0.3333333333333333,\"#9c179e\"],[0.4444444444444444,\"#bd3786\"],[0.5555555555555556,\"#d8576b\"],[0.6666666666666666,\"#ed7953\"],[0.7777777777777778,\"#fb9f3a\"],[0.8888888888888888,\"#fdca26\"],[1.0,\"#f0f921\"]]}],\"heatmap\":[{\"type\":\"heatmap\",\"colorbar\":{\"outlinewidth\":0,\"ticks\":\"\"},\"colorscale\":[[0.0,\"#0d0887\"],[0.1111111111111111,\"#46039f\"],[0.2222222222222222,\"#7201a8\"],[0.3333333333333333,\"#9c179e\"],[0.4444444444444444,\"#bd3786\"],[0.5555555555555556,\"#d8576b\"],[0.6666666666666666,\"#ed7953\"],[0.7777777777777778,\"#fb9f3a\"],[0.8888888888888888,\"#fdca26\"],[1.0,\"#f0f921\"]]}],\"heatmapgl\":[{\"type\":\"heatmapgl\",\"colorbar\":{\"outlinewidth\":0,\"ticks\":\"\"},\"colorscale\":[[0.0,\"#0d0887\"],[0.1111111111111111,\"#46039f\"],[0.2222222222222222,\"#7201a8\"],[0.3333333333333333,\"#9c179e\"],[0.4444444444444444,\"#bd3786\"],[0.5555555555555556,\"#d8576b\"],[0.6666666666666666,\"#ed7953\"],[0.7777777777777778,\"#fb9f3a\"],[0.8888888888888888,\"#fdca26\"],[1.0,\"#f0f921\"]]}],\"contourcarpet\":[{\"type\":\"contourcarpet\",\"colorbar\":{\"outlinewidth\":0,\"ticks\":\"\"}}],\"contour\":[{\"type\":\"contour\",\"colorbar\":{\"outlinewidth\":0,\"ticks\":\"\"},\"colorscale\":[[0.0,\"#0d0887\"],[0.1111111111111111,\"#46039f\"],[0.2222222222222222,\"#7201a8\"],[0.3333333333333333,\"#9c179e\"],[0.4444444444444444,\"#bd3786\"],[0.5555555555555556,\"#d8576b\"],[0.6666666666666666,\"#ed7953\"],[0.7777777777777778,\"#fb9f3a\"],[0.8888888888888888,\"#fdca26\"],[1.0,\"#f0f921\"]]}],\"surface\":[{\"type\":\"surface\",\"colorbar\":{\"outlinewidth\":0,\"ticks\":\"\"},\"colorscale\":[[0.0,\"#0d0887\"],[0.1111111111111111,\"#46039f\"],[0.2222222222222222,\"#7201a8\"],[0.3333333333333333,\"#9c179e\"],[0.4444444444444444,\"#bd3786\"],[0.5555555555555556,\"#d8576b\"],[0.6666666666666666,\"#ed7953\"],[0.7777777777777778,\"#fb9f3a\"],[0.8888888888888888,\"#fdca26\"],[1.0,\"#f0f921\"]]}],\"mesh3d\":[{\"type\":\"mesh3d\",\"colorbar\":{\"outlinewidth\":0,\"ticks\":\"\"}}],\"scatter\":[{\"fillpattern\":{\"fillmode\":\"overlay\",\"size\":10,\"solidity\":0.2},\"type\":\"scatter\"}],\"parcoords\":[{\"type\":\"parcoords\",\"line\":{\"colorbar\":{\"outlinewidth\":0,\"ticks\":\"\"}}}],\"scatterpolargl\":[{\"type\":\"scatterpolargl\",\"marker\":{\"colorbar\":{\"outlinewidth\":0,\"ticks\":\"\"}}}],\"bar\":[{\"error_x\":{\"color\":\"#2a3f5f\"},\"error_y\":{\"color\":\"#2a3f5f\"},\"marker\":{\"line\":{\"color\":\"#E5ECF6\",\"width\":0.5},\"pattern\":{\"fillmode\":\"overlay\",\"size\":10,\"solidity\":0.2}},\"type\":\"bar\"}],\"scattergeo\":[{\"type\":\"scattergeo\",\"marker\":{\"colorbar\":{\"outlinewidth\":0,\"ticks\":\"\"}}}],\"scatterpolar\":[{\"type\":\"scatterpolar\",\"marker\":{\"colorbar\":{\"outlinewidth\":0,\"ticks\":\"\"}}}],\"histogram\":[{\"marker\":{\"pattern\":{\"fillmode\":\"overlay\",\"size\":10,\"solidity\":0.2}},\"type\":\"histogram\"}],\"scattergl\":[{\"type\":\"scattergl\",\"marker\":{\"colorbar\":{\"outlinewidth\":0,\"ticks\":\"\"}}}],\"scatter3d\":[{\"type\":\"scatter3d\",\"line\":{\"colorbar\":{\"outlinewidth\":0,\"ticks\":\"\"}},\"marker\":{\"colorbar\":{\"outlinewidth\":0,\"ticks\":\"\"}}}],\"scattermapbox\":[{\"type\":\"scattermapbox\",\"marker\":{\"colorbar\":{\"outlinewidth\":0,\"ticks\":\"\"}}}],\"scatterternary\":[{\"type\":\"scatterternary\",\"marker\":{\"colorbar\":{\"outlinewidth\":0,\"ticks\":\"\"}}}],\"scattercarpet\":[{\"type\":\"scattercarpet\",\"marker\":{\"colorbar\":{\"outlinewidth\":0,\"ticks\":\"\"}}}],\"carpet\":[{\"aaxis\":{\"endlinecolor\":\"#2a3f5f\",\"gridcolor\":\"white\",\"linecolor\":\"white\",\"minorgridcolor\":\"white\",\"startlinecolor\":\"#2a3f5f\"},\"baxis\":{\"endlinecolor\":\"#2a3f5f\",\"gridcolor\":\"white\",\"linecolor\":\"white\",\"minorgridcolor\":\"white\",\"startlinecolor\":\"#2a3f5f\"},\"type\":\"carpet\"}],\"table\":[{\"cells\":{\"fill\":{\"color\":\"#EBF0F8\"},\"line\":{\"color\":\"white\"}},\"header\":{\"fill\":{\"color\":\"#C8D4E3\"},\"line\":{\"color\":\"white\"}},\"type\":\"table\"}],\"barpolar\":[{\"marker\":{\"line\":{\"color\":\"#E5ECF6\",\"width\":0.5},\"pattern\":{\"fillmode\":\"overlay\",\"size\":10,\"solidity\":0.2}},\"type\":\"barpolar\"}],\"pie\":[{\"automargin\":true,\"type\":\"pie\"}]},\"layout\":{\"autotypenumbers\":\"strict\",\"colorway\":[\"#636efa\",\"#EF553B\",\"#00cc96\",\"#ab63fa\",\"#FFA15A\",\"#19d3f3\",\"#FF6692\",\"#B6E880\",\"#FF97FF\",\"#FECB52\"],\"font\":{\"color\":\"#2a3f5f\"},\"hovermode\":\"closest\",\"hoverlabel\":{\"align\":\"left\"},\"paper_bgcolor\":\"white\",\"plot_bgcolor\":\"#E5ECF6\",\"polar\":{\"bgcolor\":\"#E5ECF6\",\"angularaxis\":{\"gridcolor\":\"white\",\"linecolor\":\"white\",\"ticks\":\"\"},\"radialaxis\":{\"gridcolor\":\"white\",\"linecolor\":\"white\",\"ticks\":\"\"}},\"ternary\":{\"bgcolor\":\"#E5ECF6\",\"aaxis\":{\"gridcolor\":\"white\",\"linecolor\":\"white\",\"ticks\":\"\"},\"baxis\":{\"gridcolor\":\"white\",\"linecolor\":\"white\",\"ticks\":\"\"},\"caxis\":{\"gridcolor\":\"white\",\"linecolor\":\"white\",\"ticks\":\"\"}},\"coloraxis\":{\"colorbar\":{\"outlinewidth\":0,\"ticks\":\"\"}},\"colorscale\":{\"sequential\":[[0.0,\"#0d0887\"],[0.1111111111111111,\"#46039f\"],[0.2222222222222222,\"#7201a8\"],[0.3333333333333333,\"#9c179e\"],[0.4444444444444444,\"#bd3786\"],[0.5555555555555556,\"#d8576b\"],[0.6666666666666666,\"#ed7953\"],[0.7777777777777778,\"#fb9f3a\"],[0.8888888888888888,\"#fdca26\"],[1.0,\"#f0f921\"]],\"sequentialminus\":[[0.0,\"#0d0887\"],[0.1111111111111111,\"#46039f\"],[0.2222222222222222,\"#7201a8\"],[0.3333333333333333,\"#9c179e\"],[0.4444444444444444,\"#bd3786\"],[0.5555555555555556,\"#d8576b\"],[0.6666666666666666,\"#ed7953\"],[0.7777777777777778,\"#fb9f3a\"],[0.8888888888888888,\"#fdca26\"],[1.0,\"#f0f921\"]],\"diverging\":[[0,\"#8e0152\"],[0.1,\"#c51b7d\"],[0.2,\"#de77ae\"],[0.3,\"#f1b6da\"],[0.4,\"#fde0ef\"],[0.5,\"#f7f7f7\"],[0.6,\"#e6f5d0\"],[0.7,\"#b8e186\"],[0.8,\"#7fbc41\"],[0.9,\"#4d9221\"],[1,\"#276419\"]]},\"xaxis\":{\"gridcolor\":\"white\",\"linecolor\":\"white\",\"ticks\":\"\",\"title\":{\"standoff\":15},\"zerolinecolor\":\"white\",\"automargin\":true,\"zerolinewidth\":2},\"yaxis\":{\"gridcolor\":\"white\",\"linecolor\":\"white\",\"ticks\":\"\",\"title\":{\"standoff\":15},\"zerolinecolor\":\"white\",\"automargin\":true,\"zerolinewidth\":2},\"scene\":{\"xaxis\":{\"backgroundcolor\":\"#E5ECF6\",\"gridcolor\":\"white\",\"linecolor\":\"white\",\"showbackground\":true,\"ticks\":\"\",\"zerolinecolor\":\"white\",\"gridwidth\":2},\"yaxis\":{\"backgroundcolor\":\"#E5ECF6\",\"gridcolor\":\"white\",\"linecolor\":\"white\",\"showbackground\":true,\"ticks\":\"\",\"zerolinecolor\":\"white\",\"gridwidth\":2},\"zaxis\":{\"backgroundcolor\":\"#E5ECF6\",\"gridcolor\":\"white\",\"linecolor\":\"white\",\"showbackground\":true,\"ticks\":\"\",\"zerolinecolor\":\"white\",\"gridwidth\":2}},\"shapedefaults\":{\"line\":{\"color\":\"#2a3f5f\"}},\"annotationdefaults\":{\"arrowcolor\":\"#2a3f5f\",\"arrowhead\":0,\"arrowwidth\":1},\"geo\":{\"bgcolor\":\"white\",\"landcolor\":\"#E5ECF6\",\"subunitcolor\":\"white\",\"showland\":true,\"showlakes\":true,\"lakecolor\":\"white\"},\"title\":{\"x\":0.05},\"mapbox\":{\"style\":\"light\"}}},\"legend\":{\"tracegroupgap\":0},\"title\":{\"text\":\"Distribución de Países\"}},                        {\"responsive\": true}                    ).then(function(){\n",
              "                            \n",
              "var gd = document.getElementById('8f010965-8a70-49fe-888b-7f908a4085f9');\n",
              "var x = new MutationObserver(function (mutations, observer) {{\n",
              "        var display = window.getComputedStyle(gd).display;\n",
              "        if (!display || display === 'none') {{\n",
              "            console.log([gd, 'removed!']);\n",
              "            Plotly.purge(gd);\n",
              "            observer.disconnect();\n",
              "        }}\n",
              "}});\n",
              "\n",
              "// Listen for the removal of the full notebook cells\n",
              "var notebookContainer = gd.closest('#notebook-container');\n",
              "if (notebookContainer) {{\n",
              "    x.observe(notebookContainer, {childList: true});\n",
              "}}\n",
              "\n",
              "// Listen for the clearing of the current output cell\n",
              "var outputEl = gd.closest('.output');\n",
              "if (outputEl) {{\n",
              "    x.observe(outputEl, {childList: true});\n",
              "}}\n",
              "\n",
              "                        })                };                            </script>        </div>\n",
              "</body>\n",
              "</html>"
            ]
          },
          "metadata": {}
        }
      ]
    },
    {
      "cell_type": "markdown",
      "source": [
        "El país con mas registros es Gran Bretaña y el que menos es Italia, importante destacar que esto no tiene nada que ver con la cantidad de dinero vendido en cada país, puede coincidir, y tener alguna relación, pero veremos como España ha recaudado menos en ventas que Italia."
      ],
      "metadata": {
        "id": "Xzxm2tDgb9wG"
      }
    },
    {
      "cell_type": "markdown",
      "source": [
        "## NÚMERO DE PRODUCTOS\n"
      ],
      "metadata": {
        "id": "nSuw0ryVphFO"
      }
    },
    {
      "cell_type": "code",
      "source": [
        "productos = dfVentas['SUBBRAND'].unique()\n",
        "print(productos)\n"
      ],
      "metadata": {
        "colab": {
          "base_uri": "https://localhost:8080/"
        },
        "id": "tozGVJqEp2UX",
        "outputId": "d2306159-878b-401f-bd1e-0938d4a563b4"
      },
      "execution_count": null,
      "outputs": [
        {
          "output_type": "stream",
          "name": "stdout",
          "text": [
            "['Lipton (L3)' 'Pepsi Max (L3)' '7up (L3)' 'Pepsi Regular (L3)'\n",
            " 'Mountain Dew (L3)' '7up Free (L3)']\n"
          ]
        }
      ]
    },
    {
      "cell_type": "markdown",
      "source": [
        "### DISTRIBUCIÓN DE PRODUCTOS"
      ],
      "metadata": {
        "id": "mSo3ycs7BUS_"
      }
    },
    {
      "cell_type": "code",
      "source": [
        "fig = px.pie(dfVentas['SUBBRAND'].value_counts().reset_index(name='COUNT').sort_values(by='COUNT', ascending=False), values='COUNT', names='SUBBRAND', hole=0.4, title='Distribución de Productos sin tener en cuenta países.', category_orders={\"SUBBRAND\": dfVentas['SUBBRAND'].value_counts().index.tolist()})\n",
        "fig.show()"
      ],
      "metadata": {
        "colab": {
          "base_uri": "https://localhost:8080/",
          "height": 542
        },
        "id": "3ExtQWWoBaAF",
        "outputId": "e9b62d8c-b132-4315-9fc7-26d0e29c0d06"
      },
      "execution_count": null,
      "outputs": [
        {
          "output_type": "display_data",
          "data": {
            "text/html": [
              "<html>\n",
              "<head><meta charset=\"utf-8\" /></head>\n",
              "<body>\n",
              "    <div>            <script src=\"https://cdnjs.cloudflare.com/ajax/libs/mathjax/2.7.5/MathJax.js?config=TeX-AMS-MML_SVG\"></script><script type=\"text/javascript\">if (window.MathJax && window.MathJax.Hub && window.MathJax.Hub.Config) {window.MathJax.Hub.Config({SVG: {font: \"STIX-Web\"}});}</script>                <script type=\"text/javascript\">window.PlotlyConfig = {MathJaxConfig: 'local'};</script>\n",
              "        <script charset=\"utf-8\" src=\"https://cdn.plot.ly/plotly-2.35.2.min.js\"></script>                <div id=\"4a386746-74cd-4090-9f3b-7e53044a69de\" class=\"plotly-graph-div\" style=\"height:525px; width:100%;\"></div>            <script type=\"text/javascript\">                                    window.PLOTLYENV=window.PLOTLYENV || {};                                    if (document.getElementById(\"4a386746-74cd-4090-9f3b-7e53044a69de\")) {                    Plotly.newPlot(                        \"4a386746-74cd-4090-9f3b-7e53044a69de\",                        [{\"direction\":\"clockwise\",\"domain\":{\"x\":[0.0,1.0],\"y\":[0.0,1.0]},\"hole\":0.4,\"hovertemplate\":\"SUBBRAND=%{label}\\u003cbr\\u003eCOUNT=%{value}\\u003cextra\\u003e\\u003c\\u002fextra\\u003e\",\"labels\":[\"Pepsi Max (L3)\",\"Pepsi Regular (L3)\",\"Lipton (L3)\",\"7up (L3)\",\"7up Free (L3)\",\"Mountain Dew (L3)\"],\"legendgroup\":\"\",\"name\":\"\",\"showlegend\":true,\"sort\":false,\"values\":[5538,3576,2484,2470,2283,1642],\"type\":\"pie\"}],                        {\"template\":{\"data\":{\"histogram2dcontour\":[{\"type\":\"histogram2dcontour\",\"colorbar\":{\"outlinewidth\":0,\"ticks\":\"\"},\"colorscale\":[[0.0,\"#0d0887\"],[0.1111111111111111,\"#46039f\"],[0.2222222222222222,\"#7201a8\"],[0.3333333333333333,\"#9c179e\"],[0.4444444444444444,\"#bd3786\"],[0.5555555555555556,\"#d8576b\"],[0.6666666666666666,\"#ed7953\"],[0.7777777777777778,\"#fb9f3a\"],[0.8888888888888888,\"#fdca26\"],[1.0,\"#f0f921\"]]}],\"choropleth\":[{\"type\":\"choropleth\",\"colorbar\":{\"outlinewidth\":0,\"ticks\":\"\"}}],\"histogram2d\":[{\"type\":\"histogram2d\",\"colorbar\":{\"outlinewidth\":0,\"ticks\":\"\"},\"colorscale\":[[0.0,\"#0d0887\"],[0.1111111111111111,\"#46039f\"],[0.2222222222222222,\"#7201a8\"],[0.3333333333333333,\"#9c179e\"],[0.4444444444444444,\"#bd3786\"],[0.5555555555555556,\"#d8576b\"],[0.6666666666666666,\"#ed7953\"],[0.7777777777777778,\"#fb9f3a\"],[0.8888888888888888,\"#fdca26\"],[1.0,\"#f0f921\"]]}],\"heatmap\":[{\"type\":\"heatmap\",\"colorbar\":{\"outlinewidth\":0,\"ticks\":\"\"},\"colorscale\":[[0.0,\"#0d0887\"],[0.1111111111111111,\"#46039f\"],[0.2222222222222222,\"#7201a8\"],[0.3333333333333333,\"#9c179e\"],[0.4444444444444444,\"#bd3786\"],[0.5555555555555556,\"#d8576b\"],[0.6666666666666666,\"#ed7953\"],[0.7777777777777778,\"#fb9f3a\"],[0.8888888888888888,\"#fdca26\"],[1.0,\"#f0f921\"]]}],\"heatmapgl\":[{\"type\":\"heatmapgl\",\"colorbar\":{\"outlinewidth\":0,\"ticks\":\"\"},\"colorscale\":[[0.0,\"#0d0887\"],[0.1111111111111111,\"#46039f\"],[0.2222222222222222,\"#7201a8\"],[0.3333333333333333,\"#9c179e\"],[0.4444444444444444,\"#bd3786\"],[0.5555555555555556,\"#d8576b\"],[0.6666666666666666,\"#ed7953\"],[0.7777777777777778,\"#fb9f3a\"],[0.8888888888888888,\"#fdca26\"],[1.0,\"#f0f921\"]]}],\"contourcarpet\":[{\"type\":\"contourcarpet\",\"colorbar\":{\"outlinewidth\":0,\"ticks\":\"\"}}],\"contour\":[{\"type\":\"contour\",\"colorbar\":{\"outlinewidth\":0,\"ticks\":\"\"},\"colorscale\":[[0.0,\"#0d0887\"],[0.1111111111111111,\"#46039f\"],[0.2222222222222222,\"#7201a8\"],[0.3333333333333333,\"#9c179e\"],[0.4444444444444444,\"#bd3786\"],[0.5555555555555556,\"#d8576b\"],[0.6666666666666666,\"#ed7953\"],[0.7777777777777778,\"#fb9f3a\"],[0.8888888888888888,\"#fdca26\"],[1.0,\"#f0f921\"]]}],\"surface\":[{\"type\":\"surface\",\"colorbar\":{\"outlinewidth\":0,\"ticks\":\"\"},\"colorscale\":[[0.0,\"#0d0887\"],[0.1111111111111111,\"#46039f\"],[0.2222222222222222,\"#7201a8\"],[0.3333333333333333,\"#9c179e\"],[0.4444444444444444,\"#bd3786\"],[0.5555555555555556,\"#d8576b\"],[0.6666666666666666,\"#ed7953\"],[0.7777777777777778,\"#fb9f3a\"],[0.8888888888888888,\"#fdca26\"],[1.0,\"#f0f921\"]]}],\"mesh3d\":[{\"type\":\"mesh3d\",\"colorbar\":{\"outlinewidth\":0,\"ticks\":\"\"}}],\"scatter\":[{\"fillpattern\":{\"fillmode\":\"overlay\",\"size\":10,\"solidity\":0.2},\"type\":\"scatter\"}],\"parcoords\":[{\"type\":\"parcoords\",\"line\":{\"colorbar\":{\"outlinewidth\":0,\"ticks\":\"\"}}}],\"scatterpolargl\":[{\"type\":\"scatterpolargl\",\"marker\":{\"colorbar\":{\"outlinewidth\":0,\"ticks\":\"\"}}}],\"bar\":[{\"error_x\":{\"color\":\"#2a3f5f\"},\"error_y\":{\"color\":\"#2a3f5f\"},\"marker\":{\"line\":{\"color\":\"#E5ECF6\",\"width\":0.5},\"pattern\":{\"fillmode\":\"overlay\",\"size\":10,\"solidity\":0.2}},\"type\":\"bar\"}],\"scattergeo\":[{\"type\":\"scattergeo\",\"marker\":{\"colorbar\":{\"outlinewidth\":0,\"ticks\":\"\"}}}],\"scatterpolar\":[{\"type\":\"scatterpolar\",\"marker\":{\"colorbar\":{\"outlinewidth\":0,\"ticks\":\"\"}}}],\"histogram\":[{\"marker\":{\"pattern\":{\"fillmode\":\"overlay\",\"size\":10,\"solidity\":0.2}},\"type\":\"histogram\"}],\"scattergl\":[{\"type\":\"scattergl\",\"marker\":{\"colorbar\":{\"outlinewidth\":0,\"ticks\":\"\"}}}],\"scatter3d\":[{\"type\":\"scatter3d\",\"line\":{\"colorbar\":{\"outlinewidth\":0,\"ticks\":\"\"}},\"marker\":{\"colorbar\":{\"outlinewidth\":0,\"ticks\":\"\"}}}],\"scattermapbox\":[{\"type\":\"scattermapbox\",\"marker\":{\"colorbar\":{\"outlinewidth\":0,\"ticks\":\"\"}}}],\"scatterternary\":[{\"type\":\"scatterternary\",\"marker\":{\"colorbar\":{\"outlinewidth\":0,\"ticks\":\"\"}}}],\"scattercarpet\":[{\"type\":\"scattercarpet\",\"marker\":{\"colorbar\":{\"outlinewidth\":0,\"ticks\":\"\"}}}],\"carpet\":[{\"aaxis\":{\"endlinecolor\":\"#2a3f5f\",\"gridcolor\":\"white\",\"linecolor\":\"white\",\"minorgridcolor\":\"white\",\"startlinecolor\":\"#2a3f5f\"},\"baxis\":{\"endlinecolor\":\"#2a3f5f\",\"gridcolor\":\"white\",\"linecolor\":\"white\",\"minorgridcolor\":\"white\",\"startlinecolor\":\"#2a3f5f\"},\"type\":\"carpet\"}],\"table\":[{\"cells\":{\"fill\":{\"color\":\"#EBF0F8\"},\"line\":{\"color\":\"white\"}},\"header\":{\"fill\":{\"color\":\"#C8D4E3\"},\"line\":{\"color\":\"white\"}},\"type\":\"table\"}],\"barpolar\":[{\"marker\":{\"line\":{\"color\":\"#E5ECF6\",\"width\":0.5},\"pattern\":{\"fillmode\":\"overlay\",\"size\":10,\"solidity\":0.2}},\"type\":\"barpolar\"}],\"pie\":[{\"automargin\":true,\"type\":\"pie\"}]},\"layout\":{\"autotypenumbers\":\"strict\",\"colorway\":[\"#636efa\",\"#EF553B\",\"#00cc96\",\"#ab63fa\",\"#FFA15A\",\"#19d3f3\",\"#FF6692\",\"#B6E880\",\"#FF97FF\",\"#FECB52\"],\"font\":{\"color\":\"#2a3f5f\"},\"hovermode\":\"closest\",\"hoverlabel\":{\"align\":\"left\"},\"paper_bgcolor\":\"white\",\"plot_bgcolor\":\"#E5ECF6\",\"polar\":{\"bgcolor\":\"#E5ECF6\",\"angularaxis\":{\"gridcolor\":\"white\",\"linecolor\":\"white\",\"ticks\":\"\"},\"radialaxis\":{\"gridcolor\":\"white\",\"linecolor\":\"white\",\"ticks\":\"\"}},\"ternary\":{\"bgcolor\":\"#E5ECF6\",\"aaxis\":{\"gridcolor\":\"white\",\"linecolor\":\"white\",\"ticks\":\"\"},\"baxis\":{\"gridcolor\":\"white\",\"linecolor\":\"white\",\"ticks\":\"\"},\"caxis\":{\"gridcolor\":\"white\",\"linecolor\":\"white\",\"ticks\":\"\"}},\"coloraxis\":{\"colorbar\":{\"outlinewidth\":0,\"ticks\":\"\"}},\"colorscale\":{\"sequential\":[[0.0,\"#0d0887\"],[0.1111111111111111,\"#46039f\"],[0.2222222222222222,\"#7201a8\"],[0.3333333333333333,\"#9c179e\"],[0.4444444444444444,\"#bd3786\"],[0.5555555555555556,\"#d8576b\"],[0.6666666666666666,\"#ed7953\"],[0.7777777777777778,\"#fb9f3a\"],[0.8888888888888888,\"#fdca26\"],[1.0,\"#f0f921\"]],\"sequentialminus\":[[0.0,\"#0d0887\"],[0.1111111111111111,\"#46039f\"],[0.2222222222222222,\"#7201a8\"],[0.3333333333333333,\"#9c179e\"],[0.4444444444444444,\"#bd3786\"],[0.5555555555555556,\"#d8576b\"],[0.6666666666666666,\"#ed7953\"],[0.7777777777777778,\"#fb9f3a\"],[0.8888888888888888,\"#fdca26\"],[1.0,\"#f0f921\"]],\"diverging\":[[0,\"#8e0152\"],[0.1,\"#c51b7d\"],[0.2,\"#de77ae\"],[0.3,\"#f1b6da\"],[0.4,\"#fde0ef\"],[0.5,\"#f7f7f7\"],[0.6,\"#e6f5d0\"],[0.7,\"#b8e186\"],[0.8,\"#7fbc41\"],[0.9,\"#4d9221\"],[1,\"#276419\"]]},\"xaxis\":{\"gridcolor\":\"white\",\"linecolor\":\"white\",\"ticks\":\"\",\"title\":{\"standoff\":15},\"zerolinecolor\":\"white\",\"automargin\":true,\"zerolinewidth\":2},\"yaxis\":{\"gridcolor\":\"white\",\"linecolor\":\"white\",\"ticks\":\"\",\"title\":{\"standoff\":15},\"zerolinecolor\":\"white\",\"automargin\":true,\"zerolinewidth\":2},\"scene\":{\"xaxis\":{\"backgroundcolor\":\"#E5ECF6\",\"gridcolor\":\"white\",\"linecolor\":\"white\",\"showbackground\":true,\"ticks\":\"\",\"zerolinecolor\":\"white\",\"gridwidth\":2},\"yaxis\":{\"backgroundcolor\":\"#E5ECF6\",\"gridcolor\":\"white\",\"linecolor\":\"white\",\"showbackground\":true,\"ticks\":\"\",\"zerolinecolor\":\"white\",\"gridwidth\":2},\"zaxis\":{\"backgroundcolor\":\"#E5ECF6\",\"gridcolor\":\"white\",\"linecolor\":\"white\",\"showbackground\":true,\"ticks\":\"\",\"zerolinecolor\":\"white\",\"gridwidth\":2}},\"shapedefaults\":{\"line\":{\"color\":\"#2a3f5f\"}},\"annotationdefaults\":{\"arrowcolor\":\"#2a3f5f\",\"arrowhead\":0,\"arrowwidth\":1},\"geo\":{\"bgcolor\":\"white\",\"landcolor\":\"#E5ECF6\",\"subunitcolor\":\"white\",\"showland\":true,\"showlakes\":true,\"lakecolor\":\"white\"},\"title\":{\"x\":0.05},\"mapbox\":{\"style\":\"light\"}}},\"legend\":{\"tracegroupgap\":0},\"title\":{\"text\":\"Distribución de Productos sin tener en cuenta países.\"}},                        {\"responsive\": true}                    ).then(function(){\n",
              "                            \n",
              "var gd = document.getElementById('4a386746-74cd-4090-9f3b-7e53044a69de');\n",
              "var x = new MutationObserver(function (mutations, observer) {{\n",
              "        var display = window.getComputedStyle(gd).display;\n",
              "        if (!display || display === 'none') {{\n",
              "            console.log([gd, 'removed!']);\n",
              "            Plotly.purge(gd);\n",
              "            observer.disconnect();\n",
              "        }}\n",
              "}});\n",
              "\n",
              "// Listen for the removal of the full notebook cells\n",
              "var notebookContainer = gd.closest('#notebook-container');\n",
              "if (notebookContainer) {{\n",
              "    x.observe(notebookContainer, {childList: true});\n",
              "}}\n",
              "\n",
              "// Listen for the clearing of the current output cell\n",
              "var outputEl = gd.closest('.output');\n",
              "if (outputEl) {{\n",
              "    x.observe(outputEl, {childList: true});\n",
              "}}\n",
              "\n",
              "                        })                };                            </script>        </div>\n",
              "</body>\n",
              "</html>"
            ]
          },
          "metadata": {}
        }
      ]
    },
    {
      "cell_type": "markdown",
      "source": [
        "Lo mismo, el producto con más registros es Pepsi Max (L3)."
      ],
      "metadata": {
        "id": "GJAsZxt1qEPy"
      }
    },
    {
      "cell_type": "markdown",
      "source": [
        "## FORECASTS DISTINTOS"
      ],
      "metadata": {
        "id": "vr9pJFNto63Q"
      }
    },
    {
      "cell_type": "code",
      "source": [
        "dfVentas['FORECAST'].unique()"
      ],
      "metadata": {
        "colab": {
          "base_uri": "https://localhost:8080/"
        },
        "id": "q2kCTeI-o48E",
        "outputId": "51ddfbed-7f51-4127-efd3-512f2cae24aa"
      },
      "execution_count": null,
      "outputs": [
        {
          "output_type": "execute_result",
          "data": {
            "text/plain": [
              "array(['AI_P02F', 'AI_P10F', 'AI_P09F', 'AI_P03F', 'AI_PF', 'AI_P11F',\n",
              "       'AI_P06F', 'AI_P05F', 'AI_P07F', 'AI_P12F', 'AI_P08F', 'AI_P04F',\n",
              "       nan], dtype=object)"
            ]
          },
          "metadata": {},
          "execution_count": 54
        }
      ]
    },
    {
      "cell_type": "markdown",
      "source": [
        "## HORIZONTE DE PREVISIÓN"
      ],
      "metadata": {
        "id": "D5y5Oa6xGVHR"
      }
    },
    {
      "cell_type": "markdown",
      "source": [
        "A continuación, se procede a calcular el horizonte de previsión, que es el período de tiempo en el futuro para el cual se realizan predicciones o proyecciones en un modelo de pronóstico."
      ],
      "metadata": {
        "id": "CWuAIA_7N8cD"
      }
    },
    {
      "cell_type": "markdown",
      "source": [
        "Se calcula el primer ejemplo de horizonte de previsión para las predicciones hechas en el mes 7 del año 2023 en la marca Pepsi Regular y en Dinamarca."
      ],
      "metadata": {
        "id": "QhQ24BQVOXqn"
      }
    },
    {
      "cell_type": "code",
      "source": [
        "horizonte_prediccion = dfVentas[(dfVentas['FORECAST'] == 'AI_P08F') & (dfVentas['FORECAST_YEAR'] == 2023) & (dfVentas['COUNTRY'] == 'Denmark') & (dfVentas['SUBBRAND'] == 'Pepsi Regular (L3)') & (dfVentas['SCENARIO'] == 'AI_forecast')].sort_values(by=['YEAR', 'MONTH'])\n",
        "horizonte_prediccion.head(26)"
      ],
      "metadata": {
        "colab": {
          "base_uri": "https://localhost:8080/",
          "height": 864
        },
        "id": "JaQVWzaQM9bR",
        "outputId": "a55f92d2-6aae-43b0-9448-950658e4ebe3"
      },
      "execution_count": null,
      "outputs": [
        {
          "output_type": "execute_result",
          "data": {
            "text/plain": [
              "       COUNTRY            SUBBRAND  YEAR  MONTH     SCENARIO FORECAST  \\\n",
              "3811   Denmark  Pepsi Regular (L3)  2023      8  AI_forecast  AI_P08F   \n",
              "17748  Denmark  Pepsi Regular (L3)  2023      8  AI_forecast  AI_P08F   \n",
              "13732  Denmark  Pepsi Regular (L3)  2023      9  AI_forecast  AI_P08F   \n",
              "14990  Denmark  Pepsi Regular (L3)  2023      9  AI_forecast  AI_P08F   \n",
              "8145   Denmark  Pepsi Regular (L3)  2023     10  AI_forecast  AI_P08F   \n",
              "10444  Denmark  Pepsi Regular (L3)  2023     10  AI_forecast  AI_P08F   \n",
              "1813   Denmark  Pepsi Regular (L3)  2023     11  AI_forecast  AI_P08F   \n",
              "9806   Denmark  Pepsi Regular (L3)  2023     11  AI_forecast  AI_P08F   \n",
              "5690   Denmark  Pepsi Regular (L3)  2023     12  AI_forecast  AI_P08F   \n",
              "15594  Denmark  Pepsi Regular (L3)  2023     12  AI_forecast  AI_P08F   \n",
              "1115   Denmark  Pepsi Regular (L3)  2024      1  AI_forecast  AI_P08F   \n",
              "17871  Denmark  Pepsi Regular (L3)  2024      1  AI_forecast  AI_P08F   \n",
              "9066   Denmark  Pepsi Regular (L3)  2024      2  AI_forecast  AI_P08F   \n",
              "11969  Denmark  Pepsi Regular (L3)  2024      2  AI_forecast  AI_P08F   \n",
              "2332   Denmark  Pepsi Regular (L3)  2024      3  AI_forecast  AI_P08F   \n",
              "4495   Denmark  Pepsi Regular (L3)  2024      3  AI_forecast  AI_P08F   \n",
              "3997   Denmark  Pepsi Regular (L3)  2024      4  AI_forecast  AI_P08F   \n",
              "11717  Denmark  Pepsi Regular (L3)  2024      4  AI_forecast  AI_P08F   \n",
              "7183   Denmark  Pepsi Regular (L3)  2024      5  AI_forecast  AI_P08F   \n",
              "9195   Denmark  Pepsi Regular (L3)  2024      5  AI_forecast  AI_P08F   \n",
              "6672   Denmark  Pepsi Regular (L3)  2024      6  AI_forecast  AI_P08F   \n",
              "9726   Denmark  Pepsi Regular (L3)  2024      6  AI_forecast  AI_P08F   \n",
              "6358   Denmark  Pepsi Regular (L3)  2024      7  AI_forecast  AI_P08F   \n",
              "7359   Denmark  Pepsi Regular (L3)  2024      7  AI_forecast  AI_P08F   \n",
              "9491   Denmark  Pepsi Regular (L3)  2024      8  AI_forecast  AI_P08F   \n",
              "14342  Denmark  Pepsi Regular (L3)  2024      8  AI_forecast  AI_P08F   \n",
              "\n",
              "       FORECAST_YEAR         AMOUNT  \n",
              "3811            2023  251340.631789  \n",
              "17748           2023  300056.654872  \n",
              "13732           2023  223857.384404  \n",
              "14990           2023  263495.455502  \n",
              "8145            2023  196574.598740  \n",
              "10444           2023  201261.846779  \n",
              "1813            2023  219587.320243  \n",
              "9806            2023  219438.373663  \n",
              "5690            2023  271617.496365  \n",
              "15594           2023  265682.579106  \n",
              "1115            2023  194873.526060  \n",
              "17871           2023  206086.836885  \n",
              "9066            2023  172056.589869  \n",
              "11969           2023  171776.015256  \n",
              "2332            2023  211605.430543  \n",
              "4495            2023  206037.044196  \n",
              "3997            2023  248218.214268  \n",
              "11717           2023  231348.235233  \n",
              "7183            2023  257468.922005  \n",
              "9195            2023  260529.227114  \n",
              "6672            2023  230678.982234  \n",
              "9726            2023  220660.370117  \n",
              "6358            2023  257709.256717  \n",
              "7359            2023  270953.459295  \n",
              "9491            2023  261849.568556  \n",
              "14342           2023  266970.238468  "
            ],
            "text/html": [
              "\n",
              "  <div id=\"df-e0701087-7024-40b1-8a36-5734c2c5d22f\" class=\"colab-df-container\">\n",
              "    <div>\n",
              "<style scoped>\n",
              "    .dataframe tbody tr th:only-of-type {\n",
              "        vertical-align: middle;\n",
              "    }\n",
              "\n",
              "    .dataframe tbody tr th {\n",
              "        vertical-align: top;\n",
              "    }\n",
              "\n",
              "    .dataframe thead th {\n",
              "        text-align: right;\n",
              "    }\n",
              "</style>\n",
              "<table border=\"1\" class=\"dataframe\">\n",
              "  <thead>\n",
              "    <tr style=\"text-align: right;\">\n",
              "      <th></th>\n",
              "      <th>COUNTRY</th>\n",
              "      <th>SUBBRAND</th>\n",
              "      <th>YEAR</th>\n",
              "      <th>MONTH</th>\n",
              "      <th>SCENARIO</th>\n",
              "      <th>FORECAST</th>\n",
              "      <th>FORECAST_YEAR</th>\n",
              "      <th>AMOUNT</th>\n",
              "    </tr>\n",
              "  </thead>\n",
              "  <tbody>\n",
              "    <tr>\n",
              "      <th>3811</th>\n",
              "      <td>Denmark</td>\n",
              "      <td>Pepsi Regular (L3)</td>\n",
              "      <td>2023</td>\n",
              "      <td>8</td>\n",
              "      <td>AI_forecast</td>\n",
              "      <td>AI_P08F</td>\n",
              "      <td>2023</td>\n",
              "      <td>251340.631789</td>\n",
              "    </tr>\n",
              "    <tr>\n",
              "      <th>17748</th>\n",
              "      <td>Denmark</td>\n",
              "      <td>Pepsi Regular (L3)</td>\n",
              "      <td>2023</td>\n",
              "      <td>8</td>\n",
              "      <td>AI_forecast</td>\n",
              "      <td>AI_P08F</td>\n",
              "      <td>2023</td>\n",
              "      <td>300056.654872</td>\n",
              "    </tr>\n",
              "    <tr>\n",
              "      <th>13732</th>\n",
              "      <td>Denmark</td>\n",
              "      <td>Pepsi Regular (L3)</td>\n",
              "      <td>2023</td>\n",
              "      <td>9</td>\n",
              "      <td>AI_forecast</td>\n",
              "      <td>AI_P08F</td>\n",
              "      <td>2023</td>\n",
              "      <td>223857.384404</td>\n",
              "    </tr>\n",
              "    <tr>\n",
              "      <th>14990</th>\n",
              "      <td>Denmark</td>\n",
              "      <td>Pepsi Regular (L3)</td>\n",
              "      <td>2023</td>\n",
              "      <td>9</td>\n",
              "      <td>AI_forecast</td>\n",
              "      <td>AI_P08F</td>\n",
              "      <td>2023</td>\n",
              "      <td>263495.455502</td>\n",
              "    </tr>\n",
              "    <tr>\n",
              "      <th>8145</th>\n",
              "      <td>Denmark</td>\n",
              "      <td>Pepsi Regular (L3)</td>\n",
              "      <td>2023</td>\n",
              "      <td>10</td>\n",
              "      <td>AI_forecast</td>\n",
              "      <td>AI_P08F</td>\n",
              "      <td>2023</td>\n",
              "      <td>196574.598740</td>\n",
              "    </tr>\n",
              "    <tr>\n",
              "      <th>10444</th>\n",
              "      <td>Denmark</td>\n",
              "      <td>Pepsi Regular (L3)</td>\n",
              "      <td>2023</td>\n",
              "      <td>10</td>\n",
              "      <td>AI_forecast</td>\n",
              "      <td>AI_P08F</td>\n",
              "      <td>2023</td>\n",
              "      <td>201261.846779</td>\n",
              "    </tr>\n",
              "    <tr>\n",
              "      <th>1813</th>\n",
              "      <td>Denmark</td>\n",
              "      <td>Pepsi Regular (L3)</td>\n",
              "      <td>2023</td>\n",
              "      <td>11</td>\n",
              "      <td>AI_forecast</td>\n",
              "      <td>AI_P08F</td>\n",
              "      <td>2023</td>\n",
              "      <td>219587.320243</td>\n",
              "    </tr>\n",
              "    <tr>\n",
              "      <th>9806</th>\n",
              "      <td>Denmark</td>\n",
              "      <td>Pepsi Regular (L3)</td>\n",
              "      <td>2023</td>\n",
              "      <td>11</td>\n",
              "      <td>AI_forecast</td>\n",
              "      <td>AI_P08F</td>\n",
              "      <td>2023</td>\n",
              "      <td>219438.373663</td>\n",
              "    </tr>\n",
              "    <tr>\n",
              "      <th>5690</th>\n",
              "      <td>Denmark</td>\n",
              "      <td>Pepsi Regular (L3)</td>\n",
              "      <td>2023</td>\n",
              "      <td>12</td>\n",
              "      <td>AI_forecast</td>\n",
              "      <td>AI_P08F</td>\n",
              "      <td>2023</td>\n",
              "      <td>271617.496365</td>\n",
              "    </tr>\n",
              "    <tr>\n",
              "      <th>15594</th>\n",
              "      <td>Denmark</td>\n",
              "      <td>Pepsi Regular (L3)</td>\n",
              "      <td>2023</td>\n",
              "      <td>12</td>\n",
              "      <td>AI_forecast</td>\n",
              "      <td>AI_P08F</td>\n",
              "      <td>2023</td>\n",
              "      <td>265682.579106</td>\n",
              "    </tr>\n",
              "    <tr>\n",
              "      <th>1115</th>\n",
              "      <td>Denmark</td>\n",
              "      <td>Pepsi Regular (L3)</td>\n",
              "      <td>2024</td>\n",
              "      <td>1</td>\n",
              "      <td>AI_forecast</td>\n",
              "      <td>AI_P08F</td>\n",
              "      <td>2023</td>\n",
              "      <td>194873.526060</td>\n",
              "    </tr>\n",
              "    <tr>\n",
              "      <th>17871</th>\n",
              "      <td>Denmark</td>\n",
              "      <td>Pepsi Regular (L3)</td>\n",
              "      <td>2024</td>\n",
              "      <td>1</td>\n",
              "      <td>AI_forecast</td>\n",
              "      <td>AI_P08F</td>\n",
              "      <td>2023</td>\n",
              "      <td>206086.836885</td>\n",
              "    </tr>\n",
              "    <tr>\n",
              "      <th>9066</th>\n",
              "      <td>Denmark</td>\n",
              "      <td>Pepsi Regular (L3)</td>\n",
              "      <td>2024</td>\n",
              "      <td>2</td>\n",
              "      <td>AI_forecast</td>\n",
              "      <td>AI_P08F</td>\n",
              "      <td>2023</td>\n",
              "      <td>172056.589869</td>\n",
              "    </tr>\n",
              "    <tr>\n",
              "      <th>11969</th>\n",
              "      <td>Denmark</td>\n",
              "      <td>Pepsi Regular (L3)</td>\n",
              "      <td>2024</td>\n",
              "      <td>2</td>\n",
              "      <td>AI_forecast</td>\n",
              "      <td>AI_P08F</td>\n",
              "      <td>2023</td>\n",
              "      <td>171776.015256</td>\n",
              "    </tr>\n",
              "    <tr>\n",
              "      <th>2332</th>\n",
              "      <td>Denmark</td>\n",
              "      <td>Pepsi Regular (L3)</td>\n",
              "      <td>2024</td>\n",
              "      <td>3</td>\n",
              "      <td>AI_forecast</td>\n",
              "      <td>AI_P08F</td>\n",
              "      <td>2023</td>\n",
              "      <td>211605.430543</td>\n",
              "    </tr>\n",
              "    <tr>\n",
              "      <th>4495</th>\n",
              "      <td>Denmark</td>\n",
              "      <td>Pepsi Regular (L3)</td>\n",
              "      <td>2024</td>\n",
              "      <td>3</td>\n",
              "      <td>AI_forecast</td>\n",
              "      <td>AI_P08F</td>\n",
              "      <td>2023</td>\n",
              "      <td>206037.044196</td>\n",
              "    </tr>\n",
              "    <tr>\n",
              "      <th>3997</th>\n",
              "      <td>Denmark</td>\n",
              "      <td>Pepsi Regular (L3)</td>\n",
              "      <td>2024</td>\n",
              "      <td>4</td>\n",
              "      <td>AI_forecast</td>\n",
              "      <td>AI_P08F</td>\n",
              "      <td>2023</td>\n",
              "      <td>248218.214268</td>\n",
              "    </tr>\n",
              "    <tr>\n",
              "      <th>11717</th>\n",
              "      <td>Denmark</td>\n",
              "      <td>Pepsi Regular (L3)</td>\n",
              "      <td>2024</td>\n",
              "      <td>4</td>\n",
              "      <td>AI_forecast</td>\n",
              "      <td>AI_P08F</td>\n",
              "      <td>2023</td>\n",
              "      <td>231348.235233</td>\n",
              "    </tr>\n",
              "    <tr>\n",
              "      <th>7183</th>\n",
              "      <td>Denmark</td>\n",
              "      <td>Pepsi Regular (L3)</td>\n",
              "      <td>2024</td>\n",
              "      <td>5</td>\n",
              "      <td>AI_forecast</td>\n",
              "      <td>AI_P08F</td>\n",
              "      <td>2023</td>\n",
              "      <td>257468.922005</td>\n",
              "    </tr>\n",
              "    <tr>\n",
              "      <th>9195</th>\n",
              "      <td>Denmark</td>\n",
              "      <td>Pepsi Regular (L3)</td>\n",
              "      <td>2024</td>\n",
              "      <td>5</td>\n",
              "      <td>AI_forecast</td>\n",
              "      <td>AI_P08F</td>\n",
              "      <td>2023</td>\n",
              "      <td>260529.227114</td>\n",
              "    </tr>\n",
              "    <tr>\n",
              "      <th>6672</th>\n",
              "      <td>Denmark</td>\n",
              "      <td>Pepsi Regular (L3)</td>\n",
              "      <td>2024</td>\n",
              "      <td>6</td>\n",
              "      <td>AI_forecast</td>\n",
              "      <td>AI_P08F</td>\n",
              "      <td>2023</td>\n",
              "      <td>230678.982234</td>\n",
              "    </tr>\n",
              "    <tr>\n",
              "      <th>9726</th>\n",
              "      <td>Denmark</td>\n",
              "      <td>Pepsi Regular (L3)</td>\n",
              "      <td>2024</td>\n",
              "      <td>6</td>\n",
              "      <td>AI_forecast</td>\n",
              "      <td>AI_P08F</td>\n",
              "      <td>2023</td>\n",
              "      <td>220660.370117</td>\n",
              "    </tr>\n",
              "    <tr>\n",
              "      <th>6358</th>\n",
              "      <td>Denmark</td>\n",
              "      <td>Pepsi Regular (L3)</td>\n",
              "      <td>2024</td>\n",
              "      <td>7</td>\n",
              "      <td>AI_forecast</td>\n",
              "      <td>AI_P08F</td>\n",
              "      <td>2023</td>\n",
              "      <td>257709.256717</td>\n",
              "    </tr>\n",
              "    <tr>\n",
              "      <th>7359</th>\n",
              "      <td>Denmark</td>\n",
              "      <td>Pepsi Regular (L3)</td>\n",
              "      <td>2024</td>\n",
              "      <td>7</td>\n",
              "      <td>AI_forecast</td>\n",
              "      <td>AI_P08F</td>\n",
              "      <td>2023</td>\n",
              "      <td>270953.459295</td>\n",
              "    </tr>\n",
              "    <tr>\n",
              "      <th>9491</th>\n",
              "      <td>Denmark</td>\n",
              "      <td>Pepsi Regular (L3)</td>\n",
              "      <td>2024</td>\n",
              "      <td>8</td>\n",
              "      <td>AI_forecast</td>\n",
              "      <td>AI_P08F</td>\n",
              "      <td>2023</td>\n",
              "      <td>261849.568556</td>\n",
              "    </tr>\n",
              "    <tr>\n",
              "      <th>14342</th>\n",
              "      <td>Denmark</td>\n",
              "      <td>Pepsi Regular (L3)</td>\n",
              "      <td>2024</td>\n",
              "      <td>8</td>\n",
              "      <td>AI_forecast</td>\n",
              "      <td>AI_P08F</td>\n",
              "      <td>2023</td>\n",
              "      <td>266970.238468</td>\n",
              "    </tr>\n",
              "  </tbody>\n",
              "</table>\n",
              "</div>\n",
              "    <div class=\"colab-df-buttons\">\n",
              "\n",
              "  <div class=\"colab-df-container\">\n",
              "    <button class=\"colab-df-convert\" onclick=\"convertToInteractive('df-e0701087-7024-40b1-8a36-5734c2c5d22f')\"\n",
              "            title=\"Convert this dataframe to an interactive table.\"\n",
              "            style=\"display:none;\">\n",
              "\n",
              "  <svg xmlns=\"http://www.w3.org/2000/svg\" height=\"24px\" viewBox=\"0 -960 960 960\">\n",
              "    <path d=\"M120-120v-720h720v720H120Zm60-500h600v-160H180v160Zm220 220h160v-160H400v160Zm0 220h160v-160H400v160ZM180-400h160v-160H180v160Zm440 0h160v-160H620v160ZM180-180h160v-160H180v160Zm440 0h160v-160H620v160Z\"/>\n",
              "  </svg>\n",
              "    </button>\n",
              "\n",
              "  <style>\n",
              "    .colab-df-container {\n",
              "      display:flex;\n",
              "      gap: 12px;\n",
              "    }\n",
              "\n",
              "    .colab-df-convert {\n",
              "      background-color: #E8F0FE;\n",
              "      border: none;\n",
              "      border-radius: 50%;\n",
              "      cursor: pointer;\n",
              "      display: none;\n",
              "      fill: #1967D2;\n",
              "      height: 32px;\n",
              "      padding: 0 0 0 0;\n",
              "      width: 32px;\n",
              "    }\n",
              "\n",
              "    .colab-df-convert:hover {\n",
              "      background-color: #E2EBFA;\n",
              "      box-shadow: 0px 1px 2px rgba(60, 64, 67, 0.3), 0px 1px 3px 1px rgba(60, 64, 67, 0.15);\n",
              "      fill: #174EA6;\n",
              "    }\n",
              "\n",
              "    .colab-df-buttons div {\n",
              "      margin-bottom: 4px;\n",
              "    }\n",
              "\n",
              "    [theme=dark] .colab-df-convert {\n",
              "      background-color: #3B4455;\n",
              "      fill: #D2E3FC;\n",
              "    }\n",
              "\n",
              "    [theme=dark] .colab-df-convert:hover {\n",
              "      background-color: #434B5C;\n",
              "      box-shadow: 0px 1px 3px 1px rgba(0, 0, 0, 0.15);\n",
              "      filter: drop-shadow(0px 1px 2px rgba(0, 0, 0, 0.3));\n",
              "      fill: #FFFFFF;\n",
              "    }\n",
              "  </style>\n",
              "\n",
              "    <script>\n",
              "      const buttonEl =\n",
              "        document.querySelector('#df-e0701087-7024-40b1-8a36-5734c2c5d22f button.colab-df-convert');\n",
              "      buttonEl.style.display =\n",
              "        google.colab.kernel.accessAllowed ? 'block' : 'none';\n",
              "\n",
              "      async function convertToInteractive(key) {\n",
              "        const element = document.querySelector('#df-e0701087-7024-40b1-8a36-5734c2c5d22f');\n",
              "        const dataTable =\n",
              "          await google.colab.kernel.invokeFunction('convertToInteractive',\n",
              "                                                    [key], {});\n",
              "        if (!dataTable) return;\n",
              "\n",
              "        const docLinkHtml = 'Like what you see? Visit the ' +\n",
              "          '<a target=\"_blank\" href=https://colab.research.google.com/notebooks/data_table.ipynb>data table notebook</a>'\n",
              "          + ' to learn more about interactive tables.';\n",
              "        element.innerHTML = '';\n",
              "        dataTable['output_type'] = 'display_data';\n",
              "        await google.colab.output.renderOutput(dataTable, element);\n",
              "        const docLink = document.createElement('div');\n",
              "        docLink.innerHTML = docLinkHtml;\n",
              "        element.appendChild(docLink);\n",
              "      }\n",
              "    </script>\n",
              "  </div>\n",
              "\n",
              "\n",
              "<div id=\"df-dd96896e-123b-4d1a-a584-c67c7f20e5c9\">\n",
              "  <button class=\"colab-df-quickchart\" onclick=\"quickchart('df-dd96896e-123b-4d1a-a584-c67c7f20e5c9')\"\n",
              "            title=\"Suggest charts\"\n",
              "            style=\"display:none;\">\n",
              "\n",
              "<svg xmlns=\"http://www.w3.org/2000/svg\" height=\"24px\"viewBox=\"0 0 24 24\"\n",
              "     width=\"24px\">\n",
              "    <g>\n",
              "        <path d=\"M19 3H5c-1.1 0-2 .9-2 2v14c0 1.1.9 2 2 2h14c1.1 0 2-.9 2-2V5c0-1.1-.9-2-2-2zM9 17H7v-7h2v7zm4 0h-2V7h2v10zm4 0h-2v-4h2v4z\"/>\n",
              "    </g>\n",
              "</svg>\n",
              "  </button>\n",
              "\n",
              "<style>\n",
              "  .colab-df-quickchart {\n",
              "      --bg-color: #E8F0FE;\n",
              "      --fill-color: #1967D2;\n",
              "      --hover-bg-color: #E2EBFA;\n",
              "      --hover-fill-color: #174EA6;\n",
              "      --disabled-fill-color: #AAA;\n",
              "      --disabled-bg-color: #DDD;\n",
              "  }\n",
              "\n",
              "  [theme=dark] .colab-df-quickchart {\n",
              "      --bg-color: #3B4455;\n",
              "      --fill-color: #D2E3FC;\n",
              "      --hover-bg-color: #434B5C;\n",
              "      --hover-fill-color: #FFFFFF;\n",
              "      --disabled-bg-color: #3B4455;\n",
              "      --disabled-fill-color: #666;\n",
              "  }\n",
              "\n",
              "  .colab-df-quickchart {\n",
              "    background-color: var(--bg-color);\n",
              "    border: none;\n",
              "    border-radius: 50%;\n",
              "    cursor: pointer;\n",
              "    display: none;\n",
              "    fill: var(--fill-color);\n",
              "    height: 32px;\n",
              "    padding: 0;\n",
              "    width: 32px;\n",
              "  }\n",
              "\n",
              "  .colab-df-quickchart:hover {\n",
              "    background-color: var(--hover-bg-color);\n",
              "    box-shadow: 0 1px 2px rgba(60, 64, 67, 0.3), 0 1px 3px 1px rgba(60, 64, 67, 0.15);\n",
              "    fill: var(--button-hover-fill-color);\n",
              "  }\n",
              "\n",
              "  .colab-df-quickchart-complete:disabled,\n",
              "  .colab-df-quickchart-complete:disabled:hover {\n",
              "    background-color: var(--disabled-bg-color);\n",
              "    fill: var(--disabled-fill-color);\n",
              "    box-shadow: none;\n",
              "  }\n",
              "\n",
              "  .colab-df-spinner {\n",
              "    border: 2px solid var(--fill-color);\n",
              "    border-color: transparent;\n",
              "    border-bottom-color: var(--fill-color);\n",
              "    animation:\n",
              "      spin 1s steps(1) infinite;\n",
              "  }\n",
              "\n",
              "  @keyframes spin {\n",
              "    0% {\n",
              "      border-color: transparent;\n",
              "      border-bottom-color: var(--fill-color);\n",
              "      border-left-color: var(--fill-color);\n",
              "    }\n",
              "    20% {\n",
              "      border-color: transparent;\n",
              "      border-left-color: var(--fill-color);\n",
              "      border-top-color: var(--fill-color);\n",
              "    }\n",
              "    30% {\n",
              "      border-color: transparent;\n",
              "      border-left-color: var(--fill-color);\n",
              "      border-top-color: var(--fill-color);\n",
              "      border-right-color: var(--fill-color);\n",
              "    }\n",
              "    40% {\n",
              "      border-color: transparent;\n",
              "      border-right-color: var(--fill-color);\n",
              "      border-top-color: var(--fill-color);\n",
              "    }\n",
              "    60% {\n",
              "      border-color: transparent;\n",
              "      border-right-color: var(--fill-color);\n",
              "    }\n",
              "    80% {\n",
              "      border-color: transparent;\n",
              "      border-right-color: var(--fill-color);\n",
              "      border-bottom-color: var(--fill-color);\n",
              "    }\n",
              "    90% {\n",
              "      border-color: transparent;\n",
              "      border-bottom-color: var(--fill-color);\n",
              "    }\n",
              "  }\n",
              "</style>\n",
              "\n",
              "  <script>\n",
              "    async function quickchart(key) {\n",
              "      const quickchartButtonEl =\n",
              "        document.querySelector('#' + key + ' button');\n",
              "      quickchartButtonEl.disabled = true;  // To prevent multiple clicks.\n",
              "      quickchartButtonEl.classList.add('colab-df-spinner');\n",
              "      try {\n",
              "        const charts = await google.colab.kernel.invokeFunction(\n",
              "            'suggestCharts', [key], {});\n",
              "      } catch (error) {\n",
              "        console.error('Error during call to suggestCharts:', error);\n",
              "      }\n",
              "      quickchartButtonEl.classList.remove('colab-df-spinner');\n",
              "      quickchartButtonEl.classList.add('colab-df-quickchart-complete');\n",
              "    }\n",
              "    (() => {\n",
              "      let quickchartButtonEl =\n",
              "        document.querySelector('#df-dd96896e-123b-4d1a-a584-c67c7f20e5c9 button');\n",
              "      quickchartButtonEl.style.display =\n",
              "        google.colab.kernel.accessAllowed ? 'block' : 'none';\n",
              "    })();\n",
              "  </script>\n",
              "</div>\n",
              "\n",
              "    </div>\n",
              "  </div>\n"
            ],
            "application/vnd.google.colaboratory.intrinsic+json": {
              "type": "dataframe",
              "variable_name": "horizonte_prediccion",
              "summary": "{\n  \"name\": \"horizonte_prediccion\",\n  \"rows\": 36,\n  \"fields\": [\n    {\n      \"column\": \"COUNTRY\",\n      \"properties\": {\n        \"dtype\": \"category\",\n        \"num_unique_values\": 1,\n        \"samples\": [\n          \"Denmark\"\n        ],\n        \"semantic_type\": \"\",\n        \"description\": \"\"\n      }\n    },\n    {\n      \"column\": \"SUBBRAND\",\n      \"properties\": {\n        \"dtype\": \"category\",\n        \"num_unique_values\": 1,\n        \"samples\": [\n          \"Pepsi Regular (L3)\"\n        ],\n        \"semantic_type\": \"\",\n        \"description\": \"\"\n      }\n    },\n    {\n      \"column\": \"YEAR\",\n      \"properties\": {\n        \"dtype\": \"number\",\n        \"std\": 0,\n        \"min\": 2023,\n        \"max\": 2025,\n        \"num_unique_values\": 3,\n        \"samples\": [\n          2023\n        ],\n        \"semantic_type\": \"\",\n        \"description\": \"\"\n      }\n    },\n    {\n      \"column\": \"MONTH\",\n      \"properties\": {\n        \"dtype\": \"number\",\n        \"std\": 3,\n        \"min\": 1,\n        \"max\": 12,\n        \"num_unique_values\": 12,\n        \"samples\": [\n          6\n        ],\n        \"semantic_type\": \"\",\n        \"description\": \"\"\n      }\n    },\n    {\n      \"column\": \"SCENARIO\",\n      \"properties\": {\n        \"dtype\": \"category\",\n        \"num_unique_values\": 1,\n        \"samples\": [\n          \"AI_forecast\"\n        ],\n        \"semantic_type\": \"\",\n        \"description\": \"\"\n      }\n    },\n    {\n      \"column\": \"FORECAST\",\n      \"properties\": {\n        \"dtype\": \"category\",\n        \"num_unique_values\": 1,\n        \"samples\": [\n          \"AI_P08F\"\n        ],\n        \"semantic_type\": \"\",\n        \"description\": \"\"\n      }\n    },\n    {\n      \"column\": \"FORECAST_YEAR\",\n      \"properties\": {\n        \"dtype\": \"Int64\",\n        \"num_unique_values\": 1,\n        \"samples\": [\n          2023\n        ],\n        \"semantic_type\": \"\",\n        \"description\": \"\"\n      }\n    },\n    {\n      \"column\": \"AMOUNT\",\n      \"properties\": {\n        \"dtype\": \"number\",\n        \"std\": 34700.67501026121,\n        \"min\": 154523.93036832273,\n        \"max\": 300056.65487235854,\n        \"num_unique_values\": 36,\n        \"samples\": [\n          184697.41932302865\n        ],\n        \"semantic_type\": \"\",\n        \"description\": \"\"\n      }\n    }\n  ]\n}"
            }
          },
          "metadata": {},
          "execution_count": 55
        }
      ]
    },
    {
      "cell_type": "code",
      "source": [
        "print(len(horizonte_prediccion))"
      ],
      "metadata": {
        "colab": {
          "base_uri": "https://localhost:8080/"
        },
        "id": "q3bIZCYVs_Nt",
        "outputId": "a8f5230f-b096-46fd-b035-e0188c2ddf97"
      },
      "execution_count": null,
      "outputs": [
        {
          "output_type": "stream",
          "name": "stdout",
          "text": [
            "36\n"
          ]
        }
      ]
    },
    {
      "cell_type": "markdown",
      "source": [
        "Aunque haya 36 registros en total para ciertas características, el horizonte de previsión se define por los períodos únicos (combinaciones de YEAR y MONTH) para los cuales se han hecho predicciones. Si hay dos predicciones por mes, no significa que el horizonte sea de 36 meses, sino que se necesita contar los períodos únicos."
      ],
      "metadata": {
        "id": "_EhK4oWlOyUp"
      }
    },
    {
      "cell_type": "markdown",
      "source": [
        "Se calcula a continuación todos los horizontes sin tener en cuenta que sean únicos."
      ],
      "metadata": {
        "id": "mT7pyoWcP_yx"
      }
    },
    {
      "cell_type": "code",
      "source": [
        "conteoDUPLICTS = dfVentas.groupby(['COUNTRY', 'SUBBRAND', 'FORECAST', 'FORECAST_YEAR']).size().value_counts().reset_index()\n",
        "print(conteoDUPLICTS)"
      ],
      "metadata": {
        "colab": {
          "base_uri": "https://localhost:8080/"
        },
        "id": "6HPl4ZTXvlZN",
        "outputId": "82e12936-677e-4e37-a515-193eab5c027a"
      },
      "execution_count": null,
      "outputs": [
        {
          "output_type": "stream",
          "name": "stdout",
          "text": [
            "    index  count\n",
            "0      18    345\n",
            "1      36    103\n",
            "2      54     34\n",
            "3      72     30\n",
            "4      42     27\n",
            "5      60     11\n",
            "6     180      5\n",
            "7      90      2\n",
            "8      59      2\n",
            "9      58      2\n",
            "10     27      1\n",
            "11     25      1\n",
            "12     29      1\n"
          ]
        }
      ]
    },
    {
      "cell_type": "markdown",
      "source": [
        "Una vez tenemos todos, pasamos a eliminar los registros duplicados del subset de variables 'COUNTRY', 'SUBBRAND', 'FORECAST', 'FORECAST_YEAR', 'YEAR', 'MONTH' y luego se agrupa por país, marca, forecast y año de forecast.\n",
        "De esta manera, todos los horizontes de previsión deberían ser de 18."
      ],
      "metadata": {
        "id": "wDvsaRdQQGZp"
      }
    },
    {
      "cell_type": "code",
      "source": [
        "df_unicos = dfVentas.drop_duplicates(subset=['COUNTRY', 'SUBBRAND', 'FORECAST', 'FORECAST_YEAR', 'YEAR', 'MONTH'])\n",
        "conteo_unicos = df_unicos.groupby(['COUNTRY', 'SUBBRAND', 'FORECAST', 'FORECAST_YEAR']).size().value_counts().reset_index(name='NUMERO_REGISTROS_UNICOS')\n",
        "print(conteo_unicos)"
      ],
      "metadata": {
        "colab": {
          "base_uri": "https://localhost:8080/"
        },
        "id": "BvqfDN_kxWZR",
        "outputId": "0b3ffa4a-047b-4a0d-9759-fb4dcce1130b"
      },
      "execution_count": null,
      "outputs": [
        {
          "output_type": "stream",
          "name": "stdout",
          "text": [
            "   index  NUMERO_REGISTROS_UNICOS\n",
            "0     18                      564\n"
          ]
        }
      ]
    },
    {
      "cell_type": "markdown",
      "source": [
        "## PERIODO"
      ],
      "metadata": {
        "id": "gqBIgzyQCYry"
      }
    },
    {
      "cell_type": "markdown",
      "source": [
        "Se crea una nueva variable llamada PERIODO que es la concatenación de YEAR y MONTH para que resulte más fácil la implementación de estas variables en los gráficos."
      ],
      "metadata": {
        "id": "JRaWLZFCQ5I1"
      }
    },
    {
      "cell_type": "code",
      "source": [
        "dfVentas.loc[:, 'PERIODO'] = pd.to_datetime(dfVentas['YEAR'].astype(str) + '-' + dfVentas['MONTH'].astype(str).str.zfill(2))"
      ],
      "metadata": {
        "id": "xmI2xyHxCaQr"
      },
      "execution_count": null,
      "outputs": []
    },
    {
      "cell_type": "markdown",
      "source": [
        "## HISTÓRICO DE ACTUALS / FORECASTS"
      ],
      "metadata": {
        "id": "s3kWLQ8rH9qR"
      }
    },
    {
      "cell_type": "markdown",
      "source": [
        "Este gráfico muestra una información similar a la Distribución de los Productos previamente mostrada por un gráfico, pero divide la distribución de cada producto en actuals y forecasts."
      ],
      "metadata": {
        "id": "b87P6bytdLDF"
      }
    },
    {
      "cell_type": "code",
      "source": [
        "fig = px.bar(dfVentas.groupby(['SCENARIO', 'SUBBRAND']).size().reset_index(name='COUNT'), x='SUBBRAND', y='COUNT', color='SCENARIO',\n",
        "             title='Histórico de Registros por Sub-marca y Tipo de Escenario',\n",
        "             labels={'COUNT': 'Número de Registros', 'SUBBRAND': 'Sub-marca', 'SCENARIO': 'Tipo de Escenario'})\n",
        "\n",
        "fig.show()"
      ],
      "metadata": {
        "colab": {
          "base_uri": "https://localhost:8080/",
          "height": 542
        },
        "id": "WmN3cpBLDQk5",
        "outputId": "226714cd-42d6-4411-aaa7-82b36cb95c86"
      },
      "execution_count": null,
      "outputs": [
        {
          "output_type": "display_data",
          "data": {
            "text/html": [
              "<html>\n",
              "<head><meta charset=\"utf-8\" /></head>\n",
              "<body>\n",
              "    <div>            <script src=\"https://cdnjs.cloudflare.com/ajax/libs/mathjax/2.7.5/MathJax.js?config=TeX-AMS-MML_SVG\"></script><script type=\"text/javascript\">if (window.MathJax && window.MathJax.Hub && window.MathJax.Hub.Config) {window.MathJax.Hub.Config({SVG: {font: \"STIX-Web\"}});}</script>                <script type=\"text/javascript\">window.PlotlyConfig = {MathJaxConfig: 'local'};</script>\n",
              "        <script charset=\"utf-8\" src=\"https://cdn.plot.ly/plotly-2.35.2.min.js\"></script>                <div id=\"7520c24a-c473-4f11-a9f6-32fd62092fc9\" class=\"plotly-graph-div\" style=\"height:525px; width:100%;\"></div>            <script type=\"text/javascript\">                                    window.PLOTLYENV=window.PLOTLYENV || {};                                    if (document.getElementById(\"7520c24a-c473-4f11-a9f6-32fd62092fc9\")) {                    Plotly.newPlot(                        \"7520c24a-c473-4f11-a9f6-32fd62092fc9\",                        [{\"alignmentgroup\":\"True\",\"hovertemplate\":\"Tipo de Escenario=AI_forecast\\u003cbr\\u003eSub-marca=%{x}\\u003cbr\\u003eNúmero de Registros=%{y}\\u003cextra\\u003e\\u003c\\u002fextra\\u003e\",\"legendgroup\":\"AI_forecast\",\"marker\":{\"color\":\"#636efa\",\"pattern\":{\"shape\":\"\"}},\"name\":\"AI_forecast\",\"offsetgroup\":\"AI_forecast\",\"orientation\":\"v\",\"showlegend\":true,\"textposition\":\"auto\",\"x\":[\"7up (L3)\",\"7up Free (L3)\",\"Lipton (L3)\",\"Mountain Dew (L3)\",\"Pepsi Max (L3)\",\"Pepsi Regular (L3)\"],\"xaxis\":\"x\",\"y\":[2320,2136,2351,1542,5358,3396],\"yaxis\":\"y\",\"type\":\"bar\"},{\"alignmentgroup\":\"True\",\"hovertemplate\":\"Tipo de Escenario=actual\\u003cbr\\u003eSub-marca=%{x}\\u003cbr\\u003eNúmero de Registros=%{y}\\u003cextra\\u003e\\u003c\\u002fextra\\u003e\",\"legendgroup\":\"actual\",\"marker\":{\"color\":\"#EF553B\",\"pattern\":{\"shape\":\"\"}},\"name\":\"actual\",\"offsetgroup\":\"actual\",\"orientation\":\"v\",\"showlegend\":true,\"textposition\":\"auto\",\"x\":[\"7up (L3)\",\"7up Free (L3)\",\"Lipton (L3)\",\"Mountain Dew (L3)\",\"Pepsi Max (L3)\",\"Pepsi Regular (L3)\"],\"xaxis\":\"x\",\"y\":[150,147,133,100,180,180],\"yaxis\":\"y\",\"type\":\"bar\"}],                        {\"template\":{\"data\":{\"histogram2dcontour\":[{\"type\":\"histogram2dcontour\",\"colorbar\":{\"outlinewidth\":0,\"ticks\":\"\"},\"colorscale\":[[0.0,\"#0d0887\"],[0.1111111111111111,\"#46039f\"],[0.2222222222222222,\"#7201a8\"],[0.3333333333333333,\"#9c179e\"],[0.4444444444444444,\"#bd3786\"],[0.5555555555555556,\"#d8576b\"],[0.6666666666666666,\"#ed7953\"],[0.7777777777777778,\"#fb9f3a\"],[0.8888888888888888,\"#fdca26\"],[1.0,\"#f0f921\"]]}],\"choropleth\":[{\"type\":\"choropleth\",\"colorbar\":{\"outlinewidth\":0,\"ticks\":\"\"}}],\"histogram2d\":[{\"type\":\"histogram2d\",\"colorbar\":{\"outlinewidth\":0,\"ticks\":\"\"},\"colorscale\":[[0.0,\"#0d0887\"],[0.1111111111111111,\"#46039f\"],[0.2222222222222222,\"#7201a8\"],[0.3333333333333333,\"#9c179e\"],[0.4444444444444444,\"#bd3786\"],[0.5555555555555556,\"#d8576b\"],[0.6666666666666666,\"#ed7953\"],[0.7777777777777778,\"#fb9f3a\"],[0.8888888888888888,\"#fdca26\"],[1.0,\"#f0f921\"]]}],\"heatmap\":[{\"type\":\"heatmap\",\"colorbar\":{\"outlinewidth\":0,\"ticks\":\"\"},\"colorscale\":[[0.0,\"#0d0887\"],[0.1111111111111111,\"#46039f\"],[0.2222222222222222,\"#7201a8\"],[0.3333333333333333,\"#9c179e\"],[0.4444444444444444,\"#bd3786\"],[0.5555555555555556,\"#d8576b\"],[0.6666666666666666,\"#ed7953\"],[0.7777777777777778,\"#fb9f3a\"],[0.8888888888888888,\"#fdca26\"],[1.0,\"#f0f921\"]]}],\"heatmapgl\":[{\"type\":\"heatmapgl\",\"colorbar\":{\"outlinewidth\":0,\"ticks\":\"\"},\"colorscale\":[[0.0,\"#0d0887\"],[0.1111111111111111,\"#46039f\"],[0.2222222222222222,\"#7201a8\"],[0.3333333333333333,\"#9c179e\"],[0.4444444444444444,\"#bd3786\"],[0.5555555555555556,\"#d8576b\"],[0.6666666666666666,\"#ed7953\"],[0.7777777777777778,\"#fb9f3a\"],[0.8888888888888888,\"#fdca26\"],[1.0,\"#f0f921\"]]}],\"contourcarpet\":[{\"type\":\"contourcarpet\",\"colorbar\":{\"outlinewidth\":0,\"ticks\":\"\"}}],\"contour\":[{\"type\":\"contour\",\"colorbar\":{\"outlinewidth\":0,\"ticks\":\"\"},\"colorscale\":[[0.0,\"#0d0887\"],[0.1111111111111111,\"#46039f\"],[0.2222222222222222,\"#7201a8\"],[0.3333333333333333,\"#9c179e\"],[0.4444444444444444,\"#bd3786\"],[0.5555555555555556,\"#d8576b\"],[0.6666666666666666,\"#ed7953\"],[0.7777777777777778,\"#fb9f3a\"],[0.8888888888888888,\"#fdca26\"],[1.0,\"#f0f921\"]]}],\"surface\":[{\"type\":\"surface\",\"colorbar\":{\"outlinewidth\":0,\"ticks\":\"\"},\"colorscale\":[[0.0,\"#0d0887\"],[0.1111111111111111,\"#46039f\"],[0.2222222222222222,\"#7201a8\"],[0.3333333333333333,\"#9c179e\"],[0.4444444444444444,\"#bd3786\"],[0.5555555555555556,\"#d8576b\"],[0.6666666666666666,\"#ed7953\"],[0.7777777777777778,\"#fb9f3a\"],[0.8888888888888888,\"#fdca26\"],[1.0,\"#f0f921\"]]}],\"mesh3d\":[{\"type\":\"mesh3d\",\"colorbar\":{\"outlinewidth\":0,\"ticks\":\"\"}}],\"scatter\":[{\"fillpattern\":{\"fillmode\":\"overlay\",\"size\":10,\"solidity\":0.2},\"type\":\"scatter\"}],\"parcoords\":[{\"type\":\"parcoords\",\"line\":{\"colorbar\":{\"outlinewidth\":0,\"ticks\":\"\"}}}],\"scatterpolargl\":[{\"type\":\"scatterpolargl\",\"marker\":{\"colorbar\":{\"outlinewidth\":0,\"ticks\":\"\"}}}],\"bar\":[{\"error_x\":{\"color\":\"#2a3f5f\"},\"error_y\":{\"color\":\"#2a3f5f\"},\"marker\":{\"line\":{\"color\":\"#E5ECF6\",\"width\":0.5},\"pattern\":{\"fillmode\":\"overlay\",\"size\":10,\"solidity\":0.2}},\"type\":\"bar\"}],\"scattergeo\":[{\"type\":\"scattergeo\",\"marker\":{\"colorbar\":{\"outlinewidth\":0,\"ticks\":\"\"}}}],\"scatterpolar\":[{\"type\":\"scatterpolar\",\"marker\":{\"colorbar\":{\"outlinewidth\":0,\"ticks\":\"\"}}}],\"histogram\":[{\"marker\":{\"pattern\":{\"fillmode\":\"overlay\",\"size\":10,\"solidity\":0.2}},\"type\":\"histogram\"}],\"scattergl\":[{\"type\":\"scattergl\",\"marker\":{\"colorbar\":{\"outlinewidth\":0,\"ticks\":\"\"}}}],\"scatter3d\":[{\"type\":\"scatter3d\",\"line\":{\"colorbar\":{\"outlinewidth\":0,\"ticks\":\"\"}},\"marker\":{\"colorbar\":{\"outlinewidth\":0,\"ticks\":\"\"}}}],\"scattermapbox\":[{\"type\":\"scattermapbox\",\"marker\":{\"colorbar\":{\"outlinewidth\":0,\"ticks\":\"\"}}}],\"scatterternary\":[{\"type\":\"scatterternary\",\"marker\":{\"colorbar\":{\"outlinewidth\":0,\"ticks\":\"\"}}}],\"scattercarpet\":[{\"type\":\"scattercarpet\",\"marker\":{\"colorbar\":{\"outlinewidth\":0,\"ticks\":\"\"}}}],\"carpet\":[{\"aaxis\":{\"endlinecolor\":\"#2a3f5f\",\"gridcolor\":\"white\",\"linecolor\":\"white\",\"minorgridcolor\":\"white\",\"startlinecolor\":\"#2a3f5f\"},\"baxis\":{\"endlinecolor\":\"#2a3f5f\",\"gridcolor\":\"white\",\"linecolor\":\"white\",\"minorgridcolor\":\"white\",\"startlinecolor\":\"#2a3f5f\"},\"type\":\"carpet\"}],\"table\":[{\"cells\":{\"fill\":{\"color\":\"#EBF0F8\"},\"line\":{\"color\":\"white\"}},\"header\":{\"fill\":{\"color\":\"#C8D4E3\"},\"line\":{\"color\":\"white\"}},\"type\":\"table\"}],\"barpolar\":[{\"marker\":{\"line\":{\"color\":\"#E5ECF6\",\"width\":0.5},\"pattern\":{\"fillmode\":\"overlay\",\"size\":10,\"solidity\":0.2}},\"type\":\"barpolar\"}],\"pie\":[{\"automargin\":true,\"type\":\"pie\"}]},\"layout\":{\"autotypenumbers\":\"strict\",\"colorway\":[\"#636efa\",\"#EF553B\",\"#00cc96\",\"#ab63fa\",\"#FFA15A\",\"#19d3f3\",\"#FF6692\",\"#B6E880\",\"#FF97FF\",\"#FECB52\"],\"font\":{\"color\":\"#2a3f5f\"},\"hovermode\":\"closest\",\"hoverlabel\":{\"align\":\"left\"},\"paper_bgcolor\":\"white\",\"plot_bgcolor\":\"#E5ECF6\",\"polar\":{\"bgcolor\":\"#E5ECF6\",\"angularaxis\":{\"gridcolor\":\"white\",\"linecolor\":\"white\",\"ticks\":\"\"},\"radialaxis\":{\"gridcolor\":\"white\",\"linecolor\":\"white\",\"ticks\":\"\"}},\"ternary\":{\"bgcolor\":\"#E5ECF6\",\"aaxis\":{\"gridcolor\":\"white\",\"linecolor\":\"white\",\"ticks\":\"\"},\"baxis\":{\"gridcolor\":\"white\",\"linecolor\":\"white\",\"ticks\":\"\"},\"caxis\":{\"gridcolor\":\"white\",\"linecolor\":\"white\",\"ticks\":\"\"}},\"coloraxis\":{\"colorbar\":{\"outlinewidth\":0,\"ticks\":\"\"}},\"colorscale\":{\"sequential\":[[0.0,\"#0d0887\"],[0.1111111111111111,\"#46039f\"],[0.2222222222222222,\"#7201a8\"],[0.3333333333333333,\"#9c179e\"],[0.4444444444444444,\"#bd3786\"],[0.5555555555555556,\"#d8576b\"],[0.6666666666666666,\"#ed7953\"],[0.7777777777777778,\"#fb9f3a\"],[0.8888888888888888,\"#fdca26\"],[1.0,\"#f0f921\"]],\"sequentialminus\":[[0.0,\"#0d0887\"],[0.1111111111111111,\"#46039f\"],[0.2222222222222222,\"#7201a8\"],[0.3333333333333333,\"#9c179e\"],[0.4444444444444444,\"#bd3786\"],[0.5555555555555556,\"#d8576b\"],[0.6666666666666666,\"#ed7953\"],[0.7777777777777778,\"#fb9f3a\"],[0.8888888888888888,\"#fdca26\"],[1.0,\"#f0f921\"]],\"diverging\":[[0,\"#8e0152\"],[0.1,\"#c51b7d\"],[0.2,\"#de77ae\"],[0.3,\"#f1b6da\"],[0.4,\"#fde0ef\"],[0.5,\"#f7f7f7\"],[0.6,\"#e6f5d0\"],[0.7,\"#b8e186\"],[0.8,\"#7fbc41\"],[0.9,\"#4d9221\"],[1,\"#276419\"]]},\"xaxis\":{\"gridcolor\":\"white\",\"linecolor\":\"white\",\"ticks\":\"\",\"title\":{\"standoff\":15},\"zerolinecolor\":\"white\",\"automargin\":true,\"zerolinewidth\":2},\"yaxis\":{\"gridcolor\":\"white\",\"linecolor\":\"white\",\"ticks\":\"\",\"title\":{\"standoff\":15},\"zerolinecolor\":\"white\",\"automargin\":true,\"zerolinewidth\":2},\"scene\":{\"xaxis\":{\"backgroundcolor\":\"#E5ECF6\",\"gridcolor\":\"white\",\"linecolor\":\"white\",\"showbackground\":true,\"ticks\":\"\",\"zerolinecolor\":\"white\",\"gridwidth\":2},\"yaxis\":{\"backgroundcolor\":\"#E5ECF6\",\"gridcolor\":\"white\",\"linecolor\":\"white\",\"showbackground\":true,\"ticks\":\"\",\"zerolinecolor\":\"white\",\"gridwidth\":2},\"zaxis\":{\"backgroundcolor\":\"#E5ECF6\",\"gridcolor\":\"white\",\"linecolor\":\"white\",\"showbackground\":true,\"ticks\":\"\",\"zerolinecolor\":\"white\",\"gridwidth\":2}},\"shapedefaults\":{\"line\":{\"color\":\"#2a3f5f\"}},\"annotationdefaults\":{\"arrowcolor\":\"#2a3f5f\",\"arrowhead\":0,\"arrowwidth\":1},\"geo\":{\"bgcolor\":\"white\",\"landcolor\":\"#E5ECF6\",\"subunitcolor\":\"white\",\"showland\":true,\"showlakes\":true,\"lakecolor\":\"white\"},\"title\":{\"x\":0.05},\"mapbox\":{\"style\":\"light\"}}},\"xaxis\":{\"anchor\":\"y\",\"domain\":[0.0,1.0],\"title\":{\"text\":\"Sub-marca\"}},\"yaxis\":{\"anchor\":\"x\",\"domain\":[0.0,1.0],\"title\":{\"text\":\"Número de Registros\"}},\"legend\":{\"title\":{\"text\":\"Tipo de Escenario\"},\"tracegroupgap\":0},\"title\":{\"text\":\"Histórico de Registros por Sub-marca y Tipo de Escenario\"},\"barmode\":\"relative\"},                        {\"responsive\": true}                    ).then(function(){\n",
              "                            \n",
              "var gd = document.getElementById('7520c24a-c473-4f11-a9f6-32fd62092fc9');\n",
              "var x = new MutationObserver(function (mutations, observer) {{\n",
              "        var display = window.getComputedStyle(gd).display;\n",
              "        if (!display || display === 'none') {{\n",
              "            console.log([gd, 'removed!']);\n",
              "            Plotly.purge(gd);\n",
              "            observer.disconnect();\n",
              "        }}\n",
              "}});\n",
              "\n",
              "// Listen for the removal of the full notebook cells\n",
              "var notebookContainer = gd.closest('#notebook-container');\n",
              "if (notebookContainer) {{\n",
              "    x.observe(notebookContainer, {childList: true});\n",
              "}}\n",
              "\n",
              "// Listen for the clearing of the current output cell\n",
              "var outputEl = gd.closest('.output');\n",
              "if (outputEl) {{\n",
              "    x.observe(outputEl, {childList: true});\n",
              "}}\n",
              "\n",
              "                        })                };                            </script>        </div>\n",
              "</body>\n",
              "</html>"
            ]
          },
          "metadata": {}
        }
      ]
    },
    {
      "cell_type": "markdown",
      "source": [
        "Mountain Dew es el producto que menos registro de actuals esto es porque se vende en menos países que Pepsi Regular."
      ],
      "metadata": {
        "id": "poF4zNW1rswK"
      }
    },
    {
      "cell_type": "markdown",
      "source": [
        "# NUEVO DATASET SOLO DE VENTAS"
      ],
      "metadata": {
        "id": "O60VatXVF5YF"
      }
    },
    {
      "cell_type": "markdown",
      "source": [
        "Para realizar la primera parte del ejercicio de manera adecuada, creamos un nuevo dataset solo de ventas reales, es decir, cuando el SCENARIO es actual."
      ],
      "metadata": {
        "id": "_XRhI69ORjz3"
      }
    },
    {
      "cell_type": "code",
      "source": [
        "df_ventas_actual = dfVentas.copy()\n",
        "df_ventas_actual = df_ventas_actual[dfVentas['SCENARIO'] == 'actual']\n",
        "df_ventas_actual.head()"
      ],
      "metadata": {
        "colab": {
          "base_uri": "https://localhost:8080/",
          "height": 206
        },
        "id": "dy7zh7HbF5JS",
        "outputId": "e6420b70-8ee8-4c04-bf87-b743ebb2978c"
      },
      "execution_count": null,
      "outputs": [
        {
          "output_type": "execute_result",
          "data": {
            "text/plain": [
              "           COUNTRY            SUBBRAND  YEAR  MONTH SCENARIO FORECAST  \\\n",
              "277       Portugal      Pepsi Max (L3)  2023     10   actual      NaN   \n",
              "278       Portugal            7up (L3)  2023      3   actual      NaN   \n",
              "279       Portugal            7up (L3)  2023     10   actual      NaN   \n",
              "280  Great Britain       7up Free (L3)  2023     10   actual      NaN   \n",
              "281         Norway  Pepsi Regular (L3)  2023     10   actual      NaN   \n",
              "\n",
              "     FORECAST_YEAR        AMOUNT    PERIODO  \n",
              "277           <NA>  1.885949e+05 2023-10-01  \n",
              "278           <NA>  2.934971e+05 2023-03-01  \n",
              "279           <NA>  3.484466e+05 2023-10-01  \n",
              "280           <NA>  1.172553e+06 2023-10-01  \n",
              "281           <NA>  3.784859e+04 2023-10-01  "
            ],
            "text/html": [
              "\n",
              "  <div id=\"df-a6753fe3-b150-49f5-a591-c4f2e78c6675\" class=\"colab-df-container\">\n",
              "    <div>\n",
              "<style scoped>\n",
              "    .dataframe tbody tr th:only-of-type {\n",
              "        vertical-align: middle;\n",
              "    }\n",
              "\n",
              "    .dataframe tbody tr th {\n",
              "        vertical-align: top;\n",
              "    }\n",
              "\n",
              "    .dataframe thead th {\n",
              "        text-align: right;\n",
              "    }\n",
              "</style>\n",
              "<table border=\"1\" class=\"dataframe\">\n",
              "  <thead>\n",
              "    <tr style=\"text-align: right;\">\n",
              "      <th></th>\n",
              "      <th>COUNTRY</th>\n",
              "      <th>SUBBRAND</th>\n",
              "      <th>YEAR</th>\n",
              "      <th>MONTH</th>\n",
              "      <th>SCENARIO</th>\n",
              "      <th>FORECAST</th>\n",
              "      <th>FORECAST_YEAR</th>\n",
              "      <th>AMOUNT</th>\n",
              "      <th>PERIODO</th>\n",
              "    </tr>\n",
              "  </thead>\n",
              "  <tbody>\n",
              "    <tr>\n",
              "      <th>277</th>\n",
              "      <td>Portugal</td>\n",
              "      <td>Pepsi Max (L3)</td>\n",
              "      <td>2023</td>\n",
              "      <td>10</td>\n",
              "      <td>actual</td>\n",
              "      <td>NaN</td>\n",
              "      <td>&lt;NA&gt;</td>\n",
              "      <td>1.885949e+05</td>\n",
              "      <td>2023-10-01</td>\n",
              "    </tr>\n",
              "    <tr>\n",
              "      <th>278</th>\n",
              "      <td>Portugal</td>\n",
              "      <td>7up (L3)</td>\n",
              "      <td>2023</td>\n",
              "      <td>3</td>\n",
              "      <td>actual</td>\n",
              "      <td>NaN</td>\n",
              "      <td>&lt;NA&gt;</td>\n",
              "      <td>2.934971e+05</td>\n",
              "      <td>2023-03-01</td>\n",
              "    </tr>\n",
              "    <tr>\n",
              "      <th>279</th>\n",
              "      <td>Portugal</td>\n",
              "      <td>7up (L3)</td>\n",
              "      <td>2023</td>\n",
              "      <td>10</td>\n",
              "      <td>actual</td>\n",
              "      <td>NaN</td>\n",
              "      <td>&lt;NA&gt;</td>\n",
              "      <td>3.484466e+05</td>\n",
              "      <td>2023-10-01</td>\n",
              "    </tr>\n",
              "    <tr>\n",
              "      <th>280</th>\n",
              "      <td>Great Britain</td>\n",
              "      <td>7up Free (L3)</td>\n",
              "      <td>2023</td>\n",
              "      <td>10</td>\n",
              "      <td>actual</td>\n",
              "      <td>NaN</td>\n",
              "      <td>&lt;NA&gt;</td>\n",
              "      <td>1.172553e+06</td>\n",
              "      <td>2023-10-01</td>\n",
              "    </tr>\n",
              "    <tr>\n",
              "      <th>281</th>\n",
              "      <td>Norway</td>\n",
              "      <td>Pepsi Regular (L3)</td>\n",
              "      <td>2023</td>\n",
              "      <td>10</td>\n",
              "      <td>actual</td>\n",
              "      <td>NaN</td>\n",
              "      <td>&lt;NA&gt;</td>\n",
              "      <td>3.784859e+04</td>\n",
              "      <td>2023-10-01</td>\n",
              "    </tr>\n",
              "  </tbody>\n",
              "</table>\n",
              "</div>\n",
              "    <div class=\"colab-df-buttons\">\n",
              "\n",
              "  <div class=\"colab-df-container\">\n",
              "    <button class=\"colab-df-convert\" onclick=\"convertToInteractive('df-a6753fe3-b150-49f5-a591-c4f2e78c6675')\"\n",
              "            title=\"Convert this dataframe to an interactive table.\"\n",
              "            style=\"display:none;\">\n",
              "\n",
              "  <svg xmlns=\"http://www.w3.org/2000/svg\" height=\"24px\" viewBox=\"0 -960 960 960\">\n",
              "    <path d=\"M120-120v-720h720v720H120Zm60-500h600v-160H180v160Zm220 220h160v-160H400v160Zm0 220h160v-160H400v160ZM180-400h160v-160H180v160Zm440 0h160v-160H620v160ZM180-180h160v-160H180v160Zm440 0h160v-160H620v160Z\"/>\n",
              "  </svg>\n",
              "    </button>\n",
              "\n",
              "  <style>\n",
              "    .colab-df-container {\n",
              "      display:flex;\n",
              "      gap: 12px;\n",
              "    }\n",
              "\n",
              "    .colab-df-convert {\n",
              "      background-color: #E8F0FE;\n",
              "      border: none;\n",
              "      border-radius: 50%;\n",
              "      cursor: pointer;\n",
              "      display: none;\n",
              "      fill: #1967D2;\n",
              "      height: 32px;\n",
              "      padding: 0 0 0 0;\n",
              "      width: 32px;\n",
              "    }\n",
              "\n",
              "    .colab-df-convert:hover {\n",
              "      background-color: #E2EBFA;\n",
              "      box-shadow: 0px 1px 2px rgba(60, 64, 67, 0.3), 0px 1px 3px 1px rgba(60, 64, 67, 0.15);\n",
              "      fill: #174EA6;\n",
              "    }\n",
              "\n",
              "    .colab-df-buttons div {\n",
              "      margin-bottom: 4px;\n",
              "    }\n",
              "\n",
              "    [theme=dark] .colab-df-convert {\n",
              "      background-color: #3B4455;\n",
              "      fill: #D2E3FC;\n",
              "    }\n",
              "\n",
              "    [theme=dark] .colab-df-convert:hover {\n",
              "      background-color: #434B5C;\n",
              "      box-shadow: 0px 1px 3px 1px rgba(0, 0, 0, 0.15);\n",
              "      filter: drop-shadow(0px 1px 2px rgba(0, 0, 0, 0.3));\n",
              "      fill: #FFFFFF;\n",
              "    }\n",
              "  </style>\n",
              "\n",
              "    <script>\n",
              "      const buttonEl =\n",
              "        document.querySelector('#df-a6753fe3-b150-49f5-a591-c4f2e78c6675 button.colab-df-convert');\n",
              "      buttonEl.style.display =\n",
              "        google.colab.kernel.accessAllowed ? 'block' : 'none';\n",
              "\n",
              "      async function convertToInteractive(key) {\n",
              "        const element = document.querySelector('#df-a6753fe3-b150-49f5-a591-c4f2e78c6675');\n",
              "        const dataTable =\n",
              "          await google.colab.kernel.invokeFunction('convertToInteractive',\n",
              "                                                    [key], {});\n",
              "        if (!dataTable) return;\n",
              "\n",
              "        const docLinkHtml = 'Like what you see? Visit the ' +\n",
              "          '<a target=\"_blank\" href=https://colab.research.google.com/notebooks/data_table.ipynb>data table notebook</a>'\n",
              "          + ' to learn more about interactive tables.';\n",
              "        element.innerHTML = '';\n",
              "        dataTable['output_type'] = 'display_data';\n",
              "        await google.colab.output.renderOutput(dataTable, element);\n",
              "        const docLink = document.createElement('div');\n",
              "        docLink.innerHTML = docLinkHtml;\n",
              "        element.appendChild(docLink);\n",
              "      }\n",
              "    </script>\n",
              "  </div>\n",
              "\n",
              "\n",
              "<div id=\"df-48588a1d-1666-47bd-a491-d12b40031d3f\">\n",
              "  <button class=\"colab-df-quickchart\" onclick=\"quickchart('df-48588a1d-1666-47bd-a491-d12b40031d3f')\"\n",
              "            title=\"Suggest charts\"\n",
              "            style=\"display:none;\">\n",
              "\n",
              "<svg xmlns=\"http://www.w3.org/2000/svg\" height=\"24px\"viewBox=\"0 0 24 24\"\n",
              "     width=\"24px\">\n",
              "    <g>\n",
              "        <path d=\"M19 3H5c-1.1 0-2 .9-2 2v14c0 1.1.9 2 2 2h14c1.1 0 2-.9 2-2V5c0-1.1-.9-2-2-2zM9 17H7v-7h2v7zm4 0h-2V7h2v10zm4 0h-2v-4h2v4z\"/>\n",
              "    </g>\n",
              "</svg>\n",
              "  </button>\n",
              "\n",
              "<style>\n",
              "  .colab-df-quickchart {\n",
              "      --bg-color: #E8F0FE;\n",
              "      --fill-color: #1967D2;\n",
              "      --hover-bg-color: #E2EBFA;\n",
              "      --hover-fill-color: #174EA6;\n",
              "      --disabled-fill-color: #AAA;\n",
              "      --disabled-bg-color: #DDD;\n",
              "  }\n",
              "\n",
              "  [theme=dark] .colab-df-quickchart {\n",
              "      --bg-color: #3B4455;\n",
              "      --fill-color: #D2E3FC;\n",
              "      --hover-bg-color: #434B5C;\n",
              "      --hover-fill-color: #FFFFFF;\n",
              "      --disabled-bg-color: #3B4455;\n",
              "      --disabled-fill-color: #666;\n",
              "  }\n",
              "\n",
              "  .colab-df-quickchart {\n",
              "    background-color: var(--bg-color);\n",
              "    border: none;\n",
              "    border-radius: 50%;\n",
              "    cursor: pointer;\n",
              "    display: none;\n",
              "    fill: var(--fill-color);\n",
              "    height: 32px;\n",
              "    padding: 0;\n",
              "    width: 32px;\n",
              "  }\n",
              "\n",
              "  .colab-df-quickchart:hover {\n",
              "    background-color: var(--hover-bg-color);\n",
              "    box-shadow: 0 1px 2px rgba(60, 64, 67, 0.3), 0 1px 3px 1px rgba(60, 64, 67, 0.15);\n",
              "    fill: var(--button-hover-fill-color);\n",
              "  }\n",
              "\n",
              "  .colab-df-quickchart-complete:disabled,\n",
              "  .colab-df-quickchart-complete:disabled:hover {\n",
              "    background-color: var(--disabled-bg-color);\n",
              "    fill: var(--disabled-fill-color);\n",
              "    box-shadow: none;\n",
              "  }\n",
              "\n",
              "  .colab-df-spinner {\n",
              "    border: 2px solid var(--fill-color);\n",
              "    border-color: transparent;\n",
              "    border-bottom-color: var(--fill-color);\n",
              "    animation:\n",
              "      spin 1s steps(1) infinite;\n",
              "  }\n",
              "\n",
              "  @keyframes spin {\n",
              "    0% {\n",
              "      border-color: transparent;\n",
              "      border-bottom-color: var(--fill-color);\n",
              "      border-left-color: var(--fill-color);\n",
              "    }\n",
              "    20% {\n",
              "      border-color: transparent;\n",
              "      border-left-color: var(--fill-color);\n",
              "      border-top-color: var(--fill-color);\n",
              "    }\n",
              "    30% {\n",
              "      border-color: transparent;\n",
              "      border-left-color: var(--fill-color);\n",
              "      border-top-color: var(--fill-color);\n",
              "      border-right-color: var(--fill-color);\n",
              "    }\n",
              "    40% {\n",
              "      border-color: transparent;\n",
              "      border-right-color: var(--fill-color);\n",
              "      border-top-color: var(--fill-color);\n",
              "    }\n",
              "    60% {\n",
              "      border-color: transparent;\n",
              "      border-right-color: var(--fill-color);\n",
              "    }\n",
              "    80% {\n",
              "      border-color: transparent;\n",
              "      border-right-color: var(--fill-color);\n",
              "      border-bottom-color: var(--fill-color);\n",
              "    }\n",
              "    90% {\n",
              "      border-color: transparent;\n",
              "      border-bottom-color: var(--fill-color);\n",
              "    }\n",
              "  }\n",
              "</style>\n",
              "\n",
              "  <script>\n",
              "    async function quickchart(key) {\n",
              "      const quickchartButtonEl =\n",
              "        document.querySelector('#' + key + ' button');\n",
              "      quickchartButtonEl.disabled = true;  // To prevent multiple clicks.\n",
              "      quickchartButtonEl.classList.add('colab-df-spinner');\n",
              "      try {\n",
              "        const charts = await google.colab.kernel.invokeFunction(\n",
              "            'suggestCharts', [key], {});\n",
              "      } catch (error) {\n",
              "        console.error('Error during call to suggestCharts:', error);\n",
              "      }\n",
              "      quickchartButtonEl.classList.remove('colab-df-spinner');\n",
              "      quickchartButtonEl.classList.add('colab-df-quickchart-complete');\n",
              "    }\n",
              "    (() => {\n",
              "      let quickchartButtonEl =\n",
              "        document.querySelector('#df-48588a1d-1666-47bd-a491-d12b40031d3f button');\n",
              "      quickchartButtonEl.style.display =\n",
              "        google.colab.kernel.accessAllowed ? 'block' : 'none';\n",
              "    })();\n",
              "  </script>\n",
              "</div>\n",
              "\n",
              "    </div>\n",
              "  </div>\n"
            ],
            "application/vnd.google.colaboratory.intrinsic+json": {
              "type": "dataframe",
              "variable_name": "df_ventas_actual",
              "repr_error": "0"
            }
          },
          "metadata": {},
          "execution_count": 61
        }
      ]
    },
    {
      "cell_type": "code",
      "source": [
        "len(df_ventas_actual)"
      ],
      "metadata": {
        "colab": {
          "base_uri": "https://localhost:8080/"
        },
        "id": "Wh6mJshKGHJu",
        "outputId": "81152534-d2fd-420e-b24d-66cf48d9e91d"
      },
      "execution_count": null,
      "outputs": [
        {
          "output_type": "execute_result",
          "data": {
            "text/plain": [
              "890"
            ]
          },
          "metadata": {},
          "execution_count": 62
        }
      ]
    },
    {
      "cell_type": "markdown",
      "source": [
        "# DISTRIBUCIÓN DE VENTAS POR PAÍS"
      ],
      "metadata": {
        "id": "98OOZmyoUOsd"
      }
    },
    {
      "cell_type": "code",
      "source": [
        "ventas_pais = df_ventas_actual.groupby(['COUNTRY'])['AMOUNT'].sum().reset_index(name='TOTAL_VENTAS')\n",
        "print(ventas_pais)"
      ],
      "metadata": {
        "colab": {
          "base_uri": "https://localhost:8080/"
        },
        "id": "721zTtLYjVw3",
        "outputId": "12ce1000-c444-46fb-b4df-af917d4c6600"
      },
      "execution_count": null,
      "outputs": [
        {
          "output_type": "stream",
          "name": "stdout",
          "text": [
            "         COUNTRY  TOTAL_VENTAS\n",
            "0          Czech  3.535164e+07\n",
            "1        Denmark  5.659668e+07\n",
            "2  Great Britain  3.347786e+08\n",
            "3        Hungary  4.157947e+07\n",
            "4          Italy  4.345404e+07\n",
            "5    Netherlands  6.395943e+07\n",
            "6         Norway  5.143697e+07\n",
            "7       Portugal  3.488807e+07\n",
            "8          Spain  8.131266e+06\n"
          ]
        }
      ]
    },
    {
      "cell_type": "markdown",
      "source": [
        "Se puede comprobar que es España el país con menos ventas y Gran Bretaña el país con más ventas."
      ],
      "metadata": {
        "id": "xX0gVz2TSWVg"
      }
    },
    {
      "cell_type": "code",
      "source": [
        "ventas_pais['COUNTRY'] = ventas_pais['COUNTRY'].replace({\n",
        "    'Czech': 'Czech Republic',\n",
        "})\n",
        "\n",
        "fig = px.choropleth(ventas_pais, locations=\"COUNTRY\", locationmode=\"country names\", color=\"TOTAL_VENTAS\",\n",
        "                    title=\"Distribución de Ventas Realizadas por País\",\n",
        "                    labels={'Ventas Totales'})\n",
        "\n",
        "fig.update_geos(scope=\"europe\")\n",
        "\n",
        "fig.show()\n",
        "\n",
        "\n"
      ],
      "metadata": {
        "colab": {
          "base_uri": "https://localhost:8080/",
          "height": 542
        },
        "id": "pRndLnDlSizQ",
        "outputId": "093e50cf-bb11-4b78-f974-a1ba7468d688"
      },
      "execution_count": null,
      "outputs": [
        {
          "output_type": "display_data",
          "data": {
            "text/html": [
              "<html>\n",
              "<head><meta charset=\"utf-8\" /></head>\n",
              "<body>\n",
              "    <div>            <script src=\"https://cdnjs.cloudflare.com/ajax/libs/mathjax/2.7.5/MathJax.js?config=TeX-AMS-MML_SVG\"></script><script type=\"text/javascript\">if (window.MathJax && window.MathJax.Hub && window.MathJax.Hub.Config) {window.MathJax.Hub.Config({SVG: {font: \"STIX-Web\"}});}</script>                <script type=\"text/javascript\">window.PlotlyConfig = {MathJaxConfig: 'local'};</script>\n",
              "        <script charset=\"utf-8\" src=\"https://cdn.plot.ly/plotly-2.35.2.min.js\"></script>                <div id=\"f68f3cd0-0bc7-4499-a6b4-6f24dd4f76a8\" class=\"plotly-graph-div\" style=\"height:525px; width:100%;\"></div>            <script type=\"text/javascript\">                                    window.PLOTLYENV=window.PLOTLYENV || {};                                    if (document.getElementById(\"f68f3cd0-0bc7-4499-a6b4-6f24dd4f76a8\")) {                    Plotly.newPlot(                        \"f68f3cd0-0bc7-4499-a6b4-6f24dd4f76a8\",                        [{\"coloraxis\":\"coloraxis\",\"geo\":\"geo\",\"hovertemplate\":\"COUNTRY=%{location}\\u003cbr\\u003eTOTAL_VENTAS=%{z}\\u003cextra\\u003e\\u003c\\u002fextra\\u003e\",\"locationmode\":\"country names\",\"locations\":[\"Czech Republic\",\"Denmark\",\"Great Britain\",\"Hungary\",\"Italy\",\"Netherlands\",\"Norway\",\"Portugal\",\"Spain\"],\"name\":\"\",\"z\":[35351639.56481399,56596675.75261528,334778603.75283086,41579473.66154638,43454036.96646074,63959428.7739604,51436967.401420735,34888069.81380808,8131265.977520084],\"type\":\"choropleth\"}],                        {\"template\":{\"data\":{\"histogram2dcontour\":[{\"type\":\"histogram2dcontour\",\"colorbar\":{\"outlinewidth\":0,\"ticks\":\"\"},\"colorscale\":[[0.0,\"#0d0887\"],[0.1111111111111111,\"#46039f\"],[0.2222222222222222,\"#7201a8\"],[0.3333333333333333,\"#9c179e\"],[0.4444444444444444,\"#bd3786\"],[0.5555555555555556,\"#d8576b\"],[0.6666666666666666,\"#ed7953\"],[0.7777777777777778,\"#fb9f3a\"],[0.8888888888888888,\"#fdca26\"],[1.0,\"#f0f921\"]]}],\"choropleth\":[{\"type\":\"choropleth\",\"colorbar\":{\"outlinewidth\":0,\"ticks\":\"\"}}],\"histogram2d\":[{\"type\":\"histogram2d\",\"colorbar\":{\"outlinewidth\":0,\"ticks\":\"\"},\"colorscale\":[[0.0,\"#0d0887\"],[0.1111111111111111,\"#46039f\"],[0.2222222222222222,\"#7201a8\"],[0.3333333333333333,\"#9c179e\"],[0.4444444444444444,\"#bd3786\"],[0.5555555555555556,\"#d8576b\"],[0.6666666666666666,\"#ed7953\"],[0.7777777777777778,\"#fb9f3a\"],[0.8888888888888888,\"#fdca26\"],[1.0,\"#f0f921\"]]}],\"heatmap\":[{\"type\":\"heatmap\",\"colorbar\":{\"outlinewidth\":0,\"ticks\":\"\"},\"colorscale\":[[0.0,\"#0d0887\"],[0.1111111111111111,\"#46039f\"],[0.2222222222222222,\"#7201a8\"],[0.3333333333333333,\"#9c179e\"],[0.4444444444444444,\"#bd3786\"],[0.5555555555555556,\"#d8576b\"],[0.6666666666666666,\"#ed7953\"],[0.7777777777777778,\"#fb9f3a\"],[0.8888888888888888,\"#fdca26\"],[1.0,\"#f0f921\"]]}],\"heatmapgl\":[{\"type\":\"heatmapgl\",\"colorbar\":{\"outlinewidth\":0,\"ticks\":\"\"},\"colorscale\":[[0.0,\"#0d0887\"],[0.1111111111111111,\"#46039f\"],[0.2222222222222222,\"#7201a8\"],[0.3333333333333333,\"#9c179e\"],[0.4444444444444444,\"#bd3786\"],[0.5555555555555556,\"#d8576b\"],[0.6666666666666666,\"#ed7953\"],[0.7777777777777778,\"#fb9f3a\"],[0.8888888888888888,\"#fdca26\"],[1.0,\"#f0f921\"]]}],\"contourcarpet\":[{\"type\":\"contourcarpet\",\"colorbar\":{\"outlinewidth\":0,\"ticks\":\"\"}}],\"contour\":[{\"type\":\"contour\",\"colorbar\":{\"outlinewidth\":0,\"ticks\":\"\"},\"colorscale\":[[0.0,\"#0d0887\"],[0.1111111111111111,\"#46039f\"],[0.2222222222222222,\"#7201a8\"],[0.3333333333333333,\"#9c179e\"],[0.4444444444444444,\"#bd3786\"],[0.5555555555555556,\"#d8576b\"],[0.6666666666666666,\"#ed7953\"],[0.7777777777777778,\"#fb9f3a\"],[0.8888888888888888,\"#fdca26\"],[1.0,\"#f0f921\"]]}],\"surface\":[{\"type\":\"surface\",\"colorbar\":{\"outlinewidth\":0,\"ticks\":\"\"},\"colorscale\":[[0.0,\"#0d0887\"],[0.1111111111111111,\"#46039f\"],[0.2222222222222222,\"#7201a8\"],[0.3333333333333333,\"#9c179e\"],[0.4444444444444444,\"#bd3786\"],[0.5555555555555556,\"#d8576b\"],[0.6666666666666666,\"#ed7953\"],[0.7777777777777778,\"#fb9f3a\"],[0.8888888888888888,\"#fdca26\"],[1.0,\"#f0f921\"]]}],\"mesh3d\":[{\"type\":\"mesh3d\",\"colorbar\":{\"outlinewidth\":0,\"ticks\":\"\"}}],\"scatter\":[{\"fillpattern\":{\"fillmode\":\"overlay\",\"size\":10,\"solidity\":0.2},\"type\":\"scatter\"}],\"parcoords\":[{\"type\":\"parcoords\",\"line\":{\"colorbar\":{\"outlinewidth\":0,\"ticks\":\"\"}}}],\"scatterpolargl\":[{\"type\":\"scatterpolargl\",\"marker\":{\"colorbar\":{\"outlinewidth\":0,\"ticks\":\"\"}}}],\"bar\":[{\"error_x\":{\"color\":\"#2a3f5f\"},\"error_y\":{\"color\":\"#2a3f5f\"},\"marker\":{\"line\":{\"color\":\"#E5ECF6\",\"width\":0.5},\"pattern\":{\"fillmode\":\"overlay\",\"size\":10,\"solidity\":0.2}},\"type\":\"bar\"}],\"scattergeo\":[{\"type\":\"scattergeo\",\"marker\":{\"colorbar\":{\"outlinewidth\":0,\"ticks\":\"\"}}}],\"scatterpolar\":[{\"type\":\"scatterpolar\",\"marker\":{\"colorbar\":{\"outlinewidth\":0,\"ticks\":\"\"}}}],\"histogram\":[{\"marker\":{\"pattern\":{\"fillmode\":\"overlay\",\"size\":10,\"solidity\":0.2}},\"type\":\"histogram\"}],\"scattergl\":[{\"type\":\"scattergl\",\"marker\":{\"colorbar\":{\"outlinewidth\":0,\"ticks\":\"\"}}}],\"scatter3d\":[{\"type\":\"scatter3d\",\"line\":{\"colorbar\":{\"outlinewidth\":0,\"ticks\":\"\"}},\"marker\":{\"colorbar\":{\"outlinewidth\":0,\"ticks\":\"\"}}}],\"scattermapbox\":[{\"type\":\"scattermapbox\",\"marker\":{\"colorbar\":{\"outlinewidth\":0,\"ticks\":\"\"}}}],\"scatterternary\":[{\"type\":\"scatterternary\",\"marker\":{\"colorbar\":{\"outlinewidth\":0,\"ticks\":\"\"}}}],\"scattercarpet\":[{\"type\":\"scattercarpet\",\"marker\":{\"colorbar\":{\"outlinewidth\":0,\"ticks\":\"\"}}}],\"carpet\":[{\"aaxis\":{\"endlinecolor\":\"#2a3f5f\",\"gridcolor\":\"white\",\"linecolor\":\"white\",\"minorgridcolor\":\"white\",\"startlinecolor\":\"#2a3f5f\"},\"baxis\":{\"endlinecolor\":\"#2a3f5f\",\"gridcolor\":\"white\",\"linecolor\":\"white\",\"minorgridcolor\":\"white\",\"startlinecolor\":\"#2a3f5f\"},\"type\":\"carpet\"}],\"table\":[{\"cells\":{\"fill\":{\"color\":\"#EBF0F8\"},\"line\":{\"color\":\"white\"}},\"header\":{\"fill\":{\"color\":\"#C8D4E3\"},\"line\":{\"color\":\"white\"}},\"type\":\"table\"}],\"barpolar\":[{\"marker\":{\"line\":{\"color\":\"#E5ECF6\",\"width\":0.5},\"pattern\":{\"fillmode\":\"overlay\",\"size\":10,\"solidity\":0.2}},\"type\":\"barpolar\"}],\"pie\":[{\"automargin\":true,\"type\":\"pie\"}]},\"layout\":{\"autotypenumbers\":\"strict\",\"colorway\":[\"#636efa\",\"#EF553B\",\"#00cc96\",\"#ab63fa\",\"#FFA15A\",\"#19d3f3\",\"#FF6692\",\"#B6E880\",\"#FF97FF\",\"#FECB52\"],\"font\":{\"color\":\"#2a3f5f\"},\"hovermode\":\"closest\",\"hoverlabel\":{\"align\":\"left\"},\"paper_bgcolor\":\"white\",\"plot_bgcolor\":\"#E5ECF6\",\"polar\":{\"bgcolor\":\"#E5ECF6\",\"angularaxis\":{\"gridcolor\":\"white\",\"linecolor\":\"white\",\"ticks\":\"\"},\"radialaxis\":{\"gridcolor\":\"white\",\"linecolor\":\"white\",\"ticks\":\"\"}},\"ternary\":{\"bgcolor\":\"#E5ECF6\",\"aaxis\":{\"gridcolor\":\"white\",\"linecolor\":\"white\",\"ticks\":\"\"},\"baxis\":{\"gridcolor\":\"white\",\"linecolor\":\"white\",\"ticks\":\"\"},\"caxis\":{\"gridcolor\":\"white\",\"linecolor\":\"white\",\"ticks\":\"\"}},\"coloraxis\":{\"colorbar\":{\"outlinewidth\":0,\"ticks\":\"\"}},\"colorscale\":{\"sequential\":[[0.0,\"#0d0887\"],[0.1111111111111111,\"#46039f\"],[0.2222222222222222,\"#7201a8\"],[0.3333333333333333,\"#9c179e\"],[0.4444444444444444,\"#bd3786\"],[0.5555555555555556,\"#d8576b\"],[0.6666666666666666,\"#ed7953\"],[0.7777777777777778,\"#fb9f3a\"],[0.8888888888888888,\"#fdca26\"],[1.0,\"#f0f921\"]],\"sequentialminus\":[[0.0,\"#0d0887\"],[0.1111111111111111,\"#46039f\"],[0.2222222222222222,\"#7201a8\"],[0.3333333333333333,\"#9c179e\"],[0.4444444444444444,\"#bd3786\"],[0.5555555555555556,\"#d8576b\"],[0.6666666666666666,\"#ed7953\"],[0.7777777777777778,\"#fb9f3a\"],[0.8888888888888888,\"#fdca26\"],[1.0,\"#f0f921\"]],\"diverging\":[[0,\"#8e0152\"],[0.1,\"#c51b7d\"],[0.2,\"#de77ae\"],[0.3,\"#f1b6da\"],[0.4,\"#fde0ef\"],[0.5,\"#f7f7f7\"],[0.6,\"#e6f5d0\"],[0.7,\"#b8e186\"],[0.8,\"#7fbc41\"],[0.9,\"#4d9221\"],[1,\"#276419\"]]},\"xaxis\":{\"gridcolor\":\"white\",\"linecolor\":\"white\",\"ticks\":\"\",\"title\":{\"standoff\":15},\"zerolinecolor\":\"white\",\"automargin\":true,\"zerolinewidth\":2},\"yaxis\":{\"gridcolor\":\"white\",\"linecolor\":\"white\",\"ticks\":\"\",\"title\":{\"standoff\":15},\"zerolinecolor\":\"white\",\"automargin\":true,\"zerolinewidth\":2},\"scene\":{\"xaxis\":{\"backgroundcolor\":\"#E5ECF6\",\"gridcolor\":\"white\",\"linecolor\":\"white\",\"showbackground\":true,\"ticks\":\"\",\"zerolinecolor\":\"white\",\"gridwidth\":2},\"yaxis\":{\"backgroundcolor\":\"#E5ECF6\",\"gridcolor\":\"white\",\"linecolor\":\"white\",\"showbackground\":true,\"ticks\":\"\",\"zerolinecolor\":\"white\",\"gridwidth\":2},\"zaxis\":{\"backgroundcolor\":\"#E5ECF6\",\"gridcolor\":\"white\",\"linecolor\":\"white\",\"showbackground\":true,\"ticks\":\"\",\"zerolinecolor\":\"white\",\"gridwidth\":2}},\"shapedefaults\":{\"line\":{\"color\":\"#2a3f5f\"}},\"annotationdefaults\":{\"arrowcolor\":\"#2a3f5f\",\"arrowhead\":0,\"arrowwidth\":1},\"geo\":{\"bgcolor\":\"white\",\"landcolor\":\"#E5ECF6\",\"subunitcolor\":\"white\",\"showland\":true,\"showlakes\":true,\"lakecolor\":\"white\"},\"title\":{\"x\":0.05},\"mapbox\":{\"style\":\"light\"}}},\"geo\":{\"domain\":{\"x\":[0.0,1.0],\"y\":[0.0,1.0]},\"center\":{},\"scope\":\"europe\"},\"coloraxis\":{\"colorbar\":{\"title\":{\"text\":\"TOTAL_VENTAS\"}},\"colorscale\":[[0.0,\"#0d0887\"],[0.1111111111111111,\"#46039f\"],[0.2222222222222222,\"#7201a8\"],[0.3333333333333333,\"#9c179e\"],[0.4444444444444444,\"#bd3786\"],[0.5555555555555556,\"#d8576b\"],[0.6666666666666666,\"#ed7953\"],[0.7777777777777778,\"#fb9f3a\"],[0.8888888888888888,\"#fdca26\"],[1.0,\"#f0f921\"]]},\"legend\":{\"tracegroupgap\":0},\"title\":{\"text\":\"Distribución de Ventas Realizadas por País\"}},                        {\"responsive\": true}                    ).then(function(){\n",
              "                            \n",
              "var gd = document.getElementById('f68f3cd0-0bc7-4499-a6b4-6f24dd4f76a8');\n",
              "var x = new MutationObserver(function (mutations, observer) {{\n",
              "        var display = window.getComputedStyle(gd).display;\n",
              "        if (!display || display === 'none') {{\n",
              "            console.log([gd, 'removed!']);\n",
              "            Plotly.purge(gd);\n",
              "            observer.disconnect();\n",
              "        }}\n",
              "}});\n",
              "\n",
              "// Listen for the removal of the full notebook cells\n",
              "var notebookContainer = gd.closest('#notebook-container');\n",
              "if (notebookContainer) {{\n",
              "    x.observe(notebookContainer, {childList: true});\n",
              "}}\n",
              "\n",
              "// Listen for the clearing of the current output cell\n",
              "var outputEl = gd.closest('.output');\n",
              "if (outputEl) {{\n",
              "    x.observe(outputEl, {childList: true});\n",
              "}}\n",
              "\n",
              "                        })                };                            </script>        </div>\n",
              "</body>\n",
              "</html>"
            ]
          },
          "metadata": {}
        }
      ]
    },
    {
      "cell_type": "markdown",
      "source": [
        "Como Gran Bretaña tiene un volumen de ventas mucho mayor en comparación con los demás, en un gráfico coroplético (o cualquier visualización de distribución) los valores de los otros países se ven con colores mucho más oscuros o uniformes, lo que dificulta la interpretación de las diferencias entre esos países.\n",
        "\n",
        "Una solución podría ser aplicar una transformación logarítmica pero podría suponer un impedimento si el cliente no entiende que la escala no es lineal."
      ],
      "metadata": {
        "id": "wZtPffqAS2PH"
      }
    },
    {
      "cell_type": "markdown",
      "source": [
        "# DISTRIBUCIÓN DE LAS VENTAS REALIZADAS POR MES Y AÑO"
      ],
      "metadata": {
        "id": "4Gojm6vLhL5b"
      }
    },
    {
      "cell_type": "code",
      "source": [
        "ventas_periodo = df_ventas_actual.groupby('PERIODO')['AMOUNT'].sum().reset_index(name='TOTAL_VENTAS')\n",
        "print(ventas_periodo)"
      ],
      "metadata": {
        "id": "nc4Ay8TIU7-y",
        "colab": {
          "base_uri": "https://localhost:8080/"
        },
        "outputId": "19b2296b-9dfd-4a67-f2a4-b61ba966fbaf"
      },
      "execution_count": null,
      "outputs": [
        {
          "output_type": "stream",
          "name": "stdout",
          "text": [
            "      PERIODO  TOTAL_VENTAS\n",
            "0  2023-01-01  2.808880e+07\n",
            "1  2023-02-01  2.610437e+07\n",
            "2  2023-03-01  3.593163e+07\n",
            "3  2023-04-01  3.085725e+07\n",
            "4  2023-05-01  3.690245e+07\n",
            "5  2023-06-01  3.759999e+07\n",
            "6  2023-07-01  3.403860e+07\n",
            "7  2023-08-01  3.817477e+07\n",
            "8  2023-09-01  3.216776e+07\n",
            "9  2023-10-01  3.144918e+07\n",
            "10 2023-11-01  3.291774e+07\n",
            "11 2023-12-01  3.483175e+07\n",
            "12 2024-01-01  2.689110e+07\n",
            "13 2024-02-01  2.989003e+07\n",
            "14 2024-03-01  3.449766e+07\n",
            "15 2024-04-01  3.369920e+07\n",
            "16 2024-05-01  3.677264e+07\n",
            "17 2024-06-01  3.508763e+07\n",
            "18 2024-07-01  3.571656e+07\n",
            "19 2024-08-01  3.855704e+07\n"
          ]
        }
      ]
    },
    {
      "cell_type": "code",
      "source": [
        "fig = px.line(ventas_periodo, x='PERIODO', y='TOTAL_VENTAS', title='Distribución de Ventas Realizadas por Mes y Año', labels={'NUM_VENTAS': 'Número de Ventas', 'PERIODO': 'Fecha'})\n",
        "fig.show()"
      ],
      "metadata": {
        "colab": {
          "base_uri": "https://localhost:8080/",
          "height": 542
        },
        "id": "lTLN4gtrkRZk",
        "outputId": "1d45d74f-1d72-4d91-a143-10dfc2de6056"
      },
      "execution_count": null,
      "outputs": [
        {
          "output_type": "display_data",
          "data": {
            "text/html": [
              "<html>\n",
              "<head><meta charset=\"utf-8\" /></head>\n",
              "<body>\n",
              "    <div>            <script src=\"https://cdnjs.cloudflare.com/ajax/libs/mathjax/2.7.5/MathJax.js?config=TeX-AMS-MML_SVG\"></script><script type=\"text/javascript\">if (window.MathJax && window.MathJax.Hub && window.MathJax.Hub.Config) {window.MathJax.Hub.Config({SVG: {font: \"STIX-Web\"}});}</script>                <script type=\"text/javascript\">window.PlotlyConfig = {MathJaxConfig: 'local'};</script>\n",
              "        <script charset=\"utf-8\" src=\"https://cdn.plot.ly/plotly-2.35.2.min.js\"></script>                <div id=\"2a6f87ef-abc0-46dd-93a1-f9df4daa96fa\" class=\"plotly-graph-div\" style=\"height:525px; width:100%;\"></div>            <script type=\"text/javascript\">                                    window.PLOTLYENV=window.PLOTLYENV || {};                                    if (document.getElementById(\"2a6f87ef-abc0-46dd-93a1-f9df4daa96fa\")) {                    Plotly.newPlot(                        \"2a6f87ef-abc0-46dd-93a1-f9df4daa96fa\",                        [{\"hovertemplate\":\"Fecha=%{x}\\u003cbr\\u003eTOTAL_VENTAS=%{y}\\u003cextra\\u003e\\u003c\\u002fextra\\u003e\",\"legendgroup\":\"\",\"line\":{\"color\":\"#636efa\",\"dash\":\"solid\"},\"marker\":{\"symbol\":\"circle\"},\"mode\":\"lines\",\"name\":\"\",\"orientation\":\"v\",\"showlegend\":false,\"x\":[\"2023-01-01T00:00:00\",\"2023-02-01T00:00:00\",\"2023-03-01T00:00:00\",\"2023-04-01T00:00:00\",\"2023-05-01T00:00:00\",\"2023-06-01T00:00:00\",\"2023-07-01T00:00:00\",\"2023-08-01T00:00:00\",\"2023-09-01T00:00:00\",\"2023-10-01T00:00:00\",\"2023-11-01T00:00:00\",\"2023-12-01T00:00:00\",\"2024-01-01T00:00:00\",\"2024-02-01T00:00:00\",\"2024-03-01T00:00:00\",\"2024-04-01T00:00:00\",\"2024-05-01T00:00:00\",\"2024-06-01T00:00:00\",\"2024-07-01T00:00:00\",\"2024-08-01T00:00:00\"],\"xaxis\":\"x\",\"y\":[28088799.84220129,26104373.57611322,35931633.63600297,30857250.596449837,36902446.494225316,37599991.384633146,34038600.25053667,38174767.91163717,32167763.277069457,31449183.076791007,32917741.228692614,34831748.10789127,26891100.60631172,29890031.205186054,34497661.53535836,33699202.16082029,36772636.05069285,35087629.84020062,35716564.13564737,38557036.74851534],\"yaxis\":\"y\",\"type\":\"scatter\"}],                        {\"template\":{\"data\":{\"histogram2dcontour\":[{\"type\":\"histogram2dcontour\",\"colorbar\":{\"outlinewidth\":0,\"ticks\":\"\"},\"colorscale\":[[0.0,\"#0d0887\"],[0.1111111111111111,\"#46039f\"],[0.2222222222222222,\"#7201a8\"],[0.3333333333333333,\"#9c179e\"],[0.4444444444444444,\"#bd3786\"],[0.5555555555555556,\"#d8576b\"],[0.6666666666666666,\"#ed7953\"],[0.7777777777777778,\"#fb9f3a\"],[0.8888888888888888,\"#fdca26\"],[1.0,\"#f0f921\"]]}],\"choropleth\":[{\"type\":\"choropleth\",\"colorbar\":{\"outlinewidth\":0,\"ticks\":\"\"}}],\"histogram2d\":[{\"type\":\"histogram2d\",\"colorbar\":{\"outlinewidth\":0,\"ticks\":\"\"},\"colorscale\":[[0.0,\"#0d0887\"],[0.1111111111111111,\"#46039f\"],[0.2222222222222222,\"#7201a8\"],[0.3333333333333333,\"#9c179e\"],[0.4444444444444444,\"#bd3786\"],[0.5555555555555556,\"#d8576b\"],[0.6666666666666666,\"#ed7953\"],[0.7777777777777778,\"#fb9f3a\"],[0.8888888888888888,\"#fdca26\"],[1.0,\"#f0f921\"]]}],\"heatmap\":[{\"type\":\"heatmap\",\"colorbar\":{\"outlinewidth\":0,\"ticks\":\"\"},\"colorscale\":[[0.0,\"#0d0887\"],[0.1111111111111111,\"#46039f\"],[0.2222222222222222,\"#7201a8\"],[0.3333333333333333,\"#9c179e\"],[0.4444444444444444,\"#bd3786\"],[0.5555555555555556,\"#d8576b\"],[0.6666666666666666,\"#ed7953\"],[0.7777777777777778,\"#fb9f3a\"],[0.8888888888888888,\"#fdca26\"],[1.0,\"#f0f921\"]]}],\"heatmapgl\":[{\"type\":\"heatmapgl\",\"colorbar\":{\"outlinewidth\":0,\"ticks\":\"\"},\"colorscale\":[[0.0,\"#0d0887\"],[0.1111111111111111,\"#46039f\"],[0.2222222222222222,\"#7201a8\"],[0.3333333333333333,\"#9c179e\"],[0.4444444444444444,\"#bd3786\"],[0.5555555555555556,\"#d8576b\"],[0.6666666666666666,\"#ed7953\"],[0.7777777777777778,\"#fb9f3a\"],[0.8888888888888888,\"#fdca26\"],[1.0,\"#f0f921\"]]}],\"contourcarpet\":[{\"type\":\"contourcarpet\",\"colorbar\":{\"outlinewidth\":0,\"ticks\":\"\"}}],\"contour\":[{\"type\":\"contour\",\"colorbar\":{\"outlinewidth\":0,\"ticks\":\"\"},\"colorscale\":[[0.0,\"#0d0887\"],[0.1111111111111111,\"#46039f\"],[0.2222222222222222,\"#7201a8\"],[0.3333333333333333,\"#9c179e\"],[0.4444444444444444,\"#bd3786\"],[0.5555555555555556,\"#d8576b\"],[0.6666666666666666,\"#ed7953\"],[0.7777777777777778,\"#fb9f3a\"],[0.8888888888888888,\"#fdca26\"],[1.0,\"#f0f921\"]]}],\"surface\":[{\"type\":\"surface\",\"colorbar\":{\"outlinewidth\":0,\"ticks\":\"\"},\"colorscale\":[[0.0,\"#0d0887\"],[0.1111111111111111,\"#46039f\"],[0.2222222222222222,\"#7201a8\"],[0.3333333333333333,\"#9c179e\"],[0.4444444444444444,\"#bd3786\"],[0.5555555555555556,\"#d8576b\"],[0.6666666666666666,\"#ed7953\"],[0.7777777777777778,\"#fb9f3a\"],[0.8888888888888888,\"#fdca26\"],[1.0,\"#f0f921\"]]}],\"mesh3d\":[{\"type\":\"mesh3d\",\"colorbar\":{\"outlinewidth\":0,\"ticks\":\"\"}}],\"scatter\":[{\"fillpattern\":{\"fillmode\":\"overlay\",\"size\":10,\"solidity\":0.2},\"type\":\"scatter\"}],\"parcoords\":[{\"type\":\"parcoords\",\"line\":{\"colorbar\":{\"outlinewidth\":0,\"ticks\":\"\"}}}],\"scatterpolargl\":[{\"type\":\"scatterpolargl\",\"marker\":{\"colorbar\":{\"outlinewidth\":0,\"ticks\":\"\"}}}],\"bar\":[{\"error_x\":{\"color\":\"#2a3f5f\"},\"error_y\":{\"color\":\"#2a3f5f\"},\"marker\":{\"line\":{\"color\":\"#E5ECF6\",\"width\":0.5},\"pattern\":{\"fillmode\":\"overlay\",\"size\":10,\"solidity\":0.2}},\"type\":\"bar\"}],\"scattergeo\":[{\"type\":\"scattergeo\",\"marker\":{\"colorbar\":{\"outlinewidth\":0,\"ticks\":\"\"}}}],\"scatterpolar\":[{\"type\":\"scatterpolar\",\"marker\":{\"colorbar\":{\"outlinewidth\":0,\"ticks\":\"\"}}}],\"histogram\":[{\"marker\":{\"pattern\":{\"fillmode\":\"overlay\",\"size\":10,\"solidity\":0.2}},\"type\":\"histogram\"}],\"scattergl\":[{\"type\":\"scattergl\",\"marker\":{\"colorbar\":{\"outlinewidth\":0,\"ticks\":\"\"}}}],\"scatter3d\":[{\"type\":\"scatter3d\",\"line\":{\"colorbar\":{\"outlinewidth\":0,\"ticks\":\"\"}},\"marker\":{\"colorbar\":{\"outlinewidth\":0,\"ticks\":\"\"}}}],\"scattermapbox\":[{\"type\":\"scattermapbox\",\"marker\":{\"colorbar\":{\"outlinewidth\":0,\"ticks\":\"\"}}}],\"scatterternary\":[{\"type\":\"scatterternary\",\"marker\":{\"colorbar\":{\"outlinewidth\":0,\"ticks\":\"\"}}}],\"scattercarpet\":[{\"type\":\"scattercarpet\",\"marker\":{\"colorbar\":{\"outlinewidth\":0,\"ticks\":\"\"}}}],\"carpet\":[{\"aaxis\":{\"endlinecolor\":\"#2a3f5f\",\"gridcolor\":\"white\",\"linecolor\":\"white\",\"minorgridcolor\":\"white\",\"startlinecolor\":\"#2a3f5f\"},\"baxis\":{\"endlinecolor\":\"#2a3f5f\",\"gridcolor\":\"white\",\"linecolor\":\"white\",\"minorgridcolor\":\"white\",\"startlinecolor\":\"#2a3f5f\"},\"type\":\"carpet\"}],\"table\":[{\"cells\":{\"fill\":{\"color\":\"#EBF0F8\"},\"line\":{\"color\":\"white\"}},\"header\":{\"fill\":{\"color\":\"#C8D4E3\"},\"line\":{\"color\":\"white\"}},\"type\":\"table\"}],\"barpolar\":[{\"marker\":{\"line\":{\"color\":\"#E5ECF6\",\"width\":0.5},\"pattern\":{\"fillmode\":\"overlay\",\"size\":10,\"solidity\":0.2}},\"type\":\"barpolar\"}],\"pie\":[{\"automargin\":true,\"type\":\"pie\"}]},\"layout\":{\"autotypenumbers\":\"strict\",\"colorway\":[\"#636efa\",\"#EF553B\",\"#00cc96\",\"#ab63fa\",\"#FFA15A\",\"#19d3f3\",\"#FF6692\",\"#B6E880\",\"#FF97FF\",\"#FECB52\"],\"font\":{\"color\":\"#2a3f5f\"},\"hovermode\":\"closest\",\"hoverlabel\":{\"align\":\"left\"},\"paper_bgcolor\":\"white\",\"plot_bgcolor\":\"#E5ECF6\",\"polar\":{\"bgcolor\":\"#E5ECF6\",\"angularaxis\":{\"gridcolor\":\"white\",\"linecolor\":\"white\",\"ticks\":\"\"},\"radialaxis\":{\"gridcolor\":\"white\",\"linecolor\":\"white\",\"ticks\":\"\"}},\"ternary\":{\"bgcolor\":\"#E5ECF6\",\"aaxis\":{\"gridcolor\":\"white\",\"linecolor\":\"white\",\"ticks\":\"\"},\"baxis\":{\"gridcolor\":\"white\",\"linecolor\":\"white\",\"ticks\":\"\"},\"caxis\":{\"gridcolor\":\"white\",\"linecolor\":\"white\",\"ticks\":\"\"}},\"coloraxis\":{\"colorbar\":{\"outlinewidth\":0,\"ticks\":\"\"}},\"colorscale\":{\"sequential\":[[0.0,\"#0d0887\"],[0.1111111111111111,\"#46039f\"],[0.2222222222222222,\"#7201a8\"],[0.3333333333333333,\"#9c179e\"],[0.4444444444444444,\"#bd3786\"],[0.5555555555555556,\"#d8576b\"],[0.6666666666666666,\"#ed7953\"],[0.7777777777777778,\"#fb9f3a\"],[0.8888888888888888,\"#fdca26\"],[1.0,\"#f0f921\"]],\"sequentialminus\":[[0.0,\"#0d0887\"],[0.1111111111111111,\"#46039f\"],[0.2222222222222222,\"#7201a8\"],[0.3333333333333333,\"#9c179e\"],[0.4444444444444444,\"#bd3786\"],[0.5555555555555556,\"#d8576b\"],[0.6666666666666666,\"#ed7953\"],[0.7777777777777778,\"#fb9f3a\"],[0.8888888888888888,\"#fdca26\"],[1.0,\"#f0f921\"]],\"diverging\":[[0,\"#8e0152\"],[0.1,\"#c51b7d\"],[0.2,\"#de77ae\"],[0.3,\"#f1b6da\"],[0.4,\"#fde0ef\"],[0.5,\"#f7f7f7\"],[0.6,\"#e6f5d0\"],[0.7,\"#b8e186\"],[0.8,\"#7fbc41\"],[0.9,\"#4d9221\"],[1,\"#276419\"]]},\"xaxis\":{\"gridcolor\":\"white\",\"linecolor\":\"white\",\"ticks\":\"\",\"title\":{\"standoff\":15},\"zerolinecolor\":\"white\",\"automargin\":true,\"zerolinewidth\":2},\"yaxis\":{\"gridcolor\":\"white\",\"linecolor\":\"white\",\"ticks\":\"\",\"title\":{\"standoff\":15},\"zerolinecolor\":\"white\",\"automargin\":true,\"zerolinewidth\":2},\"scene\":{\"xaxis\":{\"backgroundcolor\":\"#E5ECF6\",\"gridcolor\":\"white\",\"linecolor\":\"white\",\"showbackground\":true,\"ticks\":\"\",\"zerolinecolor\":\"white\",\"gridwidth\":2},\"yaxis\":{\"backgroundcolor\":\"#E5ECF6\",\"gridcolor\":\"white\",\"linecolor\":\"white\",\"showbackground\":true,\"ticks\":\"\",\"zerolinecolor\":\"white\",\"gridwidth\":2},\"zaxis\":{\"backgroundcolor\":\"#E5ECF6\",\"gridcolor\":\"white\",\"linecolor\":\"white\",\"showbackground\":true,\"ticks\":\"\",\"zerolinecolor\":\"white\",\"gridwidth\":2}},\"shapedefaults\":{\"line\":{\"color\":\"#2a3f5f\"}},\"annotationdefaults\":{\"arrowcolor\":\"#2a3f5f\",\"arrowhead\":0,\"arrowwidth\":1},\"geo\":{\"bgcolor\":\"white\",\"landcolor\":\"#E5ECF6\",\"subunitcolor\":\"white\",\"showland\":true,\"showlakes\":true,\"lakecolor\":\"white\"},\"title\":{\"x\":0.05},\"mapbox\":{\"style\":\"light\"}}},\"xaxis\":{\"anchor\":\"y\",\"domain\":[0.0,1.0],\"title\":{\"text\":\"Fecha\"}},\"yaxis\":{\"anchor\":\"x\",\"domain\":[0.0,1.0],\"title\":{\"text\":\"TOTAL_VENTAS\"}},\"legend\":{\"tracegroupgap\":0},\"title\":{\"text\":\"Distribución de Ventas Realizadas por Mes y Año\"}},                        {\"responsive\": true}                    ).then(function(){\n",
              "                            \n",
              "var gd = document.getElementById('2a6f87ef-abc0-46dd-93a1-f9df4daa96fa');\n",
              "var x = new MutationObserver(function (mutations, observer) {{\n",
              "        var display = window.getComputedStyle(gd).display;\n",
              "        if (!display || display === 'none') {{\n",
              "            console.log([gd, 'removed!']);\n",
              "            Plotly.purge(gd);\n",
              "            observer.disconnect();\n",
              "        }}\n",
              "}});\n",
              "\n",
              "// Listen for the removal of the full notebook cells\n",
              "var notebookContainer = gd.closest('#notebook-container');\n",
              "if (notebookContainer) {{\n",
              "    x.observe(notebookContainer, {childList: true});\n",
              "}}\n",
              "\n",
              "// Listen for the clearing of the current output cell\n",
              "var outputEl = gd.closest('.output');\n",
              "if (outputEl) {{\n",
              "    x.observe(outputEl, {childList: true});\n",
              "}}\n",
              "\n",
              "                        })                };                            </script>        </div>\n",
              "</body>\n",
              "</html>"
            ]
          },
          "metadata": {}
        }
      ]
    },
    {
      "cell_type": "markdown",
      "source": [
        "Este gráfico muestra la distribución de ventas realizadas por mes y año y refleja el comportamiento general de las ventas en todos los países, pero es importante destacar que este tipo de gráfico no es representativo de las tendencias o características de un solo país y se puede comprobar que en los meses de Enero se ha consumido menos en todos los países, lo que podría estar relacionado con la finalización de la Navidad."
      ],
      "metadata": {
        "id": "gEazuV6qVVDh"
      }
    },
    {
      "cell_type": "markdown",
      "source": [
        "# DISTRIBUCIÓN DE LAS VENTAS POR MARCA"
      ],
      "metadata": {
        "id": "ySH_VllxkUoS"
      }
    },
    {
      "cell_type": "code",
      "source": [
        "ventas_marca_periodo = df_ventas_actual.groupby(['SUBBRAND', 'PERIODO'])['AMOUNT'].sum().reset_index(name='TOTAL_VENTAS')\n",
        "\n",
        "fig = px.line(ventas_marca_periodo, x='PERIODO', y='TOTAL_VENTAS', color='SUBBRAND',\n",
        "              title='Distribución de Ventas Realizadas por Marca a lo Largo del Tiempo',\n",
        "              labels={'NUM_VENTAS': 'Número de Ventas', 'PERIODO': 'Fecha', 'SUBBRAND': 'Marca'})\n",
        "fig.show()\n"
      ],
      "metadata": {
        "colab": {
          "base_uri": "https://localhost:8080/",
          "height": 542
        },
        "id": "oFK0Kb3ZWvCU",
        "outputId": "f8b268c7-5401-4f4a-c390-0582d35846fe"
      },
      "execution_count": null,
      "outputs": [
        {
          "output_type": "display_data",
          "data": {
            "text/html": [
              "<html>\n",
              "<head><meta charset=\"utf-8\" /></head>\n",
              "<body>\n",
              "    <div>            <script src=\"https://cdnjs.cloudflare.com/ajax/libs/mathjax/2.7.5/MathJax.js?config=TeX-AMS-MML_SVG\"></script><script type=\"text/javascript\">if (window.MathJax && window.MathJax.Hub && window.MathJax.Hub.Config) {window.MathJax.Hub.Config({SVG: {font: \"STIX-Web\"}});}</script>                <script type=\"text/javascript\">window.PlotlyConfig = {MathJaxConfig: 'local'};</script>\n",
              "        <script charset=\"utf-8\" src=\"https://cdn.plot.ly/plotly-2.35.2.min.js\"></script>                <div id=\"72507c63-4990-4a16-b6b5-910b849c334c\" class=\"plotly-graph-div\" style=\"height:525px; width:100%;\"></div>            <script type=\"text/javascript\">                                    window.PLOTLYENV=window.PLOTLYENV || {};                                    if (document.getElementById(\"72507c63-4990-4a16-b6b5-910b849c334c\")) {                    Plotly.newPlot(                        \"72507c63-4990-4a16-b6b5-910b849c334c\",                        [{\"hovertemplate\":\"Marca=7up (L3)\\u003cbr\\u003eFecha=%{x}\\u003cbr\\u003eTOTAL_VENTAS=%{y}\\u003cextra\\u003e\\u003c\\u002fextra\\u003e\",\"legendgroup\":\"7up (L3)\",\"line\":{\"color\":\"#636efa\",\"dash\":\"solid\"},\"marker\":{\"symbol\":\"circle\"},\"mode\":\"lines\",\"name\":\"7up (L3)\",\"orientation\":\"v\",\"showlegend\":true,\"x\":[\"2023-01-01T00:00:00\",\"2023-02-01T00:00:00\",\"2023-03-01T00:00:00\",\"2023-04-01T00:00:00\",\"2023-05-01T00:00:00\",\"2023-06-01T00:00:00\",\"2023-07-01T00:00:00\",\"2023-08-01T00:00:00\",\"2023-09-01T00:00:00\",\"2023-10-01T00:00:00\",\"2023-11-01T00:00:00\",\"2023-12-01T00:00:00\",\"2024-01-01T00:00:00\",\"2024-02-01T00:00:00\",\"2024-03-01T00:00:00\",\"2024-04-01T00:00:00\",\"2024-05-01T00:00:00\",\"2024-06-01T00:00:00\",\"2024-07-01T00:00:00\",\"2024-08-01T00:00:00\"],\"xaxis\":\"x\",\"y\":[741126.2195938092,704156.5570998852,846298.8756986468,839424.6387584375,1035666.3825510627,1168746.9843074821,1251031.7751063732,1246907.704134643,981467.3603742084,893193.1267496989,777779.6883914042,893276.6010596864,777844.3326528851,774341.5467820334,818093.2766178242,847592.9850227558,1006827.196360769,980115.221675477,1064826.82451234,1159361.663702068],\"yaxis\":\"y\",\"type\":\"scatter\"},{\"hovertemplate\":\"Marca=7up Free (L3)\\u003cbr\\u003eFecha=%{x}\\u003cbr\\u003eTOTAL_VENTAS=%{y}\\u003cextra\\u003e\\u003c\\u002fextra\\u003e\",\"legendgroup\":\"7up Free (L3)\",\"line\":{\"color\":\"#EF553B\",\"dash\":\"solid\"},\"marker\":{\"symbol\":\"circle\"},\"mode\":\"lines\",\"name\":\"7up Free (L3)\",\"orientation\":\"v\",\"showlegend\":true,\"x\":[\"2023-01-01T00:00:00\",\"2023-02-01T00:00:00\",\"2023-03-01T00:00:00\",\"2023-04-01T00:00:00\",\"2023-05-01T00:00:00\",\"2023-06-01T00:00:00\",\"2023-07-01T00:00:00\",\"2023-08-01T00:00:00\",\"2023-09-01T00:00:00\",\"2023-10-01T00:00:00\",\"2023-11-01T00:00:00\",\"2023-12-01T00:00:00\",\"2024-01-01T00:00:00\",\"2024-02-01T00:00:00\",\"2024-03-01T00:00:00\",\"2024-04-01T00:00:00\",\"2024-05-01T00:00:00\",\"2024-06-01T00:00:00\",\"2024-07-01T00:00:00\",\"2024-08-01T00:00:00\"],\"xaxis\":\"x\",\"y\":[1308114.5062098019,1320526.1988122833,1704413.9577450815,1603991.817444716,1843327.4474267715,2004753.217850539,2171817.7187261805,1924541.2194017214,1780355.3665767193,1618881.758755486,1485241.6595156123,1555995.8722110486,1337362.7602403965,1267755.173639039,1610298.5858034,1712813.5616556644,1842466.510799349,1916182.3153860809,2049339.555891737,2218119.746271655],\"yaxis\":\"y\",\"type\":\"scatter\"},{\"hovertemplate\":\"Marca=Lipton (L3)\\u003cbr\\u003eFecha=%{x}\\u003cbr\\u003eTOTAL_VENTAS=%{y}\\u003cextra\\u003e\\u003c\\u002fextra\\u003e\",\"legendgroup\":\"Lipton (L3)\",\"line\":{\"color\":\"#00cc96\",\"dash\":\"solid\"},\"marker\":{\"symbol\":\"circle\"},\"mode\":\"lines\",\"name\":\"Lipton (L3)\",\"orientation\":\"v\",\"showlegend\":true,\"x\":[\"2023-01-01T00:00:00\",\"2023-02-01T00:00:00\",\"2023-03-01T00:00:00\",\"2023-04-01T00:00:00\",\"2023-05-01T00:00:00\",\"2023-06-01T00:00:00\",\"2023-07-01T00:00:00\",\"2023-08-01T00:00:00\",\"2023-09-01T00:00:00\",\"2023-10-01T00:00:00\",\"2023-11-01T00:00:00\",\"2023-12-01T00:00:00\",\"2024-01-01T00:00:00\",\"2024-02-01T00:00:00\",\"2024-03-01T00:00:00\",\"2024-04-01T00:00:00\",\"2024-05-01T00:00:00\",\"2024-06-01T00:00:00\",\"2024-07-01T00:00:00\",\"2024-08-01T00:00:00\"],\"xaxis\":\"x\",\"y\":[3399210.150542785,2382211.9310616893,4228475.459549992,3204295.6208965294,2983943.7417085236,4858290.2694139965,4716942.294522959,5187959.776410302,3005694.039084063,3773552.321309527,3042503.3674841505,3204757.198254571,2634821.649695075,2762567.3533371966,3052657.216276655,3435835.559318036,3770765.408268942,4241625.090699024,4373580.627038523,4828370.300381102],\"yaxis\":\"y\",\"type\":\"scatter\"},{\"hovertemplate\":\"Marca=Mountain Dew (L3)\\u003cbr\\u003eFecha=%{x}\\u003cbr\\u003eTOTAL_VENTAS=%{y}\\u003cextra\\u003e\\u003c\\u002fextra\\u003e\",\"legendgroup\":\"Mountain Dew (L3)\",\"line\":{\"color\":\"#ab63fa\",\"dash\":\"solid\"},\"marker\":{\"symbol\":\"circle\"},\"mode\":\"lines\",\"name\":\"Mountain Dew (L3)\",\"orientation\":\"v\",\"showlegend\":true,\"x\":[\"2023-01-01T00:00:00\",\"2023-02-01T00:00:00\",\"2023-03-01T00:00:00\",\"2023-04-01T00:00:00\",\"2023-05-01T00:00:00\",\"2023-06-01T00:00:00\",\"2023-07-01T00:00:00\",\"2023-08-01T00:00:00\",\"2023-09-01T00:00:00\",\"2023-10-01T00:00:00\",\"2023-11-01T00:00:00\",\"2023-12-01T00:00:00\",\"2024-01-01T00:00:00\",\"2024-02-01T00:00:00\",\"2024-03-01T00:00:00\",\"2024-04-01T00:00:00\",\"2024-05-01T00:00:00\",\"2024-06-01T00:00:00\",\"2024-07-01T00:00:00\",\"2024-08-01T00:00:00\"],\"xaxis\":\"x\",\"y\":[288326.66093707073,273631.52240530314,394356.48700626264,332209.93244245264,495651.96566872485,412288.7645910971,403009.3576703205,380342.58447091636,367751.273872338,336578.92227797233,366421.5605531409,314170.6953021268,295520.4547364268,348896.24361056124,384656.7826551746,370644.0784009496,439523.227758487,405097.773558853,440468.737892118,424843.93073763803],\"yaxis\":\"y\",\"type\":\"scatter\"},{\"hovertemplate\":\"Marca=Pepsi Max (L3)\\u003cbr\\u003eFecha=%{x}\\u003cbr\\u003eTOTAL_VENTAS=%{y}\\u003cextra\\u003e\\u003c\\u002fextra\\u003e\",\"legendgroup\":\"Pepsi Max (L3)\",\"line\":{\"color\":\"#FFA15A\",\"dash\":\"solid\"},\"marker\":{\"symbol\":\"circle\"},\"mode\":\"lines\",\"name\":\"Pepsi Max (L3)\",\"orientation\":\"v\",\"showlegend\":true,\"x\":[\"2023-01-01T00:00:00\",\"2023-02-01T00:00:00\",\"2023-03-01T00:00:00\",\"2023-04-01T00:00:00\",\"2023-05-01T00:00:00\",\"2023-06-01T00:00:00\",\"2023-07-01T00:00:00\",\"2023-08-01T00:00:00\",\"2023-09-01T00:00:00\",\"2023-10-01T00:00:00\",\"2023-11-01T00:00:00\",\"2023-12-01T00:00:00\",\"2024-01-01T00:00:00\",\"2024-02-01T00:00:00\",\"2024-03-01T00:00:00\",\"2024-04-01T00:00:00\",\"2024-05-01T00:00:00\",\"2024-06-01T00:00:00\",\"2024-07-01T00:00:00\",\"2024-08-01T00:00:00\"],\"xaxis\":\"x\",\"y\":[14856548.128605943,15463315.96725677,20873551.914991353,17934944.15249419,22325446.036569193,21328548.8814003,18368657.109468464,21608180.963240135,19652280.390064318,18626907.831478518,20722021.60754396,21701863.908770297,15624249.97952067,18256940.63911945,21254343.204710368,20238337.23987266,23110133.530175477,21238809.837675165,20779660.905810736,22733928.40504956],\"yaxis\":\"y\",\"type\":\"scatter\"},{\"hovertemplate\":\"Marca=Pepsi Regular (L3)\\u003cbr\\u003eFecha=%{x}\\u003cbr\\u003eTOTAL_VENTAS=%{y}\\u003cextra\\u003e\\u003c\\u002fextra\\u003e\",\"legendgroup\":\"Pepsi Regular (L3)\",\"line\":{\"color\":\"#19d3f3\",\"dash\":\"solid\"},\"marker\":{\"symbol\":\"circle\"},\"mode\":\"lines\",\"name\":\"Pepsi Regular (L3)\",\"orientation\":\"v\",\"showlegend\":true,\"x\":[\"2023-01-01T00:00:00\",\"2023-02-01T00:00:00\",\"2023-03-01T00:00:00\",\"2023-04-01T00:00:00\",\"2023-05-01T00:00:00\",\"2023-06-01T00:00:00\",\"2023-07-01T00:00:00\",\"2023-08-01T00:00:00\",\"2023-09-01T00:00:00\",\"2023-10-01T00:00:00\",\"2023-11-01T00:00:00\",\"2023-12-01T00:00:00\",\"2024-01-01T00:00:00\",\"2024-02-01T00:00:00\",\"2024-03-01T00:00:00\",\"2024-04-01T00:00:00\",\"2024-05-01T00:00:00\",\"2024-06-01T00:00:00\",\"2024-07-01T00:00:00\",\"2024-08-01T00:00:00\"],\"xaxis\":\"x\",\"y\":[7495474.176311878,5960531.399477292,7884536.941011637,6942384.434413514,8218410.920301037,7827363.267069735,7127141.995042374,7826835.663979451,6380214.847097808,6200069.116219806,6523773.345204347,7161683.832293537,6221301.429466267,6479530.248697774,7377612.469294943,7093978.736550224,6602920.177329828,6305799.601206019,7008687.484501916,7192412.70237332],\"yaxis\":\"y\",\"type\":\"scatter\"}],                        {\"template\":{\"data\":{\"histogram2dcontour\":[{\"type\":\"histogram2dcontour\",\"colorbar\":{\"outlinewidth\":0,\"ticks\":\"\"},\"colorscale\":[[0.0,\"#0d0887\"],[0.1111111111111111,\"#46039f\"],[0.2222222222222222,\"#7201a8\"],[0.3333333333333333,\"#9c179e\"],[0.4444444444444444,\"#bd3786\"],[0.5555555555555556,\"#d8576b\"],[0.6666666666666666,\"#ed7953\"],[0.7777777777777778,\"#fb9f3a\"],[0.8888888888888888,\"#fdca26\"],[1.0,\"#f0f921\"]]}],\"choropleth\":[{\"type\":\"choropleth\",\"colorbar\":{\"outlinewidth\":0,\"ticks\":\"\"}}],\"histogram2d\":[{\"type\":\"histogram2d\",\"colorbar\":{\"outlinewidth\":0,\"ticks\":\"\"},\"colorscale\":[[0.0,\"#0d0887\"],[0.1111111111111111,\"#46039f\"],[0.2222222222222222,\"#7201a8\"],[0.3333333333333333,\"#9c179e\"],[0.4444444444444444,\"#bd3786\"],[0.5555555555555556,\"#d8576b\"],[0.6666666666666666,\"#ed7953\"],[0.7777777777777778,\"#fb9f3a\"],[0.8888888888888888,\"#fdca26\"],[1.0,\"#f0f921\"]]}],\"heatmap\":[{\"type\":\"heatmap\",\"colorbar\":{\"outlinewidth\":0,\"ticks\":\"\"},\"colorscale\":[[0.0,\"#0d0887\"],[0.1111111111111111,\"#46039f\"],[0.2222222222222222,\"#7201a8\"],[0.3333333333333333,\"#9c179e\"],[0.4444444444444444,\"#bd3786\"],[0.5555555555555556,\"#d8576b\"],[0.6666666666666666,\"#ed7953\"],[0.7777777777777778,\"#fb9f3a\"],[0.8888888888888888,\"#fdca26\"],[1.0,\"#f0f921\"]]}],\"heatmapgl\":[{\"type\":\"heatmapgl\",\"colorbar\":{\"outlinewidth\":0,\"ticks\":\"\"},\"colorscale\":[[0.0,\"#0d0887\"],[0.1111111111111111,\"#46039f\"],[0.2222222222222222,\"#7201a8\"],[0.3333333333333333,\"#9c179e\"],[0.4444444444444444,\"#bd3786\"],[0.5555555555555556,\"#d8576b\"],[0.6666666666666666,\"#ed7953\"],[0.7777777777777778,\"#fb9f3a\"],[0.8888888888888888,\"#fdca26\"],[1.0,\"#f0f921\"]]}],\"contourcarpet\":[{\"type\":\"contourcarpet\",\"colorbar\":{\"outlinewidth\":0,\"ticks\":\"\"}}],\"contour\":[{\"type\":\"contour\",\"colorbar\":{\"outlinewidth\":0,\"ticks\":\"\"},\"colorscale\":[[0.0,\"#0d0887\"],[0.1111111111111111,\"#46039f\"],[0.2222222222222222,\"#7201a8\"],[0.3333333333333333,\"#9c179e\"],[0.4444444444444444,\"#bd3786\"],[0.5555555555555556,\"#d8576b\"],[0.6666666666666666,\"#ed7953\"],[0.7777777777777778,\"#fb9f3a\"],[0.8888888888888888,\"#fdca26\"],[1.0,\"#f0f921\"]]}],\"surface\":[{\"type\":\"surface\",\"colorbar\":{\"outlinewidth\":0,\"ticks\":\"\"},\"colorscale\":[[0.0,\"#0d0887\"],[0.1111111111111111,\"#46039f\"],[0.2222222222222222,\"#7201a8\"],[0.3333333333333333,\"#9c179e\"],[0.4444444444444444,\"#bd3786\"],[0.5555555555555556,\"#d8576b\"],[0.6666666666666666,\"#ed7953\"],[0.7777777777777778,\"#fb9f3a\"],[0.8888888888888888,\"#fdca26\"],[1.0,\"#f0f921\"]]}],\"mesh3d\":[{\"type\":\"mesh3d\",\"colorbar\":{\"outlinewidth\":0,\"ticks\":\"\"}}],\"scatter\":[{\"fillpattern\":{\"fillmode\":\"overlay\",\"size\":10,\"solidity\":0.2},\"type\":\"scatter\"}],\"parcoords\":[{\"type\":\"parcoords\",\"line\":{\"colorbar\":{\"outlinewidth\":0,\"ticks\":\"\"}}}],\"scatterpolargl\":[{\"type\":\"scatterpolargl\",\"marker\":{\"colorbar\":{\"outlinewidth\":0,\"ticks\":\"\"}}}],\"bar\":[{\"error_x\":{\"color\":\"#2a3f5f\"},\"error_y\":{\"color\":\"#2a3f5f\"},\"marker\":{\"line\":{\"color\":\"#E5ECF6\",\"width\":0.5},\"pattern\":{\"fillmode\":\"overlay\",\"size\":10,\"solidity\":0.2}},\"type\":\"bar\"}],\"scattergeo\":[{\"type\":\"scattergeo\",\"marker\":{\"colorbar\":{\"outlinewidth\":0,\"ticks\":\"\"}}}],\"scatterpolar\":[{\"type\":\"scatterpolar\",\"marker\":{\"colorbar\":{\"outlinewidth\":0,\"ticks\":\"\"}}}],\"histogram\":[{\"marker\":{\"pattern\":{\"fillmode\":\"overlay\",\"size\":10,\"solidity\":0.2}},\"type\":\"histogram\"}],\"scattergl\":[{\"type\":\"scattergl\",\"marker\":{\"colorbar\":{\"outlinewidth\":0,\"ticks\":\"\"}}}],\"scatter3d\":[{\"type\":\"scatter3d\",\"line\":{\"colorbar\":{\"outlinewidth\":0,\"ticks\":\"\"}},\"marker\":{\"colorbar\":{\"outlinewidth\":0,\"ticks\":\"\"}}}],\"scattermapbox\":[{\"type\":\"scattermapbox\",\"marker\":{\"colorbar\":{\"outlinewidth\":0,\"ticks\":\"\"}}}],\"scatterternary\":[{\"type\":\"scatterternary\",\"marker\":{\"colorbar\":{\"outlinewidth\":0,\"ticks\":\"\"}}}],\"scattercarpet\":[{\"type\":\"scattercarpet\",\"marker\":{\"colorbar\":{\"outlinewidth\":0,\"ticks\":\"\"}}}],\"carpet\":[{\"aaxis\":{\"endlinecolor\":\"#2a3f5f\",\"gridcolor\":\"white\",\"linecolor\":\"white\",\"minorgridcolor\":\"white\",\"startlinecolor\":\"#2a3f5f\"},\"baxis\":{\"endlinecolor\":\"#2a3f5f\",\"gridcolor\":\"white\",\"linecolor\":\"white\",\"minorgridcolor\":\"white\",\"startlinecolor\":\"#2a3f5f\"},\"type\":\"carpet\"}],\"table\":[{\"cells\":{\"fill\":{\"color\":\"#EBF0F8\"},\"line\":{\"color\":\"white\"}},\"header\":{\"fill\":{\"color\":\"#C8D4E3\"},\"line\":{\"color\":\"white\"}},\"type\":\"table\"}],\"barpolar\":[{\"marker\":{\"line\":{\"color\":\"#E5ECF6\",\"width\":0.5},\"pattern\":{\"fillmode\":\"overlay\",\"size\":10,\"solidity\":0.2}},\"type\":\"barpolar\"}],\"pie\":[{\"automargin\":true,\"type\":\"pie\"}]},\"layout\":{\"autotypenumbers\":\"strict\",\"colorway\":[\"#636efa\",\"#EF553B\",\"#00cc96\",\"#ab63fa\",\"#FFA15A\",\"#19d3f3\",\"#FF6692\",\"#B6E880\",\"#FF97FF\",\"#FECB52\"],\"font\":{\"color\":\"#2a3f5f\"},\"hovermode\":\"closest\",\"hoverlabel\":{\"align\":\"left\"},\"paper_bgcolor\":\"white\",\"plot_bgcolor\":\"#E5ECF6\",\"polar\":{\"bgcolor\":\"#E5ECF6\",\"angularaxis\":{\"gridcolor\":\"white\",\"linecolor\":\"white\",\"ticks\":\"\"},\"radialaxis\":{\"gridcolor\":\"white\",\"linecolor\":\"white\",\"ticks\":\"\"}},\"ternary\":{\"bgcolor\":\"#E5ECF6\",\"aaxis\":{\"gridcolor\":\"white\",\"linecolor\":\"white\",\"ticks\":\"\"},\"baxis\":{\"gridcolor\":\"white\",\"linecolor\":\"white\",\"ticks\":\"\"},\"caxis\":{\"gridcolor\":\"white\",\"linecolor\":\"white\",\"ticks\":\"\"}},\"coloraxis\":{\"colorbar\":{\"outlinewidth\":0,\"ticks\":\"\"}},\"colorscale\":{\"sequential\":[[0.0,\"#0d0887\"],[0.1111111111111111,\"#46039f\"],[0.2222222222222222,\"#7201a8\"],[0.3333333333333333,\"#9c179e\"],[0.4444444444444444,\"#bd3786\"],[0.5555555555555556,\"#d8576b\"],[0.6666666666666666,\"#ed7953\"],[0.7777777777777778,\"#fb9f3a\"],[0.8888888888888888,\"#fdca26\"],[1.0,\"#f0f921\"]],\"sequentialminus\":[[0.0,\"#0d0887\"],[0.1111111111111111,\"#46039f\"],[0.2222222222222222,\"#7201a8\"],[0.3333333333333333,\"#9c179e\"],[0.4444444444444444,\"#bd3786\"],[0.5555555555555556,\"#d8576b\"],[0.6666666666666666,\"#ed7953\"],[0.7777777777777778,\"#fb9f3a\"],[0.8888888888888888,\"#fdca26\"],[1.0,\"#f0f921\"]],\"diverging\":[[0,\"#8e0152\"],[0.1,\"#c51b7d\"],[0.2,\"#de77ae\"],[0.3,\"#f1b6da\"],[0.4,\"#fde0ef\"],[0.5,\"#f7f7f7\"],[0.6,\"#e6f5d0\"],[0.7,\"#b8e186\"],[0.8,\"#7fbc41\"],[0.9,\"#4d9221\"],[1,\"#276419\"]]},\"xaxis\":{\"gridcolor\":\"white\",\"linecolor\":\"white\",\"ticks\":\"\",\"title\":{\"standoff\":15},\"zerolinecolor\":\"white\",\"automargin\":true,\"zerolinewidth\":2},\"yaxis\":{\"gridcolor\":\"white\",\"linecolor\":\"white\",\"ticks\":\"\",\"title\":{\"standoff\":15},\"zerolinecolor\":\"white\",\"automargin\":true,\"zerolinewidth\":2},\"scene\":{\"xaxis\":{\"backgroundcolor\":\"#E5ECF6\",\"gridcolor\":\"white\",\"linecolor\":\"white\",\"showbackground\":true,\"ticks\":\"\",\"zerolinecolor\":\"white\",\"gridwidth\":2},\"yaxis\":{\"backgroundcolor\":\"#E5ECF6\",\"gridcolor\":\"white\",\"linecolor\":\"white\",\"showbackground\":true,\"ticks\":\"\",\"zerolinecolor\":\"white\",\"gridwidth\":2},\"zaxis\":{\"backgroundcolor\":\"#E5ECF6\",\"gridcolor\":\"white\",\"linecolor\":\"white\",\"showbackground\":true,\"ticks\":\"\",\"zerolinecolor\":\"white\",\"gridwidth\":2}},\"shapedefaults\":{\"line\":{\"color\":\"#2a3f5f\"}},\"annotationdefaults\":{\"arrowcolor\":\"#2a3f5f\",\"arrowhead\":0,\"arrowwidth\":1},\"geo\":{\"bgcolor\":\"white\",\"landcolor\":\"#E5ECF6\",\"subunitcolor\":\"white\",\"showland\":true,\"showlakes\":true,\"lakecolor\":\"white\"},\"title\":{\"x\":0.05},\"mapbox\":{\"style\":\"light\"}}},\"xaxis\":{\"anchor\":\"y\",\"domain\":[0.0,1.0],\"title\":{\"text\":\"Fecha\"}},\"yaxis\":{\"anchor\":\"x\",\"domain\":[0.0,1.0],\"title\":{\"text\":\"TOTAL_VENTAS\"}},\"legend\":{\"title\":{\"text\":\"Marca\"},\"tracegroupgap\":0},\"title\":{\"text\":\"Distribución de Ventas Realizadas por Marca a lo Largo del Tiempo\"}},                        {\"responsive\": true}                    ).then(function(){\n",
              "                            \n",
              "var gd = document.getElementById('72507c63-4990-4a16-b6b5-910b849c334c');\n",
              "var x = new MutationObserver(function (mutations, observer) {{\n",
              "        var display = window.getComputedStyle(gd).display;\n",
              "        if (!display || display === 'none') {{\n",
              "            console.log([gd, 'removed!']);\n",
              "            Plotly.purge(gd);\n",
              "            observer.disconnect();\n",
              "        }}\n",
              "}});\n",
              "\n",
              "// Listen for the removal of the full notebook cells\n",
              "var notebookContainer = gd.closest('#notebook-container');\n",
              "if (notebookContainer) {{\n",
              "    x.observe(notebookContainer, {childList: true});\n",
              "}}\n",
              "\n",
              "// Listen for the clearing of the current output cell\n",
              "var outputEl = gd.closest('.output');\n",
              "if (outputEl) {{\n",
              "    x.observe(outputEl, {childList: true});\n",
              "}}\n",
              "\n",
              "                        })                };                            </script>        </div>\n",
              "</body>\n",
              "</html>"
            ]
          },
          "metadata": {}
        }
      ]
    },
    {
      "cell_type": "markdown",
      "source": [
        "Podemos ver que todas siguen más o menos la misma distribución, aunque cada una con su cantidad de ventas por mes particular. La marca más vendida es Pepsi y la que menos Mountain Dew."
      ],
      "metadata": {
        "id": "kOKs4aiWxs9c"
      }
    },
    {
      "cell_type": "markdown",
      "source": [
        "# TENDENCIA Y ESTACIONALIDAD DE TODAS LAS VENTAS DEL PAÍS CON MENOS VENTAS"
      ],
      "metadata": {
        "id": "_MzjmpbEnpQA"
      }
    },
    {
      "cell_type": "code",
      "source": [
        "ventas_pais = df_ventas_actual.groupby('COUNTRY')['AMOUNT'].sum().reset_index(name='TOTAL_VENTAS')\n",
        "ventas_pais = ventas_pais.sort_values(by=['TOTAL_VENTAS'])\n",
        "ventas_pais.head(1)"
      ],
      "metadata": {
        "colab": {
          "base_uri": "https://localhost:8080/",
          "height": 81
        },
        "id": "tvLTARjQn-wo",
        "outputId": "d6aed962-1f92-4e10-8be3-632bef6be440"
      },
      "execution_count": null,
      "outputs": [
        {
          "output_type": "execute_result",
          "data": {
            "text/plain": [
              "  COUNTRY  TOTAL_VENTAS\n",
              "8   Spain  8.131266e+06"
            ],
            "text/html": [
              "\n",
              "  <div id=\"df-e9a56bcb-a88b-4641-ac7e-12eb9e1aeacc\" class=\"colab-df-container\">\n",
              "    <div>\n",
              "<style scoped>\n",
              "    .dataframe tbody tr th:only-of-type {\n",
              "        vertical-align: middle;\n",
              "    }\n",
              "\n",
              "    .dataframe tbody tr th {\n",
              "        vertical-align: top;\n",
              "    }\n",
              "\n",
              "    .dataframe thead th {\n",
              "        text-align: right;\n",
              "    }\n",
              "</style>\n",
              "<table border=\"1\" class=\"dataframe\">\n",
              "  <thead>\n",
              "    <tr style=\"text-align: right;\">\n",
              "      <th></th>\n",
              "      <th>COUNTRY</th>\n",
              "      <th>TOTAL_VENTAS</th>\n",
              "    </tr>\n",
              "  </thead>\n",
              "  <tbody>\n",
              "    <tr>\n",
              "      <th>8</th>\n",
              "      <td>Spain</td>\n",
              "      <td>8.131266e+06</td>\n",
              "    </tr>\n",
              "  </tbody>\n",
              "</table>\n",
              "</div>\n",
              "    <div class=\"colab-df-buttons\">\n",
              "\n",
              "  <div class=\"colab-df-container\">\n",
              "    <button class=\"colab-df-convert\" onclick=\"convertToInteractive('df-e9a56bcb-a88b-4641-ac7e-12eb9e1aeacc')\"\n",
              "            title=\"Convert this dataframe to an interactive table.\"\n",
              "            style=\"display:none;\">\n",
              "\n",
              "  <svg xmlns=\"http://www.w3.org/2000/svg\" height=\"24px\" viewBox=\"0 -960 960 960\">\n",
              "    <path d=\"M120-120v-720h720v720H120Zm60-500h600v-160H180v160Zm220 220h160v-160H400v160Zm0 220h160v-160H400v160ZM180-400h160v-160H180v160Zm440 0h160v-160H620v160ZM180-180h160v-160H180v160Zm440 0h160v-160H620v160Z\"/>\n",
              "  </svg>\n",
              "    </button>\n",
              "\n",
              "  <style>\n",
              "    .colab-df-container {\n",
              "      display:flex;\n",
              "      gap: 12px;\n",
              "    }\n",
              "\n",
              "    .colab-df-convert {\n",
              "      background-color: #E8F0FE;\n",
              "      border: none;\n",
              "      border-radius: 50%;\n",
              "      cursor: pointer;\n",
              "      display: none;\n",
              "      fill: #1967D2;\n",
              "      height: 32px;\n",
              "      padding: 0 0 0 0;\n",
              "      width: 32px;\n",
              "    }\n",
              "\n",
              "    .colab-df-convert:hover {\n",
              "      background-color: #E2EBFA;\n",
              "      box-shadow: 0px 1px 2px rgba(60, 64, 67, 0.3), 0px 1px 3px 1px rgba(60, 64, 67, 0.15);\n",
              "      fill: #174EA6;\n",
              "    }\n",
              "\n",
              "    .colab-df-buttons div {\n",
              "      margin-bottom: 4px;\n",
              "    }\n",
              "\n",
              "    [theme=dark] .colab-df-convert {\n",
              "      background-color: #3B4455;\n",
              "      fill: #D2E3FC;\n",
              "    }\n",
              "\n",
              "    [theme=dark] .colab-df-convert:hover {\n",
              "      background-color: #434B5C;\n",
              "      box-shadow: 0px 1px 3px 1px rgba(0, 0, 0, 0.15);\n",
              "      filter: drop-shadow(0px 1px 2px rgba(0, 0, 0, 0.3));\n",
              "      fill: #FFFFFF;\n",
              "    }\n",
              "  </style>\n",
              "\n",
              "    <script>\n",
              "      const buttonEl =\n",
              "        document.querySelector('#df-e9a56bcb-a88b-4641-ac7e-12eb9e1aeacc button.colab-df-convert');\n",
              "      buttonEl.style.display =\n",
              "        google.colab.kernel.accessAllowed ? 'block' : 'none';\n",
              "\n",
              "      async function convertToInteractive(key) {\n",
              "        const element = document.querySelector('#df-e9a56bcb-a88b-4641-ac7e-12eb9e1aeacc');\n",
              "        const dataTable =\n",
              "          await google.colab.kernel.invokeFunction('convertToInteractive',\n",
              "                                                    [key], {});\n",
              "        if (!dataTable) return;\n",
              "\n",
              "        const docLinkHtml = 'Like what you see? Visit the ' +\n",
              "          '<a target=\"_blank\" href=https://colab.research.google.com/notebooks/data_table.ipynb>data table notebook</a>'\n",
              "          + ' to learn more about interactive tables.';\n",
              "        element.innerHTML = '';\n",
              "        dataTable['output_type'] = 'display_data';\n",
              "        await google.colab.output.renderOutput(dataTable, element);\n",
              "        const docLink = document.createElement('div');\n",
              "        docLink.innerHTML = docLinkHtml;\n",
              "        element.appendChild(docLink);\n",
              "      }\n",
              "    </script>\n",
              "  </div>\n",
              "\n",
              "\n",
              "    </div>\n",
              "  </div>\n"
            ],
            "application/vnd.google.colaboratory.intrinsic+json": {
              "type": "dataframe",
              "variable_name": "ventas_pais",
              "summary": "{\n  \"name\": \"ventas_pais\",\n  \"rows\": 9,\n  \"fields\": [\n    {\n      \"column\": \"COUNTRY\",\n      \"properties\": {\n        \"dtype\": \"string\",\n        \"num_unique_values\": 9,\n        \"samples\": [\n          \"Netherlands\",\n          \"Portugal\",\n          \"Norway\"\n        ],\n        \"semantic_type\": \"\",\n        \"description\": \"\"\n      }\n    },\n    {\n      \"column\": \"TOTAL_VENTAS\",\n      \"properties\": {\n        \"dtype\": \"number\",\n        \"std\": 98908162.53054385,\n        \"min\": 8131265.977520084,\n        \"max\": 334778603.75283086,\n        \"num_unique_values\": 9,\n        \"samples\": [\n          63959428.7739604,\n          34888069.81380808,\n          51436967.401420735\n        ],\n        \"semantic_type\": \"\",\n        \"description\": \"\"\n      }\n    }\n  ]\n}"
            }
          },
          "metadata": {},
          "execution_count": 68
        }
      ]
    },
    {
      "cell_type": "markdown",
      "source": [
        "Podemos comprobar que efectivamente, aunque ya lo sabíamos antes es España el país con menos ventas."
      ],
      "metadata": {
        "id": "BjufmxqHqT3Y"
      }
    },
    {
      "cell_type": "code",
      "source": [
        "dfVentas_Espana = df_ventas_actual[df_ventas_actual['COUNTRY'] == 'Spain']\n",
        "dfVentas_Espana.head()"
      ],
      "metadata": {
        "colab": {
          "base_uri": "https://localhost:8080/",
          "height": 206
        },
        "id": "VVpRbYqxqz7K",
        "outputId": "60e06c7d-ec9e-4118-bc93-ebe33dc55963"
      },
      "execution_count": null,
      "outputs": [
        {
          "output_type": "execute_result",
          "data": {
            "text/plain": [
              "    COUNTRY       SUBBRAND  YEAR  MONTH SCENARIO FORECAST  FORECAST_YEAR  \\\n",
              "296   Spain  7up Free (L3)  2023     10   actual      NaN           <NA>   \n",
              "414   Spain  7up Free (L3)  2024      1   actual      NaN           <NA>   \n",
              "728   Spain  7up Free (L3)  2024      2   actual      NaN           <NA>   \n",
              "729   Spain    Lipton (L3)  2024      2   actual      NaN           <NA>   \n",
              "835   Spain       7up (L3)  2024      4   actual      NaN           <NA>   \n",
              "\n",
              "           AMOUNT    PERIODO  \n",
              "296  83196.895876 2023-10-01  \n",
              "414  60318.994231 2024-01-01  \n",
              "728  59482.850585 2024-02-01  \n",
              "729   8003.513133 2024-02-01  \n",
              "835  74882.992962 2024-04-01  "
            ],
            "text/html": [
              "\n",
              "  <div id=\"df-9bb18999-f09e-4904-ab5e-f12e6e818b8f\" class=\"colab-df-container\">\n",
              "    <div>\n",
              "<style scoped>\n",
              "    .dataframe tbody tr th:only-of-type {\n",
              "        vertical-align: middle;\n",
              "    }\n",
              "\n",
              "    .dataframe tbody tr th {\n",
              "        vertical-align: top;\n",
              "    }\n",
              "\n",
              "    .dataframe thead th {\n",
              "        text-align: right;\n",
              "    }\n",
              "</style>\n",
              "<table border=\"1\" class=\"dataframe\">\n",
              "  <thead>\n",
              "    <tr style=\"text-align: right;\">\n",
              "      <th></th>\n",
              "      <th>COUNTRY</th>\n",
              "      <th>SUBBRAND</th>\n",
              "      <th>YEAR</th>\n",
              "      <th>MONTH</th>\n",
              "      <th>SCENARIO</th>\n",
              "      <th>FORECAST</th>\n",
              "      <th>FORECAST_YEAR</th>\n",
              "      <th>AMOUNT</th>\n",
              "      <th>PERIODO</th>\n",
              "    </tr>\n",
              "  </thead>\n",
              "  <tbody>\n",
              "    <tr>\n",
              "      <th>296</th>\n",
              "      <td>Spain</td>\n",
              "      <td>7up Free (L3)</td>\n",
              "      <td>2023</td>\n",
              "      <td>10</td>\n",
              "      <td>actual</td>\n",
              "      <td>NaN</td>\n",
              "      <td>&lt;NA&gt;</td>\n",
              "      <td>83196.895876</td>\n",
              "      <td>2023-10-01</td>\n",
              "    </tr>\n",
              "    <tr>\n",
              "      <th>414</th>\n",
              "      <td>Spain</td>\n",
              "      <td>7up Free (L3)</td>\n",
              "      <td>2024</td>\n",
              "      <td>1</td>\n",
              "      <td>actual</td>\n",
              "      <td>NaN</td>\n",
              "      <td>&lt;NA&gt;</td>\n",
              "      <td>60318.994231</td>\n",
              "      <td>2024-01-01</td>\n",
              "    </tr>\n",
              "    <tr>\n",
              "      <th>728</th>\n",
              "      <td>Spain</td>\n",
              "      <td>7up Free (L3)</td>\n",
              "      <td>2024</td>\n",
              "      <td>2</td>\n",
              "      <td>actual</td>\n",
              "      <td>NaN</td>\n",
              "      <td>&lt;NA&gt;</td>\n",
              "      <td>59482.850585</td>\n",
              "      <td>2024-02-01</td>\n",
              "    </tr>\n",
              "    <tr>\n",
              "      <th>729</th>\n",
              "      <td>Spain</td>\n",
              "      <td>Lipton (L3)</td>\n",
              "      <td>2024</td>\n",
              "      <td>2</td>\n",
              "      <td>actual</td>\n",
              "      <td>NaN</td>\n",
              "      <td>&lt;NA&gt;</td>\n",
              "      <td>8003.513133</td>\n",
              "      <td>2024-02-01</td>\n",
              "    </tr>\n",
              "    <tr>\n",
              "      <th>835</th>\n",
              "      <td>Spain</td>\n",
              "      <td>7up (L3)</td>\n",
              "      <td>2024</td>\n",
              "      <td>4</td>\n",
              "      <td>actual</td>\n",
              "      <td>NaN</td>\n",
              "      <td>&lt;NA&gt;</td>\n",
              "      <td>74882.992962</td>\n",
              "      <td>2024-04-01</td>\n",
              "    </tr>\n",
              "  </tbody>\n",
              "</table>\n",
              "</div>\n",
              "    <div class=\"colab-df-buttons\">\n",
              "\n",
              "  <div class=\"colab-df-container\">\n",
              "    <button class=\"colab-df-convert\" onclick=\"convertToInteractive('df-9bb18999-f09e-4904-ab5e-f12e6e818b8f')\"\n",
              "            title=\"Convert this dataframe to an interactive table.\"\n",
              "            style=\"display:none;\">\n",
              "\n",
              "  <svg xmlns=\"http://www.w3.org/2000/svg\" height=\"24px\" viewBox=\"0 -960 960 960\">\n",
              "    <path d=\"M120-120v-720h720v720H120Zm60-500h600v-160H180v160Zm220 220h160v-160H400v160Zm0 220h160v-160H400v160ZM180-400h160v-160H180v160Zm440 0h160v-160H620v160ZM180-180h160v-160H180v160Zm440 0h160v-160H620v160Z\"/>\n",
              "  </svg>\n",
              "    </button>\n",
              "\n",
              "  <style>\n",
              "    .colab-df-container {\n",
              "      display:flex;\n",
              "      gap: 12px;\n",
              "    }\n",
              "\n",
              "    .colab-df-convert {\n",
              "      background-color: #E8F0FE;\n",
              "      border: none;\n",
              "      border-radius: 50%;\n",
              "      cursor: pointer;\n",
              "      display: none;\n",
              "      fill: #1967D2;\n",
              "      height: 32px;\n",
              "      padding: 0 0 0 0;\n",
              "      width: 32px;\n",
              "    }\n",
              "\n",
              "    .colab-df-convert:hover {\n",
              "      background-color: #E2EBFA;\n",
              "      box-shadow: 0px 1px 2px rgba(60, 64, 67, 0.3), 0px 1px 3px 1px rgba(60, 64, 67, 0.15);\n",
              "      fill: #174EA6;\n",
              "    }\n",
              "\n",
              "    .colab-df-buttons div {\n",
              "      margin-bottom: 4px;\n",
              "    }\n",
              "\n",
              "    [theme=dark] .colab-df-convert {\n",
              "      background-color: #3B4455;\n",
              "      fill: #D2E3FC;\n",
              "    }\n",
              "\n",
              "    [theme=dark] .colab-df-convert:hover {\n",
              "      background-color: #434B5C;\n",
              "      box-shadow: 0px 1px 3px 1px rgba(0, 0, 0, 0.15);\n",
              "      filter: drop-shadow(0px 1px 2px rgba(0, 0, 0, 0.3));\n",
              "      fill: #FFFFFF;\n",
              "    }\n",
              "  </style>\n",
              "\n",
              "    <script>\n",
              "      const buttonEl =\n",
              "        document.querySelector('#df-9bb18999-f09e-4904-ab5e-f12e6e818b8f button.colab-df-convert');\n",
              "      buttonEl.style.display =\n",
              "        google.colab.kernel.accessAllowed ? 'block' : 'none';\n",
              "\n",
              "      async function convertToInteractive(key) {\n",
              "        const element = document.querySelector('#df-9bb18999-f09e-4904-ab5e-f12e6e818b8f');\n",
              "        const dataTable =\n",
              "          await google.colab.kernel.invokeFunction('convertToInteractive',\n",
              "                                                    [key], {});\n",
              "        if (!dataTable) return;\n",
              "\n",
              "        const docLinkHtml = 'Like what you see? Visit the ' +\n",
              "          '<a target=\"_blank\" href=https://colab.research.google.com/notebooks/data_table.ipynb>data table notebook</a>'\n",
              "          + ' to learn more about interactive tables.';\n",
              "        element.innerHTML = '';\n",
              "        dataTable['output_type'] = 'display_data';\n",
              "        await google.colab.output.renderOutput(dataTable, element);\n",
              "        const docLink = document.createElement('div');\n",
              "        docLink.innerHTML = docLinkHtml;\n",
              "        element.appendChild(docLink);\n",
              "      }\n",
              "    </script>\n",
              "  </div>\n",
              "\n",
              "\n",
              "<div id=\"df-2433a29b-26a3-4263-95e3-4ae5bc527968\">\n",
              "  <button class=\"colab-df-quickchart\" onclick=\"quickchart('df-2433a29b-26a3-4263-95e3-4ae5bc527968')\"\n",
              "            title=\"Suggest charts\"\n",
              "            style=\"display:none;\">\n",
              "\n",
              "<svg xmlns=\"http://www.w3.org/2000/svg\" height=\"24px\"viewBox=\"0 0 24 24\"\n",
              "     width=\"24px\">\n",
              "    <g>\n",
              "        <path d=\"M19 3H5c-1.1 0-2 .9-2 2v14c0 1.1.9 2 2 2h14c1.1 0 2-.9 2-2V5c0-1.1-.9-2-2-2zM9 17H7v-7h2v7zm4 0h-2V7h2v10zm4 0h-2v-4h2v4z\"/>\n",
              "    </g>\n",
              "</svg>\n",
              "  </button>\n",
              "\n",
              "<style>\n",
              "  .colab-df-quickchart {\n",
              "      --bg-color: #E8F0FE;\n",
              "      --fill-color: #1967D2;\n",
              "      --hover-bg-color: #E2EBFA;\n",
              "      --hover-fill-color: #174EA6;\n",
              "      --disabled-fill-color: #AAA;\n",
              "      --disabled-bg-color: #DDD;\n",
              "  }\n",
              "\n",
              "  [theme=dark] .colab-df-quickchart {\n",
              "      --bg-color: #3B4455;\n",
              "      --fill-color: #D2E3FC;\n",
              "      --hover-bg-color: #434B5C;\n",
              "      --hover-fill-color: #FFFFFF;\n",
              "      --disabled-bg-color: #3B4455;\n",
              "      --disabled-fill-color: #666;\n",
              "  }\n",
              "\n",
              "  .colab-df-quickchart {\n",
              "    background-color: var(--bg-color);\n",
              "    border: none;\n",
              "    border-radius: 50%;\n",
              "    cursor: pointer;\n",
              "    display: none;\n",
              "    fill: var(--fill-color);\n",
              "    height: 32px;\n",
              "    padding: 0;\n",
              "    width: 32px;\n",
              "  }\n",
              "\n",
              "  .colab-df-quickchart:hover {\n",
              "    background-color: var(--hover-bg-color);\n",
              "    box-shadow: 0 1px 2px rgba(60, 64, 67, 0.3), 0 1px 3px 1px rgba(60, 64, 67, 0.15);\n",
              "    fill: var(--button-hover-fill-color);\n",
              "  }\n",
              "\n",
              "  .colab-df-quickchart-complete:disabled,\n",
              "  .colab-df-quickchart-complete:disabled:hover {\n",
              "    background-color: var(--disabled-bg-color);\n",
              "    fill: var(--disabled-fill-color);\n",
              "    box-shadow: none;\n",
              "  }\n",
              "\n",
              "  .colab-df-spinner {\n",
              "    border: 2px solid var(--fill-color);\n",
              "    border-color: transparent;\n",
              "    border-bottom-color: var(--fill-color);\n",
              "    animation:\n",
              "      spin 1s steps(1) infinite;\n",
              "  }\n",
              "\n",
              "  @keyframes spin {\n",
              "    0% {\n",
              "      border-color: transparent;\n",
              "      border-bottom-color: var(--fill-color);\n",
              "      border-left-color: var(--fill-color);\n",
              "    }\n",
              "    20% {\n",
              "      border-color: transparent;\n",
              "      border-left-color: var(--fill-color);\n",
              "      border-top-color: var(--fill-color);\n",
              "    }\n",
              "    30% {\n",
              "      border-color: transparent;\n",
              "      border-left-color: var(--fill-color);\n",
              "      border-top-color: var(--fill-color);\n",
              "      border-right-color: var(--fill-color);\n",
              "    }\n",
              "    40% {\n",
              "      border-color: transparent;\n",
              "      border-right-color: var(--fill-color);\n",
              "      border-top-color: var(--fill-color);\n",
              "    }\n",
              "    60% {\n",
              "      border-color: transparent;\n",
              "      border-right-color: var(--fill-color);\n",
              "    }\n",
              "    80% {\n",
              "      border-color: transparent;\n",
              "      border-right-color: var(--fill-color);\n",
              "      border-bottom-color: var(--fill-color);\n",
              "    }\n",
              "    90% {\n",
              "      border-color: transparent;\n",
              "      border-bottom-color: var(--fill-color);\n",
              "    }\n",
              "  }\n",
              "</style>\n",
              "\n",
              "  <script>\n",
              "    async function quickchart(key) {\n",
              "      const quickchartButtonEl =\n",
              "        document.querySelector('#' + key + ' button');\n",
              "      quickchartButtonEl.disabled = true;  // To prevent multiple clicks.\n",
              "      quickchartButtonEl.classList.add('colab-df-spinner');\n",
              "      try {\n",
              "        const charts = await google.colab.kernel.invokeFunction(\n",
              "            'suggestCharts', [key], {});\n",
              "      } catch (error) {\n",
              "        console.error('Error during call to suggestCharts:', error);\n",
              "      }\n",
              "      quickchartButtonEl.classList.remove('colab-df-spinner');\n",
              "      quickchartButtonEl.classList.add('colab-df-quickchart-complete');\n",
              "    }\n",
              "    (() => {\n",
              "      let quickchartButtonEl =\n",
              "        document.querySelector('#df-2433a29b-26a3-4263-95e3-4ae5bc527968 button');\n",
              "      quickchartButtonEl.style.display =\n",
              "        google.colab.kernel.accessAllowed ? 'block' : 'none';\n",
              "    })();\n",
              "  </script>\n",
              "</div>\n",
              "\n",
              "    </div>\n",
              "  </div>\n"
            ],
            "application/vnd.google.colaboratory.intrinsic+json": {
              "type": "dataframe",
              "variable_name": "dfVentas_Espana",
              "repr_error": "0"
            }
          },
          "metadata": {},
          "execution_count": 69
        }
      ]
    },
    {
      "cell_type": "code",
      "source": [
        "\n",
        "\n",
        "ventas_periodo = dfVentas_Espana.groupby('PERIODO')['AMOUNT'].sum().reset_index()\n",
        "\n",
        "fig = px.line(ventas_periodo, x='PERIODO', y='AMOUNT',\n",
        "              title='Tendencia y Estacionalidad de Ventas en España',\n",
        "              labels={'AMOUNT': 'Total Ventas', 'PERIODO': 'Fecha', 'COUNTRY': 'Spain'})\n",
        "\n",
        "ventas_periodo['TENDENCIA'] = ventas_periodo['AMOUNT'].rolling(window=3, center=True).mean()\n",
        "\n",
        "fig.add_scatter(x=ventas_periodo['PERIODO'], y=ventas_periodo['TENDENCIA'], mode='lines', name='Tendencia')\n",
        "fig.show()"
      ],
      "metadata": {
        "colab": {
          "base_uri": "https://localhost:8080/",
          "height": 542
        },
        "id": "p4-nH66Bsllr",
        "outputId": "73d9f51c-e7c3-467e-fe53-b1c52a254e64"
      },
      "execution_count": null,
      "outputs": [
        {
          "output_type": "display_data",
          "data": {
            "text/html": [
              "<html>\n",
              "<head><meta charset=\"utf-8\" /></head>\n",
              "<body>\n",
              "    <div>            <script src=\"https://cdnjs.cloudflare.com/ajax/libs/mathjax/2.7.5/MathJax.js?config=TeX-AMS-MML_SVG\"></script><script type=\"text/javascript\">if (window.MathJax && window.MathJax.Hub && window.MathJax.Hub.Config) {window.MathJax.Hub.Config({SVG: {font: \"STIX-Web\"}});}</script>                <script type=\"text/javascript\">window.PlotlyConfig = {MathJaxConfig: 'local'};</script>\n",
              "        <script charset=\"utf-8\" src=\"https://cdn.plot.ly/plotly-2.35.2.min.js\"></script>                <div id=\"d8ee91ff-6c99-4331-bbad-c7010066779e\" class=\"plotly-graph-div\" style=\"height:525px; width:100%;\"></div>            <script type=\"text/javascript\">                                    window.PLOTLYENV=window.PLOTLYENV || {};                                    if (document.getElementById(\"d8ee91ff-6c99-4331-bbad-c7010066779e\")) {                    Plotly.newPlot(                        \"d8ee91ff-6c99-4331-bbad-c7010066779e\",                        [{\"hovertemplate\":\"Fecha=%{x}\\u003cbr\\u003eTotal Ventas=%{y}\\u003cextra\\u003e\\u003c\\u002fextra\\u003e\",\"legendgroup\":\"\",\"line\":{\"color\":\"#636efa\",\"dash\":\"solid\"},\"marker\":{\"symbol\":\"circle\"},\"mode\":\"lines\",\"name\":\"\",\"orientation\":\"v\",\"showlegend\":false,\"x\":[\"2023-01-01T00:00:00\",\"2023-02-01T00:00:00\",\"2023-03-01T00:00:00\",\"2023-04-01T00:00:00\",\"2023-05-01T00:00:00\",\"2023-06-01T00:00:00\",\"2023-07-01T00:00:00\",\"2023-08-01T00:00:00\",\"2023-09-01T00:00:00\",\"2023-10-01T00:00:00\",\"2023-11-01T00:00:00\",\"2023-12-01T00:00:00\",\"2024-01-01T00:00:00\",\"2024-02-01T00:00:00\",\"2024-03-01T00:00:00\",\"2024-04-01T00:00:00\",\"2024-05-01T00:00:00\",\"2024-06-01T00:00:00\",\"2024-07-01T00:00:00\",\"2024-08-01T00:00:00\"],\"xaxis\":\"x\",\"y\":[325272.9389304911,295588.379604517,399710.27310997306,328035.2578740851,360751.156280142,439198.58628968743,496545.2361195783,564336.120819692,420041.9805910407,468425.84176011605,418006.199049298,394147.40859018476,349696.53314179694,352899.0356524695,332109.2562326968,376678.36889674753,356759.011785592,408967.746366754,506234.36278204597,537862.283643176],\"yaxis\":\"y\",\"type\":\"scatter\"},{\"mode\":\"lines\",\"name\":\"Tendencia\",\"x\":[\"2023-01-01T00:00:00\",\"2023-02-01T00:00:00\",\"2023-03-01T00:00:00\",\"2023-04-01T00:00:00\",\"2023-05-01T00:00:00\",\"2023-06-01T00:00:00\",\"2023-07-01T00:00:00\",\"2023-08-01T00:00:00\",\"2023-09-01T00:00:00\",\"2023-10-01T00:00:00\",\"2023-11-01T00:00:00\",\"2023-12-01T00:00:00\",\"2024-01-01T00:00:00\",\"2024-02-01T00:00:00\",\"2024-03-01T00:00:00\",\"2024-04-01T00:00:00\",\"2024-05-01T00:00:00\",\"2024-06-01T00:00:00\",\"2024-07-01T00:00:00\",\"2024-08-01T00:00:00\"],\"y\":[null,340190.5305483271,341111.30352952506,362832.2290880668,375995.0001479715,432164.99289646925,500026.6477429859,493641.11251010356,484267.9810569496,435491.34046681825,426859.81646653294,387283.38026042655,365580.99246148375,344901.6083423211,353895.5535939713,355182.2123050121,380801.70901636453,423987.04031146393,484354.79759732535,null],\"type\":\"scatter\"}],                        {\"template\":{\"data\":{\"histogram2dcontour\":[{\"type\":\"histogram2dcontour\",\"colorbar\":{\"outlinewidth\":0,\"ticks\":\"\"},\"colorscale\":[[0.0,\"#0d0887\"],[0.1111111111111111,\"#46039f\"],[0.2222222222222222,\"#7201a8\"],[0.3333333333333333,\"#9c179e\"],[0.4444444444444444,\"#bd3786\"],[0.5555555555555556,\"#d8576b\"],[0.6666666666666666,\"#ed7953\"],[0.7777777777777778,\"#fb9f3a\"],[0.8888888888888888,\"#fdca26\"],[1.0,\"#f0f921\"]]}],\"choropleth\":[{\"type\":\"choropleth\",\"colorbar\":{\"outlinewidth\":0,\"ticks\":\"\"}}],\"histogram2d\":[{\"type\":\"histogram2d\",\"colorbar\":{\"outlinewidth\":0,\"ticks\":\"\"},\"colorscale\":[[0.0,\"#0d0887\"],[0.1111111111111111,\"#46039f\"],[0.2222222222222222,\"#7201a8\"],[0.3333333333333333,\"#9c179e\"],[0.4444444444444444,\"#bd3786\"],[0.5555555555555556,\"#d8576b\"],[0.6666666666666666,\"#ed7953\"],[0.7777777777777778,\"#fb9f3a\"],[0.8888888888888888,\"#fdca26\"],[1.0,\"#f0f921\"]]}],\"heatmap\":[{\"type\":\"heatmap\",\"colorbar\":{\"outlinewidth\":0,\"ticks\":\"\"},\"colorscale\":[[0.0,\"#0d0887\"],[0.1111111111111111,\"#46039f\"],[0.2222222222222222,\"#7201a8\"],[0.3333333333333333,\"#9c179e\"],[0.4444444444444444,\"#bd3786\"],[0.5555555555555556,\"#d8576b\"],[0.6666666666666666,\"#ed7953\"],[0.7777777777777778,\"#fb9f3a\"],[0.8888888888888888,\"#fdca26\"],[1.0,\"#f0f921\"]]}],\"heatmapgl\":[{\"type\":\"heatmapgl\",\"colorbar\":{\"outlinewidth\":0,\"ticks\":\"\"},\"colorscale\":[[0.0,\"#0d0887\"],[0.1111111111111111,\"#46039f\"],[0.2222222222222222,\"#7201a8\"],[0.3333333333333333,\"#9c179e\"],[0.4444444444444444,\"#bd3786\"],[0.5555555555555556,\"#d8576b\"],[0.6666666666666666,\"#ed7953\"],[0.7777777777777778,\"#fb9f3a\"],[0.8888888888888888,\"#fdca26\"],[1.0,\"#f0f921\"]]}],\"contourcarpet\":[{\"type\":\"contourcarpet\",\"colorbar\":{\"outlinewidth\":0,\"ticks\":\"\"}}],\"contour\":[{\"type\":\"contour\",\"colorbar\":{\"outlinewidth\":0,\"ticks\":\"\"},\"colorscale\":[[0.0,\"#0d0887\"],[0.1111111111111111,\"#46039f\"],[0.2222222222222222,\"#7201a8\"],[0.3333333333333333,\"#9c179e\"],[0.4444444444444444,\"#bd3786\"],[0.5555555555555556,\"#d8576b\"],[0.6666666666666666,\"#ed7953\"],[0.7777777777777778,\"#fb9f3a\"],[0.8888888888888888,\"#fdca26\"],[1.0,\"#f0f921\"]]}],\"surface\":[{\"type\":\"surface\",\"colorbar\":{\"outlinewidth\":0,\"ticks\":\"\"},\"colorscale\":[[0.0,\"#0d0887\"],[0.1111111111111111,\"#46039f\"],[0.2222222222222222,\"#7201a8\"],[0.3333333333333333,\"#9c179e\"],[0.4444444444444444,\"#bd3786\"],[0.5555555555555556,\"#d8576b\"],[0.6666666666666666,\"#ed7953\"],[0.7777777777777778,\"#fb9f3a\"],[0.8888888888888888,\"#fdca26\"],[1.0,\"#f0f921\"]]}],\"mesh3d\":[{\"type\":\"mesh3d\",\"colorbar\":{\"outlinewidth\":0,\"ticks\":\"\"}}],\"scatter\":[{\"fillpattern\":{\"fillmode\":\"overlay\",\"size\":10,\"solidity\":0.2},\"type\":\"scatter\"}],\"parcoords\":[{\"type\":\"parcoords\",\"line\":{\"colorbar\":{\"outlinewidth\":0,\"ticks\":\"\"}}}],\"scatterpolargl\":[{\"type\":\"scatterpolargl\",\"marker\":{\"colorbar\":{\"outlinewidth\":0,\"ticks\":\"\"}}}],\"bar\":[{\"error_x\":{\"color\":\"#2a3f5f\"},\"error_y\":{\"color\":\"#2a3f5f\"},\"marker\":{\"line\":{\"color\":\"#E5ECF6\",\"width\":0.5},\"pattern\":{\"fillmode\":\"overlay\",\"size\":10,\"solidity\":0.2}},\"type\":\"bar\"}],\"scattergeo\":[{\"type\":\"scattergeo\",\"marker\":{\"colorbar\":{\"outlinewidth\":0,\"ticks\":\"\"}}}],\"scatterpolar\":[{\"type\":\"scatterpolar\",\"marker\":{\"colorbar\":{\"outlinewidth\":0,\"ticks\":\"\"}}}],\"histogram\":[{\"marker\":{\"pattern\":{\"fillmode\":\"overlay\",\"size\":10,\"solidity\":0.2}},\"type\":\"histogram\"}],\"scattergl\":[{\"type\":\"scattergl\",\"marker\":{\"colorbar\":{\"outlinewidth\":0,\"ticks\":\"\"}}}],\"scatter3d\":[{\"type\":\"scatter3d\",\"line\":{\"colorbar\":{\"outlinewidth\":0,\"ticks\":\"\"}},\"marker\":{\"colorbar\":{\"outlinewidth\":0,\"ticks\":\"\"}}}],\"scattermapbox\":[{\"type\":\"scattermapbox\",\"marker\":{\"colorbar\":{\"outlinewidth\":0,\"ticks\":\"\"}}}],\"scatterternary\":[{\"type\":\"scatterternary\",\"marker\":{\"colorbar\":{\"outlinewidth\":0,\"ticks\":\"\"}}}],\"scattercarpet\":[{\"type\":\"scattercarpet\",\"marker\":{\"colorbar\":{\"outlinewidth\":0,\"ticks\":\"\"}}}],\"carpet\":[{\"aaxis\":{\"endlinecolor\":\"#2a3f5f\",\"gridcolor\":\"white\",\"linecolor\":\"white\",\"minorgridcolor\":\"white\",\"startlinecolor\":\"#2a3f5f\"},\"baxis\":{\"endlinecolor\":\"#2a3f5f\",\"gridcolor\":\"white\",\"linecolor\":\"white\",\"minorgridcolor\":\"white\",\"startlinecolor\":\"#2a3f5f\"},\"type\":\"carpet\"}],\"table\":[{\"cells\":{\"fill\":{\"color\":\"#EBF0F8\"},\"line\":{\"color\":\"white\"}},\"header\":{\"fill\":{\"color\":\"#C8D4E3\"},\"line\":{\"color\":\"white\"}},\"type\":\"table\"}],\"barpolar\":[{\"marker\":{\"line\":{\"color\":\"#E5ECF6\",\"width\":0.5},\"pattern\":{\"fillmode\":\"overlay\",\"size\":10,\"solidity\":0.2}},\"type\":\"barpolar\"}],\"pie\":[{\"automargin\":true,\"type\":\"pie\"}]},\"layout\":{\"autotypenumbers\":\"strict\",\"colorway\":[\"#636efa\",\"#EF553B\",\"#00cc96\",\"#ab63fa\",\"#FFA15A\",\"#19d3f3\",\"#FF6692\",\"#B6E880\",\"#FF97FF\",\"#FECB52\"],\"font\":{\"color\":\"#2a3f5f\"},\"hovermode\":\"closest\",\"hoverlabel\":{\"align\":\"left\"},\"paper_bgcolor\":\"white\",\"plot_bgcolor\":\"#E5ECF6\",\"polar\":{\"bgcolor\":\"#E5ECF6\",\"angularaxis\":{\"gridcolor\":\"white\",\"linecolor\":\"white\",\"ticks\":\"\"},\"radialaxis\":{\"gridcolor\":\"white\",\"linecolor\":\"white\",\"ticks\":\"\"}},\"ternary\":{\"bgcolor\":\"#E5ECF6\",\"aaxis\":{\"gridcolor\":\"white\",\"linecolor\":\"white\",\"ticks\":\"\"},\"baxis\":{\"gridcolor\":\"white\",\"linecolor\":\"white\",\"ticks\":\"\"},\"caxis\":{\"gridcolor\":\"white\",\"linecolor\":\"white\",\"ticks\":\"\"}},\"coloraxis\":{\"colorbar\":{\"outlinewidth\":0,\"ticks\":\"\"}},\"colorscale\":{\"sequential\":[[0.0,\"#0d0887\"],[0.1111111111111111,\"#46039f\"],[0.2222222222222222,\"#7201a8\"],[0.3333333333333333,\"#9c179e\"],[0.4444444444444444,\"#bd3786\"],[0.5555555555555556,\"#d8576b\"],[0.6666666666666666,\"#ed7953\"],[0.7777777777777778,\"#fb9f3a\"],[0.8888888888888888,\"#fdca26\"],[1.0,\"#f0f921\"]],\"sequentialminus\":[[0.0,\"#0d0887\"],[0.1111111111111111,\"#46039f\"],[0.2222222222222222,\"#7201a8\"],[0.3333333333333333,\"#9c179e\"],[0.4444444444444444,\"#bd3786\"],[0.5555555555555556,\"#d8576b\"],[0.6666666666666666,\"#ed7953\"],[0.7777777777777778,\"#fb9f3a\"],[0.8888888888888888,\"#fdca26\"],[1.0,\"#f0f921\"]],\"diverging\":[[0,\"#8e0152\"],[0.1,\"#c51b7d\"],[0.2,\"#de77ae\"],[0.3,\"#f1b6da\"],[0.4,\"#fde0ef\"],[0.5,\"#f7f7f7\"],[0.6,\"#e6f5d0\"],[0.7,\"#b8e186\"],[0.8,\"#7fbc41\"],[0.9,\"#4d9221\"],[1,\"#276419\"]]},\"xaxis\":{\"gridcolor\":\"white\",\"linecolor\":\"white\",\"ticks\":\"\",\"title\":{\"standoff\":15},\"zerolinecolor\":\"white\",\"automargin\":true,\"zerolinewidth\":2},\"yaxis\":{\"gridcolor\":\"white\",\"linecolor\":\"white\",\"ticks\":\"\",\"title\":{\"standoff\":15},\"zerolinecolor\":\"white\",\"automargin\":true,\"zerolinewidth\":2},\"scene\":{\"xaxis\":{\"backgroundcolor\":\"#E5ECF6\",\"gridcolor\":\"white\",\"linecolor\":\"white\",\"showbackground\":true,\"ticks\":\"\",\"zerolinecolor\":\"white\",\"gridwidth\":2},\"yaxis\":{\"backgroundcolor\":\"#E5ECF6\",\"gridcolor\":\"white\",\"linecolor\":\"white\",\"showbackground\":true,\"ticks\":\"\",\"zerolinecolor\":\"white\",\"gridwidth\":2},\"zaxis\":{\"backgroundcolor\":\"#E5ECF6\",\"gridcolor\":\"white\",\"linecolor\":\"white\",\"showbackground\":true,\"ticks\":\"\",\"zerolinecolor\":\"white\",\"gridwidth\":2}},\"shapedefaults\":{\"line\":{\"color\":\"#2a3f5f\"}},\"annotationdefaults\":{\"arrowcolor\":\"#2a3f5f\",\"arrowhead\":0,\"arrowwidth\":1},\"geo\":{\"bgcolor\":\"white\",\"landcolor\":\"#E5ECF6\",\"subunitcolor\":\"white\",\"showland\":true,\"showlakes\":true,\"lakecolor\":\"white\"},\"title\":{\"x\":0.05},\"mapbox\":{\"style\":\"light\"}}},\"xaxis\":{\"anchor\":\"y\",\"domain\":[0.0,1.0],\"title\":{\"text\":\"Fecha\"}},\"yaxis\":{\"anchor\":\"x\",\"domain\":[0.0,1.0],\"title\":{\"text\":\"Total Ventas\"}},\"legend\":{\"tracegroupgap\":0},\"title\":{\"text\":\"Tendencia y Estacionalidad de Ventas en España\"}},                        {\"responsive\": true}                    ).then(function(){\n",
              "                            \n",
              "var gd = document.getElementById('d8ee91ff-6c99-4331-bbad-c7010066779e');\n",
              "var x = new MutationObserver(function (mutations, observer) {{\n",
              "        var display = window.getComputedStyle(gd).display;\n",
              "        if (!display || display === 'none') {{\n",
              "            console.log([gd, 'removed!']);\n",
              "            Plotly.purge(gd);\n",
              "            observer.disconnect();\n",
              "        }}\n",
              "}});\n",
              "\n",
              "// Listen for the removal of the full notebook cells\n",
              "var notebookContainer = gd.closest('#notebook-container');\n",
              "if (notebookContainer) {{\n",
              "    x.observe(notebookContainer, {childList: true});\n",
              "}}\n",
              "\n",
              "// Listen for the clearing of the current output cell\n",
              "var outputEl = gd.closest('.output');\n",
              "if (outputEl) {{\n",
              "    x.observe(outputEl, {childList: true});\n",
              "}}\n",
              "\n",
              "                        })                };                            </script>        </div>\n",
              "</body>\n",
              "</html>"
            ]
          },
          "metadata": {}
        }
      ]
    },
    {
      "cell_type": "markdown",
      "source": [
        "Estacionalidad: La estacionalidad se refiere a patrones recurrentes que ocurren en un intervalo de tiempo específico, como las ventas que tienden a aumentar en ciertos meses del año. La observación de picos en las ventas en los meses de julio sugiere que hay un período de alta demanda en verano. Por lo que la estacionalidad diría que es anual.\n",
        "\n",
        "Tendencia: Aunque la línea de tendencia roja suaviza las fluctuaciones para mostrar la dirección general de las ventas, en este caso no se observa una tendencia clara (ascendente o descendente) a lo largo de los meses."
      ],
      "metadata": {
        "id": "L1AU5XlLZkRR"
      }
    },
    {
      "cell_type": "markdown",
      "source": [
        "# TENDENCIA Y ESTACIONALIDAD DE LA MARCA CON MÁS VENTAS"
      ],
      "metadata": {
        "id": "pgv1Ko36y5OE"
      }
    },
    {
      "cell_type": "markdown",
      "source": [
        "Se filtra la base de de datos agrupándola por el producto y la suma de las ventas y luego se ordena de mayor a menor para ver la marca con más ventas."
      ],
      "metadata": {
        "id": "MSX9YlSoes9l"
      }
    },
    {
      "cell_type": "code",
      "source": [
        "ventas_marca = df_ventas_actual.groupby('SUBBRAND')['AMOUNT'].sum().reset_index(name='TOTAL_VENTAS_MARCA')\n",
        "ventas_marca = ventas_marca.sort_values(by=['TOTAL_VENTAS_MARCA'], ascending=False)\n",
        "ventas_marca.head(1)"
      ],
      "metadata": {
        "colab": {
          "base_uri": "https://localhost:8080/",
          "height": 81
        },
        "id": "WaJbgzE_zWiE",
        "outputId": "9360d70c-1276-42ba-a543-c3d491f56f07"
      },
      "execution_count": null,
      "outputs": [
        {
          "output_type": "execute_result",
          "data": {
            "text/plain": [
              "         SUBBRAND  TOTAL_VENTAS_MARCA\n",
              "4  Pepsi Max (L3)        3.966987e+08"
            ],
            "text/html": [
              "\n",
              "  <div id=\"df-3f95417d-ae7c-4f23-a185-3064398ba8ce\" class=\"colab-df-container\">\n",
              "    <div>\n",
              "<style scoped>\n",
              "    .dataframe tbody tr th:only-of-type {\n",
              "        vertical-align: middle;\n",
              "    }\n",
              "\n",
              "    .dataframe tbody tr th {\n",
              "        vertical-align: top;\n",
              "    }\n",
              "\n",
              "    .dataframe thead th {\n",
              "        text-align: right;\n",
              "    }\n",
              "</style>\n",
              "<table border=\"1\" class=\"dataframe\">\n",
              "  <thead>\n",
              "    <tr style=\"text-align: right;\">\n",
              "      <th></th>\n",
              "      <th>SUBBRAND</th>\n",
              "      <th>TOTAL_VENTAS_MARCA</th>\n",
              "    </tr>\n",
              "  </thead>\n",
              "  <tbody>\n",
              "    <tr>\n",
              "      <th>4</th>\n",
              "      <td>Pepsi Max (L3)</td>\n",
              "      <td>3.966987e+08</td>\n",
              "    </tr>\n",
              "  </tbody>\n",
              "</table>\n",
              "</div>\n",
              "    <div class=\"colab-df-buttons\">\n",
              "\n",
              "  <div class=\"colab-df-container\">\n",
              "    <button class=\"colab-df-convert\" onclick=\"convertToInteractive('df-3f95417d-ae7c-4f23-a185-3064398ba8ce')\"\n",
              "            title=\"Convert this dataframe to an interactive table.\"\n",
              "            style=\"display:none;\">\n",
              "\n",
              "  <svg xmlns=\"http://www.w3.org/2000/svg\" height=\"24px\" viewBox=\"0 -960 960 960\">\n",
              "    <path d=\"M120-120v-720h720v720H120Zm60-500h600v-160H180v160Zm220 220h160v-160H400v160Zm0 220h160v-160H400v160ZM180-400h160v-160H180v160Zm440 0h160v-160H620v160ZM180-180h160v-160H180v160Zm440 0h160v-160H620v160Z\"/>\n",
              "  </svg>\n",
              "    </button>\n",
              "\n",
              "  <style>\n",
              "    .colab-df-container {\n",
              "      display:flex;\n",
              "      gap: 12px;\n",
              "    }\n",
              "\n",
              "    .colab-df-convert {\n",
              "      background-color: #E8F0FE;\n",
              "      border: none;\n",
              "      border-radius: 50%;\n",
              "      cursor: pointer;\n",
              "      display: none;\n",
              "      fill: #1967D2;\n",
              "      height: 32px;\n",
              "      padding: 0 0 0 0;\n",
              "      width: 32px;\n",
              "    }\n",
              "\n",
              "    .colab-df-convert:hover {\n",
              "      background-color: #E2EBFA;\n",
              "      box-shadow: 0px 1px 2px rgba(60, 64, 67, 0.3), 0px 1px 3px 1px rgba(60, 64, 67, 0.15);\n",
              "      fill: #174EA6;\n",
              "    }\n",
              "\n",
              "    .colab-df-buttons div {\n",
              "      margin-bottom: 4px;\n",
              "    }\n",
              "\n",
              "    [theme=dark] .colab-df-convert {\n",
              "      background-color: #3B4455;\n",
              "      fill: #D2E3FC;\n",
              "    }\n",
              "\n",
              "    [theme=dark] .colab-df-convert:hover {\n",
              "      background-color: #434B5C;\n",
              "      box-shadow: 0px 1px 3px 1px rgba(0, 0, 0, 0.15);\n",
              "      filter: drop-shadow(0px 1px 2px rgba(0, 0, 0, 0.3));\n",
              "      fill: #FFFFFF;\n",
              "    }\n",
              "  </style>\n",
              "\n",
              "    <script>\n",
              "      const buttonEl =\n",
              "        document.querySelector('#df-3f95417d-ae7c-4f23-a185-3064398ba8ce button.colab-df-convert');\n",
              "      buttonEl.style.display =\n",
              "        google.colab.kernel.accessAllowed ? 'block' : 'none';\n",
              "\n",
              "      async function convertToInteractive(key) {\n",
              "        const element = document.querySelector('#df-3f95417d-ae7c-4f23-a185-3064398ba8ce');\n",
              "        const dataTable =\n",
              "          await google.colab.kernel.invokeFunction('convertToInteractive',\n",
              "                                                    [key], {});\n",
              "        if (!dataTable) return;\n",
              "\n",
              "        const docLinkHtml = 'Like what you see? Visit the ' +\n",
              "          '<a target=\"_blank\" href=https://colab.research.google.com/notebooks/data_table.ipynb>data table notebook</a>'\n",
              "          + ' to learn more about interactive tables.';\n",
              "        element.innerHTML = '';\n",
              "        dataTable['output_type'] = 'display_data';\n",
              "        await google.colab.output.renderOutput(dataTable, element);\n",
              "        const docLink = document.createElement('div');\n",
              "        docLink.innerHTML = docLinkHtml;\n",
              "        element.appendChild(docLink);\n",
              "      }\n",
              "    </script>\n",
              "  </div>\n",
              "\n",
              "\n",
              "    </div>\n",
              "  </div>\n"
            ],
            "application/vnd.google.colaboratory.intrinsic+json": {
              "type": "dataframe",
              "variable_name": "ventas_marca",
              "summary": "{\n  \"name\": \"ventas_marca\",\n  \"rows\": 6,\n  \"fields\": [\n    {\n      \"column\": \"SUBBRAND\",\n      \"properties\": {\n        \"dtype\": \"string\",\n        \"num_unique_values\": 6,\n        \"samples\": [\n          \"Pepsi Max (L3)\",\n          \"Pepsi Regular (L3)\",\n          \"Mountain Dew (L3)\"\n        ],\n        \"semantic_type\": \"\",\n        \"description\": \"\"\n      }\n    },\n    {\n      \"column\": \"TOTAL_VENTAS_MARCA\",\n      \"properties\": {\n        \"dtype\": \"number\",\n        \"std\": 147643336.71047541,\n        \"min\": 7474390.956547935,\n        \"max\": 396698670.6338175,\n        \"num_unique_values\": 6,\n        \"samples\": [\n          396698670.6338175,\n          139830662.7878427,\n          7474390.956547935\n        ],\n        \"semantic_type\": \"\",\n        \"description\": \"\"\n      }\n    }\n  ]\n}"
            }
          },
          "metadata": {},
          "execution_count": 71
        }
      ]
    },
    {
      "cell_type": "code",
      "source": [
        "dfVentas_mayor_marca = df_ventas_actual[df_ventas_actual['SUBBRAND'] == 'Pepsi Max (L3)']\n",
        "dfVentas_mayor_marca.head()"
      ],
      "metadata": {
        "colab": {
          "base_uri": "https://localhost:8080/",
          "height": 206
        },
        "id": "6qhLv5qy28mM",
        "outputId": "97ac5cd8-75bc-4632-b352-87ebab6caf69"
      },
      "execution_count": null,
      "outputs": [
        {
          "output_type": "execute_result",
          "data": {
            "text/plain": [
              "      COUNTRY        SUBBRAND  YEAR  MONTH SCENARIO FORECAST  FORECAST_YEAR  \\\n",
              "277  Portugal  Pepsi Max (L3)  2023     10   actual      NaN           <NA>   \n",
              "724   Denmark  Pepsi Max (L3)  2024      2   actual      NaN           <NA>   \n",
              "727     Italy  Pepsi Max (L3)  2024      2   actual      NaN           <NA>   \n",
              "740    Norway  Pepsi Max (L3)  2024      2   actual      NaN           <NA>   \n",
              "836   Denmark  Pepsi Max (L3)  2024      4   actual      NaN           <NA>   \n",
              "\n",
              "           AMOUNT    PERIODO  \n",
              "277  1.885949e+05 2023-10-01  \n",
              "724  2.557571e+06 2024-02-01  \n",
              "727  1.928897e+05 2024-02-01  \n",
              "740  2.119033e+06 2024-02-01  \n",
              "836  2.090877e+06 2024-04-01  "
            ],
            "text/html": [
              "\n",
              "  <div id=\"df-220a2bbf-d17a-407e-ae16-f59362e7a8b7\" class=\"colab-df-container\">\n",
              "    <div>\n",
              "<style scoped>\n",
              "    .dataframe tbody tr th:only-of-type {\n",
              "        vertical-align: middle;\n",
              "    }\n",
              "\n",
              "    .dataframe tbody tr th {\n",
              "        vertical-align: top;\n",
              "    }\n",
              "\n",
              "    .dataframe thead th {\n",
              "        text-align: right;\n",
              "    }\n",
              "</style>\n",
              "<table border=\"1\" class=\"dataframe\">\n",
              "  <thead>\n",
              "    <tr style=\"text-align: right;\">\n",
              "      <th></th>\n",
              "      <th>COUNTRY</th>\n",
              "      <th>SUBBRAND</th>\n",
              "      <th>YEAR</th>\n",
              "      <th>MONTH</th>\n",
              "      <th>SCENARIO</th>\n",
              "      <th>FORECAST</th>\n",
              "      <th>FORECAST_YEAR</th>\n",
              "      <th>AMOUNT</th>\n",
              "      <th>PERIODO</th>\n",
              "    </tr>\n",
              "  </thead>\n",
              "  <tbody>\n",
              "    <tr>\n",
              "      <th>277</th>\n",
              "      <td>Portugal</td>\n",
              "      <td>Pepsi Max (L3)</td>\n",
              "      <td>2023</td>\n",
              "      <td>10</td>\n",
              "      <td>actual</td>\n",
              "      <td>NaN</td>\n",
              "      <td>&lt;NA&gt;</td>\n",
              "      <td>1.885949e+05</td>\n",
              "      <td>2023-10-01</td>\n",
              "    </tr>\n",
              "    <tr>\n",
              "      <th>724</th>\n",
              "      <td>Denmark</td>\n",
              "      <td>Pepsi Max (L3)</td>\n",
              "      <td>2024</td>\n",
              "      <td>2</td>\n",
              "      <td>actual</td>\n",
              "      <td>NaN</td>\n",
              "      <td>&lt;NA&gt;</td>\n",
              "      <td>2.557571e+06</td>\n",
              "      <td>2024-02-01</td>\n",
              "    </tr>\n",
              "    <tr>\n",
              "      <th>727</th>\n",
              "      <td>Italy</td>\n",
              "      <td>Pepsi Max (L3)</td>\n",
              "      <td>2024</td>\n",
              "      <td>2</td>\n",
              "      <td>actual</td>\n",
              "      <td>NaN</td>\n",
              "      <td>&lt;NA&gt;</td>\n",
              "      <td>1.928897e+05</td>\n",
              "      <td>2024-02-01</td>\n",
              "    </tr>\n",
              "    <tr>\n",
              "      <th>740</th>\n",
              "      <td>Norway</td>\n",
              "      <td>Pepsi Max (L3)</td>\n",
              "      <td>2024</td>\n",
              "      <td>2</td>\n",
              "      <td>actual</td>\n",
              "      <td>NaN</td>\n",
              "      <td>&lt;NA&gt;</td>\n",
              "      <td>2.119033e+06</td>\n",
              "      <td>2024-02-01</td>\n",
              "    </tr>\n",
              "    <tr>\n",
              "      <th>836</th>\n",
              "      <td>Denmark</td>\n",
              "      <td>Pepsi Max (L3)</td>\n",
              "      <td>2024</td>\n",
              "      <td>4</td>\n",
              "      <td>actual</td>\n",
              "      <td>NaN</td>\n",
              "      <td>&lt;NA&gt;</td>\n",
              "      <td>2.090877e+06</td>\n",
              "      <td>2024-04-01</td>\n",
              "    </tr>\n",
              "  </tbody>\n",
              "</table>\n",
              "</div>\n",
              "    <div class=\"colab-df-buttons\">\n",
              "\n",
              "  <div class=\"colab-df-container\">\n",
              "    <button class=\"colab-df-convert\" onclick=\"convertToInteractive('df-220a2bbf-d17a-407e-ae16-f59362e7a8b7')\"\n",
              "            title=\"Convert this dataframe to an interactive table.\"\n",
              "            style=\"display:none;\">\n",
              "\n",
              "  <svg xmlns=\"http://www.w3.org/2000/svg\" height=\"24px\" viewBox=\"0 -960 960 960\">\n",
              "    <path d=\"M120-120v-720h720v720H120Zm60-500h600v-160H180v160Zm220 220h160v-160H400v160Zm0 220h160v-160H400v160ZM180-400h160v-160H180v160Zm440 0h160v-160H620v160ZM180-180h160v-160H180v160Zm440 0h160v-160H620v160Z\"/>\n",
              "  </svg>\n",
              "    </button>\n",
              "\n",
              "  <style>\n",
              "    .colab-df-container {\n",
              "      display:flex;\n",
              "      gap: 12px;\n",
              "    }\n",
              "\n",
              "    .colab-df-convert {\n",
              "      background-color: #E8F0FE;\n",
              "      border: none;\n",
              "      border-radius: 50%;\n",
              "      cursor: pointer;\n",
              "      display: none;\n",
              "      fill: #1967D2;\n",
              "      height: 32px;\n",
              "      padding: 0 0 0 0;\n",
              "      width: 32px;\n",
              "    }\n",
              "\n",
              "    .colab-df-convert:hover {\n",
              "      background-color: #E2EBFA;\n",
              "      box-shadow: 0px 1px 2px rgba(60, 64, 67, 0.3), 0px 1px 3px 1px rgba(60, 64, 67, 0.15);\n",
              "      fill: #174EA6;\n",
              "    }\n",
              "\n",
              "    .colab-df-buttons div {\n",
              "      margin-bottom: 4px;\n",
              "    }\n",
              "\n",
              "    [theme=dark] .colab-df-convert {\n",
              "      background-color: #3B4455;\n",
              "      fill: #D2E3FC;\n",
              "    }\n",
              "\n",
              "    [theme=dark] .colab-df-convert:hover {\n",
              "      background-color: #434B5C;\n",
              "      box-shadow: 0px 1px 3px 1px rgba(0, 0, 0, 0.15);\n",
              "      filter: drop-shadow(0px 1px 2px rgba(0, 0, 0, 0.3));\n",
              "      fill: #FFFFFF;\n",
              "    }\n",
              "  </style>\n",
              "\n",
              "    <script>\n",
              "      const buttonEl =\n",
              "        document.querySelector('#df-220a2bbf-d17a-407e-ae16-f59362e7a8b7 button.colab-df-convert');\n",
              "      buttonEl.style.display =\n",
              "        google.colab.kernel.accessAllowed ? 'block' : 'none';\n",
              "\n",
              "      async function convertToInteractive(key) {\n",
              "        const element = document.querySelector('#df-220a2bbf-d17a-407e-ae16-f59362e7a8b7');\n",
              "        const dataTable =\n",
              "          await google.colab.kernel.invokeFunction('convertToInteractive',\n",
              "                                                    [key], {});\n",
              "        if (!dataTable) return;\n",
              "\n",
              "        const docLinkHtml = 'Like what you see? Visit the ' +\n",
              "          '<a target=\"_blank\" href=https://colab.research.google.com/notebooks/data_table.ipynb>data table notebook</a>'\n",
              "          + ' to learn more about interactive tables.';\n",
              "        element.innerHTML = '';\n",
              "        dataTable['output_type'] = 'display_data';\n",
              "        await google.colab.output.renderOutput(dataTable, element);\n",
              "        const docLink = document.createElement('div');\n",
              "        docLink.innerHTML = docLinkHtml;\n",
              "        element.appendChild(docLink);\n",
              "      }\n",
              "    </script>\n",
              "  </div>\n",
              "\n",
              "\n",
              "<div id=\"df-175a4a6a-c3d0-496e-a91d-0b687230a66d\">\n",
              "  <button class=\"colab-df-quickchart\" onclick=\"quickchart('df-175a4a6a-c3d0-496e-a91d-0b687230a66d')\"\n",
              "            title=\"Suggest charts\"\n",
              "            style=\"display:none;\">\n",
              "\n",
              "<svg xmlns=\"http://www.w3.org/2000/svg\" height=\"24px\"viewBox=\"0 0 24 24\"\n",
              "     width=\"24px\">\n",
              "    <g>\n",
              "        <path d=\"M19 3H5c-1.1 0-2 .9-2 2v14c0 1.1.9 2 2 2h14c1.1 0 2-.9 2-2V5c0-1.1-.9-2-2-2zM9 17H7v-7h2v7zm4 0h-2V7h2v10zm4 0h-2v-4h2v4z\"/>\n",
              "    </g>\n",
              "</svg>\n",
              "  </button>\n",
              "\n",
              "<style>\n",
              "  .colab-df-quickchart {\n",
              "      --bg-color: #E8F0FE;\n",
              "      --fill-color: #1967D2;\n",
              "      --hover-bg-color: #E2EBFA;\n",
              "      --hover-fill-color: #174EA6;\n",
              "      --disabled-fill-color: #AAA;\n",
              "      --disabled-bg-color: #DDD;\n",
              "  }\n",
              "\n",
              "  [theme=dark] .colab-df-quickchart {\n",
              "      --bg-color: #3B4455;\n",
              "      --fill-color: #D2E3FC;\n",
              "      --hover-bg-color: #434B5C;\n",
              "      --hover-fill-color: #FFFFFF;\n",
              "      --disabled-bg-color: #3B4455;\n",
              "      --disabled-fill-color: #666;\n",
              "  }\n",
              "\n",
              "  .colab-df-quickchart {\n",
              "    background-color: var(--bg-color);\n",
              "    border: none;\n",
              "    border-radius: 50%;\n",
              "    cursor: pointer;\n",
              "    display: none;\n",
              "    fill: var(--fill-color);\n",
              "    height: 32px;\n",
              "    padding: 0;\n",
              "    width: 32px;\n",
              "  }\n",
              "\n",
              "  .colab-df-quickchart:hover {\n",
              "    background-color: var(--hover-bg-color);\n",
              "    box-shadow: 0 1px 2px rgba(60, 64, 67, 0.3), 0 1px 3px 1px rgba(60, 64, 67, 0.15);\n",
              "    fill: var(--button-hover-fill-color);\n",
              "  }\n",
              "\n",
              "  .colab-df-quickchart-complete:disabled,\n",
              "  .colab-df-quickchart-complete:disabled:hover {\n",
              "    background-color: var(--disabled-bg-color);\n",
              "    fill: var(--disabled-fill-color);\n",
              "    box-shadow: none;\n",
              "  }\n",
              "\n",
              "  .colab-df-spinner {\n",
              "    border: 2px solid var(--fill-color);\n",
              "    border-color: transparent;\n",
              "    border-bottom-color: var(--fill-color);\n",
              "    animation:\n",
              "      spin 1s steps(1) infinite;\n",
              "  }\n",
              "\n",
              "  @keyframes spin {\n",
              "    0% {\n",
              "      border-color: transparent;\n",
              "      border-bottom-color: var(--fill-color);\n",
              "      border-left-color: var(--fill-color);\n",
              "    }\n",
              "    20% {\n",
              "      border-color: transparent;\n",
              "      border-left-color: var(--fill-color);\n",
              "      border-top-color: var(--fill-color);\n",
              "    }\n",
              "    30% {\n",
              "      border-color: transparent;\n",
              "      border-left-color: var(--fill-color);\n",
              "      border-top-color: var(--fill-color);\n",
              "      border-right-color: var(--fill-color);\n",
              "    }\n",
              "    40% {\n",
              "      border-color: transparent;\n",
              "      border-right-color: var(--fill-color);\n",
              "      border-top-color: var(--fill-color);\n",
              "    }\n",
              "    60% {\n",
              "      border-color: transparent;\n",
              "      border-right-color: var(--fill-color);\n",
              "    }\n",
              "    80% {\n",
              "      border-color: transparent;\n",
              "      border-right-color: var(--fill-color);\n",
              "      border-bottom-color: var(--fill-color);\n",
              "    }\n",
              "    90% {\n",
              "      border-color: transparent;\n",
              "      border-bottom-color: var(--fill-color);\n",
              "    }\n",
              "  }\n",
              "</style>\n",
              "\n",
              "  <script>\n",
              "    async function quickchart(key) {\n",
              "      const quickchartButtonEl =\n",
              "        document.querySelector('#' + key + ' button');\n",
              "      quickchartButtonEl.disabled = true;  // To prevent multiple clicks.\n",
              "      quickchartButtonEl.classList.add('colab-df-spinner');\n",
              "      try {\n",
              "        const charts = await google.colab.kernel.invokeFunction(\n",
              "            'suggestCharts', [key], {});\n",
              "      } catch (error) {\n",
              "        console.error('Error during call to suggestCharts:', error);\n",
              "      }\n",
              "      quickchartButtonEl.classList.remove('colab-df-spinner');\n",
              "      quickchartButtonEl.classList.add('colab-df-quickchart-complete');\n",
              "    }\n",
              "    (() => {\n",
              "      let quickchartButtonEl =\n",
              "        document.querySelector('#df-175a4a6a-c3d0-496e-a91d-0b687230a66d button');\n",
              "      quickchartButtonEl.style.display =\n",
              "        google.colab.kernel.accessAllowed ? 'block' : 'none';\n",
              "    })();\n",
              "  </script>\n",
              "</div>\n",
              "\n",
              "    </div>\n",
              "  </div>\n"
            ],
            "application/vnd.google.colaboratory.intrinsic+json": {
              "type": "dataframe",
              "variable_name": "dfVentas_mayor_marca",
              "repr_error": "0"
            }
          },
          "metadata": {},
          "execution_count": 75
        }
      ]
    },
    {
      "cell_type": "code",
      "source": [
        "\n",
        "\n",
        "ventas_marca_periodo = dfVentas_mayor_marca.groupby(['SUBBRAND', 'PERIODO'])['AMOUNT'].sum().reset_index()\n",
        "ventas_marca_periodo['TENDENCIA'] = ventas_marca_periodo['AMOUNT'].rolling(window=3, center=True).mean()\n",
        "\n",
        "fig = px.line(ventas_marca_periodo, x='PERIODO', y='AMOUNT', color='SUBBRAND',\n",
        "              title='Tendencia y Estacionalidad de Pepsi Max (L3)',\n",
        "              labels={'AMOUNT': 'Total Ventas', 'PERIODO': 'Fecha', 'SUBBRAND': 'Marca'})\n",
        "\n",
        "fig.add_scatter(x=ventas_marca_periodo['PERIODO'], y=ventas_marca_periodo['TENDENCIA'], mode='lines', name='Tendencia', line=dict(color='red'))\n",
        "\n",
        "fig.show()"
      ],
      "metadata": {
        "colab": {
          "base_uri": "https://localhost:8080/",
          "height": 542
        },
        "id": "22_Qif730dTe",
        "outputId": "fe7135e6-96c9-4da4-99d4-95b3c8334d58"
      },
      "execution_count": null,
      "outputs": [
        {
          "output_type": "display_data",
          "data": {
            "text/html": [
              "<html>\n",
              "<head><meta charset=\"utf-8\" /></head>\n",
              "<body>\n",
              "    <div>            <script src=\"https://cdnjs.cloudflare.com/ajax/libs/mathjax/2.7.5/MathJax.js?config=TeX-AMS-MML_SVG\"></script><script type=\"text/javascript\">if (window.MathJax && window.MathJax.Hub && window.MathJax.Hub.Config) {window.MathJax.Hub.Config({SVG: {font: \"STIX-Web\"}});}</script>                <script type=\"text/javascript\">window.PlotlyConfig = {MathJaxConfig: 'local'};</script>\n",
              "        <script charset=\"utf-8\" src=\"https://cdn.plot.ly/plotly-2.35.2.min.js\"></script>                <div id=\"2ea29279-de95-4d59-ab8c-266c3879ab4d\" class=\"plotly-graph-div\" style=\"height:525px; width:100%;\"></div>            <script type=\"text/javascript\">                                    window.PLOTLYENV=window.PLOTLYENV || {};                                    if (document.getElementById(\"2ea29279-de95-4d59-ab8c-266c3879ab4d\")) {                    Plotly.newPlot(                        \"2ea29279-de95-4d59-ab8c-266c3879ab4d\",                        [{\"hovertemplate\":\"Marca=Pepsi Max (L3)\\u003cbr\\u003eFecha=%{x}\\u003cbr\\u003eTotal Ventas=%{y}\\u003cextra\\u003e\\u003c\\u002fextra\\u003e\",\"legendgroup\":\"Pepsi Max (L3)\",\"line\":{\"color\":\"#636efa\",\"dash\":\"solid\"},\"marker\":{\"symbol\":\"circle\"},\"mode\":\"lines\",\"name\":\"Pepsi Max (L3)\",\"orientation\":\"v\",\"showlegend\":true,\"x\":[\"2023-01-01T00:00:00\",\"2023-02-01T00:00:00\",\"2023-03-01T00:00:00\",\"2023-04-01T00:00:00\",\"2023-05-01T00:00:00\",\"2023-06-01T00:00:00\",\"2023-07-01T00:00:00\",\"2023-08-01T00:00:00\",\"2023-09-01T00:00:00\",\"2023-10-01T00:00:00\",\"2023-11-01T00:00:00\",\"2023-12-01T00:00:00\",\"2024-01-01T00:00:00\",\"2024-02-01T00:00:00\",\"2024-03-01T00:00:00\",\"2024-04-01T00:00:00\",\"2024-05-01T00:00:00\",\"2024-06-01T00:00:00\",\"2024-07-01T00:00:00\",\"2024-08-01T00:00:00\"],\"xaxis\":\"x\",\"y\":[14856548.128605943,15463315.96725677,20873551.914991353,17934944.15249419,22325446.036569193,21328548.8814003,18368657.109468464,21608180.963240135,19652280.390064318,18626907.831478518,20722021.60754396,21701863.908770297,15624249.97952067,18256940.63911945,21254343.204710368,20238337.23987266,23110133.530175477,21238809.837675165,20779660.905810736,22733928.40504956],\"yaxis\":\"y\",\"type\":\"scatter\"},{\"line\":{\"color\":\"red\"},\"mode\":\"lines\",\"name\":\"Tendencia\",\"x\":[\"2023-01-01T00:00:00\",\"2023-02-01T00:00:00\",\"2023-03-01T00:00:00\",\"2023-04-01T00:00:00\",\"2023-05-01T00:00:00\",\"2023-06-01T00:00:00\",\"2023-07-01T00:00:00\",\"2023-08-01T00:00:00\",\"2023-09-01T00:00:00\",\"2023-10-01T00:00:00\",\"2023-11-01T00:00:00\",\"2023-12-01T00:00:00\",\"2024-01-01T00:00:00\",\"2024-02-01T00:00:00\",\"2024-03-01T00:00:00\",\"2024-04-01T00:00:00\",\"2024-05-01T00:00:00\",\"2024-06-01T00:00:00\",\"2024-07-01T00:00:00\",\"2024-08-01T00:00:00\"],\"y\":[null,17064472.00361802,18090604.01158077,20377980.70135158,20529646.356821228,20674217.34247932,20435128.984702967,19876372.82092431,19962456.39492766,19667069.94302893,20350264.44926426,19349378.49861164,18527684.84247014,18378511.274450164,19916540.361234162,21534271.324919503,21529093.53590777,21709534.757887125,21584133.04951182,null],\"type\":\"scatter\"}],                        {\"template\":{\"data\":{\"histogram2dcontour\":[{\"type\":\"histogram2dcontour\",\"colorbar\":{\"outlinewidth\":0,\"ticks\":\"\"},\"colorscale\":[[0.0,\"#0d0887\"],[0.1111111111111111,\"#46039f\"],[0.2222222222222222,\"#7201a8\"],[0.3333333333333333,\"#9c179e\"],[0.4444444444444444,\"#bd3786\"],[0.5555555555555556,\"#d8576b\"],[0.6666666666666666,\"#ed7953\"],[0.7777777777777778,\"#fb9f3a\"],[0.8888888888888888,\"#fdca26\"],[1.0,\"#f0f921\"]]}],\"choropleth\":[{\"type\":\"choropleth\",\"colorbar\":{\"outlinewidth\":0,\"ticks\":\"\"}}],\"histogram2d\":[{\"type\":\"histogram2d\",\"colorbar\":{\"outlinewidth\":0,\"ticks\":\"\"},\"colorscale\":[[0.0,\"#0d0887\"],[0.1111111111111111,\"#46039f\"],[0.2222222222222222,\"#7201a8\"],[0.3333333333333333,\"#9c179e\"],[0.4444444444444444,\"#bd3786\"],[0.5555555555555556,\"#d8576b\"],[0.6666666666666666,\"#ed7953\"],[0.7777777777777778,\"#fb9f3a\"],[0.8888888888888888,\"#fdca26\"],[1.0,\"#f0f921\"]]}],\"heatmap\":[{\"type\":\"heatmap\",\"colorbar\":{\"outlinewidth\":0,\"ticks\":\"\"},\"colorscale\":[[0.0,\"#0d0887\"],[0.1111111111111111,\"#46039f\"],[0.2222222222222222,\"#7201a8\"],[0.3333333333333333,\"#9c179e\"],[0.4444444444444444,\"#bd3786\"],[0.5555555555555556,\"#d8576b\"],[0.6666666666666666,\"#ed7953\"],[0.7777777777777778,\"#fb9f3a\"],[0.8888888888888888,\"#fdca26\"],[1.0,\"#f0f921\"]]}],\"heatmapgl\":[{\"type\":\"heatmapgl\",\"colorbar\":{\"outlinewidth\":0,\"ticks\":\"\"},\"colorscale\":[[0.0,\"#0d0887\"],[0.1111111111111111,\"#46039f\"],[0.2222222222222222,\"#7201a8\"],[0.3333333333333333,\"#9c179e\"],[0.4444444444444444,\"#bd3786\"],[0.5555555555555556,\"#d8576b\"],[0.6666666666666666,\"#ed7953\"],[0.7777777777777778,\"#fb9f3a\"],[0.8888888888888888,\"#fdca26\"],[1.0,\"#f0f921\"]]}],\"contourcarpet\":[{\"type\":\"contourcarpet\",\"colorbar\":{\"outlinewidth\":0,\"ticks\":\"\"}}],\"contour\":[{\"type\":\"contour\",\"colorbar\":{\"outlinewidth\":0,\"ticks\":\"\"},\"colorscale\":[[0.0,\"#0d0887\"],[0.1111111111111111,\"#46039f\"],[0.2222222222222222,\"#7201a8\"],[0.3333333333333333,\"#9c179e\"],[0.4444444444444444,\"#bd3786\"],[0.5555555555555556,\"#d8576b\"],[0.6666666666666666,\"#ed7953\"],[0.7777777777777778,\"#fb9f3a\"],[0.8888888888888888,\"#fdca26\"],[1.0,\"#f0f921\"]]}],\"surface\":[{\"type\":\"surface\",\"colorbar\":{\"outlinewidth\":0,\"ticks\":\"\"},\"colorscale\":[[0.0,\"#0d0887\"],[0.1111111111111111,\"#46039f\"],[0.2222222222222222,\"#7201a8\"],[0.3333333333333333,\"#9c179e\"],[0.4444444444444444,\"#bd3786\"],[0.5555555555555556,\"#d8576b\"],[0.6666666666666666,\"#ed7953\"],[0.7777777777777778,\"#fb9f3a\"],[0.8888888888888888,\"#fdca26\"],[1.0,\"#f0f921\"]]}],\"mesh3d\":[{\"type\":\"mesh3d\",\"colorbar\":{\"outlinewidth\":0,\"ticks\":\"\"}}],\"scatter\":[{\"fillpattern\":{\"fillmode\":\"overlay\",\"size\":10,\"solidity\":0.2},\"type\":\"scatter\"}],\"parcoords\":[{\"type\":\"parcoords\",\"line\":{\"colorbar\":{\"outlinewidth\":0,\"ticks\":\"\"}}}],\"scatterpolargl\":[{\"type\":\"scatterpolargl\",\"marker\":{\"colorbar\":{\"outlinewidth\":0,\"ticks\":\"\"}}}],\"bar\":[{\"error_x\":{\"color\":\"#2a3f5f\"},\"error_y\":{\"color\":\"#2a3f5f\"},\"marker\":{\"line\":{\"color\":\"#E5ECF6\",\"width\":0.5},\"pattern\":{\"fillmode\":\"overlay\",\"size\":10,\"solidity\":0.2}},\"type\":\"bar\"}],\"scattergeo\":[{\"type\":\"scattergeo\",\"marker\":{\"colorbar\":{\"outlinewidth\":0,\"ticks\":\"\"}}}],\"scatterpolar\":[{\"type\":\"scatterpolar\",\"marker\":{\"colorbar\":{\"outlinewidth\":0,\"ticks\":\"\"}}}],\"histogram\":[{\"marker\":{\"pattern\":{\"fillmode\":\"overlay\",\"size\":10,\"solidity\":0.2}},\"type\":\"histogram\"}],\"scattergl\":[{\"type\":\"scattergl\",\"marker\":{\"colorbar\":{\"outlinewidth\":0,\"ticks\":\"\"}}}],\"scatter3d\":[{\"type\":\"scatter3d\",\"line\":{\"colorbar\":{\"outlinewidth\":0,\"ticks\":\"\"}},\"marker\":{\"colorbar\":{\"outlinewidth\":0,\"ticks\":\"\"}}}],\"scattermapbox\":[{\"type\":\"scattermapbox\",\"marker\":{\"colorbar\":{\"outlinewidth\":0,\"ticks\":\"\"}}}],\"scatterternary\":[{\"type\":\"scatterternary\",\"marker\":{\"colorbar\":{\"outlinewidth\":0,\"ticks\":\"\"}}}],\"scattercarpet\":[{\"type\":\"scattercarpet\",\"marker\":{\"colorbar\":{\"outlinewidth\":0,\"ticks\":\"\"}}}],\"carpet\":[{\"aaxis\":{\"endlinecolor\":\"#2a3f5f\",\"gridcolor\":\"white\",\"linecolor\":\"white\",\"minorgridcolor\":\"white\",\"startlinecolor\":\"#2a3f5f\"},\"baxis\":{\"endlinecolor\":\"#2a3f5f\",\"gridcolor\":\"white\",\"linecolor\":\"white\",\"minorgridcolor\":\"white\",\"startlinecolor\":\"#2a3f5f\"},\"type\":\"carpet\"}],\"table\":[{\"cells\":{\"fill\":{\"color\":\"#EBF0F8\"},\"line\":{\"color\":\"white\"}},\"header\":{\"fill\":{\"color\":\"#C8D4E3\"},\"line\":{\"color\":\"white\"}},\"type\":\"table\"}],\"barpolar\":[{\"marker\":{\"line\":{\"color\":\"#E5ECF6\",\"width\":0.5},\"pattern\":{\"fillmode\":\"overlay\",\"size\":10,\"solidity\":0.2}},\"type\":\"barpolar\"}],\"pie\":[{\"automargin\":true,\"type\":\"pie\"}]},\"layout\":{\"autotypenumbers\":\"strict\",\"colorway\":[\"#636efa\",\"#EF553B\",\"#00cc96\",\"#ab63fa\",\"#FFA15A\",\"#19d3f3\",\"#FF6692\",\"#B6E880\",\"#FF97FF\",\"#FECB52\"],\"font\":{\"color\":\"#2a3f5f\"},\"hovermode\":\"closest\",\"hoverlabel\":{\"align\":\"left\"},\"paper_bgcolor\":\"white\",\"plot_bgcolor\":\"#E5ECF6\",\"polar\":{\"bgcolor\":\"#E5ECF6\",\"angularaxis\":{\"gridcolor\":\"white\",\"linecolor\":\"white\",\"ticks\":\"\"},\"radialaxis\":{\"gridcolor\":\"white\",\"linecolor\":\"white\",\"ticks\":\"\"}},\"ternary\":{\"bgcolor\":\"#E5ECF6\",\"aaxis\":{\"gridcolor\":\"white\",\"linecolor\":\"white\",\"ticks\":\"\"},\"baxis\":{\"gridcolor\":\"white\",\"linecolor\":\"white\",\"ticks\":\"\"},\"caxis\":{\"gridcolor\":\"white\",\"linecolor\":\"white\",\"ticks\":\"\"}},\"coloraxis\":{\"colorbar\":{\"outlinewidth\":0,\"ticks\":\"\"}},\"colorscale\":{\"sequential\":[[0.0,\"#0d0887\"],[0.1111111111111111,\"#46039f\"],[0.2222222222222222,\"#7201a8\"],[0.3333333333333333,\"#9c179e\"],[0.4444444444444444,\"#bd3786\"],[0.5555555555555556,\"#d8576b\"],[0.6666666666666666,\"#ed7953\"],[0.7777777777777778,\"#fb9f3a\"],[0.8888888888888888,\"#fdca26\"],[1.0,\"#f0f921\"]],\"sequentialminus\":[[0.0,\"#0d0887\"],[0.1111111111111111,\"#46039f\"],[0.2222222222222222,\"#7201a8\"],[0.3333333333333333,\"#9c179e\"],[0.4444444444444444,\"#bd3786\"],[0.5555555555555556,\"#d8576b\"],[0.6666666666666666,\"#ed7953\"],[0.7777777777777778,\"#fb9f3a\"],[0.8888888888888888,\"#fdca26\"],[1.0,\"#f0f921\"]],\"diverging\":[[0,\"#8e0152\"],[0.1,\"#c51b7d\"],[0.2,\"#de77ae\"],[0.3,\"#f1b6da\"],[0.4,\"#fde0ef\"],[0.5,\"#f7f7f7\"],[0.6,\"#e6f5d0\"],[0.7,\"#b8e186\"],[0.8,\"#7fbc41\"],[0.9,\"#4d9221\"],[1,\"#276419\"]]},\"xaxis\":{\"gridcolor\":\"white\",\"linecolor\":\"white\",\"ticks\":\"\",\"title\":{\"standoff\":15},\"zerolinecolor\":\"white\",\"automargin\":true,\"zerolinewidth\":2},\"yaxis\":{\"gridcolor\":\"white\",\"linecolor\":\"white\",\"ticks\":\"\",\"title\":{\"standoff\":15},\"zerolinecolor\":\"white\",\"automargin\":true,\"zerolinewidth\":2},\"scene\":{\"xaxis\":{\"backgroundcolor\":\"#E5ECF6\",\"gridcolor\":\"white\",\"linecolor\":\"white\",\"showbackground\":true,\"ticks\":\"\",\"zerolinecolor\":\"white\",\"gridwidth\":2},\"yaxis\":{\"backgroundcolor\":\"#E5ECF6\",\"gridcolor\":\"white\",\"linecolor\":\"white\",\"showbackground\":true,\"ticks\":\"\",\"zerolinecolor\":\"white\",\"gridwidth\":2},\"zaxis\":{\"backgroundcolor\":\"#E5ECF6\",\"gridcolor\":\"white\",\"linecolor\":\"white\",\"showbackground\":true,\"ticks\":\"\",\"zerolinecolor\":\"white\",\"gridwidth\":2}},\"shapedefaults\":{\"line\":{\"color\":\"#2a3f5f\"}},\"annotationdefaults\":{\"arrowcolor\":\"#2a3f5f\",\"arrowhead\":0,\"arrowwidth\":1},\"geo\":{\"bgcolor\":\"white\",\"landcolor\":\"#E5ECF6\",\"subunitcolor\":\"white\",\"showland\":true,\"showlakes\":true,\"lakecolor\":\"white\"},\"title\":{\"x\":0.05},\"mapbox\":{\"style\":\"light\"}}},\"xaxis\":{\"anchor\":\"y\",\"domain\":[0.0,1.0],\"title\":{\"text\":\"Fecha\"}},\"yaxis\":{\"anchor\":\"x\",\"domain\":[0.0,1.0],\"title\":{\"text\":\"Total Ventas\"}},\"legend\":{\"title\":{\"text\":\"Marca\"},\"tracegroupgap\":0},\"title\":{\"text\":\"Tendencia y Estacionalidad de Pepsi Max (L3)\"}},                        {\"responsive\": true}                    ).then(function(){\n",
              "                            \n",
              "var gd = document.getElementById('2ea29279-de95-4d59-ab8c-266c3879ab4d');\n",
              "var x = new MutationObserver(function (mutations, observer) {{\n",
              "        var display = window.getComputedStyle(gd).display;\n",
              "        if (!display || display === 'none') {{\n",
              "            console.log([gd, 'removed!']);\n",
              "            Plotly.purge(gd);\n",
              "            observer.disconnect();\n",
              "        }}\n",
              "}});\n",
              "\n",
              "// Listen for the removal of the full notebook cells\n",
              "var notebookContainer = gd.closest('#notebook-container');\n",
              "if (notebookContainer) {{\n",
              "    x.observe(notebookContainer, {childList: true});\n",
              "}}\n",
              "\n",
              "// Listen for the clearing of the current output cell\n",
              "var outputEl = gd.closest('.output');\n",
              "if (outputEl) {{\n",
              "    x.observe(outputEl, {childList: true});\n",
              "}}\n",
              "\n",
              "                        })                };                            </script>        </div>\n",
              "</body>\n",
              "</html>"
            ]
          },
          "metadata": {}
        }
      ]
    },
    {
      "cell_type": "markdown",
      "source": [
        "Se puede contemplar una tendencia ligeramente ascendente y una estacionalidad quetrimestral."
      ],
      "metadata": {
        "id": "dGEtZj3htDQu"
      }
    },
    {
      "cell_type": "markdown",
      "source": [
        "# PREDICCIONES HECHAS EN ESPAÑA Y COMO DE BUENAS SON"
      ],
      "metadata": {
        "id": "UVzq8XKg0pYM"
      }
    },
    {
      "cell_type": "markdown",
      "source": [
        "## DATASET SOLO DE ESPAÑA"
      ],
      "metadata": {
        "id": "atY7EsjD0wRU"
      }
    },
    {
      "cell_type": "code",
      "source": [
        "df_ventas_espana = dfVentas.copy()\n",
        "df_ventas_espana = df_ventas_espana[(df_ventas_espana['COUNTRY'] == 'Spain')]\n",
        "df_ventas_espana.head()\n"
      ],
      "metadata": {
        "colab": {
          "base_uri": "https://localhost:8080/",
          "height": 206
        },
        "id": "B_LR3u0t0ubk",
        "outputId": "eff65de5-9fe9-404c-f896-719f5e1962db"
      },
      "execution_count": null,
      "outputs": [
        {
          "output_type": "execute_result",
          "data": {
            "text/plain": [
              "   COUNTRY            SUBBRAND  YEAR  MONTH     SCENARIO FORECAST  \\\n",
              "2    Spain      Pepsi Max (L3)  2023     12  AI_forecast  AI_P09F   \n",
              "20   Spain  Pepsi Regular (L3)  2023     12  AI_forecast  AI_P05F   \n",
              "25   Spain         Lipton (L3)  2025      3  AI_forecast  AI_P11F   \n",
              "62   Spain       7up Free (L3)  2024      1  AI_forecast  AI_P04F   \n",
              "68   Spain            7up (L3)  2024      4  AI_forecast  AI_P02F   \n",
              "\n",
              "    FORECAST_YEAR         AMOUNT    PERIODO  \n",
              "2            2023   88501.980847 2023-12-01  \n",
              "20           2023  134268.151080 2023-12-01  \n",
              "25           2023    9702.217953 2025-03-01  \n",
              "62           2023   70144.329753 2024-01-01  \n",
              "68           2023   38882.921227 2024-04-01  "
            ],
            "text/html": [
              "\n",
              "  <div id=\"df-8898d750-a4cb-40e8-8a7e-5dd2a119edef\" class=\"colab-df-container\">\n",
              "    <div>\n",
              "<style scoped>\n",
              "    .dataframe tbody tr th:only-of-type {\n",
              "        vertical-align: middle;\n",
              "    }\n",
              "\n",
              "    .dataframe tbody tr th {\n",
              "        vertical-align: top;\n",
              "    }\n",
              "\n",
              "    .dataframe thead th {\n",
              "        text-align: right;\n",
              "    }\n",
              "</style>\n",
              "<table border=\"1\" class=\"dataframe\">\n",
              "  <thead>\n",
              "    <tr style=\"text-align: right;\">\n",
              "      <th></th>\n",
              "      <th>COUNTRY</th>\n",
              "      <th>SUBBRAND</th>\n",
              "      <th>YEAR</th>\n",
              "      <th>MONTH</th>\n",
              "      <th>SCENARIO</th>\n",
              "      <th>FORECAST</th>\n",
              "      <th>FORECAST_YEAR</th>\n",
              "      <th>AMOUNT</th>\n",
              "      <th>PERIODO</th>\n",
              "    </tr>\n",
              "  </thead>\n",
              "  <tbody>\n",
              "    <tr>\n",
              "      <th>2</th>\n",
              "      <td>Spain</td>\n",
              "      <td>Pepsi Max (L3)</td>\n",
              "      <td>2023</td>\n",
              "      <td>12</td>\n",
              "      <td>AI_forecast</td>\n",
              "      <td>AI_P09F</td>\n",
              "      <td>2023</td>\n",
              "      <td>88501.980847</td>\n",
              "      <td>2023-12-01</td>\n",
              "    </tr>\n",
              "    <tr>\n",
              "      <th>20</th>\n",
              "      <td>Spain</td>\n",
              "      <td>Pepsi Regular (L3)</td>\n",
              "      <td>2023</td>\n",
              "      <td>12</td>\n",
              "      <td>AI_forecast</td>\n",
              "      <td>AI_P05F</td>\n",
              "      <td>2023</td>\n",
              "      <td>134268.151080</td>\n",
              "      <td>2023-12-01</td>\n",
              "    </tr>\n",
              "    <tr>\n",
              "      <th>25</th>\n",
              "      <td>Spain</td>\n",
              "      <td>Lipton (L3)</td>\n",
              "      <td>2025</td>\n",
              "      <td>3</td>\n",
              "      <td>AI_forecast</td>\n",
              "      <td>AI_P11F</td>\n",
              "      <td>2023</td>\n",
              "      <td>9702.217953</td>\n",
              "      <td>2025-03-01</td>\n",
              "    </tr>\n",
              "    <tr>\n",
              "      <th>62</th>\n",
              "      <td>Spain</td>\n",
              "      <td>7up Free (L3)</td>\n",
              "      <td>2024</td>\n",
              "      <td>1</td>\n",
              "      <td>AI_forecast</td>\n",
              "      <td>AI_P04F</td>\n",
              "      <td>2023</td>\n",
              "      <td>70144.329753</td>\n",
              "      <td>2024-01-01</td>\n",
              "    </tr>\n",
              "    <tr>\n",
              "      <th>68</th>\n",
              "      <td>Spain</td>\n",
              "      <td>7up (L3)</td>\n",
              "      <td>2024</td>\n",
              "      <td>4</td>\n",
              "      <td>AI_forecast</td>\n",
              "      <td>AI_P02F</td>\n",
              "      <td>2023</td>\n",
              "      <td>38882.921227</td>\n",
              "      <td>2024-04-01</td>\n",
              "    </tr>\n",
              "  </tbody>\n",
              "</table>\n",
              "</div>\n",
              "    <div class=\"colab-df-buttons\">\n",
              "\n",
              "  <div class=\"colab-df-container\">\n",
              "    <button class=\"colab-df-convert\" onclick=\"convertToInteractive('df-8898d750-a4cb-40e8-8a7e-5dd2a119edef')\"\n",
              "            title=\"Convert this dataframe to an interactive table.\"\n",
              "            style=\"display:none;\">\n",
              "\n",
              "  <svg xmlns=\"http://www.w3.org/2000/svg\" height=\"24px\" viewBox=\"0 -960 960 960\">\n",
              "    <path d=\"M120-120v-720h720v720H120Zm60-500h600v-160H180v160Zm220 220h160v-160H400v160Zm0 220h160v-160H400v160ZM180-400h160v-160H180v160Zm440 0h160v-160H620v160ZM180-180h160v-160H180v160Zm440 0h160v-160H620v160Z\"/>\n",
              "  </svg>\n",
              "    </button>\n",
              "\n",
              "  <style>\n",
              "    .colab-df-container {\n",
              "      display:flex;\n",
              "      gap: 12px;\n",
              "    }\n",
              "\n",
              "    .colab-df-convert {\n",
              "      background-color: #E8F0FE;\n",
              "      border: none;\n",
              "      border-radius: 50%;\n",
              "      cursor: pointer;\n",
              "      display: none;\n",
              "      fill: #1967D2;\n",
              "      height: 32px;\n",
              "      padding: 0 0 0 0;\n",
              "      width: 32px;\n",
              "    }\n",
              "\n",
              "    .colab-df-convert:hover {\n",
              "      background-color: #E2EBFA;\n",
              "      box-shadow: 0px 1px 2px rgba(60, 64, 67, 0.3), 0px 1px 3px 1px rgba(60, 64, 67, 0.15);\n",
              "      fill: #174EA6;\n",
              "    }\n",
              "\n",
              "    .colab-df-buttons div {\n",
              "      margin-bottom: 4px;\n",
              "    }\n",
              "\n",
              "    [theme=dark] .colab-df-convert {\n",
              "      background-color: #3B4455;\n",
              "      fill: #D2E3FC;\n",
              "    }\n",
              "\n",
              "    [theme=dark] .colab-df-convert:hover {\n",
              "      background-color: #434B5C;\n",
              "      box-shadow: 0px 1px 3px 1px rgba(0, 0, 0, 0.15);\n",
              "      filter: drop-shadow(0px 1px 2px rgba(0, 0, 0, 0.3));\n",
              "      fill: #FFFFFF;\n",
              "    }\n",
              "  </style>\n",
              "\n",
              "    <script>\n",
              "      const buttonEl =\n",
              "        document.querySelector('#df-8898d750-a4cb-40e8-8a7e-5dd2a119edef button.colab-df-convert');\n",
              "      buttonEl.style.display =\n",
              "        google.colab.kernel.accessAllowed ? 'block' : 'none';\n",
              "\n",
              "      async function convertToInteractive(key) {\n",
              "        const element = document.querySelector('#df-8898d750-a4cb-40e8-8a7e-5dd2a119edef');\n",
              "        const dataTable =\n",
              "          await google.colab.kernel.invokeFunction('convertToInteractive',\n",
              "                                                    [key], {});\n",
              "        if (!dataTable) return;\n",
              "\n",
              "        const docLinkHtml = 'Like what you see? Visit the ' +\n",
              "          '<a target=\"_blank\" href=https://colab.research.google.com/notebooks/data_table.ipynb>data table notebook</a>'\n",
              "          + ' to learn more about interactive tables.';\n",
              "        element.innerHTML = '';\n",
              "        dataTable['output_type'] = 'display_data';\n",
              "        await google.colab.output.renderOutput(dataTable, element);\n",
              "        const docLink = document.createElement('div');\n",
              "        docLink.innerHTML = docLinkHtml;\n",
              "        element.appendChild(docLink);\n",
              "      }\n",
              "    </script>\n",
              "  </div>\n",
              "\n",
              "\n",
              "<div id=\"df-2a522a1c-18cc-44a9-9731-18b184eac576\">\n",
              "  <button class=\"colab-df-quickchart\" onclick=\"quickchart('df-2a522a1c-18cc-44a9-9731-18b184eac576')\"\n",
              "            title=\"Suggest charts\"\n",
              "            style=\"display:none;\">\n",
              "\n",
              "<svg xmlns=\"http://www.w3.org/2000/svg\" height=\"24px\"viewBox=\"0 0 24 24\"\n",
              "     width=\"24px\">\n",
              "    <g>\n",
              "        <path d=\"M19 3H5c-1.1 0-2 .9-2 2v14c0 1.1.9 2 2 2h14c1.1 0 2-.9 2-2V5c0-1.1-.9-2-2-2zM9 17H7v-7h2v7zm4 0h-2V7h2v10zm4 0h-2v-4h2v4z\"/>\n",
              "    </g>\n",
              "</svg>\n",
              "  </button>\n",
              "\n",
              "<style>\n",
              "  .colab-df-quickchart {\n",
              "      --bg-color: #E8F0FE;\n",
              "      --fill-color: #1967D2;\n",
              "      --hover-bg-color: #E2EBFA;\n",
              "      --hover-fill-color: #174EA6;\n",
              "      --disabled-fill-color: #AAA;\n",
              "      --disabled-bg-color: #DDD;\n",
              "  }\n",
              "\n",
              "  [theme=dark] .colab-df-quickchart {\n",
              "      --bg-color: #3B4455;\n",
              "      --fill-color: #D2E3FC;\n",
              "      --hover-bg-color: #434B5C;\n",
              "      --hover-fill-color: #FFFFFF;\n",
              "      --disabled-bg-color: #3B4455;\n",
              "      --disabled-fill-color: #666;\n",
              "  }\n",
              "\n",
              "  .colab-df-quickchart {\n",
              "    background-color: var(--bg-color);\n",
              "    border: none;\n",
              "    border-radius: 50%;\n",
              "    cursor: pointer;\n",
              "    display: none;\n",
              "    fill: var(--fill-color);\n",
              "    height: 32px;\n",
              "    padding: 0;\n",
              "    width: 32px;\n",
              "  }\n",
              "\n",
              "  .colab-df-quickchart:hover {\n",
              "    background-color: var(--hover-bg-color);\n",
              "    box-shadow: 0 1px 2px rgba(60, 64, 67, 0.3), 0 1px 3px 1px rgba(60, 64, 67, 0.15);\n",
              "    fill: var(--button-hover-fill-color);\n",
              "  }\n",
              "\n",
              "  .colab-df-quickchart-complete:disabled,\n",
              "  .colab-df-quickchart-complete:disabled:hover {\n",
              "    background-color: var(--disabled-bg-color);\n",
              "    fill: var(--disabled-fill-color);\n",
              "    box-shadow: none;\n",
              "  }\n",
              "\n",
              "  .colab-df-spinner {\n",
              "    border: 2px solid var(--fill-color);\n",
              "    border-color: transparent;\n",
              "    border-bottom-color: var(--fill-color);\n",
              "    animation:\n",
              "      spin 1s steps(1) infinite;\n",
              "  }\n",
              "\n",
              "  @keyframes spin {\n",
              "    0% {\n",
              "      border-color: transparent;\n",
              "      border-bottom-color: var(--fill-color);\n",
              "      border-left-color: var(--fill-color);\n",
              "    }\n",
              "    20% {\n",
              "      border-color: transparent;\n",
              "      border-left-color: var(--fill-color);\n",
              "      border-top-color: var(--fill-color);\n",
              "    }\n",
              "    30% {\n",
              "      border-color: transparent;\n",
              "      border-left-color: var(--fill-color);\n",
              "      border-top-color: var(--fill-color);\n",
              "      border-right-color: var(--fill-color);\n",
              "    }\n",
              "    40% {\n",
              "      border-color: transparent;\n",
              "      border-right-color: var(--fill-color);\n",
              "      border-top-color: var(--fill-color);\n",
              "    }\n",
              "    60% {\n",
              "      border-color: transparent;\n",
              "      border-right-color: var(--fill-color);\n",
              "    }\n",
              "    80% {\n",
              "      border-color: transparent;\n",
              "      border-right-color: var(--fill-color);\n",
              "      border-bottom-color: var(--fill-color);\n",
              "    }\n",
              "    90% {\n",
              "      border-color: transparent;\n",
              "      border-bottom-color: var(--fill-color);\n",
              "    }\n",
              "  }\n",
              "</style>\n",
              "\n",
              "  <script>\n",
              "    async function quickchart(key) {\n",
              "      const quickchartButtonEl =\n",
              "        document.querySelector('#' + key + ' button');\n",
              "      quickchartButtonEl.disabled = true;  // To prevent multiple clicks.\n",
              "      quickchartButtonEl.classList.add('colab-df-spinner');\n",
              "      try {\n",
              "        const charts = await google.colab.kernel.invokeFunction(\n",
              "            'suggestCharts', [key], {});\n",
              "      } catch (error) {\n",
              "        console.error('Error during call to suggestCharts:', error);\n",
              "      }\n",
              "      quickchartButtonEl.classList.remove('colab-df-spinner');\n",
              "      quickchartButtonEl.classList.add('colab-df-quickchart-complete');\n",
              "    }\n",
              "    (() => {\n",
              "      let quickchartButtonEl =\n",
              "        document.querySelector('#df-2a522a1c-18cc-44a9-9731-18b184eac576 button');\n",
              "      quickchartButtonEl.style.display =\n",
              "        google.colab.kernel.accessAllowed ? 'block' : 'none';\n",
              "    })();\n",
              "  </script>\n",
              "</div>\n",
              "\n",
              "    </div>\n",
              "  </div>\n"
            ],
            "application/vnd.google.colaboratory.intrinsic+json": {
              "type": "dataframe",
              "variable_name": "df_ventas_espana",
              "summary": "{\n  \"name\": \"df_ventas_espana\",\n  \"rows\": 2152,\n  \"fields\": [\n    {\n      \"column\": \"COUNTRY\",\n      \"properties\": {\n        \"dtype\": \"category\",\n        \"num_unique_values\": 1,\n        \"samples\": [\n          \"Spain\"\n        ],\n        \"semantic_type\": \"\",\n        \"description\": \"\"\n      }\n    },\n    {\n      \"column\": \"SUBBRAND\",\n      \"properties\": {\n        \"dtype\": \"category\",\n        \"num_unique_values\": 5,\n        \"samples\": [\n          \"Pepsi Regular (L3)\"\n        ],\n        \"semantic_type\": \"\",\n        \"description\": \"\"\n      }\n    },\n    {\n      \"column\": \"YEAR\",\n      \"properties\": {\n        \"dtype\": \"number\",\n        \"std\": 0,\n        \"min\": 2023,\n        \"max\": 2025,\n        \"num_unique_values\": 3,\n        \"samples\": [\n          2023\n        ],\n        \"semantic_type\": \"\",\n        \"description\": \"\"\n      }\n    },\n    {\n      \"column\": \"MONTH\",\n      \"properties\": {\n        \"dtype\": \"number\",\n        \"std\": 3,\n        \"min\": 1,\n        \"max\": 12,\n        \"num_unique_values\": 12,\n        \"samples\": [\n          7\n        ],\n        \"semantic_type\": \"\",\n        \"description\": \"\"\n      }\n    },\n    {\n      \"column\": \"SCENARIO\",\n      \"properties\": {\n        \"dtype\": \"category\",\n        \"num_unique_values\": 2,\n        \"samples\": [\n          \"actual\"\n        ],\n        \"semantic_type\": \"\",\n        \"description\": \"\"\n      }\n    },\n    {\n      \"column\": \"FORECAST\",\n      \"properties\": {\n        \"dtype\": \"category\",\n        \"num_unique_values\": 12,\n        \"samples\": [\n          \"AI_P10F\"\n        ],\n        \"semantic_type\": \"\",\n        \"description\": \"\"\n      }\n    },\n    {\n      \"column\": \"FORECAST_YEAR\",\n      \"properties\": {\n        \"dtype\": \"Int64\",\n        \"num_unique_values\": 1,\n        \"samples\": [\n          2023\n        ],\n        \"semantic_type\": \"\",\n        \"description\": \"\"\n      }\n    },\n    {\n      \"column\": \"AMOUNT\",\n      \"properties\": {\n        \"dtype\": \"number\",\n        \"std\": 51593.537201377214,\n        \"min\": 4839.238140411764,\n        \"max\": 339110.6103502686,\n        \"num_unique_values\": 2152,\n        \"samples\": [\n          103137.41286331908\n        ],\n        \"semantic_type\": \"\",\n        \"description\": \"\"\n      }\n    },\n    {\n      \"column\": \"PERIODO\",\n      \"properties\": {\n        \"dtype\": \"date\",\n        \"min\": \"2023-01-01 00:00:00\",\n        \"max\": \"2025-05-01 00:00:00\",\n        \"num_unique_values\": 29,\n        \"samples\": [\n          \"2023-02-01 00:00:00\"\n        ],\n        \"semantic_type\": \"\",\n        \"description\": \"\"\n      }\n    }\n  ]\n}"
            }
          },
          "metadata": {},
          "execution_count": 81
        }
      ]
    },
    {
      "cell_type": "markdown",
      "source": [
        "Comprobamos que el numero de registros del datases df_ventas_espana sea 2152"
      ],
      "metadata": {
        "id": "1rCM7lDIBH9P"
      }
    },
    {
      "cell_type": "code",
      "source": [
        "print(len(df_ventas_espana))"
      ],
      "metadata": {
        "colab": {
          "base_uri": "https://localhost:8080/"
        },
        "id": "pspVIue12RYY",
        "outputId": "b71b91a8-2dd0-4bca-d747-1a16b5b13fa6"
      },
      "execution_count": null,
      "outputs": [
        {
          "output_type": "stream",
          "name": "stdout",
          "text": [
            "2152\n"
          ]
        }
      ]
    },
    {
      "cell_type": "markdown",
      "source": [
        "## RESOLUCIÓN"
      ],
      "metadata": {
        "id": "-1n2AtUE2gmz"
      }
    },
    {
      "cell_type": "markdown",
      "source": [
        "Planteamos un gráfico de los forecast frente a los actuals por producto."
      ],
      "metadata": {
        "id": "LA4NukdXfoQj"
      }
    },
    {
      "cell_type": "code",
      "source": [
        "fig = px.scatter(df_ventas_espana, x='PERIODO', y='AMOUNT', color='SCENARIO',\n",
        "                 facet_col='SUBBRAND', facet_col_wrap=2,\n",
        "                 title='Comparación de Ventas Actual y Forecast por Sub-marca en España',\n",
        "                 labels={'AMOUNT': 'Ventas', 'PERIODO': 'Fecha', 'Tipo': 'Tipo de Valor'})\n",
        "\n",
        "fig.update_layout(\n",
        "    legend_title_text='Tipo de Ventas',\n",
        "    title_x=0.5,\n",
        "    margin=dict(t=60, b=40, l=40, r=40),\n",
        "    height=1200\n",
        ")\n",
        "\n",
        "fig.update_xaxes(matches=None, showticklabels=True)\n",
        "\n",
        "fig.show()"
      ],
      "metadata": {
        "colab": {
          "base_uri": "https://localhost:8080/",
          "height": 1000
        },
        "id": "F00bO8B_7Evw",
        "outputId": "467c62b5-8ba6-4aa2-8b84-b2a0c7f04e0b"
      },
      "execution_count": null,
      "outputs": [
        {
          "output_type": "display_data",
          "data": {
            "text/html": [
              "<html>\n",
              "<head><meta charset=\"utf-8\" /></head>\n",
              "<body>\n",
              "    <div>            <script src=\"https://cdnjs.cloudflare.com/ajax/libs/mathjax/2.7.5/MathJax.js?config=TeX-AMS-MML_SVG\"></script><script type=\"text/javascript\">if (window.MathJax && window.MathJax.Hub && window.MathJax.Hub.Config) {window.MathJax.Hub.Config({SVG: {font: \"STIX-Web\"}});}</script>                <script type=\"text/javascript\">window.PlotlyConfig = {MathJaxConfig: 'local'};</script>\n",
              "        <script charset=\"utf-8\" src=\"https://cdn.plot.ly/plotly-2.35.2.min.js\"></script>                <div id=\"a7efd590-0742-42cb-be4c-ac5d649c9404\" class=\"plotly-graph-div\" style=\"height:1200px; width:100%;\"></div>            <script type=\"text/javascript\">                                    window.PLOTLYENV=window.PLOTLYENV || {};                                    if (document.getElementById(\"a7efd590-0742-42cb-be4c-ac5d649c9404\")) {                    Plotly.newPlot(                        \"a7efd590-0742-42cb-be4c-ac5d649c9404\",                        [{\"hovertemplate\":\"SCENARIO=AI_forecast\\u003cbr\\u003eSUBBRAND=Pepsi Max (L3)\\u003cbr\\u003eFecha=%{x}\\u003cbr\\u003eVentas=%{y}\\u003cextra\\u003e\\u003c\\u002fextra\\u003e\",\"legendgroup\":\"AI_forecast\",\"marker\":{\"color\":\"#636efa\",\"symbol\":\"circle\"},\"mode\":\"markers\",\"name\":\"AI_forecast\",\"showlegend\":true,\"x\":[\"2023-12-01T00:00:00\",\"2024-08-01T00:00:00\",\"2023-10-01T00:00:00\",\"2024-01-01T00:00:00\",\"2023-11-01T00:00:00\",\"2024-02-01T00:00:00\",\"2023-07-01T00:00:00\",\"2024-05-01T00:00:00\",\"2023-05-01T00:00:00\",\"2024-11-01T00:00:00\",\"2024-06-01T00:00:00\",\"2024-03-01T00:00:00\",\"2024-07-01T00:00:00\",\"2024-04-01T00:00:00\",\"2024-01-01T00:00:00\",\"2024-04-01T00:00:00\",\"2023-10-01T00:00:00\",\"2023-06-01T00:00:00\",\"2024-05-01T00:00:00\",\"2024-05-01T00:00:00\",\"2025-02-01T00:00:00\",\"2024-07-01T00:00:00\",\"2024-02-01T00:00:00\",\"2024-05-01T00:00:00\",\"2024-08-01T00:00:00\",\"2023-03-01T00:00:00\",\"2023-06-01T00:00:00\",\"2023-10-01T00:00:00\",\"2024-04-01T00:00:00\",\"2024-02-01T00:00:00\",\"2023-06-01T00:00:00\",\"2024-04-01T00:00:00\",\"2023-11-01T00:00:00\",\"2024-07-01T00:00:00\",\"2023-12-01T00:00:00\",\"2023-07-01T00:00:00\",\"2024-11-01T00:00:00\",\"2024-10-01T00:00:00\",\"2023-08-01T00:00:00\",\"2025-01-01T00:00:00\",\"2023-10-01T00:00:00\",\"2024-09-01T00:00:00\",\"2024-08-01T00:00:00\",\"2024-11-01T00:00:00\",\"2024-08-01T00:00:00\",\"2025-01-01T00:00:00\",\"2023-07-01T00:00:00\",\"2024-03-01T00:00:00\",\"2024-03-01T00:00:00\",\"2024-05-01T00:00:00\",\"2023-11-01T00:00:00\",\"2023-10-01T00:00:00\",\"2024-07-01T00:00:00\",\"2023-08-01T00:00:00\",\"2024-10-01T00:00:00\",\"2024-05-01T00:00:00\",\"2024-01-01T00:00:00\",\"2024-07-01T00:00:00\",\"2024-09-01T00:00:00\",\"2024-11-01T00:00:00\",\"2024-01-01T00:00:00\",\"2024-08-01T00:00:00\",\"2024-02-01T00:00:00\",\"2023-12-01T00:00:00\",\"2024-11-01T00:00:00\",\"2024-09-01T00:00:00\",\"2024-01-01T00:00:00\",\"2024-07-01T00:00:00\",\"2024-08-01T00:00:00\",\"2023-08-01T00:00:00\",\"2024-11-01T00:00:00\",\"2023-12-01T00:00:00\",\"2023-10-01T00:00:00\",\"2024-04-01T00:00:00\",\"2025-02-01T00:00:00\",\"2024-01-01T00:00:00\",\"2025-02-01T00:00:00\",\"2024-03-01T00:00:00\",\"2024-08-01T00:00:00\",\"2023-01-01T00:00:00\",\"2024-03-01T00:00:00\",\"2023-04-01T00:00:00\",\"2024-10-01T00:00:00\",\"2024-06-01T00:00:00\",\"2024-12-01T00:00:00\",\"2023-07-01T00:00:00\",\"2024-12-01T00:00:00\",\"2025-01-01T00:00:00\",\"2024-09-01T00:00:00\",\"2023-07-01T00:00:00\",\"2024-06-01T00:00:00\",\"2023-07-01T00:00:00\",\"2024-07-01T00:00:00\",\"2023-05-01T00:00:00\",\"2025-05-01T00:00:00\",\"2024-06-01T00:00:00\",\"2024-12-01T00:00:00\",\"2023-11-01T00:00:00\",\"2024-01-01T00:00:00\",\"2023-09-01T00:00:00\",\"2024-12-01T00:00:00\",\"2023-08-01T00:00:00\",\"2025-03-01T00:00:00\",\"2024-07-01T00:00:00\",\"2024-10-01T00:00:00\",\"2023-10-01T00:00:00\",\"2024-11-01T00:00:00\",\"2024-10-01T00:00:00\",\"2023-06-01T00:00:00\",\"2023-11-01T00:00:00\",\"2023-12-01T00:00:00\",\"2024-04-01T00:00:00\",\"2024-02-01T00:00:00\",\"2024-10-01T00:00:00\",\"2024-12-01T00:00:00\",\"2024-06-01T00:00:00\",\"2023-12-01T00:00:00\",\"2024-01-01T00:00:00\",\"2025-02-01T00:00:00\",\"2024-01-01T00:00:00\",\"2024-09-01T00:00:00\",\"2024-08-01T00:00:00\",\"2024-01-01T00:00:00\",\"2025-01-01T00:00:00\",\"2023-08-01T00:00:00\",\"2024-06-01T00:00:00\",\"2023-09-01T00:00:00\",\"2024-10-01T00:00:00\",\"2025-01-01T00:00:00\",\"2024-10-01T00:00:00\",\"2024-04-01T00:00:00\",\"2024-05-01T00:00:00\",\"2024-11-01T00:00:00\",\"2024-03-01T00:00:00\",\"2024-01-01T00:00:00\",\"2024-02-01T00:00:00\",\"2024-03-01T00:00:00\",\"2025-02-01T00:00:00\",\"2024-05-01T00:00:00\",\"2023-05-01T00:00:00\",\"2023-10-01T00:00:00\",\"2023-09-01T00:00:00\",\"2023-10-01T00:00:00\",\"2024-03-01T00:00:00\",\"2024-02-01T00:00:00\",\"2024-05-01T00:00:00\",\"2024-04-01T00:00:00\",\"2025-03-01T00:00:00\",\"2024-07-01T00:00:00\",\"2024-07-01T00:00:00\",\"2024-11-01T00:00:00\",\"2024-09-01T00:00:00\",\"2024-03-01T00:00:00\",\"2024-02-01T00:00:00\",\"2023-05-01T00:00:00\",\"2024-09-01T00:00:00\",\"2024-02-01T00:00:00\",\"2024-10-01T00:00:00\",\"2023-04-01T00:00:00\",\"2024-12-01T00:00:00\",\"2025-04-01T00:00:00\",\"2024-05-01T00:00:00\",\"2023-08-01T00:00:00\",\"2023-10-01T00:00:00\",\"2025-01-01T00:00:00\",\"2024-09-01T00:00:00\",\"2024-07-01T00:00:00\",\"2024-02-01T00:00:00\",\"2023-12-01T00:00:00\",\"2023-07-01T00:00:00\",\"2023-03-01T00:00:00\",\"2025-03-01T00:00:00\",\"2024-07-01T00:00:00\",\"2023-07-01T00:00:00\",\"2024-03-01T00:00:00\",\"2023-10-01T00:00:00\",\"2024-08-01T00:00:00\",\"2024-12-01T00:00:00\",\"2024-05-01T00:00:00\",\"2024-08-01T00:00:00\",\"2023-09-01T00:00:00\",\"2024-09-01T00:00:00\",\"2024-10-01T00:00:00\",\"2024-04-01T00:00:00\",\"2024-12-01T00:00:00\",\"2024-01-01T00:00:00\",\"2024-08-01T00:00:00\",\"2023-08-01T00:00:00\",\"2024-02-01T00:00:00\",\"2024-09-01T00:00:00\",\"2024-11-01T00:00:00\",\"2023-02-01T00:00:00\",\"2023-09-01T00:00:00\",\"2023-11-01T00:00:00\",\"2024-05-01T00:00:00\",\"2023-12-01T00:00:00\",\"2024-09-01T00:00:00\",\"2023-12-01T00:00:00\",\"2024-07-01T00:00:00\",\"2024-08-01T00:00:00\",\"2024-04-01T00:00:00\",\"2024-04-01T00:00:00\",\"2024-09-01T00:00:00\",\"2024-06-01T00:00:00\",\"2023-11-01T00:00:00\",\"2024-01-01T00:00:00\",\"2024-09-01T00:00:00\",\"2024-09-01T00:00:00\",\"2024-11-01T00:00:00\",\"2024-05-01T00:00:00\",\"2024-09-01T00:00:00\",\"2023-11-01T00:00:00\",\"2024-07-01T00:00:00\",\"2023-07-01T00:00:00\",\"2024-05-01T00:00:00\",\"2023-04-01T00:00:00\",\"2023-06-01T00:00:00\",\"2024-03-01T00:00:00\",\"2024-01-01T00:00:00\",\"2024-02-01T00:00:00\",\"2024-05-01T00:00:00\",\"2023-09-01T00:00:00\",\"2024-10-01T00:00:00\",\"2023-06-01T00:00:00\",\"2024-06-01T00:00:00\",\"2024-08-01T00:00:00\",\"2024-08-01T00:00:00\",\"2023-12-01T00:00:00\",\"2024-10-01T00:00:00\",\"2023-07-01T00:00:00\",\"2023-11-01T00:00:00\",\"2024-08-01T00:00:00\",\"2024-10-01T00:00:00\",\"2023-03-01T00:00:00\",\"2024-06-01T00:00:00\",\"2023-11-01T00:00:00\",\"2024-05-01T00:00:00\",\"2024-07-01T00:00:00\",\"2025-01-01T00:00:00\",\"2024-04-01T00:00:00\",\"2024-02-01T00:00:00\",\"2024-01-01T00:00:00\",\"2025-04-01T00:00:00\",\"2024-12-01T00:00:00\",\"2024-08-01T00:00:00\",\"2024-05-01T00:00:00\",\"2023-09-01T00:00:00\",\"2023-06-01T00:00:00\",\"2023-11-01T00:00:00\",\"2024-12-01T00:00:00\",\"2023-10-01T00:00:00\",\"2024-01-01T00:00:00\",\"2025-01-01T00:00:00\",\"2024-02-01T00:00:00\",\"2024-08-01T00:00:00\",\"2024-12-01T00:00:00\",\"2024-06-01T00:00:00\",\"2024-04-01T00:00:00\",\"2024-03-01T00:00:00\",\"2024-11-01T00:00:00\",\"2024-09-01T00:00:00\",\"2024-10-01T00:00:00\",\"2023-09-01T00:00:00\",\"2024-01-01T00:00:00\",\"2023-12-01T00:00:00\",\"2024-05-01T00:00:00\",\"2025-03-01T00:00:00\",\"2024-01-01T00:00:00\",\"2024-02-01T00:00:00\",\"2024-07-01T00:00:00\",\"2023-10-01T00:00:00\",\"2024-01-01T00:00:00\",\"2024-08-01T00:00:00\",\"2025-01-01T00:00:00\",\"2024-05-01T00:00:00\",\"2023-09-01T00:00:00\",\"2024-01-01T00:00:00\",\"2025-04-01T00:00:00\",\"2024-04-01T00:00:00\",\"2023-11-01T00:00:00\",\"2023-09-01T00:00:00\",\"2024-07-01T00:00:00\",\"2024-04-01T00:00:00\",\"2023-05-01T00:00:00\",\"2024-02-01T00:00:00\",\"2025-02-01T00:00:00\",\"2024-03-01T00:00:00\",\"2023-10-01T00:00:00\",\"2024-05-01T00:00:00\",\"2024-11-01T00:00:00\",\"2023-10-01T00:00:00\",\"2023-12-01T00:00:00\",\"2024-04-01T00:00:00\",\"2024-01-01T00:00:00\",\"2024-02-01T00:00:00\",\"2023-10-01T00:00:00\",\"2024-04-01T00:00:00\",\"2024-10-01T00:00:00\",\"2024-09-01T00:00:00\",\"2024-11-01T00:00:00\",\"2024-11-01T00:00:00\",\"2023-09-01T00:00:00\",\"2023-08-01T00:00:00\",\"2023-04-01T00:00:00\",\"2024-11-01T00:00:00\",\"2024-07-01T00:00:00\",\"2024-05-01T00:00:00\",\"2023-08-01T00:00:00\",\"2024-09-01T00:00:00\",\"2024-04-01T00:00:00\",\"2025-01-01T00:00:00\",\"2023-07-01T00:00:00\",\"2024-08-01T00:00:00\",\"2023-10-01T00:00:00\",\"2023-09-01T00:00:00\",\"2024-05-01T00:00:00\",\"2024-02-01T00:00:00\",\"2024-03-01T00:00:00\",\"2024-02-01T00:00:00\",\"2024-05-01T00:00:00\",\"2024-10-01T00:00:00\",\"2023-09-01T00:00:00\",\"2024-05-01T00:00:00\",\"2023-11-01T00:00:00\",\"2024-11-01T00:00:00\",\"2024-12-01T00:00:00\",\"2024-04-01T00:00:00\",\"2025-01-01T00:00:00\",\"2023-10-01T00:00:00\",\"2024-01-01T00:00:00\",\"2023-12-01T00:00:00\",\"2024-02-01T00:00:00\",\"2024-04-01T00:00:00\",\"2025-04-01T00:00:00\",\"2024-03-01T00:00:00\",\"2025-04-01T00:00:00\",\"2024-03-01T00:00:00\",\"2024-02-01T00:00:00\",\"2024-05-01T00:00:00\",\"2023-10-01T00:00:00\",\"2023-10-01T00:00:00\",\"2024-01-01T00:00:00\",\"2024-06-01T00:00:00\",\"2024-01-01T00:00:00\",\"2024-07-01T00:00:00\",\"2023-12-01T00:00:00\",\"2023-09-01T00:00:00\",\"2024-09-01T00:00:00\",\"2024-08-01T00:00:00\",\"2024-12-01T00:00:00\",\"2024-03-01T00:00:00\",\"2025-02-01T00:00:00\",\"2025-01-01T00:00:00\",\"2023-07-01T00:00:00\",\"2024-02-01T00:00:00\",\"2024-11-01T00:00:00\",\"2023-08-01T00:00:00\",\"2024-06-01T00:00:00\",\"2024-05-01T00:00:00\",\"2024-09-01T00:00:00\",\"2024-09-01T00:00:00\",\"2023-08-01T00:00:00\",\"2025-02-01T00:00:00\",\"2023-08-01T00:00:00\",\"2023-05-01T00:00:00\",\"2024-07-01T00:00:00\",\"2024-03-01T00:00:00\",\"2023-12-01T00:00:00\",\"2025-03-01T00:00:00\",\"2023-09-01T00:00:00\",\"2023-08-01T00:00:00\",\"2023-12-01T00:00:00\",\"2024-02-01T00:00:00\",\"2023-06-01T00:00:00\",\"2024-07-01T00:00:00\",\"2024-04-01T00:00:00\",\"2024-09-01T00:00:00\",\"2024-01-01T00:00:00\",\"2023-10-01T00:00:00\",\"2023-11-01T00:00:00\",\"2024-12-01T00:00:00\",\"2024-09-01T00:00:00\",\"2023-10-01T00:00:00\",\"2025-01-01T00:00:00\",\"2024-06-01T00:00:00\",\"2024-07-01T00:00:00\",\"2023-05-01T00:00:00\",\"2024-06-01T00:00:00\",\"2023-08-01T00:00:00\",\"2023-02-01T00:00:00\",\"2024-06-01T00:00:00\",\"2024-04-01T00:00:00\",\"2024-03-01T00:00:00\",\"2023-08-01T00:00:00\",\"2024-07-01T00:00:00\",\"2024-03-01T00:00:00\",\"2024-01-01T00:00:00\",\"2024-06-01T00:00:00\",\"2024-08-01T00:00:00\",\"2023-11-01T00:00:00\",\"2024-08-01T00:00:00\",\"2023-06-01T00:00:00\",\"2023-08-01T00:00:00\",\"2023-11-01T00:00:00\",\"2023-12-01T00:00:00\",\"2023-12-01T00:00:00\",\"2023-11-01T00:00:00\",\"2024-05-01T00:00:00\",\"2024-10-01T00:00:00\",\"2024-08-01T00:00:00\",\"2024-04-01T00:00:00\",\"2024-10-01T00:00:00\",\"2025-04-01T00:00:00\",\"2024-06-01T00:00:00\",\"2023-12-01T00:00:00\",\"2023-12-01T00:00:00\",\"2023-12-01T00:00:00\",\"2023-10-01T00:00:00\",\"2024-07-01T00:00:00\",\"2024-04-01T00:00:00\",\"2025-02-01T00:00:00\",\"2024-08-01T00:00:00\",\"2024-01-01T00:00:00\",\"2024-11-01T00:00:00\",\"2024-12-01T00:00:00\",\"2024-04-01T00:00:00\",\"2023-11-01T00:00:00\",\"2024-04-01T00:00:00\",\"2024-03-01T00:00:00\",\"2023-12-01T00:00:00\",\"2024-04-01T00:00:00\",\"2024-03-01T00:00:00\",\"2025-02-01T00:00:00\",\"2023-06-01T00:00:00\",\"2024-07-01T00:00:00\",\"2024-09-01T00:00:00\",\"2024-12-01T00:00:00\",\"2024-08-01T00:00:00\",\"2025-01-01T00:00:00\",\"2023-07-01T00:00:00\",\"2024-11-01T00:00:00\",\"2024-08-01T00:00:00\",\"2024-08-01T00:00:00\",\"2024-12-01T00:00:00\",\"2024-03-01T00:00:00\",\"2023-07-01T00:00:00\",\"2023-12-01T00:00:00\",\"2023-05-01T00:00:00\",\"2023-12-01T00:00:00\",\"2023-05-01T00:00:00\",\"2024-03-01T00:00:00\",\"2023-12-01T00:00:00\",\"2023-06-01T00:00:00\",\"2024-02-01T00:00:00\",\"2024-05-01T00:00:00\",\"2023-08-01T00:00:00\",\"2024-06-01T00:00:00\",\"2023-12-01T00:00:00\",\"2023-12-01T00:00:00\",\"2024-03-01T00:00:00\",\"2024-02-01T00:00:00\",\"2024-08-01T00:00:00\",\"2024-08-01T00:00:00\",\"2024-05-01T00:00:00\",\"2024-01-01T00:00:00\",\"2023-09-01T00:00:00\",\"2023-11-01T00:00:00\",\"2023-11-01T00:00:00\",\"2024-06-01T00:00:00\",\"2023-04-01T00:00:00\",\"2024-10-01T00:00:00\",\"2024-01-01T00:00:00\",\"2023-10-01T00:00:00\",\"2023-06-01T00:00:00\",\"2024-11-01T00:00:00\",\"2023-12-01T00:00:00\",\"2023-12-01T00:00:00\",\"2024-07-01T00:00:00\",\"2023-06-01T00:00:00\",\"2023-09-01T00:00:00\",\"2024-08-01T00:00:00\",\"2024-01-01T00:00:00\",\"2024-09-01T00:00:00\",\"2025-01-01T00:00:00\",\"2024-02-01T00:00:00\",\"2024-03-01T00:00:00\",\"2024-09-01T00:00:00\",\"2023-08-01T00:00:00\",\"2025-04-01T00:00:00\",\"2024-10-01T00:00:00\",\"2024-05-01T00:00:00\",\"2024-07-01T00:00:00\",\"2024-02-01T00:00:00\",\"2023-04-01T00:00:00\",\"2023-04-01T00:00:00\",\"2024-07-01T00:00:00\",\"2024-06-01T00:00:00\",\"2024-03-01T00:00:00\",\"2024-03-01T00:00:00\",\"2025-02-01T00:00:00\",\"2024-06-01T00:00:00\",\"2024-05-01T00:00:00\",\"2024-11-01T00:00:00\",\"2024-04-01T00:00:00\",\"2024-02-01T00:00:00\",\"2024-04-01T00:00:00\",\"2025-01-01T00:00:00\",\"2023-09-01T00:00:00\",\"2024-02-01T00:00:00\",\"2024-10-01T00:00:00\",\"2023-09-01T00:00:00\",\"2024-11-01T00:00:00\",\"2024-10-01T00:00:00\",\"2023-07-01T00:00:00\",\"2025-03-01T00:00:00\",\"2023-07-01T00:00:00\",\"2024-06-01T00:00:00\",\"2024-07-01T00:00:00\",\"2024-03-01T00:00:00\",\"2023-07-01T00:00:00\",\"2024-10-01T00:00:00\",\"2023-11-01T00:00:00\",\"2024-06-01T00:00:00\",\"2024-04-01T00:00:00\",\"2024-06-01T00:00:00\",\"2024-10-01T00:00:00\",\"2024-03-01T00:00:00\",\"2024-07-01T00:00:00\",\"2025-02-01T00:00:00\",\"2024-12-01T00:00:00\",\"2025-01-01T00:00:00\",\"2024-09-01T00:00:00\",\"2024-04-01T00:00:00\",\"2024-10-01T00:00:00\",\"2024-08-01T00:00:00\",\"2024-06-01T00:00:00\",\"2024-02-01T00:00:00\",\"2024-09-01T00:00:00\",\"2024-03-01T00:00:00\",\"2023-12-01T00:00:00\",\"2024-06-01T00:00:00\",\"2023-08-01T00:00:00\",\"2024-01-01T00:00:00\",\"2023-11-01T00:00:00\",\"2024-11-01T00:00:00\",\"2024-01-01T00:00:00\",\"2024-05-01T00:00:00\",\"2024-06-01T00:00:00\",\"2023-10-01T00:00:00\",\"2023-09-01T00:00:00\",\"2023-09-01T00:00:00\",\"2024-04-01T00:00:00\",\"2023-05-01T00:00:00\",\"2023-09-01T00:00:00\",\"2025-01-01T00:00:00\",\"2024-01-01T00:00:00\",\"2024-04-01T00:00:00\",\"2024-12-01T00:00:00\",\"2023-05-01T00:00:00\",\"2025-02-01T00:00:00\",\"2024-06-01T00:00:00\",\"2024-09-01T00:00:00\",\"2023-10-01T00:00:00\",\"2023-12-01T00:00:00\",\"2023-12-01T00:00:00\",\"2024-07-01T00:00:00\",\"2024-07-01T00:00:00\",\"2025-02-01T00:00:00\",\"2024-01-01T00:00:00\",\"2024-09-01T00:00:00\",\"2024-09-01T00:00:00\",\"2024-02-01T00:00:00\",\"2024-06-01T00:00:00\",\"2023-11-01T00:00:00\",\"2023-10-01T00:00:00\",\"2024-01-01T00:00:00\",\"2024-12-01T00:00:00\",\"2024-05-01T00:00:00\",\"2024-07-01T00:00:00\",\"2024-08-01T00:00:00\",\"2024-03-01T00:00:00\",\"2024-09-01T00:00:00\",\"2025-01-01T00:00:00\",\"2023-12-01T00:00:00\",\"2024-07-01T00:00:00\",\"2025-05-01T00:00:00\",\"2023-12-01T00:00:00\",\"2023-09-01T00:00:00\",\"2024-06-01T00:00:00\",\"2023-10-01T00:00:00\",\"2023-11-01T00:00:00\",\"2023-08-01T00:00:00\",\"2024-05-01T00:00:00\",\"2025-02-01T00:00:00\",\"2024-07-01T00:00:00\",\"2024-03-01T00:00:00\",\"2024-10-01T00:00:00\",\"2024-09-01T00:00:00\",\"2024-01-01T00:00:00\",\"2025-03-01T00:00:00\",\"2023-11-01T00:00:00\",\"2024-05-01T00:00:00\",\"2024-06-01T00:00:00\",\"2024-11-01T00:00:00\",\"2024-10-01T00:00:00\",\"2024-04-01T00:00:00\",\"2024-10-01T00:00:00\",\"2025-03-01T00:00:00\",\"2024-02-01T00:00:00\",\"2024-08-01T00:00:00\",\"2024-03-01T00:00:00\",\"2024-09-01T00:00:00\",\"2024-05-01T00:00:00\",\"2024-04-01T00:00:00\",\"2025-03-01T00:00:00\",\"2023-11-01T00:00:00\",\"2023-10-01T00:00:00\",\"2024-06-01T00:00:00\",\"2024-07-01T00:00:00\",\"2024-12-01T00:00:00\",\"2024-02-01T00:00:00\",\"2023-06-01T00:00:00\",\"2023-08-01T00:00:00\",\"2024-01-01T00:00:00\",\"2023-09-01T00:00:00\",\"2024-07-01T00:00:00\",\"2023-06-01T00:00:00\",\"2024-02-01T00:00:00\",\"2023-12-01T00:00:00\",\"2025-03-01T00:00:00\",\"2023-09-01T00:00:00\",\"2023-11-01T00:00:00\",\"2023-10-01T00:00:00\",\"2025-04-01T00:00:00\",\"2024-06-01T00:00:00\",\"2025-05-01T00:00:00\",\"2023-08-01T00:00:00\",\"2024-06-01T00:00:00\",\"2024-05-01T00:00:00\",\"2024-01-01T00:00:00\",\"2024-02-01T00:00:00\",\"2023-11-01T00:00:00\",\"2023-11-01T00:00:00\",\"2023-07-01T00:00:00\",\"2024-04-01T00:00:00\",\"2024-11-01T00:00:00\",\"2024-08-01T00:00:00\",\"2024-06-01T00:00:00\",\"2024-10-01T00:00:00\",\"2024-02-01T00:00:00\",\"2024-11-01T00:00:00\",\"2025-05-01T00:00:00\",\"2024-11-01T00:00:00\",\"2025-03-01T00:00:00\",\"2024-01-01T00:00:00\",\"2023-11-01T00:00:00\",\"2023-09-01T00:00:00\",\"2024-03-01T00:00:00\",\"2023-11-01T00:00:00\",\"2024-09-01T00:00:00\",\"2024-08-01T00:00:00\",\"2024-04-01T00:00:00\",\"2023-10-01T00:00:00\",\"2024-05-01T00:00:00\",\"2024-12-01T00:00:00\",\"2023-11-01T00:00:00\",\"2023-09-01T00:00:00\",\"2023-07-01T00:00:00\",\"2023-12-01T00:00:00\",\"2024-06-01T00:00:00\",\"2023-12-01T00:00:00\",\"2024-02-01T00:00:00\",\"2024-08-01T00:00:00\",\"2023-11-01T00:00:00\",\"2024-03-01T00:00:00\",\"2025-03-01T00:00:00\",\"2023-08-01T00:00:00\",\"2024-04-01T00:00:00\",\"2024-06-01T00:00:00\",\"2024-12-01T00:00:00\",\"2024-10-01T00:00:00\",\"2023-11-01T00:00:00\",\"2025-02-01T00:00:00\",\"2025-01-01T00:00:00\",\"2024-03-01T00:00:00\",\"2024-08-01T00:00:00\",\"2024-06-01T00:00:00\",\"2023-12-01T00:00:00\",\"2024-03-01T00:00:00\",\"2024-04-01T00:00:00\",\"2024-12-01T00:00:00\",\"2024-09-01T00:00:00\",\"2024-02-01T00:00:00\",\"2024-05-01T00:00:00\",\"2023-11-01T00:00:00\",\"2024-06-01T00:00:00\",\"2023-12-01T00:00:00\",\"2024-10-01T00:00:00\",\"2024-07-01T00:00:00\",\"2024-02-01T00:00:00\",\"2024-03-01T00:00:00\",\"2024-10-01T00:00:00\"],\"xaxis\":\"x5\",\"y\":[88501.98084743075,113707.5764119321,141118.72032595918,98341.72852753189,124329.00168670202,107132.00416822512,155017.2355882723,134564.90255661728,65153.6543177359,97413.48446066644,89608.975755027,117195.77025733607,110180.93250086869,100287.56576602944,94120.6493912076,111315.18211071806,100079.04597593374,102724.48748660403,106206.7013255938,102547.76559833655,143989.53376914904,137574.4785363841,101819.31231503472,77623.36679837354,141814.1833852174,98687.59679329234,86989.3806302287,85890.91571772427,78132.7842076388,95093.39409362074,103214.48675367737,109295.3729516639,88578.20973251574,132753.48815562797,114201.53624511484,105342.14612552588,156848.57431953438,136668.26053747194,128490.20396876968,131187.59896277412,117999.39275956473,172641.96711639667,112310.47242532804,137641.92095897775,148029.98366881764,147155.9638764007,164113.4549471739,122971.72395618302,126907.0749262658,105962.41122874252,104229.97987335175,119747.01400810198,110379.13224039457,111494.56982726458,101192.73334162308,101298.90879591032,98483.28929043526,112023.96666861468,136526.63155686346,139051.9747061957,75733.8569775879,177638.74438802933,101954.62628628188,118709.34435406284,148536.83949020668,128973.84518495228,90066.70056661303,197259.1881500642,170602.90235585655,126755.80031496196,126430.7432946922,117356.30915470234,88093.83493749904,88052.6178170916,144379.26444282604,100252.48635976078,119570.03491728724,86900.28250843861,160036.0217267978,93305.41195705684,115299.2380174689,89326.18250989637,138444.9776660082,115601.23905965449,141334.18101890877,120891.10914256156,94018.61366859004,112180.18406454108,137652.06340222177,103323.49121642952,145367.16791762016,117135.119244879,153425.50651216877,61568.3147216696,150621.90819660743,87640.49745192271,134680.77999747146,120285.23478109986,100131.72107384737,110325.1401986213,122727.45392540414,144580.20975554027,156898.0873177,134171.51423368423,130257.2330373043,86099.03909147387,146073.39550130462,149250.08790436754,102535.31613922516,95885.53983470786,118097.07204376029,106578.56837007524,89852.3030242469,167773.90516228977,158576.13326992496,125314.3839690258,135762.70812931072,93243.5993880412,135460.8110928131,110278.62140243805,127004.79159537642,139056.1174219288,96930.70492678652,116693.61271189195,136642.0220510263,124601.00699705958,87677.01413044533,129124.44679719316,118068.67801983828,133102.43040576045,104915.52517492628,105517.56916931392,140226.78942980923,89796.40631195447,113014.18613506538,94104.77595481998,131411.3614500783,137825.43433871935,119252.52795298264,83690.45582089346,121120.50682323908,112370.00767685787,129990.5610906636,80551.93628138267,85584.64612882718,80397.44456350169,107249.70813319836,142469.27025053857,192803.4588973638,195451.84676232983,96174.72180563812,135129.8674688592,124139.87663917472,98323.67056601198,62573.01116676615,151802.3389946292,116242.88712734268,135257.69310969373,73582.72631404124,134323.56524377526,130167.5611097499,114949.31624084224,99876.9633444259,123855.6122736688,115688.93667917023,138678.3517599733,144997.22349980343,105314.83493848795,124534.64854631574,132802.84979086946,90107.70995138798,124757.04620058092,110013.10519291573,128160.34402742216,97843.11595686308,111288.97345865816,141602.88005747896,159469.43698562245,105434.32994049152,159584.44663553528,110959.96962129524,159204.0112570434,161522.17322630333,80817.15757318126,136969.80121004165,103679.03186829068,183810.26607682795,124890.25342801044,103073.2225931594,126030.06061521226,120825.76678429032,97717.1632902218,120999.46155828974,121970.69478487578,79423.8782172122,84164.58416843678,167541.30423098858,108886.56270105382,109054.27058704036,148819.27758957,79084.86613152765,106730.0870238622,160614.41431850963,114587.74567208094,110577.51792695904,126995.83594053357,126379.7368089038,161482.21055166182,139907.65173086667,81970.52071706644,155112.01905286152,94412.60772634397,186678.51857767376,154587.99921677937,78250.83671959743,72773.88662280905,74701.89793589333,89817.77135962123,74471.51973161846,100687.62165927084,103157.84497031724,122635.75769902192,174801.91613331865,103529.12349170214,89203.2685637062,149125.32865537642,142413.38266797274,118980.49773150629,140623.19343928402,124726.11711325213,101057.48858879643,141984.11358430225,147012.9219483714,91615.00243446237,148165.9104878114,129618.58031253912,106460.54578315788,197506.1290447513,140830.62710040045,111624.67865811248,99979.40251045322,75099.73243669231,129201.2455785478,135539.6258635558,156632.90038638073,117813.48441734536,95318.31945484388,103522.975725429,124006.62180127332,95823.4602603095,120846.79893057096,118519.61030121255,109488.96065518617,102793.3447936252,178940.68541804564,160124.63813082897,88403.33137292224,125092.40861128343,117378.3124389533,152186.5441802707,128610.1868003304,139255.33390071982,92666.05039719243,94681.61469503156,81725.89817606434,86728.78984566813,142712.14493588704,120675.9348941755,92298.41713005028,115468.45820195292,126084.5645399105,115835.11277977882,147819.78492473392,117168.7455925548,77966.6578676161,110343.89676084496,116359.07015939504,157074.10857490008,108278.9558775009,89742.85535590339,82310.31127430273,147595.19532586983,106373.58846529668,83502.86532925454,98121.85237271334,110994.72693486452,85269.12139182552,121639.92526971448,107418.7713443538,153077.35832059974,84835.71160707677,87405.36128231093,120945.62777501844,112432.93242118742,70754.04724749472,87961.86795629108,81096.25233339494,158925.60862366192,163223.2717646034,118766.68551093857,150876.12348841137,127290.84593901083,99729.75261792936,68646.15665826356,158423.11253662358,141457.71401160024,107125.8069116835,143457.10903157614,95557.12177427537,111529.82104823156,145490.39747163942,129327.5719429736,111659.80450436556,117100.57982756874,86485.62761265184,106023.81264982247,72863.2487103961,139096.4659971522,93677.99309468812,76437.72870547925,156113.82295912807,114647.3000720369,102461.25421670088,122237.48595127383,94139.98742362786,132463.84510400487,110091.75721477016,116935.20689042486,83273.22785612638,77898.31060747555,119883.53536039028,94690.39232359613,108047.55705154856,119811.91521737965,124762.12069192856,149729.34618297475,125719.375819792,71778.36858857777,106343.5574358932,88778.05470714028,119831.38106509068,95511.16179570784,92761.09196816666,76511.46518376099,196765.61421017707,103659.42945827782,121562.9227450268,131032.05668097056,190959.3318106439,174849.20563450138,121479.43512703967,120730.30173961609,118396.54014087156,111452.2518244556,102136.81708071016,129453.25576775071,125082.58648686927,119448.2484262651,77118.19022253784,156354.7523695518,125231.90794559612,164407.21056985873,87103.7029279996,124537.24252943024,94688.5470149684,109968.16043193842,115184.6770636463,110444.38518575572,175427.25147481653,118492.8164652904,142187.24361047044,110233.0949690583,70490.00677873123,77542.83860113761,161958.99298392746,79252.53488160246,96634.59777333862,113094.50717063886,136970.37119940232,90489.39977620648,120580.99631530853,155248.2585763974,114065.3589150164,149987.510695486,147986.0935208331,146324.65191098515,89216.89694413806,133906.36744692322,129541.47376611196,83771.57727182,133695.5592279342,112230.604163759,125040.72040557078,149687.71189365094,130581.54720714792,105314.95769445728,98436.04314585378,117997.27394294844,140563.90099879057,121212.36335627886,144983.0743278099,100746.93256713444,110640.1004307865,95697.32870480292,84869.2607737719,85990.76553751601,104079.73098748933,110572.3884334634,133940.16226894408,175268.36802616945,105473.77176900551,158627.3359812654,129776.62055534706,142096.73548854276,108778.90343813114,99560.373771788,88424.11435065865,121099.83439280948,192197.3399801167,114951.34383287448,138126.17355646504,110018.0476878707,71299.2213569311,143639.31322223818,154551.3252159895,119489.73086882342,86802.02962780668,113974.59029180698,124853.86161953324,116074.2442006878,106042.30016787432,106079.39385933112,119425.72029071256,76900.6057197493,217144.79456702128,105342.85866612552,135768.49657407653,160379.53045628392,86704.67900077089,151494.64257842422,134096.58149953163,108851.42453228132,113215.78278491984,136646.30130005375,115860.61600054197,124535.36491013326,109377.47542659884,68287.03158963329,102457.71941448208,62344.70209994436,87135.24547497192,87665.12765482102,106149.940852938,91984.27489203194,118792.19464558644,106048.06145230342,146341.6546482559,119116.2198565555,123999.83277674076,122668.19218457631,92326.21358536326,139322.94288152843,174576.4489586103,100985.17345960316,96210.6860985368,110945.92895493296,122397.4529141554,114679.02061279531,146704.65365275304,78876.9693876405,181930.80619497888,76947.00118014547,122633.88996074864,78966.52374724094,153479.2882029349,113537.31098168812,118100.00407294184,192641.39817957164,77714.7690366838,119273.73802354698,143642.54351886574,103137.41286331908,131359.92670150544,113118.70783146228,98536.57982259104,116379.4184989333,99226.23674631715,129471.66913753316,153831.09410516775,160728.11781492466,105202.10784613177,148664.050400077,93172.45174777822,98344.01030362085,89660.96183582816,133757.47649543316,86233.58329110095,134186.88272996157,113404.27468486874,121062.52607169477,129295.41675097296,106464.6167103108,117582.81269333696,81746.0985485621,72452.9082336415,98086.06140373011,89088.17722923247,93179.3723352711,115378.3394279767,167218.6605729976,119541.48114042736,103736.99442173402,133043.70474950958,102139.7104487644,143656.33276578292,99344.9862122996,129084.14884705032,148362.36154531594,86432.66512289883,101298.2515005548,103841.36770021803,83650.14213181069,124279.58089808973,105104.97060181569,115395.77771703187,138099.69246388745,117975.01983018086,164736.9176929537,111210.22262020069,158551.51255237064,147393.0432282154,158484.42976914384,106130.46451773329,113121.37601405212,146724.56267084967,122986.82032531928,95703.27758348903,99124.40293058196,119435.13068413224,115895.50587250074,119456.08438495216,129733.44747862584,75774.66082591508,119338.9417217697,138827.7719872842,94706.86596937578,106269.2377085957,84989.4327106381,117607.90015322124,119992.5405472992,108799.71992396424,111163.91874216271,80128.75823500792,128964.75845843744,141060.27704325298,93921.86342172584,113470.4781135052,157472.70165163247,87380.17930675534,150205.3743487525,125515.24672989103,101941.61714319784,111700.63870651888,117070.6717104588,112342.45228704116,147389.66457339533,141247.99153960176,128548.64269754814,112375.24271850828,136865.9519831965,124064.04568626042,68600.41096584198,119247.94276869368,108844.75684532207,119382.34537522042,93443.83672559986,129475.9534401391,100422.0527192416,133153.01312357443,142240.46967431647,109252.37767035344,131572.8108849838,145376.8613964474,113179.86523047028,114083.3397935353,123394.65181176671,117924.21723255044,114841.2139866357,136010.79670132854,116370.83350741232,108138.55990599052,117076.7515222838,105723.22728145048,119808.24161102642,146652.04278574273,115677.06662409422,140308.41795138686,137866.93013791475,99319.79825941952,180266.60126021973,115518.3171240809,103944.0151117726,112711.806763189,121793.32813221942,132525.2646491829,90960.6921507164,158119.70908067503,152168.9986990531,70375.33715010923,145362.46642125671,117321.63884340142,136374.37830544723,104555.41529324408,112289.565998706,179253.63697426874,85254.72686216477,126566.5476551212,134894.7149294735,133066.05290165186,103287.2703154076,92193.7753273158,106875.69397735862,99009.5072553221,99497.32106223857,139429.07933252642,144658.89458624405,105080.02230269124,103270.96852997904,111079.00026903804,130229.03952252746,83065.34743221258,120835.5998223976,109984.21211662985,117803.8526839587,88269.66674994525,117398.65519073294,128525.58694887544,88521.90450917228,87457.32503045785,100407.23666233616,108586.83817362395,82434.21714641221,111714.82095149226,117202.13646481172,75104.8129919284,149261.58298444978,147057.91832139497,131595.17056100446,131192.46026111994,102973.40153416006,136175.821194151,146709.9384081695,137993.17093688622,158249.9941674195,98632.31266436396,89829.34363520118,112294.08679479182,83240.20492172701,110250.51506120656,157605.35066504657,169017.99593943558,110147.56981107008,121837.48061407146,100215.49195872304,162659.74306232127,120389.02742566126,118292.98799647795,103240.08706059406,115696.84939068204,110592.50507403232,108682.78735294608,95461.61426436728,113563.51303936852,120482.3104071786,123767.9492839931,131029.50041360348,129169.52945931288,111647.9686179718,126260.28524803097,136225.59082436515,139474.86862802206,113659.40806447944,106257.7385378353,143855.2905368705,125324.46648939888,189266.7908581033,126557.61189174664,125813.17855109712,106959.84797386714,78286.7437387145,127362.12253638582,138988.7650368251,72199.90257308129,127379.63693982984,120668.70009411708,117196.24273243772,119373.60052585127,102804.03382862848,131640.82876565965,94710.203286803,117771.62078114226,96728.47554125224],\"yaxis\":\"y5\",\"type\":\"scattergl\"},{\"hovertemplate\":\"SCENARIO=AI_forecast\\u003cbr\\u003eSUBBRAND=Pepsi Regular (L3)\\u003cbr\\u003eFecha=%{x}\\u003cbr\\u003eVentas=%{y}\\u003cextra\\u003e\\u003c\\u002fextra\\u003e\",\"legendgroup\":\"AI_forecast\",\"marker\":{\"color\":\"#636efa\",\"symbol\":\"circle\"},\"mode\":\"markers\",\"name\":\"AI_forecast\",\"showlegend\":false,\"x\":[\"2023-12-01T00:00:00\",\"2024-01-01T00:00:00\",\"2023-08-01T00:00:00\",\"2025-02-01T00:00:00\",\"2024-08-01T00:00:00\",\"2024-06-01T00:00:00\",\"2024-06-01T00:00:00\",\"2024-09-01T00:00:00\",\"2024-06-01T00:00:00\",\"2024-11-01T00:00:00\",\"2023-08-01T00:00:00\",\"2023-06-01T00:00:00\",\"2024-12-01T00:00:00\",\"2023-12-01T00:00:00\",\"2024-09-01T00:00:00\",\"2024-08-01T00:00:00\",\"2024-02-01T00:00:00\",\"2023-08-01T00:00:00\",\"2024-04-01T00:00:00\",\"2024-10-01T00:00:00\",\"2024-05-01T00:00:00\",\"2025-01-01T00:00:00\",\"2024-04-01T00:00:00\",\"2024-05-01T00:00:00\",\"2024-01-01T00:00:00\",\"2024-12-01T00:00:00\",\"2025-04-01T00:00:00\",\"2024-04-01T00:00:00\",\"2024-02-01T00:00:00\",\"2023-09-01T00:00:00\",\"2023-12-01T00:00:00\",\"2025-03-01T00:00:00\",\"2024-07-01T00:00:00\",\"2024-07-01T00:00:00\",\"2023-11-01T00:00:00\",\"2024-11-01T00:00:00\",\"2024-07-01T00:00:00\",\"2025-01-01T00:00:00\",\"2023-09-01T00:00:00\",\"2023-11-01T00:00:00\",\"2024-09-01T00:00:00\",\"2023-12-01T00:00:00\",\"2024-06-01T00:00:00\",\"2024-01-01T00:00:00\",\"2024-11-01T00:00:00\",\"2023-10-01T00:00:00\",\"2024-08-01T00:00:00\",\"2024-04-01T00:00:00\",\"2024-01-01T00:00:00\",\"2023-11-01T00:00:00\",\"2024-10-01T00:00:00\",\"2023-07-01T00:00:00\",\"2023-12-01T00:00:00\",\"2023-07-01T00:00:00\",\"2024-08-01T00:00:00\",\"2025-01-01T00:00:00\",\"2024-03-01T00:00:00\",\"2024-01-01T00:00:00\",\"2024-02-01T00:00:00\",\"2024-10-01T00:00:00\",\"2024-04-01T00:00:00\",\"2023-09-01T00:00:00\",\"2025-03-01T00:00:00\",\"2024-02-01T00:00:00\",\"2024-04-01T00:00:00\",\"2024-02-01T00:00:00\",\"2024-08-01T00:00:00\",\"2024-04-01T00:00:00\",\"2024-01-01T00:00:00\",\"2025-03-01T00:00:00\",\"2025-05-01T00:00:00\",\"2023-06-01T00:00:00\",\"2025-01-01T00:00:00\",\"2024-12-01T00:00:00\",\"2023-06-01T00:00:00\",\"2023-11-01T00:00:00\",\"2024-04-01T00:00:00\",\"2024-10-01T00:00:00\",\"2024-09-01T00:00:00\",\"2023-11-01T00:00:00\",\"2025-04-01T00:00:00\",\"2024-10-01T00:00:00\",\"2024-06-01T00:00:00\",\"2024-07-01T00:00:00\",\"2023-02-01T00:00:00\",\"2023-05-01T00:00:00\",\"2024-03-01T00:00:00\",\"2024-02-01T00:00:00\",\"2024-04-01T00:00:00\",\"2023-10-01T00:00:00\",\"2023-12-01T00:00:00\",\"2024-12-01T00:00:00\",\"2023-12-01T00:00:00\",\"2024-03-01T00:00:00\",\"2024-02-01T00:00:00\",\"2024-02-01T00:00:00\",\"2025-03-01T00:00:00\",\"2024-07-01T00:00:00\",\"2024-06-01T00:00:00\",\"2023-03-01T00:00:00\",\"2024-11-01T00:00:00\",\"2025-04-01T00:00:00\",\"2025-04-01T00:00:00\",\"2023-08-01T00:00:00\",\"2024-08-01T00:00:00\",\"2023-09-01T00:00:00\",\"2024-12-01T00:00:00\",\"2023-12-01T00:00:00\",\"2024-06-01T00:00:00\",\"2024-06-01T00:00:00\",\"2023-09-01T00:00:00\",\"2024-03-01T00:00:00\",\"2023-09-01T00:00:00\",\"2024-10-01T00:00:00\",\"2024-12-01T00:00:00\",\"2023-10-01T00:00:00\",\"2023-07-01T00:00:00\",\"2024-02-01T00:00:00\",\"2024-03-01T00:00:00\",\"2024-10-01T00:00:00\",\"2025-02-01T00:00:00\",\"2024-08-01T00:00:00\",\"2024-11-01T00:00:00\",\"2024-09-01T00:00:00\",\"2024-02-01T00:00:00\",\"2025-01-01T00:00:00\",\"2023-09-01T00:00:00\",\"2024-11-01T00:00:00\",\"2024-08-01T00:00:00\",\"2023-12-01T00:00:00\",\"2024-03-01T00:00:00\",\"2023-04-01T00:00:00\",\"2024-09-01T00:00:00\",\"2025-01-01T00:00:00\",\"2024-10-01T00:00:00\",\"2024-04-01T00:00:00\",\"2023-09-01T00:00:00\",\"2023-08-01T00:00:00\",\"2023-11-01T00:00:00\",\"2025-02-01T00:00:00\",\"2023-12-01T00:00:00\",\"2024-10-01T00:00:00\",\"2024-09-01T00:00:00\",\"2024-05-01T00:00:00\",\"2024-03-01T00:00:00\",\"2024-07-01T00:00:00\",\"2025-02-01T00:00:00\",\"2024-11-01T00:00:00\",\"2024-05-01T00:00:00\",\"2024-05-01T00:00:00\",\"2024-07-01T00:00:00\",\"2024-12-01T00:00:00\",\"2024-01-01T00:00:00\",\"2024-08-01T00:00:00\",\"2024-10-01T00:00:00\",\"2024-09-01T00:00:00\",\"2024-05-01T00:00:00\",\"2024-03-01T00:00:00\",\"2025-03-01T00:00:00\",\"2024-06-01T00:00:00\",\"2025-03-01T00:00:00\",\"2024-07-01T00:00:00\",\"2023-07-01T00:00:00\",\"2024-11-01T00:00:00\",\"2024-05-01T00:00:00\",\"2024-07-01T00:00:00\",\"2024-05-01T00:00:00\",\"2024-06-01T00:00:00\",\"2023-08-01T00:00:00\",\"2024-02-01T00:00:00\",\"2023-11-01T00:00:00\",\"2024-07-01T00:00:00\",\"2023-09-01T00:00:00\",\"2024-03-01T00:00:00\",\"2024-10-01T00:00:00\",\"2024-04-01T00:00:00\",\"2023-01-01T00:00:00\",\"2024-01-01T00:00:00\",\"2024-01-01T00:00:00\",\"2025-02-01T00:00:00\",\"2024-08-01T00:00:00\",\"2024-05-01T00:00:00\",\"2023-10-01T00:00:00\",\"2024-06-01T00:00:00\",\"2024-07-01T00:00:00\",\"2023-05-01T00:00:00\",\"2024-08-01T00:00:00\",\"2023-12-01T00:00:00\",\"2024-06-01T00:00:00\",\"2024-07-01T00:00:00\",\"2023-11-01T00:00:00\",\"2024-08-01T00:00:00\",\"2023-10-01T00:00:00\",\"2025-02-01T00:00:00\",\"2024-05-01T00:00:00\",\"2023-10-01T00:00:00\",\"2023-11-01T00:00:00\",\"2023-06-01T00:00:00\",\"2023-11-01T00:00:00\",\"2024-04-01T00:00:00\",\"2024-02-01T00:00:00\",\"2024-07-01T00:00:00\",\"2025-04-01T00:00:00\",\"2024-12-01T00:00:00\",\"2024-06-01T00:00:00\",\"2023-08-01T00:00:00\",\"2024-06-01T00:00:00\",\"2024-04-01T00:00:00\",\"2024-03-01T00:00:00\",\"2025-02-01T00:00:00\",\"2023-11-01T00:00:00\",\"2023-06-01T00:00:00\",\"2024-08-01T00:00:00\",\"2024-01-01T00:00:00\",\"2023-07-01T00:00:00\",\"2024-06-01T00:00:00\",\"2024-06-01T00:00:00\",\"2024-09-01T00:00:00\",\"2024-09-01T00:00:00\",\"2023-11-01T00:00:00\",\"2024-02-01T00:00:00\",\"2024-08-01T00:00:00\",\"2024-09-01T00:00:00\",\"2023-11-01T00:00:00\",\"2024-08-01T00:00:00\",\"2023-06-01T00:00:00\",\"2024-12-01T00:00:00\",\"2024-06-01T00:00:00\",\"2023-12-01T00:00:00\",\"2023-06-01T00:00:00\",\"2024-05-01T00:00:00\",\"2023-08-01T00:00:00\",\"2023-08-01T00:00:00\",\"2024-05-01T00:00:00\",\"2024-07-01T00:00:00\",\"2024-05-01T00:00:00\",\"2024-01-01T00:00:00\",\"2024-11-01T00:00:00\",\"2024-06-01T00:00:00\",\"2024-08-01T00:00:00\",\"2023-10-01T00:00:00\",\"2023-10-01T00:00:00\",\"2023-12-01T00:00:00\",\"2024-09-01T00:00:00\",\"2025-02-01T00:00:00\",\"2024-04-01T00:00:00\",\"2023-11-01T00:00:00\",\"2024-09-01T00:00:00\",\"2025-05-01T00:00:00\",\"2024-05-01T00:00:00\",\"2023-11-01T00:00:00\",\"2024-04-01T00:00:00\",\"2024-06-01T00:00:00\",\"2023-02-01T00:00:00\",\"2024-10-01T00:00:00\",\"2023-12-01T00:00:00\",\"2024-09-01T00:00:00\",\"2024-06-01T00:00:00\",\"2023-12-01T00:00:00\",\"2023-11-01T00:00:00\",\"2023-09-01T00:00:00\",\"2024-05-01T00:00:00\",\"2024-11-01T00:00:00\",\"2023-12-01T00:00:00\",\"2024-09-01T00:00:00\",\"2023-07-01T00:00:00\",\"2024-01-01T00:00:00\",\"2024-07-01T00:00:00\",\"2024-09-01T00:00:00\",\"2023-12-01T00:00:00\",\"2024-04-01T00:00:00\",\"2024-10-01T00:00:00\",\"2024-11-01T00:00:00\",\"2024-07-01T00:00:00\",\"2024-02-01T00:00:00\",\"2024-06-01T00:00:00\",\"2024-07-01T00:00:00\",\"2024-01-01T00:00:00\",\"2024-02-01T00:00:00\",\"2024-05-01T00:00:00\",\"2024-06-01T00:00:00\",\"2025-01-01T00:00:00\",\"2023-11-01T00:00:00\",\"2024-10-01T00:00:00\",\"2024-05-01T00:00:00\",\"2023-12-01T00:00:00\",\"2024-02-01T00:00:00\",\"2024-10-01T00:00:00\",\"2024-09-01T00:00:00\",\"2023-11-01T00:00:00\",\"2024-08-01T00:00:00\",\"2024-10-01T00:00:00\",\"2024-02-01T00:00:00\",\"2024-12-01T00:00:00\",\"2024-02-01T00:00:00\",\"2024-02-01T00:00:00\",\"2023-12-01T00:00:00\",\"2023-10-01T00:00:00\",\"2023-10-01T00:00:00\",\"2024-02-01T00:00:00\",\"2024-01-01T00:00:00\",\"2025-03-01T00:00:00\",\"2025-02-01T00:00:00\",\"2024-03-01T00:00:00\",\"2024-07-01T00:00:00\",\"2025-02-01T00:00:00\",\"2024-12-01T00:00:00\",\"2024-03-01T00:00:00\",\"2024-03-01T00:00:00\",\"2023-11-01T00:00:00\",\"2025-02-01T00:00:00\",\"2024-04-01T00:00:00\",\"2024-11-01T00:00:00\",\"2024-11-01T00:00:00\",\"2024-09-01T00:00:00\",\"2024-07-01T00:00:00\",\"2024-08-01T00:00:00\",\"2023-09-01T00:00:00\",\"2024-04-01T00:00:00\",\"2024-04-01T00:00:00\",\"2024-09-01T00:00:00\",\"2023-10-01T00:00:00\",\"2023-09-01T00:00:00\",\"2024-12-01T00:00:00\",\"2024-02-01T00:00:00\",\"2024-04-01T00:00:00\",\"2024-04-01T00:00:00\",\"2023-06-01T00:00:00\",\"2024-05-01T00:00:00\",\"2024-05-01T00:00:00\",\"2024-06-01T00:00:00\",\"2023-08-01T00:00:00\",\"2023-12-01T00:00:00\",\"2025-01-01T00:00:00\",\"2025-01-01T00:00:00\",\"2023-04-01T00:00:00\",\"2024-05-01T00:00:00\",\"2023-07-01T00:00:00\",\"2025-05-01T00:00:00\",\"2023-11-01T00:00:00\",\"2024-11-01T00:00:00\",\"2024-04-01T00:00:00\",\"2024-05-01T00:00:00\",\"2023-06-01T00:00:00\",\"2023-09-01T00:00:00\",\"2023-11-01T00:00:00\",\"2024-08-01T00:00:00\",\"2024-09-01T00:00:00\",\"2024-02-01T00:00:00\",\"2024-03-01T00:00:00\",\"2024-04-01T00:00:00\",\"2023-08-01T00:00:00\",\"2023-09-01T00:00:00\",\"2024-01-01T00:00:00\",\"2023-10-01T00:00:00\",\"2023-10-01T00:00:00\",\"2024-08-01T00:00:00\",\"2024-10-01T00:00:00\",\"2023-09-01T00:00:00\",\"2024-06-01T00:00:00\",\"2024-07-01T00:00:00\",\"2024-08-01T00:00:00\",\"2023-06-01T00:00:00\",\"2024-02-01T00:00:00\",\"2024-01-01T00:00:00\",\"2024-10-01T00:00:00\",\"2024-07-01T00:00:00\",\"2023-12-01T00:00:00\",\"2024-04-01T00:00:00\",\"2024-03-01T00:00:00\",\"2024-01-01T00:00:00\",\"2024-04-01T00:00:00\",\"2023-05-01T00:00:00\",\"2023-10-01T00:00:00\",\"2024-03-01T00:00:00\",\"2024-11-01T00:00:00\",\"2024-10-01T00:00:00\",\"2024-08-01T00:00:00\",\"2024-01-01T00:00:00\",\"2024-03-01T00:00:00\",\"2023-10-01T00:00:00\",\"2024-02-01T00:00:00\",\"2023-12-01T00:00:00\",\"2024-07-01T00:00:00\",\"2023-10-01T00:00:00\",\"2024-02-01T00:00:00\",\"2023-08-01T00:00:00\",\"2024-08-01T00:00:00\",\"2023-08-01T00:00:00\",\"2024-02-01T00:00:00\",\"2023-06-01T00:00:00\",\"2024-06-01T00:00:00\",\"2024-01-01T00:00:00\",\"2024-07-01T00:00:00\",\"2023-09-01T00:00:00\",\"2024-06-01T00:00:00\",\"2023-10-01T00:00:00\",\"2023-03-01T00:00:00\",\"2024-05-01T00:00:00\",\"2024-03-01T00:00:00\",\"2023-04-01T00:00:00\",\"2023-04-01T00:00:00\",\"2023-09-01T00:00:00\",\"2024-05-01T00:00:00\",\"2023-07-01T00:00:00\",\"2024-10-01T00:00:00\",\"2023-03-01T00:00:00\",\"2024-10-01T00:00:00\",\"2024-01-01T00:00:00\",\"2024-07-01T00:00:00\",\"2025-01-01T00:00:00\",\"2024-03-01T00:00:00\",\"2023-11-01T00:00:00\",\"2023-12-01T00:00:00\",\"2024-05-01T00:00:00\",\"2023-10-01T00:00:00\",\"2024-11-01T00:00:00\",\"2023-12-01T00:00:00\",\"2024-01-01T00:00:00\",\"2024-09-01T00:00:00\",\"2025-01-01T00:00:00\",\"2024-07-01T00:00:00\",\"2024-05-01T00:00:00\",\"2025-03-01T00:00:00\",\"2024-07-01T00:00:00\",\"2025-03-01T00:00:00\",\"2024-11-01T00:00:00\",\"2024-12-01T00:00:00\",\"2024-04-01T00:00:00\",\"2024-01-01T00:00:00\",\"2025-01-01T00:00:00\",\"2023-10-01T00:00:00\",\"2023-10-01T00:00:00\",\"2023-08-01T00:00:00\",\"2024-03-01T00:00:00\",\"2024-09-01T00:00:00\",\"2024-08-01T00:00:00\",\"2023-11-01T00:00:00\",\"2023-11-01T00:00:00\",\"2024-06-01T00:00:00\",\"2024-02-01T00:00:00\",\"2023-10-01T00:00:00\",\"2024-12-01T00:00:00\",\"2024-04-01T00:00:00\",\"2025-01-01T00:00:00\",\"2024-08-01T00:00:00\",\"2023-07-01T00:00:00\",\"2024-01-01T00:00:00\",\"2024-09-01T00:00:00\",\"2024-07-01T00:00:00\",\"2024-06-01T00:00:00\",\"2024-05-01T00:00:00\",\"2024-09-01T00:00:00\",\"2025-02-01T00:00:00\",\"2023-11-01T00:00:00\",\"2024-11-01T00:00:00\",\"2023-12-01T00:00:00\",\"2023-06-01T00:00:00\",\"2025-04-01T00:00:00\",\"2024-08-01T00:00:00\",\"2024-08-01T00:00:00\",\"2024-06-01T00:00:00\",\"2023-12-01T00:00:00\",\"2024-01-01T00:00:00\",\"2024-05-01T00:00:00\",\"2024-01-01T00:00:00\",\"2024-03-01T00:00:00\",\"2023-07-01T00:00:00\",\"2023-07-01T00:00:00\",\"2023-05-01T00:00:00\",\"2023-10-01T00:00:00\",\"2024-05-01T00:00:00\",\"2023-11-01T00:00:00\",\"2024-01-01T00:00:00\",\"2023-09-01T00:00:00\",\"2024-05-01T00:00:00\",\"2023-07-01T00:00:00\",\"2024-12-01T00:00:00\",\"2024-01-01T00:00:00\",\"2024-01-01T00:00:00\",\"2024-03-01T00:00:00\",\"2023-08-01T00:00:00\",\"2023-10-01T00:00:00\",\"2024-10-01T00:00:00\",\"2023-12-01T00:00:00\",\"2023-12-01T00:00:00\",\"2024-03-01T00:00:00\",\"2024-07-01T00:00:00\",\"2023-07-01T00:00:00\",\"2023-09-01T00:00:00\",\"2024-09-01T00:00:00\",\"2024-05-01T00:00:00\",\"2024-04-01T00:00:00\",\"2023-05-01T00:00:00\",\"2023-05-01T00:00:00\",\"2024-03-01T00:00:00\",\"2024-07-01T00:00:00\",\"2023-08-01T00:00:00\",\"2023-07-01T00:00:00\",\"2024-04-01T00:00:00\",\"2023-08-01T00:00:00\",\"2024-03-01T00:00:00\",\"2023-04-01T00:00:00\",\"2023-12-01T00:00:00\",\"2024-01-01T00:00:00\",\"2023-09-01T00:00:00\",\"2024-11-01T00:00:00\",\"2024-03-01T00:00:00\",\"2024-02-01T00:00:00\",\"2024-03-01T00:00:00\",\"2024-06-01T00:00:00\",\"2025-01-01T00:00:00\",\"2023-12-01T00:00:00\",\"2024-12-01T00:00:00\",\"2023-10-01T00:00:00\",\"2024-09-01T00:00:00\",\"2024-11-01T00:00:00\",\"2024-03-01T00:00:00\",\"2023-05-01T00:00:00\",\"2023-05-01T00:00:00\",\"2024-02-01T00:00:00\",\"2024-11-01T00:00:00\",\"2024-10-01T00:00:00\",\"2023-07-01T00:00:00\",\"2025-01-01T00:00:00\",\"2024-04-01T00:00:00\",\"2023-09-01T00:00:00\",\"2023-08-01T00:00:00\",\"2023-11-01T00:00:00\",\"2024-12-01T00:00:00\",\"2024-08-01T00:00:00\",\"2024-02-01T00:00:00\",\"2024-09-01T00:00:00\",\"2024-03-01T00:00:00\",\"2023-05-01T00:00:00\",\"2023-04-01T00:00:00\",\"2024-10-01T00:00:00\",\"2024-01-01T00:00:00\",\"2024-03-01T00:00:00\",\"2024-12-01T00:00:00\"],\"xaxis\":\"x6\",\"y\":[134268.1510802472,132236.38710502087,164759.7931374658,137619.4558548598,173701.35175561922,156544.88406468928,183736.8040462092,136372.49769415037,194970.8492367681,160236.61626034512,183272.0828741894,152607.6921344687,255710.80634283295,135724.2460312794,272071.6566923809,281190.29517676245,131842.38979379044,166426.4478385857,108609.393776022,164584.41659657776,123600.26000220983,136272.45451524295,113087.15518591228,131619.10570302178,111801.83113995443,163105.16211523523,89192.52479725196,181926.3894581757,115590.93773857696,146945.61475218151,143674.698858048,91576.6033519058,163653.5731951399,288239.1058785544,140862.86002359563,222030.0123304729,268663.7422046393,192308.74055515972,179489.3842586898,130102.9810569137,112727.09464779652,138545.88437924525,218633.0859132747,136387.96568690648,145488.8735968403,142858.05814603763,195778.2691922098,115094.67739730212,116189.91045614616,142264.87695374552,161287.49728358467,153062.88305392867,142583.07028073823,118181.32591253416,293255.2270367028,85185.20940360721,151539.35324724973,128186.2321197533,127699.88870364662,247596.2372177849,129960.35387260524,165388.1002600435,250223.90784190333,119441.12275746456,152143.47866740564,99468.18480374802,169138.93111329427,153787.59894345625,102832.19633824522,264269.9876816419,151636.62750417806,125345.493148678,210751.1913572244,162439.5435084328,121714.95351400292,134140.084255092,123855.90316550506,245544.0759408911,156010.3778820453,111241.31612194394,250023.4020141792,273504.1947274533,93809.88476809606,171825.68686117898,100841.7178485865,69307.7450951033,74400.55189077434,61918.21415159904,122274.91748714211,146984.04665278026,141840.8571419992,164239.90881192803,158885.6633516648,148803.28764087742,72168.24108429051,127488.81920793814,160582.70767978876,160166.74800104706,115006.72070449631,107155.80366038806,159584.49499176382,234881.9807065297,146476.24922831007,161098.97606930786,273415.28659463127,132941.16935257564,272751.07061462826,137204.95026224438,199014.09108519196,182861.4986862468,95060.313883104,110063.0618831537,149070.00165005212,140084.94822654524,117832.72830921704,137371.75247327384,122562.13104630868,106706.06739080136,141817.863029404,239034.3666611539,84103.52927255275,153081.58773328195,161521.7766988329,100854.5713016058,121501.14371122156,80120.65447451649,96052.82646697124,158152.95143263062,290871.7277311437,117818.264939007,119105.0890778414,75926.16784787309,161595.75857404026,214528.2611586477,164419.54080105585,136880.39813725857,154065.9005845641,129754.70791556672,116845.48343032002,135559.1603741151,144178.34940619676,262161.488121083,166945.68392273964,131411.88973766714,142362.00559221613,174287.37116126783,199502.46882355865,218450.4521764496,106107.0535011763,164037.68795813553,322656.3525506345,260886.0846520101,70610.1239080258,318267.3739534708,132049.27586518557,171252.48128117996,132871.7828537933,143427.1080066713,162684.00775175868,147375.67851994478,92224.06478342842,176060.634503436,151395.16727270224,239531.52163147047,102656.6482181138,276490.92233430507,128734.4778932947,141947.04887206422,215204.79867861464,131073.6959569742,142171.74975424772,123471.01751008592,90593.92494076684,142573.79269422716,271207.6079347459,80260.30501423625,108418.89166220822,114865.04329197938,117093.82596581828,210256.82189316783,165728.71429867682,155786.6213666928,142893.4689770073,214696.9881717124,166583.61524128684,107417.55331794314,178327.53596915174,162507.0700716461,93654.5888333544,271427.007686746,141309.80355130666,160099.06075040068,142128.4823135332,224305.8242522917,173962.31455006986,153166.29899091838,80888.62244405478,85978.48449420542,126241.8895913918,107359.83687562804,115506.44896883552,272650.0568176835,148618.5538915052,109232.90313739509,152563.82327543324,184381.87047009144,185049.8803852473,136159.1511130256,113392.02582332278,76407.5130317483,148576.74768849803,143259.15255492218,339110.6103502686,115672.76256977629,119828.54808944072,126127.36228186272,155958.54931695506,119310.76805211155,169555.56195244472,143303.409715821,110371.30948284896,179903.56534585208,235317.81214993895,136334.69236115075,186159.31561834447,87575.70901751687,150937.2600631514,154951.41071071397,85749.13968696813,151864.06295478632,65781.26238076635,129033.23067142858,214190.59501380575,73914.84937179365,172979.4330500704,129801.83307653782,108945.97944488347,239795.11976112096,120899.02066862553,286896.86325549724,158309.70231274425,95518.86250866432,116250.6586927464,237138.772038998,111409.1363469565,128936.19419218626,138950.74095975503,132949.28081211782,88335.95367471631,111804.86426865098,118472.90784311268,151919.00999722842,153674.3739615005,95476.2233336438,249848.60187450628,89333.26867894533,144985.52687707925,131716.8891969002,123554.20692409152,135742.67481014552,139408.8221586591,132606.95982615597,219594.31708921609,80112.90031506756,140953.43572126888,149355.05534144296,71919.66062654187,253172.63737144263,171410.83447706333,121284.341864739,146628.8435554517,106799.11139888797,156826.42323244255,183970.4853692781,120563.37503645087,233038.1349090624,151562.83757485216,111937.97005974418,109414.22970656188,97505.29638354506,202994.60578772463,114699.48699283112,123180.8490149118,136542.57087807174,132739.2226234851,145160.9300616397,157270.69456898762,154600.31237311772,268840.1359498453,79057.40572514344,186770.94487226236,162688.13948073392,68867.02108978441,164417.82980672707,104317.59430288793,118249.861111359,184252.51359392708,149798.3442623826,94666.73349552178,118362.55610977244,109046.37342756613,149107.5580636749,137428.48966078364,138918.46847415538,304779.9801569692,229078.186662724,237463.9453399135,81249.05324487765,144368.68374382617,76232.39377065173,131832.49844137067,75080.52139528026,161350.3783036724,202035.8943171308,239916.539980296,161102.73524536818,285911.9078774283,144449.31085239557,132700.09726865278,103264.36270310797,168185.82111727935,128523.95764374376,127341.38659230308,160977.09858731562,106552.10104748169,133554.76059740444,112953.5467601908,100174.71100785816,180244.4136140472,156003.8390444574,144835.25911858823,166065.12415513155,152445.29982563367,210947.22053899104,136456.89810968057,108566.23580948295,118223.88070236747,155898.59408397865,256169.7806855497,125135.18219826886,101562.7495973478,127711.40457792528,126857.88168175847,127329.57824619237,144367.19867419635,133724.12904366478,180462.88093555925,248049.9705026072,115718.67015718986,85734.02196926247,158397.9594989377,163717.6713392546,135680.2133013001,129360.72829319694,184690.15191300891,169007.10687688965,133480.54415414296,160004.16458622072,149791.79281070197,133049.642529875,168759.23939965595,331228.3168259762,132846.3722739708,117967.9578567541,107019.45962627388,127439.27130633352,250539.30771842235,134891.49309497586,126152.364899759,142327.16209099133,117199.99836459318,164178.687572912,101622.32497898124,95288.95105376942,139899.43265175022,112312.29904480836,119523.6698407009,133462.6628428879,67157.5393884564,136228.84523809334,145240.91225163118,118166.99245378228,119321.4760937788,155807.57604056204,128302.0001560436,101275.45975637971,165747.85218075998,183623.5344534475,167454.46773430915,101108.17453671328,130147.11862010084,129410.92135273482,127305.59200701458,175538.2354983847,127332.81907467423,149591.58187027546,144399.9507020556,84815.15440841833,114184.23524946638,113509.28770851596,102947.42810776824,98328.5869089742,140963.07699815845,143531.24541010792,182889.66639080265,148962.68133308462,113240.73953562652,222765.2359208353,120723.722531301,150053.90933832835,102029.0132501284,133892.10431187783,140762.21479176014,145061.28026250337,125856.44254450216,132361.12560969844,123329.94314258752,139383.27863989887,108432.18067709598,282038.77004734345,136913.0927921764,175915.32650682976,144317.12530673365,161288.81830125462,121928.093220201,242036.7415754439,110681.63907396876,125919.16854669111,118531.7742137008,153787.5572231286,134437.60722016107,141269.36247186747,151168.05927619006,159149.3513748017,155175.32377612527,161325.0232405152,172794.40562519492,111803.43111348985,127347.45471221113,126026.70467294744,116794.31572373032,131907.74419611963,159607.3748843034,129361.65414641784,135116.72316518467,187973.5835517379,195678.41303290884,101852.08171858409,127348.5175676433,174885.50307696455,90986.91495858476,109478.2701135486,231958.25069205367,136251.77365735982,109398.40882407158,151368.6441549359,157774.77588146258,124740.97334711625,139089.75406012373,187821.75295549305,144297.77749432257,156683.66946165694,141731.69261161587,114550.23263048255,148767.53225712193,120285.39606880846,128620.22570811171,152014.0298033513,157633.50215404504,101800.83710099108,138221.97999873952,150863.41098524013,139758.92312605324,127382.24283708524,169018.05334666165,74280.55117647725,201640.39448994293,130483.6595262428,109436.75893641265,99810.44184092224,116737.24230086498,156192.84990180875,133908.25894918235,162216.54100824398,137252.4865769345,117952.1311004781,151976.26598452614,122650.84089384114,198188.85771075592,149580.9006929501,170180.6885445837,106213.24586885088,131733.22779888412,109111.23294819752,105454.56184135868,186906.31445574004,155712.45319040606,192461.4906400348,144501.17952198198,70288.57200803996,129489.31366777206,163489.45475840283,75737.23856630013,147681.71151996107,102278.73666990816,128482.68700066238,236201.94348505544,147877.4937571723,117324.96094832131,146119.38502476062,155536.0452881896,132944.26093705994,166125.46065460853,104957.82151750536,164509.09139317286,247200.922831918,118711.97034588184,119772.16209214296,88533.49131475516,74261.75156943465,130102.6233260242,115328.74933493164,138218.12804231243,153950.00458849146,226947.8415137845,107248.10974919412,152073.8527317553,202739.80108432844,161822.96522624348,253313.9867523376,184820.47614516303,130458.20787805704,163690.82434848617,158053.24153361106,111318.90449308624,109407.15530345432,163326.76341109406,107080.15934168408,120652.82771803398,228445.54935133923],\"yaxis\":\"y6\",\"type\":\"scattergl\"},{\"hovertemplate\":\"SCENARIO=AI_forecast\\u003cbr\\u003eSUBBRAND=Lipton (L3)\\u003cbr\\u003eFecha=%{x}\\u003cbr\\u003eVentas=%{y}\\u003cextra\\u003e\\u003c\\u002fextra\\u003e\",\"legendgroup\":\"AI_forecast\",\"marker\":{\"color\":\"#636efa\",\"symbol\":\"circle\"},\"mode\":\"markers\",\"name\":\"AI_forecast\",\"showlegend\":false,\"x\":[\"2025-03-01T00:00:00\",\"2024-06-01T00:00:00\",\"2024-05-01T00:00:00\",\"2023-10-01T00:00:00\",\"2024-11-01T00:00:00\",\"2024-01-01T00:00:00\",\"2024-06-01T00:00:00\",\"2025-05-01T00:00:00\",\"2024-02-01T00:00:00\",\"2024-11-01T00:00:00\",\"2023-10-01T00:00:00\",\"2024-09-01T00:00:00\",\"2023-12-01T00:00:00\",\"2023-09-01T00:00:00\",\"2024-02-01T00:00:00\",\"2024-12-01T00:00:00\",\"2023-02-01T00:00:00\",\"2023-01-01T00:00:00\",\"2025-01-01T00:00:00\",\"2023-11-01T00:00:00\",\"2024-04-01T00:00:00\",\"2023-08-01T00:00:00\",\"2023-11-01T00:00:00\",\"2024-09-01T00:00:00\",\"2024-10-01T00:00:00\",\"2024-06-01T00:00:00\",\"2024-02-01T00:00:00\",\"2023-10-01T00:00:00\",\"2024-08-01T00:00:00\",\"2025-02-01T00:00:00\",\"2024-01-01T00:00:00\",\"2024-02-01T00:00:00\",\"2023-11-01T00:00:00\",\"2024-05-01T00:00:00\",\"2023-05-01T00:00:00\",\"2023-09-01T00:00:00\",\"2023-08-01T00:00:00\",\"2024-08-01T00:00:00\",\"2024-04-01T00:00:00\",\"2024-09-01T00:00:00\",\"2024-02-01T00:00:00\",\"2023-12-01T00:00:00\",\"2024-10-01T00:00:00\",\"2024-06-01T00:00:00\",\"2023-06-01T00:00:00\",\"2023-12-01T00:00:00\",\"2024-05-01T00:00:00\",\"2024-01-01T00:00:00\",\"2023-06-01T00:00:00\",\"2023-03-01T00:00:00\",\"2024-08-01T00:00:00\",\"2024-11-01T00:00:00\",\"2024-12-01T00:00:00\",\"2024-04-01T00:00:00\",\"2023-08-01T00:00:00\",\"2023-07-01T00:00:00\",\"2024-05-01T00:00:00\",\"2024-07-01T00:00:00\",\"2023-06-01T00:00:00\",\"2023-11-01T00:00:00\",\"2024-08-01T00:00:00\",\"2025-04-01T00:00:00\",\"2024-03-01T00:00:00\",\"2023-12-01T00:00:00\",\"2024-01-01T00:00:00\",\"2024-06-01T00:00:00\",\"2023-10-01T00:00:00\",\"2024-03-01T00:00:00\",\"2023-12-01T00:00:00\",\"2024-03-01T00:00:00\",\"2024-01-01T00:00:00\",\"2024-07-01T00:00:00\",\"2023-12-01T00:00:00\",\"2024-05-01T00:00:00\",\"2024-02-01T00:00:00\",\"2023-06-01T00:00:00\",\"2023-11-01T00:00:00\",\"2024-07-01T00:00:00\",\"2024-12-01T00:00:00\",\"2023-09-01T00:00:00\",\"2024-07-01T00:00:00\",\"2023-08-01T00:00:00\",\"2023-12-01T00:00:00\",\"2024-02-01T00:00:00\",\"2024-09-01T00:00:00\",\"2024-09-01T00:00:00\",\"2024-09-01T00:00:00\",\"2024-12-01T00:00:00\",\"2023-05-01T00:00:00\",\"2023-07-01T00:00:00\",\"2023-10-01T00:00:00\",\"2025-01-01T00:00:00\",\"2023-05-01T00:00:00\",\"2024-04-01T00:00:00\",\"2024-04-01T00:00:00\",\"2024-05-01T00:00:00\",\"2023-09-01T00:00:00\",\"2024-12-01T00:00:00\",\"2024-09-01T00:00:00\",\"2024-10-01T00:00:00\",\"2023-04-01T00:00:00\",\"2024-05-01T00:00:00\",\"2024-07-01T00:00:00\",\"2024-03-01T00:00:00\",\"2024-07-01T00:00:00\",\"2023-07-01T00:00:00\",\"2023-07-01T00:00:00\",\"2024-10-01T00:00:00\",\"2023-07-01T00:00:00\",\"2025-03-01T00:00:00\",\"2023-05-01T00:00:00\",\"2023-06-01T00:00:00\",\"2023-07-01T00:00:00\",\"2024-01-01T00:00:00\",\"2023-08-01T00:00:00\",\"2023-12-01T00:00:00\",\"2024-04-01T00:00:00\",\"2024-08-01T00:00:00\",\"2024-04-01T00:00:00\",\"2024-06-01T00:00:00\",\"2023-09-01T00:00:00\",\"2024-04-01T00:00:00\",\"2023-07-01T00:00:00\",\"2023-09-01T00:00:00\",\"2023-08-01T00:00:00\",\"2024-02-01T00:00:00\",\"2023-12-01T00:00:00\",\"2023-11-01T00:00:00\",\"2024-07-01T00:00:00\",\"2023-08-01T00:00:00\",\"2023-10-01T00:00:00\",\"2023-02-01T00:00:00\",\"2024-10-01T00:00:00\",\"2023-11-01T00:00:00\",\"2024-05-01T00:00:00\",\"2024-02-01T00:00:00\",\"2024-03-01T00:00:00\",\"2023-11-01T00:00:00\",\"2024-11-01T00:00:00\",\"2023-04-01T00:00:00\",\"2023-10-01T00:00:00\",\"2024-07-01T00:00:00\",\"2025-04-01T00:00:00\",\"2024-10-01T00:00:00\",\"2023-11-01T00:00:00\",\"2025-01-01T00:00:00\",\"2023-06-01T00:00:00\",\"2024-08-01T00:00:00\",\"2024-05-01T00:00:00\",\"2024-03-01T00:00:00\",\"2025-01-01T00:00:00\",\"2024-06-01T00:00:00\",\"2024-08-01T00:00:00\",\"2023-03-01T00:00:00\",\"2024-07-01T00:00:00\",\"2024-03-01T00:00:00\",\"2024-11-01T00:00:00\",\"2024-03-01T00:00:00\",\"2023-09-01T00:00:00\",\"2023-12-01T00:00:00\",\"2024-03-01T00:00:00\",\"2023-10-01T00:00:00\",\"2024-01-01T00:00:00\",\"2024-09-01T00:00:00\",\"2024-10-01T00:00:00\",\"2024-05-01T00:00:00\",\"2024-07-01T00:00:00\",\"2024-05-01T00:00:00\",\"2024-08-01T00:00:00\",\"2024-06-01T00:00:00\",\"2024-04-01T00:00:00\",\"2024-06-01T00:00:00\",\"2025-01-01T00:00:00\",\"2025-02-01T00:00:00\",\"2023-09-01T00:00:00\",\"2024-06-01T00:00:00\",\"2025-02-01T00:00:00\",\"2024-08-01T00:00:00\",\"2025-03-01T00:00:00\",\"2025-02-01T00:00:00\",\"2023-05-01T00:00:00\",\"2023-10-01T00:00:00\",\"2024-01-01T00:00:00\",\"2024-03-01T00:00:00\",\"2024-03-01T00:00:00\",\"2024-04-01T00:00:00\",\"2023-11-01T00:00:00\",\"2023-09-01T00:00:00\",\"2024-04-01T00:00:00\",\"2023-08-01T00:00:00\",\"2024-09-01T00:00:00\",\"2024-11-01T00:00:00\",\"2023-04-01T00:00:00\",\"2024-07-01T00:00:00\",\"2024-04-01T00:00:00\",\"2024-06-01T00:00:00\",\"2024-01-01T00:00:00\",\"2023-12-01T00:00:00\",\"2024-01-01T00:00:00\",\"2024-10-01T00:00:00\",\"2024-08-01T00:00:00\",\"2024-01-01T00:00:00\",\"2024-01-01T00:00:00\",\"2024-12-01T00:00:00\",\"2023-03-01T00:00:00\",\"2024-02-01T00:00:00\",\"2024-03-01T00:00:00\",\"2023-12-01T00:00:00\",\"2024-02-01T00:00:00\",\"2023-10-01T00:00:00\",\"2024-02-01T00:00:00\",\"2024-06-01T00:00:00\",\"2024-05-01T00:00:00\",\"2023-11-01T00:00:00\",\"2024-11-01T00:00:00\",\"2023-04-01T00:00:00\"],\"xaxis\":\"x3\",\"y\":[9702.217953297748,11066.397441724564,12219.846356914872,8139.370207220293,12852.194449699216,12670.573619694456,14337.826225489138,10007.57857053952,12471.431288980011,9866.506759239148,14357.914179158435,15406.66186876042,11712.649253378948,15480.080567485817,12081.14426852554,12677.368425025896,7424.886701137902,7967.645287146979,12123.740601439777,9051.488347195764,12457.30561248784,12861.386328583496,12558.101216117046,16372.22863734266,14518.964948977487,10767.819493076526,8747.911368004203,14162.967439592132,18972.068869708768,13519.022631887468,12171.089746621965,11394.599374385589,14455.462056442284,12195.738232686166,5282.182665200514,8106.324585177008,18899.71332038137,19747.47699322169,6747.18619402832,17008.71017410384,11952.671343125385,12095.99283472081,14671.44512080302,14646.651952870832,14267.063465403038,8820.682771698643,8509.405123985476,12124.669695185055,13582.375161569522,4839.238140411764,20062.9306174256,9630.53243687127,11727.83715317627,12270.59998751376,18994.22471434793,11357.26927006688,6164.416266668052,18087.52768955873,7623.003113145997,6794.875333922688,20395.74804241368,10003.2854453433,12176.135291418175,11543.700195138776,12820.182302849373,8425.191222141671,13231.58601148867,11969.069616634535,8734.295811057702,6571.191899152116,12574.94364129255,18342.890012768104,12823.625934896418,6285.063275571119,5904.133814298609,12362.611877307972,6674.631451769315,14631.079115008868,13071.118421084906,15975.328773324873,19054.84296713983,18452.46394629014,6478.895216557161,11929.374078244628,15295.315898258175,11769.585956372826,12029.465855562668,13233.14378328168,10282.384893078592,17234.82367360198,13793.294142398114,10031.12123856562,10396.63448004105,6867.76601513977,9082.075441751316,13817.476885003043,15419.0010963618,9290.179742985909,15381.472598734446,10912.908470146953,11453.649139040996,12353.992944345062,18180.31228685722,11442.551965867986,14790.724676964865,17440.148349263196,17334.006660096144,11149.234798080966,18420.74665884212,9959.985819090778,10385.194696355607,7257.161669544209,17239.54343660592,13480.829252089465,20444.544132995936,14138.70705922421,11674.92697470924,17832.1019262213,12800.318763801792,14362.20463616716,16219.08568386197,13078.678756581878,11210.69577396725,15181.959011511844,19862.17230283616,13248.085329643423,10889.014816590914,10396.22582999329,18204.96098398456,12782.355320620778,8259.546901582053,6154.269009941921,14502.38287351415,12100.101975978328,11671.225482547556,12627.780768206769,12631.878461209237,14476.179437111712,12069.34270216557,11321.486196460868,14346.288456080558,16861.072509165508,10259.718920821511,16145.43740912775,13749.678736527214,14804.044516489988,14332.207248015417,19912.216226258573,12096.325738565463,8963.504343427154,9772.64936164032,14120.204332493557,16198.330597188458,7197.631312780142,17845.67543246361,6450.679265832281,13229.52377245494,12501.514315132405,8349.176041257722,6358.584146612171,12194.132754479631,13831.891528738468,9271.108395110963,15548.37333889732,14759.536066132216,12449.6657007053,17312.984442835077,11106.94187364556,16197.454494678072,15042.684757265451,12776.4809260224,14330.564599878297,13175.827844390553,9365.92999998806,12155.534624824884,14498.242444274028,9272.557224889511,18985.510119272,12154.425208521749,14270.306986095216,4993.860353504379,16324.51061585654,9481.729039492018,9168.505872543832,11462.951928569611,9704.755668446707,14422.046080232183,14988.878881315606,12932.574130555302,20290.78347729342,15012.924343843062,13392.0199213486,7020.384186361782,12144.935852791044,12594.898415108444,14507.627596787264,6767.738847509074,14487.672529659329,11704.779148267997,14824.464394540277,19772.39597679835,13248.727321247376,6647.360589772469,9626.157588100334,9243.717389854992,8533.810923952316,12477.94676380233,12402.526634492251,11901.724239762374,12903.852762018098,6024.579259826828,8304.477025446991,9179.760049094522,10514.285230772022,13268.051533457805,5561.750886352638],\"yaxis\":\"y3\",\"type\":\"scattergl\"},{\"hovertemplate\":\"SCENARIO=AI_forecast\\u003cbr\\u003eSUBBRAND=7up Free (L3)\\u003cbr\\u003eFecha=%{x}\\u003cbr\\u003eVentas=%{y}\\u003cextra\\u003e\\u003c\\u002fextra\\u003e\",\"legendgroup\":\"AI_forecast\",\"marker\":{\"color\":\"#636efa\",\"symbol\":\"circle\"},\"mode\":\"markers\",\"name\":\"AI_forecast\",\"showlegend\":false,\"x\":[\"2024-01-01T00:00:00\",\"2023-08-01T00:00:00\",\"2024-01-01T00:00:00\",\"2023-12-01T00:00:00\",\"2024-12-01T00:00:00\",\"2024-07-01T00:00:00\",\"2024-10-01T00:00:00\",\"2024-04-01T00:00:00\",\"2024-06-01T00:00:00\",\"2025-01-01T00:00:00\",\"2024-12-01T00:00:00\",\"2023-04-01T00:00:00\",\"2023-05-01T00:00:00\",\"2023-05-01T00:00:00\",\"2024-02-01T00:00:00\",\"2024-02-01T00:00:00\",\"2024-02-01T00:00:00\",\"2025-02-01T00:00:00\",\"2024-09-01T00:00:00\",\"2024-07-01T00:00:00\",\"2023-12-01T00:00:00\",\"2025-01-01T00:00:00\",\"2024-06-01T00:00:00\",\"2024-01-01T00:00:00\",\"2023-09-01T00:00:00\",\"2024-10-01T00:00:00\",\"2023-10-01T00:00:00\",\"2024-04-01T00:00:00\",\"2023-06-01T00:00:00\",\"2023-11-01T00:00:00\",\"2023-07-01T00:00:00\",\"2024-07-01T00:00:00\",\"2024-01-01T00:00:00\",\"2023-10-01T00:00:00\",\"2023-07-01T00:00:00\",\"2024-01-01T00:00:00\",\"2023-06-01T00:00:00\",\"2024-04-01T00:00:00\",\"2024-01-01T00:00:00\",\"2024-01-01T00:00:00\",\"2025-02-01T00:00:00\",\"2023-04-01T00:00:00\",\"2024-08-01T00:00:00\",\"2024-10-01T00:00:00\",\"2023-12-01T00:00:00\",\"2024-10-01T00:00:00\",\"2023-07-01T00:00:00\",\"2024-08-01T00:00:00\",\"2023-05-01T00:00:00\",\"2024-06-01T00:00:00\",\"2024-06-01T00:00:00\",\"2024-08-01T00:00:00\",\"2024-11-01T00:00:00\",\"2024-04-01T00:00:00\",\"2024-11-01T00:00:00\",\"2023-10-01T00:00:00\",\"2023-12-01T00:00:00\",\"2023-12-01T00:00:00\",\"2024-05-01T00:00:00\",\"2025-02-01T00:00:00\",\"2024-10-01T00:00:00\",\"2024-07-01T00:00:00\",\"2024-06-01T00:00:00\",\"2023-06-01T00:00:00\",\"2024-02-01T00:00:00\",\"2023-06-01T00:00:00\",\"2023-09-01T00:00:00\",\"2024-06-01T00:00:00\",\"2023-08-01T00:00:00\",\"2024-10-01T00:00:00\",\"2024-07-01T00:00:00\",\"2024-03-01T00:00:00\",\"2023-10-01T00:00:00\",\"2023-06-01T00:00:00\",\"2024-05-01T00:00:00\",\"2023-11-01T00:00:00\",\"2024-08-01T00:00:00\",\"2023-07-01T00:00:00\",\"2024-05-01T00:00:00\",\"2023-08-01T00:00:00\",\"2024-09-01T00:00:00\",\"2023-12-01T00:00:00\",\"2024-10-01T00:00:00\",\"2024-12-01T00:00:00\",\"2024-04-01T00:00:00\",\"2024-03-01T00:00:00\",\"2024-05-01T00:00:00\",\"2023-11-01T00:00:00\",\"2024-02-01T00:00:00\",\"2025-04-01T00:00:00\",\"2025-03-01T00:00:00\",\"2024-08-01T00:00:00\",\"2025-03-01T00:00:00\",\"2024-08-01T00:00:00\",\"2024-02-01T00:00:00\",\"2024-07-01T00:00:00\",\"2024-03-01T00:00:00\",\"2024-06-01T00:00:00\",\"2023-06-01T00:00:00\",\"2024-01-01T00:00:00\",\"2024-09-01T00:00:00\",\"2023-03-01T00:00:00\",\"2023-12-01T00:00:00\",\"2024-12-01T00:00:00\",\"2024-04-01T00:00:00\",\"2023-12-01T00:00:00\",\"2023-09-01T00:00:00\",\"2023-09-01T00:00:00\",\"2024-04-01T00:00:00\",\"2023-12-01T00:00:00\",\"2024-06-01T00:00:00\",\"2024-09-01T00:00:00\",\"2024-06-01T00:00:00\",\"2024-08-01T00:00:00\",\"2025-02-01T00:00:00\",\"2024-08-01T00:00:00\",\"2023-09-01T00:00:00\",\"2024-10-01T00:00:00\",\"2024-02-01T00:00:00\",\"2023-10-01T00:00:00\",\"2023-10-01T00:00:00\",\"2024-11-01T00:00:00\",\"2023-07-01T00:00:00\",\"2024-04-01T00:00:00\",\"2025-03-01T00:00:00\",\"2025-05-01T00:00:00\",\"2024-05-01T00:00:00\",\"2023-12-01T00:00:00\",\"2024-01-01T00:00:00\",\"2024-07-01T00:00:00\",\"2023-04-01T00:00:00\",\"2024-01-01T00:00:00\",\"2023-12-01T00:00:00\",\"2024-10-01T00:00:00\",\"2023-11-01T00:00:00\",\"2023-04-01T00:00:00\",\"2023-07-01T00:00:00\",\"2024-06-01T00:00:00\",\"2023-11-01T00:00:00\",\"2024-02-01T00:00:00\",\"2023-03-01T00:00:00\",\"2023-07-01T00:00:00\",\"2023-08-01T00:00:00\",\"2023-02-01T00:00:00\",\"2023-11-01T00:00:00\",\"2024-02-01T00:00:00\",\"2024-12-01T00:00:00\",\"2024-05-01T00:00:00\",\"2024-05-01T00:00:00\",\"2024-10-01T00:00:00\",\"2025-02-01T00:00:00\",\"2023-11-01T00:00:00\",\"2023-11-01T00:00:00\",\"2025-05-01T00:00:00\",\"2024-02-01T00:00:00\",\"2024-02-01T00:00:00\",\"2024-08-01T00:00:00\",\"2024-10-01T00:00:00\",\"2024-04-01T00:00:00\",\"2025-04-01T00:00:00\",\"2023-07-01T00:00:00\",\"2024-02-01T00:00:00\",\"2024-05-01T00:00:00\",\"2024-12-01T00:00:00\",\"2024-05-01T00:00:00\",\"2024-05-01T00:00:00\",\"2024-03-01T00:00:00\",\"2024-08-01T00:00:00\",\"2024-11-01T00:00:00\",\"2023-12-01T00:00:00\",\"2024-11-01T00:00:00\",\"2023-12-01T00:00:00\",\"2023-04-01T00:00:00\",\"2024-12-01T00:00:00\",\"2023-12-01T00:00:00\",\"2024-05-01T00:00:00\",\"2025-01-01T00:00:00\",\"2024-10-01T00:00:00\",\"2024-09-01T00:00:00\",\"2024-11-01T00:00:00\",\"2024-03-01T00:00:00\",\"2024-07-01T00:00:00\",\"2024-09-01T00:00:00\",\"2023-12-01T00:00:00\",\"2023-09-01T00:00:00\",\"2024-08-01T00:00:00\",\"2023-10-01T00:00:00\",\"2023-11-01T00:00:00\",\"2024-01-01T00:00:00\",\"2025-03-01T00:00:00\",\"2023-11-01T00:00:00\",\"2024-03-01T00:00:00\",\"2024-06-01T00:00:00\",\"2024-09-01T00:00:00\",\"2024-12-01T00:00:00\",\"2024-04-01T00:00:00\",\"2023-09-01T00:00:00\",\"2024-03-01T00:00:00\",\"2023-06-01T00:00:00\",\"2024-03-01T00:00:00\",\"2023-09-01T00:00:00\",\"2024-07-01T00:00:00\",\"2024-07-01T00:00:00\",\"2023-11-01T00:00:00\",\"2025-02-01T00:00:00\",\"2023-10-01T00:00:00\",\"2024-12-01T00:00:00\",\"2024-03-01T00:00:00\",\"2023-11-01T00:00:00\",\"2024-02-01T00:00:00\",\"2024-05-01T00:00:00\",\"2023-07-01T00:00:00\",\"2024-06-01T00:00:00\",\"2024-10-01T00:00:00\",\"2023-12-01T00:00:00\",\"2023-09-01T00:00:00\",\"2024-11-01T00:00:00\",\"2024-07-01T00:00:00\",\"2023-12-01T00:00:00\",\"2024-01-01T00:00:00\",\"2025-01-01T00:00:00\",\"2023-06-01T00:00:00\",\"2024-03-01T00:00:00\",\"2024-06-01T00:00:00\",\"2024-06-01T00:00:00\",\"2024-05-01T00:00:00\",\"2024-10-01T00:00:00\",\"2023-11-01T00:00:00\",\"2024-03-01T00:00:00\",\"2025-03-01T00:00:00\",\"2023-11-01T00:00:00\",\"2024-08-01T00:00:00\",\"2024-01-01T00:00:00\",\"2023-08-01T00:00:00\",\"2023-05-01T00:00:00\",\"2023-09-01T00:00:00\",\"2024-06-01T00:00:00\",\"2024-03-01T00:00:00\",\"2025-04-01T00:00:00\",\"2024-04-01T00:00:00\",\"2023-08-01T00:00:00\",\"2024-04-01T00:00:00\",\"2024-05-01T00:00:00\",\"2024-09-01T00:00:00\",\"2023-02-01T00:00:00\",\"2024-09-01T00:00:00\",\"2024-04-01T00:00:00\",\"2024-01-01T00:00:00\",\"2023-12-01T00:00:00\",\"2024-02-01T00:00:00\",\"2023-11-01T00:00:00\",\"2024-01-01T00:00:00\",\"2024-07-01T00:00:00\",\"2024-08-01T00:00:00\",\"2024-07-01T00:00:00\",\"2024-07-01T00:00:00\",\"2024-11-01T00:00:00\",\"2023-11-01T00:00:00\",\"2024-09-01T00:00:00\",\"2023-09-01T00:00:00\",\"2023-10-01T00:00:00\",\"2025-02-01T00:00:00\",\"2025-01-01T00:00:00\",\"2023-10-01T00:00:00\",\"2024-03-01T00:00:00\",\"2024-03-01T00:00:00\",\"2024-07-01T00:00:00\",\"2024-07-01T00:00:00\",\"2024-05-01T00:00:00\",\"2023-11-01T00:00:00\",\"2024-12-01T00:00:00\",\"2024-11-01T00:00:00\",\"2024-07-01T00:00:00\",\"2024-03-01T00:00:00\",\"2024-03-01T00:00:00\",\"2024-09-01T00:00:00\",\"2024-03-01T00:00:00\",\"2024-10-01T00:00:00\",\"2025-01-01T00:00:00\",\"2023-08-01T00:00:00\",\"2023-11-01T00:00:00\",\"2023-08-01T00:00:00\",\"2025-01-01T00:00:00\",\"2024-03-01T00:00:00\",\"2024-11-01T00:00:00\",\"2024-06-01T00:00:00\",\"2024-11-01T00:00:00\",\"2023-06-01T00:00:00\",\"2024-09-01T00:00:00\",\"2024-04-01T00:00:00\",\"2024-04-01T00:00:00\",\"2023-09-01T00:00:00\",\"2024-07-01T00:00:00\",\"2023-05-01T00:00:00\",\"2023-10-01T00:00:00\",\"2023-10-01T00:00:00\",\"2023-08-01T00:00:00\",\"2024-04-01T00:00:00\",\"2023-09-01T00:00:00\",\"2023-09-01T00:00:00\",\"2023-05-01T00:00:00\",\"2024-07-01T00:00:00\",\"2023-10-01T00:00:00\",\"2024-02-01T00:00:00\",\"2023-09-01T00:00:00\",\"2024-05-01T00:00:00\",\"2024-09-01T00:00:00\",\"2024-04-01T00:00:00\",\"2024-06-01T00:00:00\",\"2025-01-01T00:00:00\",\"2024-05-01T00:00:00\",\"2024-04-01T00:00:00\",\"2024-01-01T00:00:00\",\"2024-05-01T00:00:00\",\"2024-03-01T00:00:00\",\"2025-03-01T00:00:00\",\"2024-10-01T00:00:00\",\"2024-11-01T00:00:00\",\"2024-01-01T00:00:00\",\"2023-07-01T00:00:00\",\"2023-08-01T00:00:00\",\"2024-09-01T00:00:00\",\"2024-09-01T00:00:00\",\"2024-09-01T00:00:00\",\"2024-07-01T00:00:00\",\"2024-04-01T00:00:00\",\"2023-10-01T00:00:00\",\"2024-03-01T00:00:00\",\"2024-06-01T00:00:00\",\"2024-11-01T00:00:00\",\"2024-09-01T00:00:00\",\"2023-11-01T00:00:00\",\"2024-01-01T00:00:00\",\"2024-11-01T00:00:00\",\"2024-01-01T00:00:00\",\"2024-02-01T00:00:00\",\"2024-08-01T00:00:00\",\"2024-02-01T00:00:00\",\"2023-10-01T00:00:00\",\"2024-06-01T00:00:00\",\"2023-10-01T00:00:00\",\"2023-08-01T00:00:00\",\"2024-12-01T00:00:00\",\"2023-12-01T00:00:00\",\"2023-01-01T00:00:00\",\"2023-08-01T00:00:00\",\"2023-10-01T00:00:00\",\"2025-01-01T00:00:00\",\"2024-04-01T00:00:00\",\"2024-01-01T00:00:00\",\"2024-03-01T00:00:00\",\"2023-12-01T00:00:00\",\"2023-12-01T00:00:00\",\"2025-02-01T00:00:00\",\"2024-08-01T00:00:00\",\"2024-09-01T00:00:00\",\"2024-06-01T00:00:00\",\"2024-08-01T00:00:00\",\"2023-05-01T00:00:00\",\"2024-08-01T00:00:00\",\"2023-08-01T00:00:00\",\"2023-07-01T00:00:00\",\"2024-05-01T00:00:00\",\"2024-06-01T00:00:00\",\"2024-02-01T00:00:00\",\"2025-04-01T00:00:00\",\"2024-08-01T00:00:00\",\"2024-08-01T00:00:00\",\"2024-02-01T00:00:00\",\"2024-05-01T00:00:00\",\"2024-02-01T00:00:00\",\"2024-05-01T00:00:00\",\"2024-02-01T00:00:00\",\"2023-03-01T00:00:00\",\"2024-04-01T00:00:00\",\"2024-01-01T00:00:00\",\"2024-12-01T00:00:00\",\"2025-01-01T00:00:00\"],\"xaxis\":\"x4\",\"y\":[70144.32975342302,89832.64174302659,67393.99935189556,78469.65753519084,83009.30885233497,86121.87124242412,87728.33873461543,59780.74520784726,85199.69502940672,79034.82029087312,80245.27384327666,55546.758200358,53594.64087455855,83596.12929550445,46792.80592168391,45420.19407952087,56897.89759892516,55941.15598495513,61170.57467758573,62675.7399734738,67976.48301549267,57668.3294324591,88031.92944939567,64085.78726805472,80331.53047267684,87687.42510946112,76979.63688962717,67919.75570270886,73259.57275578004,78821.58473609787,86679.56310682674,95213.68966906628,61291.24678132994,93859.25492058849,103514.07654637843,65113.304427696334,96170.75513204552,68155.10182682614,62321.185904929735,63896.52411330267,37221.53731745148,41315.96039735968,86779.56125645342,78858.34194592427,77311.7325857065,80959.56195571531,79223.50702788681,96928.76640507556,76829.65740399598,69386.93779273993,88397.80618075823,77116.13662462756,68045.0432537403,67069.27226336948,91569.0199056024,81868.41428107892,70868.22863716906,78011.47685748627,60660.11858147588,69996.76761981274,85597.89088882695,92203.37788727562,85921.77350210604,74461.3300815756,56253.72916016804,70303.57791726498,78157.03595090231,84257.03351964157,88795.17657261198,98364.57859286571,65651.74816907741,68244.80178599675,87251.80404690388,73005.90657509486,72348.53640590521,81378.06723555003,101796.01384513402,88427.899988315,93460.17111261329,85873.34280715702,91250.47887272266,71451.23535017567,77364.7381962714,82434.70513698104,66174.1699197618,60605.687252061776,88669.06406410108,77066.24946317486,57124.44627794414,80834.66305493882,84225.18431704742,104273.19791388602,81162.60136509647,101269.60821427625,59192.84781786587,91358.25545434444,56937.31214645082,77461.84566156357,70543.29479090426,62695.03603223026,88332.27115559363,69172.94114125201,71770.11991741187,93565.7042914417,70141.18302562715,91155.06966664012,76867.6576849822,77612.34824361361,68228.57996607038,71841.95649490223,72277.17433047594,88361.90976048344,76722.84437788573,101263.30087057114,68450.46829053655,99273.66372300716,76299.31926783688,87718.00183745829,66629.53063177211,76188.85729578286,71950.99466919115,85669.13858625028,78058.9540326428,68645.15818930473,57662.74925195116,55271.579011034686,62545.44331653681,74784.69928006188,48703.56522510624,89961.87197571792,58143.25124141954,71464.0443148074,73320.04348172927,85169.21932977339,75280.14850276147,41079.710956063216,77732.93608010701,83329.9427890974,71101.53653938205,59794.51512961344,47731.40805292456,86232.20955709719,90531.24326644512,69262.076535612,83220.77501329989,65875.03279280485,78179.2966167972,65318.3121215813,83823.83516804501,90714.11071731482,72972.34144929072,78487.45066933938,77155.3770869937,100777.91242349726,60988.49843246912,63918.16861257808,100017.93826830309,81782.63005774945,59702.2673086135,54956.60809998825,88775.8655531337,33445.83582454365,92363.24754826642,86480.99223273796,93259.82002281866,95688.25905103688,66561.29923173082,76543.70749048935,80494.57593895792,71921.75930034103,82634.05869612718,76974.29344904075,67408.97363077698,81053.52516244556,70251.90763961902,91452.15101119052,35204.42207710378,96987.00880330894,85870.07812135616,83198.18972628337,70569.85272301767,66501.30768510532,62158.07205740885,54705.34854766614,83235.6615163625,86311.25771103658,74857.07609649669,70501.20973530026,73959.5218174962,71031.85988467823,59821.31794956567,61297.94664185104,62352.60524267984,63731.92365262563,93512.25275496623,70235.38099695194,76629.68465507428,73531.70428773575,72168.81332379529,73195.8144377591,75949.48242468061,77858.0182411904,91599.73332059344,71958.19845629354,69176.67312565392,88669.03524768616,82498.16880266428,60307.45901253829,65776.4782871556,58898.500606176254,76937.45941804448,67398.02491724907,86191.86534888194,86374.15382105936,74426.06067148237,67858.26688872931,63903.85111274244,79490.15467278149,78334.70498792647,63089.962900526654,71862.66910219038,75648.81803606759,64298.589996252325,85399.18644731975,80265.57956620239,71142.03618047928,88241.08345441954,79902.35522673873,70524.44234031209,81252.4912255645,70139.24447431363,105046.65006076609,64255.89147433209,100796.70483030748,56123.0406998788,84174.4935380331,80456.99790470261,39060.90766277054,58523.272559295736,80183.00044631478,90811.09710396048,56939.07362855324,93983.56050246628,93229.98541395724,56467.24141128526,66204.97057246465,63381.525496647846,72005.4057979783,88010.763717182,57277.08128059145,80101.64642089384,67033.88730185888,102798.97522843508,74056.63581228362,75594.12019496183,86030.15783129084,87833.1098942766,73307.97197948658,92423.66022820924,84659.57456880333,75248.62363309786,70512.9359940654,74749.57516307692,90579.72594124293,70447.61334626473,37523.63786511506,96794.2917836474,92798.12554886426,93483.03145478992,81391.36822457227,81339.02551523951,72557.32271691479,84425.71089992557,67440.40738187026,66176.05134114934,91350.56248117788,60128.0348445923,98394.7174602956,69187.90807555079,93832.09915064946,72479.7688618314,87969.78128858398,75263.22937503862,74532.67128989103,87661.16511467323,82926.50227177041,74906.54282203963,70368.25766356544,87052.9542102587,65782.85782026516,53762.55619870727,88479.19947094056,87653.53177678258,47612.6961746149,89300.14969697775,89605.34807563738,86081.4223032521,74145.23395391511,86923.14122655959,79941.75094386745,82521.45507498755,88052.32023630045,72590.39312601514,32002.029316789703,72656.36237495983,70158.89822754999,88350.71319144474,66159.98680295637,85410.77176923194,73275.25942580315,71955.62193588301,49735.72274864123,66477.71230606889,90084.43239418558,54791.68692239488,61805.6610256937,83282.76786314372,80059.84017098918,69695.19738109274,88279.10832233621,90405.2268308197,76162.73340017862,69336.11395397925,89408.29610317107,92285.07571501809,64625.54721506617,77522.66258996759,55604.322496859175,87740.9477916,81286.83306465857,88875.45681535428,72041.31005404837,64544.80851058665,82686.24734154595,30559.79296126101,60360.49688443216,86091.95656490004,62278.86141997908,93841.57341637148,76783.37472161786,77094.67646738233,93137.61176153323,63911.1382129058,72290.88798788302,60943.9754538628,88936.5248851084,75604.52468516931,77727.36733117054,58155.06672084998,67128.01537113427,68971.86627954089,74095.6535620294,48208.69305013722,69918.1527796092,72017.91406767856,86292.68547149454,86405.28916932266,101301.8778070962,63296.50985164562,105229.74151706565,89280.29751934951,88856.13109395815,91054.77470277864,95927.52814694303,56878.14586131458,77864.85070145097,101281.6644551965,98857.12058178397,58140.195237262655,65937.02136328894,59331.81077853861,67800.89004086397,59325.40413753039,55997.315600698144,71576.7585758298,71483.45168379508,85478.17930937355,74678.53591013352],\"yaxis\":\"y4\",\"type\":\"scattergl\"},{\"hovertemplate\":\"SCENARIO=AI_forecast\\u003cbr\\u003eSUBBRAND=7up (L3)\\u003cbr\\u003eFecha=%{x}\\u003cbr\\u003eVentas=%{y}\\u003cextra\\u003e\\u003c\\u002fextra\\u003e\",\"legendgroup\":\"AI_forecast\",\"marker\":{\"color\":\"#636efa\",\"symbol\":\"circle\"},\"mode\":\"markers\",\"name\":\"AI_forecast\",\"showlegend\":false,\"x\":[\"2024-04-01T00:00:00\",\"2024-05-01T00:00:00\",\"2023-09-01T00:00:00\",\"2024-03-01T00:00:00\",\"2024-07-01T00:00:00\",\"2025-02-01T00:00:00\",\"2024-02-01T00:00:00\",\"2024-01-01T00:00:00\",\"2023-06-01T00:00:00\",\"2025-03-01T00:00:00\",\"2024-02-01T00:00:00\",\"2024-04-01T00:00:00\",\"2025-02-01T00:00:00\",\"2024-09-01T00:00:00\",\"2023-07-01T00:00:00\",\"2024-01-01T00:00:00\",\"2024-07-01T00:00:00\",\"2024-10-01T00:00:00\",\"2023-11-01T00:00:00\",\"2024-08-01T00:00:00\",\"2023-11-01T00:00:00\",\"2023-07-01T00:00:00\",\"2023-09-01T00:00:00\",\"2023-12-01T00:00:00\",\"2023-08-01T00:00:00\",\"2023-07-01T00:00:00\",\"2023-08-01T00:00:00\",\"2024-01-01T00:00:00\",\"2023-06-01T00:00:00\",\"2023-08-01T00:00:00\",\"2025-05-01T00:00:00\",\"2023-11-01T00:00:00\",\"2024-10-01T00:00:00\",\"2024-10-01T00:00:00\",\"2024-07-01T00:00:00\",\"2023-11-01T00:00:00\",\"2023-06-01T00:00:00\",\"2023-05-01T00:00:00\",\"2024-06-01T00:00:00\",\"2024-02-01T00:00:00\",\"2024-12-01T00:00:00\",\"2024-02-01T00:00:00\",\"2023-05-01T00:00:00\",\"2024-09-01T00:00:00\",\"2023-04-01T00:00:00\",\"2024-08-01T00:00:00\",\"2023-08-01T00:00:00\",\"2024-01-01T00:00:00\",\"2024-04-01T00:00:00\",\"2024-01-01T00:00:00\",\"2023-09-01T00:00:00\",\"2024-05-01T00:00:00\",\"2023-08-01T00:00:00\",\"2024-09-01T00:00:00\",\"2023-02-01T00:00:00\",\"2025-01-01T00:00:00\",\"2024-09-01T00:00:00\",\"2024-11-01T00:00:00\",\"2025-03-01T00:00:00\",\"2023-07-01T00:00:00\",\"2023-01-01T00:00:00\",\"2023-12-01T00:00:00\",\"2024-01-01T00:00:00\",\"2024-03-01T00:00:00\",\"2024-03-01T00:00:00\",\"2024-02-01T00:00:00\",\"2023-06-01T00:00:00\",\"2023-10-01T00:00:00\",\"2024-06-01T00:00:00\",\"2024-05-01T00:00:00\",\"2024-02-01T00:00:00\",\"2023-10-01T00:00:00\",\"2024-12-01T00:00:00\",\"2024-05-01T00:00:00\",\"2023-05-01T00:00:00\",\"2024-01-01T00:00:00\",\"2024-10-01T00:00:00\",\"2023-10-01T00:00:00\",\"2024-08-01T00:00:00\",\"2023-10-01T00:00:00\",\"2024-07-01T00:00:00\",\"2024-07-01T00:00:00\",\"2024-04-01T00:00:00\",\"2024-04-01T00:00:00\",\"2024-11-01T00:00:00\",\"2024-03-01T00:00:00\",\"2024-05-01T00:00:00\",\"2023-10-01T00:00:00\",\"2024-11-01T00:00:00\",\"2023-09-01T00:00:00\",\"2024-03-01T00:00:00\",\"2023-10-01T00:00:00\",\"2024-04-01T00:00:00\",\"2024-05-01T00:00:00\",\"2023-12-01T00:00:00\",\"2024-06-01T00:00:00\",\"2024-04-01T00:00:00\",\"2023-11-01T00:00:00\",\"2024-08-01T00:00:00\",\"2023-03-01T00:00:00\",\"2024-06-01T00:00:00\",\"2025-03-01T00:00:00\",\"2024-08-01T00:00:00\",\"2023-06-01T00:00:00\",\"2024-01-01T00:00:00\",\"2024-09-01T00:00:00\",\"2024-03-01T00:00:00\",\"2024-02-01T00:00:00\",\"2024-07-01T00:00:00\",\"2023-11-01T00:00:00\",\"2023-12-01T00:00:00\",\"2024-05-01T00:00:00\",\"2023-10-01T00:00:00\",\"2024-02-01T00:00:00\",\"2024-08-01T00:00:00\",\"2024-01-01T00:00:00\",\"2023-10-01T00:00:00\",\"2024-08-01T00:00:00\",\"2024-03-01T00:00:00\",\"2024-06-01T00:00:00\",\"2023-12-01T00:00:00\",\"2024-10-01T00:00:00\",\"2023-04-01T00:00:00\",\"2023-08-01T00:00:00\",\"2024-11-01T00:00:00\",\"2024-11-01T00:00:00\",\"2024-12-01T00:00:00\",\"2023-11-01T00:00:00\",\"2023-04-01T00:00:00\",\"2024-10-01T00:00:00\",\"2024-06-01T00:00:00\",\"2024-09-01T00:00:00\",\"2024-03-01T00:00:00\",\"2024-09-01T00:00:00\",\"2024-02-01T00:00:00\",\"2023-07-01T00:00:00\",\"2024-07-01T00:00:00\",\"2024-07-01T00:00:00\",\"2024-07-01T00:00:00\",\"2024-05-01T00:00:00\",\"2024-06-01T00:00:00\",\"2024-12-01T00:00:00\",\"2024-05-01T00:00:00\",\"2024-04-01T00:00:00\",\"2024-05-01T00:00:00\",\"2023-08-01T00:00:00\",\"2025-04-01T00:00:00\",\"2023-03-01T00:00:00\",\"2023-11-01T00:00:00\",\"2024-12-01T00:00:00\",\"2024-08-01T00:00:00\",\"2023-05-01T00:00:00\",\"2023-11-01T00:00:00\",\"2023-05-01T00:00:00\",\"2023-10-01T00:00:00\",\"2023-07-01T00:00:00\",\"2023-03-01T00:00:00\",\"2025-04-01T00:00:00\",\"2023-12-01T00:00:00\",\"2025-01-01T00:00:00\",\"2024-06-01T00:00:00\",\"2023-12-01T00:00:00\",\"2024-01-01T00:00:00\",\"2024-01-01T00:00:00\",\"2024-03-01T00:00:00\",\"2023-09-01T00:00:00\",\"2023-09-01T00:00:00\",\"2023-12-01T00:00:00\",\"2024-06-01T00:00:00\",\"2023-04-01T00:00:00\",\"2024-12-01T00:00:00\",\"2024-02-01T00:00:00\",\"2024-05-01T00:00:00\",\"2024-03-01T00:00:00\",\"2024-07-01T00:00:00\",\"2023-09-01T00:00:00\",\"2024-09-01T00:00:00\",\"2025-01-01T00:00:00\",\"2024-06-01T00:00:00\",\"2024-10-01T00:00:00\",\"2025-02-01T00:00:00\",\"2024-04-01T00:00:00\",\"2023-02-01T00:00:00\",\"2023-07-01T00:00:00\",\"2024-02-01T00:00:00\",\"2025-01-01T00:00:00\",\"2023-09-01T00:00:00\",\"2023-10-01T00:00:00\",\"2023-12-01T00:00:00\",\"2024-03-01T00:00:00\",\"2024-11-01T00:00:00\",\"2024-06-01T00:00:00\",\"2024-01-01T00:00:00\",\"2023-08-01T00:00:00\",\"2024-02-01T00:00:00\",\"2024-04-01T00:00:00\",\"2023-12-01T00:00:00\",\"2023-11-01T00:00:00\",\"2023-06-01T00:00:00\",\"2023-12-01T00:00:00\",\"2025-01-01T00:00:00\",\"2024-06-01T00:00:00\",\"2024-08-01T00:00:00\",\"2024-08-01T00:00:00\",\"2024-04-01T00:00:00\",\"2025-02-01T00:00:00\",\"2024-10-01T00:00:00\",\"2024-03-01T00:00:00\",\"2023-09-01T00:00:00\",\"2024-07-01T00:00:00\",\"2024-09-01T00:00:00\",\"2023-12-01T00:00:00\",\"2024-04-01T00:00:00\",\"2024-05-01T00:00:00\",\"2024-11-01T00:00:00\",\"2023-11-01T00:00:00\"],\"xaxis\":\"x\",\"y\":[38882.92122747848,46147.26811412559,97152.3082271685,53554.87360386692,108945.32711611134,25267.58639470052,42504.18009647184,50826.66116249256,68621.31677923279,36103.6962046651,40560.99554854425,49815.605181460254,31397.93656087948,63761.7266110009,110233.43973133144,56924.146344995,94195.37994911688,62171.636594453,60833.869094251255,107175.92092781451,72751.73083829874,119153.20150157736,91856.22898616915,98946.5096626945,122545.71128125576,122650.3731298861,112043.5487231638,58937.20857476977,83584.52587326315,124304.99553283886,45099.09715405307,63435.4908168918,60226.33467329122,81155.40619556747,96219.49563323832,66107.12670852234,83587.48554147672,69313.60916397133,81207.43284972022,50778.41371645809,82989.54025296861,57617.07433884984,53748.32180069965,78021.46456424092,57308.78245021579,108958.62829772718,120782.5974762808,60523.0720800666,61546.829826545785,52865.62775271946,79801.70034068903,52178.3101232894,110108.0889691098,85377.5127933259,52017.66287621038,55640.289013817805,67159.3311471032,62734.71196304631,54549.73946237203,108283.13970406455,52156.149274496944,107557.1814449448,55279.92535363238,45365.43814435575,58172.90341287656,59416.40457759978,83350.35781319276,77641.42243320371,58099.95465012265,56124.95584682115,47864.03290054413,73630.60073803787,102791.58030971298,61571.37178659727,55368.04597707433,65557.54970504565,63779.3736787449,77791.83167536971,90259.84634657673,89306.57714620311,108580.0853831884,105320.36155754572,53270.03264078815,58750.918297788274,64608.87306966515,55182.64624931241,53955.8543160377,74501.58277062513,55706.96257448875,95394.53166857836,69858.44944576219,60299.96101485749,38302.18247599687,67061.2922344097,110375.66296212474,88376.63897656988,50547.21412236516,31428.35934022217,96340.25633923404,68081.91771190088,71978.37827994364,45098.1202044031,114287.9766575864,77314.00596663717,38711.8916246336,81648.35460070313,65357.05284874294,53999.13755334691,90529.20271311284,61718.14595255697,93502.00802725642,36566.28566433121,85752.36983794278,43122.34316757595,101054.85020912086,52786.73464939952,84563.81944725316,97622.36779915149,45662.14578192468,82862.50072090428,112708.84100094084,79289.55827095069,63681.36636582853,91990.38171501992,59031.6343663146,48663.11820336757,80979.46749208681,61262.82405467652,64433.42782662976,75544.49545247674,64262.22227009748,70178.1606487269,66053.61523489036,87235.04753594067,52092.089023831344,96550.85617005374,114475.2899406821,85645.74824430484,99449.57726808835,39008.05305967558,69891.76888848945,100894.97609148694,44851.14101824394,65196.57586375099,59891.45040040559,101724.84056942674,43786.71216543229,52204.17106996863,74526.13376089299,94420.55943990208,97524.45658383786,64118.87406554946,54676.09375489298,68631.88786635315,72189.48031200888,107335.55538137109,63117.73284800981,39054.25772760603,92460.94135452854,39255.01269625696,55679.1905719566,87261.24737175005,38339.0054055823,62539.24073442159,63231.97308065834,69354.86016624869,81380.60088270345,110911.99496673937,68815.0559360197,66646.50847605168,86807.29473623016,39726.93931521021,43488.38386120211,69687.45664624442,95242.3957391952,75029.24744756009,66896.79747317563,46505.9369734503,86544.05600981176,82389.69027449835,40706.80636993026,50053.13308056402,65063.618869695885,108522.4174158544,58483.77172568203,41265.91987166104,79032.59566621535,91072.6668867953,86063.78928535203,45801.27604502542,68249.74568242012,73427.24038021264,58381.864787584775,110897.0290942698,30066.093737320927,67012.53246650503,103051.45979916737,69239.50875178065,93070.37510637032,104033.60676220233,33416.999046251425,79278.8981339029,110574.72309081478,116137.19821819912,48885.884290248265,31601.45304522505,73066.21135730148,71495.10006699641,61430.54221843868,112633.35425463364,84169.3555010233,93897.032181378,59781.43068905469,65237.02244965362,48570.60304019658,62128.23667901397],\"yaxis\":\"y\",\"type\":\"scattergl\"},{\"hovertemplate\":\"SCENARIO=actual\\u003cbr\\u003eSUBBRAND=Pepsi Max (L3)\\u003cbr\\u003eFecha=%{x}\\u003cbr\\u003eVentas=%{y}\\u003cextra\\u003e\\u003c\\u002fextra\\u003e\",\"legendgroup\":\"actual\",\"marker\":{\"color\":\"#EF553B\",\"symbol\":\"circle\"},\"mode\":\"markers\",\"name\":\"actual\",\"showlegend\":true,\"x\":[\"2023-04-01T00:00:00\",\"2023-01-01T00:00:00\",\"2024-05-01T00:00:00\",\"2024-03-01T00:00:00\",\"2023-10-01T00:00:00\",\"2024-02-01T00:00:00\",\"2023-05-01T00:00:00\",\"2024-08-01T00:00:00\",\"2023-07-01T00:00:00\",\"2023-09-01T00:00:00\",\"2023-03-01T00:00:00\",\"2024-01-01T00:00:00\",\"2023-11-01T00:00:00\",\"2023-12-01T00:00:00\",\"2024-06-01T00:00:00\",\"2023-06-01T00:00:00\",\"2024-04-01T00:00:00\",\"2024-07-01T00:00:00\",\"2023-08-01T00:00:00\",\"2023-02-01T00:00:00\"],\"xaxis\":\"x5\",\"y\":[90623.55743784914,83274.05549724207,94165.227223096,95639.02841081204,130091.60765395944,100246.4604717935,85757.98791767348,150238.709291102,125493.49625476392,108423.09226152318,108883.1082384134,97238.51342749008,112481.01179068074,105442.11223403168,113988.682873909,115198.26101891116,106530.7355251386,135627.644361161,148935.01617841818,80772.49512162477],\"yaxis\":\"y5\",\"type\":\"scattergl\"},{\"hovertemplate\":\"SCENARIO=actual\\u003cbr\\u003eSUBBRAND=Pepsi Regular (L3)\\u003cbr\\u003eFecha=%{x}\\u003cbr\\u003eVentas=%{y}\\u003cextra\\u003e\\u003c\\u002fextra\\u003e\",\"legendgroup\":\"actual\",\"marker\":{\"color\":\"#EF553B\",\"symbol\":\"circle\"},\"mode\":\"markers\",\"name\":\"actual\",\"showlegend\":false,\"x\":[\"2024-08-01T00:00:00\",\"2023-07-01T00:00:00\",\"2023-04-01T00:00:00\",\"2023-09-01T00:00:00\",\"2023-03-01T00:00:00\",\"2023-10-01T00:00:00\",\"2023-12-01T00:00:00\",\"2023-08-01T00:00:00\",\"2023-06-01T00:00:00\",\"2023-02-01T00:00:00\",\"2024-01-01T00:00:00\",\"2024-02-01T00:00:00\",\"2024-07-01T00:00:00\",\"2024-04-01T00:00:00\",\"2023-11-01T00:00:00\",\"2024-06-01T00:00:00\",\"2024-03-01T00:00:00\",\"2023-01-01T00:00:00\",\"2023-05-01T00:00:00\",\"2024-05-01T00:00:00\"],\"xaxis\":\"x6\",\"y\":[173370.457123134,162071.55519256374,99838.51406116813,140729.30844064584,122439.03679157892,151523.86577670075,115494.26762467154,186616.62295196296,143831.89772037225,85035.20179214247,113340.61179034613,108317.83149722092,165327.090656767,115596.74681056407,123046.45431128611,130166.523426768,100264.4079378386,99292.75887089389,115891.54759145631,111719.09364367],\"yaxis\":\"y6\",\"type\":\"scattergl\"},{\"hovertemplate\":\"SCENARIO=actual\\u003cbr\\u003eSUBBRAND=Lipton (L3)\\u003cbr\\u003eFecha=%{x}\\u003cbr\\u003eVentas=%{y}\\u003cextra\\u003e\\u003c\\u002fextra\\u003e\",\"legendgroup\":\"actual\",\"marker\":{\"color\":\"#EF553B\",\"symbol\":\"circle\"},\"mode\":\"markers\",\"name\":\"actual\",\"showlegend\":false,\"x\":[\"2024-02-01T00:00:00\",\"2024-07-01T00:00:00\",\"2023-12-01T00:00:00\",\"2024-08-01T00:00:00\",\"2024-05-01T00:00:00\",\"2024-01-01T00:00:00\",\"2024-04-01T00:00:00\",\"2023-05-01T00:00:00\",\"2024-06-01T00:00:00\",\"2023-06-01T00:00:00\",\"2023-03-01T00:00:00\",\"2023-10-01T00:00:00\",\"2023-04-01T00:00:00\",\"2024-03-01T00:00:00\",\"2023-02-01T00:00:00\",\"2023-09-01T00:00:00\",\"2023-08-01T00:00:00\",\"2023-01-01T00:00:00\",\"2023-11-01T00:00:00\",\"2023-07-01T00:00:00\"],\"xaxis\":\"x3\",\"y\":[8003.513133044036,15308.024486978,8591.425799032075,16677.562291743,8909.258698302,7392.653203701226,9613.097292765917,11759.247227955731,9739.012208266,11845.311399723854,9426.005681457948,10942.085509666931,9617.009842166068,6855.564870062626,10132.837981585457,10634.28934295154,16355.798251764669,9208.97938049918,8034.032890992088,13255.914481677031],\"yaxis\":\"y3\",\"type\":\"scattergl\"},{\"hovertemplate\":\"SCENARIO=actual\\u003cbr\\u003eSUBBRAND=7up Free (L3)\\u003cbr\\u003eFecha=%{x}\\u003cbr\\u003eVentas=%{y}\\u003cextra\\u003e\\u003c\\u002fextra\\u003e\",\"legendgroup\":\"actual\",\"marker\":{\"color\":\"#EF553B\",\"symbol\":\"circle\"},\"mode\":\"markers\",\"name\":\"actual\",\"showlegend\":false,\"x\":[\"2023-10-01T00:00:00\",\"2024-01-01T00:00:00\",\"2024-02-01T00:00:00\",\"2024-07-01T00:00:00\",\"2023-05-01T00:00:00\",\"2024-03-01T00:00:00\",\"2023-03-01T00:00:00\",\"2023-12-01T00:00:00\",\"2024-05-01T00:00:00\",\"2024-08-01T00:00:00\",\"2023-08-01T00:00:00\",\"2023-04-01T00:00:00\",\"2023-06-01T00:00:00\",\"2024-04-01T00:00:00\",\"2023-11-01T00:00:00\",\"2024-06-01T00:00:00\",\"2023-02-01T00:00:00\",\"2023-01-01T00:00:00\",\"2023-07-01T00:00:00\",\"2023-09-01T00:00:00\"],\"xaxis\":\"x4\",\"y\":[83196.89587639924,60318.99423122441,59482.85058485907,94034.761505568,64424.03987398998,62914.44527414004,64655.47145032158,63811.6805944221,64397.071565943,101061.307263671,105712.72961973328,54815.01624992075,76407.2321369573,70054.79630581953,74531.12053248259,75371.66526949,50344.87118975999,54525.1755862856,92339.32988163334,75888.8082792544],\"yaxis\":\"y4\",\"type\":\"scattergl\"},{\"hovertemplate\":\"SCENARIO=actual\\u003cbr\\u003eSUBBRAND=7up (L3)\\u003cbr\\u003eFecha=%{x}\\u003cbr\\u003eVentas=%{y}\\u003cextra\\u003e\\u003c\\u002fextra\\u003e\",\"legendgroup\":\"actual\",\"marker\":{\"color\":\"#EF553B\",\"symbol\":\"circle\"},\"mode\":\"markers\",\"name\":\"actual\",\"showlegend\":false,\"x\":[\"2024-04-01T00:00:00\",\"2023-05-01T00:00:00\",\"2023-12-01T00:00:00\",\"2023-08-01T00:00:00\",\"2023-04-01T00:00:00\",\"2024-01-01T00:00:00\",\"2024-02-01T00:00:00\",\"2024-08-01T00:00:00\",\"2024-03-01T00:00:00\",\"2023-03-01T00:00:00\",\"2023-11-01T00:00:00\",\"2024-06-01T00:00:00\",\"2023-01-01T00:00:00\",\"2023-09-01T00:00:00\",\"2023-10-01T00:00:00\",\"2024-05-01T00:00:00\",\"2023-06-01T00:00:00\",\"2023-07-01T00:00:00\",\"2023-02-01T00:00:00\",\"2024-07-01T00:00:00\"],\"xaxis\":\"x\",\"y\":[74882.99296245942,82918.33366906652,100807.92233802738,106715.95381781296,73141.16028298099,71405.76048903509,76848.37996555197,96514.247673526,66435.80973984348,94306.65094820118,99913.5795238565,79701.862588321,78971.96959557036,84366.48226666574,92671.3869433897,77568.360654581,91915.88401372284,103384.94030894028,69302.9735194043,95936.841771572],\"yaxis\":\"y\",\"type\":\"scattergl\"}],                        {\"template\":{\"data\":{\"histogram2dcontour\":[{\"type\":\"histogram2dcontour\",\"colorbar\":{\"outlinewidth\":0,\"ticks\":\"\"},\"colorscale\":[[0.0,\"#0d0887\"],[0.1111111111111111,\"#46039f\"],[0.2222222222222222,\"#7201a8\"],[0.3333333333333333,\"#9c179e\"],[0.4444444444444444,\"#bd3786\"],[0.5555555555555556,\"#d8576b\"],[0.6666666666666666,\"#ed7953\"],[0.7777777777777778,\"#fb9f3a\"],[0.8888888888888888,\"#fdca26\"],[1.0,\"#f0f921\"]]}],\"choropleth\":[{\"type\":\"choropleth\",\"colorbar\":{\"outlinewidth\":0,\"ticks\":\"\"}}],\"histogram2d\":[{\"type\":\"histogram2d\",\"colorbar\":{\"outlinewidth\":0,\"ticks\":\"\"},\"colorscale\":[[0.0,\"#0d0887\"],[0.1111111111111111,\"#46039f\"],[0.2222222222222222,\"#7201a8\"],[0.3333333333333333,\"#9c179e\"],[0.4444444444444444,\"#bd3786\"],[0.5555555555555556,\"#d8576b\"],[0.6666666666666666,\"#ed7953\"],[0.7777777777777778,\"#fb9f3a\"],[0.8888888888888888,\"#fdca26\"],[1.0,\"#f0f921\"]]}],\"heatmap\":[{\"type\":\"heatmap\",\"colorbar\":{\"outlinewidth\":0,\"ticks\":\"\"},\"colorscale\":[[0.0,\"#0d0887\"],[0.1111111111111111,\"#46039f\"],[0.2222222222222222,\"#7201a8\"],[0.3333333333333333,\"#9c179e\"],[0.4444444444444444,\"#bd3786\"],[0.5555555555555556,\"#d8576b\"],[0.6666666666666666,\"#ed7953\"],[0.7777777777777778,\"#fb9f3a\"],[0.8888888888888888,\"#fdca26\"],[1.0,\"#f0f921\"]]}],\"heatmapgl\":[{\"type\":\"heatmapgl\",\"colorbar\":{\"outlinewidth\":0,\"ticks\":\"\"},\"colorscale\":[[0.0,\"#0d0887\"],[0.1111111111111111,\"#46039f\"],[0.2222222222222222,\"#7201a8\"],[0.3333333333333333,\"#9c179e\"],[0.4444444444444444,\"#bd3786\"],[0.5555555555555556,\"#d8576b\"],[0.6666666666666666,\"#ed7953\"],[0.7777777777777778,\"#fb9f3a\"],[0.8888888888888888,\"#fdca26\"],[1.0,\"#f0f921\"]]}],\"contourcarpet\":[{\"type\":\"contourcarpet\",\"colorbar\":{\"outlinewidth\":0,\"ticks\":\"\"}}],\"contour\":[{\"type\":\"contour\",\"colorbar\":{\"outlinewidth\":0,\"ticks\":\"\"},\"colorscale\":[[0.0,\"#0d0887\"],[0.1111111111111111,\"#46039f\"],[0.2222222222222222,\"#7201a8\"],[0.3333333333333333,\"#9c179e\"],[0.4444444444444444,\"#bd3786\"],[0.5555555555555556,\"#d8576b\"],[0.6666666666666666,\"#ed7953\"],[0.7777777777777778,\"#fb9f3a\"],[0.8888888888888888,\"#fdca26\"],[1.0,\"#f0f921\"]]}],\"surface\":[{\"type\":\"surface\",\"colorbar\":{\"outlinewidth\":0,\"ticks\":\"\"},\"colorscale\":[[0.0,\"#0d0887\"],[0.1111111111111111,\"#46039f\"],[0.2222222222222222,\"#7201a8\"],[0.3333333333333333,\"#9c179e\"],[0.4444444444444444,\"#bd3786\"],[0.5555555555555556,\"#d8576b\"],[0.6666666666666666,\"#ed7953\"],[0.7777777777777778,\"#fb9f3a\"],[0.8888888888888888,\"#fdca26\"],[1.0,\"#f0f921\"]]}],\"mesh3d\":[{\"type\":\"mesh3d\",\"colorbar\":{\"outlinewidth\":0,\"ticks\":\"\"}}],\"scatter\":[{\"fillpattern\":{\"fillmode\":\"overlay\",\"size\":10,\"solidity\":0.2},\"type\":\"scatter\"}],\"parcoords\":[{\"type\":\"parcoords\",\"line\":{\"colorbar\":{\"outlinewidth\":0,\"ticks\":\"\"}}}],\"scatterpolargl\":[{\"type\":\"scatterpolargl\",\"marker\":{\"colorbar\":{\"outlinewidth\":0,\"ticks\":\"\"}}}],\"bar\":[{\"error_x\":{\"color\":\"#2a3f5f\"},\"error_y\":{\"color\":\"#2a3f5f\"},\"marker\":{\"line\":{\"color\":\"#E5ECF6\",\"width\":0.5},\"pattern\":{\"fillmode\":\"overlay\",\"size\":10,\"solidity\":0.2}},\"type\":\"bar\"}],\"scattergeo\":[{\"type\":\"scattergeo\",\"marker\":{\"colorbar\":{\"outlinewidth\":0,\"ticks\":\"\"}}}],\"scatterpolar\":[{\"type\":\"scatterpolar\",\"marker\":{\"colorbar\":{\"outlinewidth\":0,\"ticks\":\"\"}}}],\"histogram\":[{\"marker\":{\"pattern\":{\"fillmode\":\"overlay\",\"size\":10,\"solidity\":0.2}},\"type\":\"histogram\"}],\"scattergl\":[{\"type\":\"scattergl\",\"marker\":{\"colorbar\":{\"outlinewidth\":0,\"ticks\":\"\"}}}],\"scatter3d\":[{\"type\":\"scatter3d\",\"line\":{\"colorbar\":{\"outlinewidth\":0,\"ticks\":\"\"}},\"marker\":{\"colorbar\":{\"outlinewidth\":0,\"ticks\":\"\"}}}],\"scattermapbox\":[{\"type\":\"scattermapbox\",\"marker\":{\"colorbar\":{\"outlinewidth\":0,\"ticks\":\"\"}}}],\"scatterternary\":[{\"type\":\"scatterternary\",\"marker\":{\"colorbar\":{\"outlinewidth\":0,\"ticks\":\"\"}}}],\"scattercarpet\":[{\"type\":\"scattercarpet\",\"marker\":{\"colorbar\":{\"outlinewidth\":0,\"ticks\":\"\"}}}],\"carpet\":[{\"aaxis\":{\"endlinecolor\":\"#2a3f5f\",\"gridcolor\":\"white\",\"linecolor\":\"white\",\"minorgridcolor\":\"white\",\"startlinecolor\":\"#2a3f5f\"},\"baxis\":{\"endlinecolor\":\"#2a3f5f\",\"gridcolor\":\"white\",\"linecolor\":\"white\",\"minorgridcolor\":\"white\",\"startlinecolor\":\"#2a3f5f\"},\"type\":\"carpet\"}],\"table\":[{\"cells\":{\"fill\":{\"color\":\"#EBF0F8\"},\"line\":{\"color\":\"white\"}},\"header\":{\"fill\":{\"color\":\"#C8D4E3\"},\"line\":{\"color\":\"white\"}},\"type\":\"table\"}],\"barpolar\":[{\"marker\":{\"line\":{\"color\":\"#E5ECF6\",\"width\":0.5},\"pattern\":{\"fillmode\":\"overlay\",\"size\":10,\"solidity\":0.2}},\"type\":\"barpolar\"}],\"pie\":[{\"automargin\":true,\"type\":\"pie\"}]},\"layout\":{\"autotypenumbers\":\"strict\",\"colorway\":[\"#636efa\",\"#EF553B\",\"#00cc96\",\"#ab63fa\",\"#FFA15A\",\"#19d3f3\",\"#FF6692\",\"#B6E880\",\"#FF97FF\",\"#FECB52\"],\"font\":{\"color\":\"#2a3f5f\"},\"hovermode\":\"closest\",\"hoverlabel\":{\"align\":\"left\"},\"paper_bgcolor\":\"white\",\"plot_bgcolor\":\"#E5ECF6\",\"polar\":{\"bgcolor\":\"#E5ECF6\",\"angularaxis\":{\"gridcolor\":\"white\",\"linecolor\":\"white\",\"ticks\":\"\"},\"radialaxis\":{\"gridcolor\":\"white\",\"linecolor\":\"white\",\"ticks\":\"\"}},\"ternary\":{\"bgcolor\":\"#E5ECF6\",\"aaxis\":{\"gridcolor\":\"white\",\"linecolor\":\"white\",\"ticks\":\"\"},\"baxis\":{\"gridcolor\":\"white\",\"linecolor\":\"white\",\"ticks\":\"\"},\"caxis\":{\"gridcolor\":\"white\",\"linecolor\":\"white\",\"ticks\":\"\"}},\"coloraxis\":{\"colorbar\":{\"outlinewidth\":0,\"ticks\":\"\"}},\"colorscale\":{\"sequential\":[[0.0,\"#0d0887\"],[0.1111111111111111,\"#46039f\"],[0.2222222222222222,\"#7201a8\"],[0.3333333333333333,\"#9c179e\"],[0.4444444444444444,\"#bd3786\"],[0.5555555555555556,\"#d8576b\"],[0.6666666666666666,\"#ed7953\"],[0.7777777777777778,\"#fb9f3a\"],[0.8888888888888888,\"#fdca26\"],[1.0,\"#f0f921\"]],\"sequentialminus\":[[0.0,\"#0d0887\"],[0.1111111111111111,\"#46039f\"],[0.2222222222222222,\"#7201a8\"],[0.3333333333333333,\"#9c179e\"],[0.4444444444444444,\"#bd3786\"],[0.5555555555555556,\"#d8576b\"],[0.6666666666666666,\"#ed7953\"],[0.7777777777777778,\"#fb9f3a\"],[0.8888888888888888,\"#fdca26\"],[1.0,\"#f0f921\"]],\"diverging\":[[0,\"#8e0152\"],[0.1,\"#c51b7d\"],[0.2,\"#de77ae\"],[0.3,\"#f1b6da\"],[0.4,\"#fde0ef\"],[0.5,\"#f7f7f7\"],[0.6,\"#e6f5d0\"],[0.7,\"#b8e186\"],[0.8,\"#7fbc41\"],[0.9,\"#4d9221\"],[1,\"#276419\"]]},\"xaxis\":{\"gridcolor\":\"white\",\"linecolor\":\"white\",\"ticks\":\"\",\"title\":{\"standoff\":15},\"zerolinecolor\":\"white\",\"automargin\":true,\"zerolinewidth\":2},\"yaxis\":{\"gridcolor\":\"white\",\"linecolor\":\"white\",\"ticks\":\"\",\"title\":{\"standoff\":15},\"zerolinecolor\":\"white\",\"automargin\":true,\"zerolinewidth\":2},\"scene\":{\"xaxis\":{\"backgroundcolor\":\"#E5ECF6\",\"gridcolor\":\"white\",\"linecolor\":\"white\",\"showbackground\":true,\"ticks\":\"\",\"zerolinecolor\":\"white\",\"gridwidth\":2},\"yaxis\":{\"backgroundcolor\":\"#E5ECF6\",\"gridcolor\":\"white\",\"linecolor\":\"white\",\"showbackground\":true,\"ticks\":\"\",\"zerolinecolor\":\"white\",\"gridwidth\":2},\"zaxis\":{\"backgroundcolor\":\"#E5ECF6\",\"gridcolor\":\"white\",\"linecolor\":\"white\",\"showbackground\":true,\"ticks\":\"\",\"zerolinecolor\":\"white\",\"gridwidth\":2}},\"shapedefaults\":{\"line\":{\"color\":\"#2a3f5f\"}},\"annotationdefaults\":{\"arrowcolor\":\"#2a3f5f\",\"arrowhead\":0,\"arrowwidth\":1},\"geo\":{\"bgcolor\":\"white\",\"landcolor\":\"#E5ECF6\",\"subunitcolor\":\"white\",\"showland\":true,\"showlakes\":true,\"lakecolor\":\"white\"},\"title\":{\"x\":0.05},\"mapbox\":{\"style\":\"light\"}}},\"xaxis\":{\"anchor\":\"y\",\"domain\":[0.0,0.49],\"title\":{\"text\":\"Fecha\"},\"showticklabels\":true},\"yaxis\":{\"anchor\":\"x\",\"domain\":[0.0,0.2866666666666666],\"title\":{\"text\":\"Ventas\"}},\"xaxis2\":{\"anchor\":\"y2\",\"domain\":[0.51,1.0],\"title\":{\"text\":\"Fecha\"},\"showticklabels\":true},\"yaxis2\":{\"anchor\":\"x2\",\"domain\":[0.0,0.2866666666666666],\"matches\":\"y\",\"showticklabels\":false},\"xaxis3\":{\"anchor\":\"y3\",\"domain\":[0.0,0.49],\"showticklabels\":true},\"yaxis3\":{\"anchor\":\"x3\",\"domain\":[0.35666666666666663,0.6433333333333333],\"matches\":\"y\",\"title\":{\"text\":\"Ventas\"}},\"xaxis4\":{\"anchor\":\"y4\",\"domain\":[0.51,1.0],\"showticklabels\":true},\"yaxis4\":{\"anchor\":\"x4\",\"domain\":[0.35666666666666663,0.6433333333333333],\"matches\":\"y\",\"showticklabels\":false},\"xaxis5\":{\"anchor\":\"y5\",\"domain\":[0.0,0.49],\"showticklabels\":true},\"yaxis5\":{\"anchor\":\"x5\",\"domain\":[0.7133333333333333,0.9999999999999999],\"matches\":\"y\",\"title\":{\"text\":\"Ventas\"}},\"xaxis6\":{\"anchor\":\"y6\",\"domain\":[0.51,1.0],\"showticklabels\":true},\"yaxis6\":{\"anchor\":\"x6\",\"domain\":[0.7133333333333333,0.9999999999999999],\"matches\":\"y\",\"showticklabels\":false},\"annotations\":[{\"font\":{},\"showarrow\":false,\"text\":\"SUBBRAND=7up (L3)\",\"x\":0.245,\"xanchor\":\"center\",\"xref\":\"paper\",\"y\":0.2866666666666666,\"yanchor\":\"bottom\",\"yref\":\"paper\"},{\"font\":{},\"showarrow\":false,\"text\":\"SUBBRAND=Lipton (L3)\",\"x\":0.245,\"xanchor\":\"center\",\"xref\":\"paper\",\"y\":0.6433333333333333,\"yanchor\":\"bottom\",\"yref\":\"paper\"},{\"font\":{},\"showarrow\":false,\"text\":\"SUBBRAND=7up Free (L3)\",\"x\":0.755,\"xanchor\":\"center\",\"xref\":\"paper\",\"y\":0.6433333333333333,\"yanchor\":\"bottom\",\"yref\":\"paper\"},{\"font\":{},\"showarrow\":false,\"text\":\"SUBBRAND=Pepsi Max (L3)\",\"x\":0.245,\"xanchor\":\"center\",\"xref\":\"paper\",\"y\":0.9999999999999999,\"yanchor\":\"bottom\",\"yref\":\"paper\"},{\"font\":{},\"showarrow\":false,\"text\":\"SUBBRAND=Pepsi Regular (L3)\",\"x\":0.755,\"xanchor\":\"center\",\"xref\":\"paper\",\"y\":0.9999999999999999,\"yanchor\":\"bottom\",\"yref\":\"paper\"}],\"legend\":{\"title\":{\"text\":\"Tipo de Ventas\"},\"tracegroupgap\":0},\"title\":{\"text\":\"Comparación de Ventas Actual y Forecast por Sub-marca en España\",\"x\":0.5},\"margin\":{\"t\":60,\"b\":40,\"l\":40,\"r\":40},\"height\":1200},                        {\"responsive\": true}                    ).then(function(){\n",
              "                            \n",
              "var gd = document.getElementById('a7efd590-0742-42cb-be4c-ac5d649c9404');\n",
              "var x = new MutationObserver(function (mutations, observer) {{\n",
              "        var display = window.getComputedStyle(gd).display;\n",
              "        if (!display || display === 'none') {{\n",
              "            console.log([gd, 'removed!']);\n",
              "            Plotly.purge(gd);\n",
              "            observer.disconnect();\n",
              "        }}\n",
              "}});\n",
              "\n",
              "// Listen for the removal of the full notebook cells\n",
              "var notebookContainer = gd.closest('#notebook-container');\n",
              "if (notebookContainer) {{\n",
              "    x.observe(notebookContainer, {childList: true});\n",
              "}}\n",
              "\n",
              "// Listen for the clearing of the current output cell\n",
              "var outputEl = gd.closest('.output');\n",
              "if (outputEl) {{\n",
              "    x.observe(outputEl, {childList: true});\n",
              "}}\n",
              "\n",
              "                        })                };                            </script>        </div>\n",
              "</body>\n",
              "</html>"
            ]
          },
          "metadata": {}
        }
      ]
    },
    {
      "cell_type": "markdown",
      "source": [
        "Se repite el mismo gráfico pero en vez de graficar todas las predicciones para cada periodo se pone la media de las preddiciones frente a los actuals."
      ],
      "metadata": {
        "id": "uA5O_32PfxcU"
      }
    },
    {
      "cell_type": "code",
      "source": [
        "forecast_mean = df_ventas_espana[df_ventas_espana['SCENARIO'] == 'AI_forecast'].groupby(['SUBBRAND', 'YEAR', 'MONTH'])['AMOUNT'].mean().reset_index()\n",
        "forecast_mean.columns = ['SUBBRAND', 'YEAR', 'MONTH', 'FORECAST_MEAN']"
      ],
      "metadata": {
        "id": "fVo0md0a1nhl"
      },
      "execution_count": null,
      "outputs": []
    },
    {
      "cell_type": "code",
      "source": [
        "\n",
        "forecast_mean = df_ventas_espana[df_ventas_espana['SCENARIO'] == 'AI_forecast'].groupby(['SUBBRAND', 'YEAR', 'MONTH'])['AMOUNT'].mean().reset_index()\n",
        "forecast_mean.columns = ['SUBBRAND', 'YEAR', 'MONTH', 'FORECAST_MEAN']\n",
        "\n",
        "\n",
        "df_ventas_espana = pd.merge(df_ventas_espana, forecast_mean, on=['SUBBRAND', 'YEAR', 'MONTH'], how='left')\n",
        "\n",
        "\n",
        "df_ventas_espana['VALOR_PLOT'] = df_ventas_espana.apply(\n",
        "    lambda row: row['FORECAST_MEAN'] if row['SCENARIO'] == 'AI_forecast' else row['AMOUNT'], axis=1\n",
        ")\n",
        "\n",
        "\n",
        "fig = px.scatter(df_ventas_espana, x='PERIODO', y='VALOR_PLOT', color='SCENARIO',\n",
        "                 facet_col='SUBBRAND', facet_col_wrap=2,\n",
        "                 title='Comparación de Ventas Actual y Forecast (Media) por Sub-marca en España',\n",
        "                 labels={'VALOR_PLOT': 'Ventas', 'PERIODO': 'Fecha', 'SCENARIO': 'Tipo de Valor'})\n",
        "\n",
        "\n",
        "fig.update_layout(\n",
        "    legend_title_text='Tipo de Ventas',\n",
        "    title_x=0.5,\n",
        "    margin=dict(t=60, b=40, l=40, r=40),\n",
        "    height=1200\n",
        ")\n",
        "\n",
        "fig.update_xaxes(matches=None, showticklabels=True)\n",
        "\n",
        "fig.show()\n"
      ],
      "metadata": {
        "colab": {
          "base_uri": "https://localhost:8080/",
          "height": 1000
        },
        "id": "gSINuPKO2GxW",
        "outputId": "1c371cce-c250-491e-86a2-7542a11bba42"
      },
      "execution_count": null,
      "outputs": [
        {
          "output_type": "display_data",
          "data": {
            "text/html": [
              "<html>\n",
              "<head><meta charset=\"utf-8\" /></head>\n",
              "<body>\n",
              "    <div>            <script src=\"https://cdnjs.cloudflare.com/ajax/libs/mathjax/2.7.5/MathJax.js?config=TeX-AMS-MML_SVG\"></script><script type=\"text/javascript\">if (window.MathJax && window.MathJax.Hub && window.MathJax.Hub.Config) {window.MathJax.Hub.Config({SVG: {font: \"STIX-Web\"}});}</script>                <script type=\"text/javascript\">window.PlotlyConfig = {MathJaxConfig: 'local'};</script>\n",
              "        <script charset=\"utf-8\" src=\"https://cdn.plot.ly/plotly-2.35.2.min.js\"></script>                <div id=\"254ea74b-963b-439e-b497-c1237cb3d662\" class=\"plotly-graph-div\" style=\"height:1200px; width:100%;\"></div>            <script type=\"text/javascript\">                                    window.PLOTLYENV=window.PLOTLYENV || {};                                    if (document.getElementById(\"254ea74b-963b-439e-b497-c1237cb3d662\")) {                    Plotly.newPlot(                        \"254ea74b-963b-439e-b497-c1237cb3d662\",                        [{\"hovertemplate\":\"Tipo de Valor=AI_forecast\\u003cbr\\u003eSUBBRAND=Pepsi Max (L3)\\u003cbr\\u003eFecha=%{x}\\u003cbr\\u003eVentas=%{y}\\u003cextra\\u003e\\u003c\\u002fextra\\u003e\",\"legendgroup\":\"AI_forecast\",\"marker\":{\"color\":\"#636efa\",\"symbol\":\"circle\"},\"mode\":\"markers\",\"name\":\"AI_forecast\",\"showlegend\":true,\"x\":[\"2023-12-01T00:00:00\",\"2024-08-01T00:00:00\",\"2023-10-01T00:00:00\",\"2024-01-01T00:00:00\",\"2023-11-01T00:00:00\",\"2024-02-01T00:00:00\",\"2023-07-01T00:00:00\",\"2024-05-01T00:00:00\",\"2023-05-01T00:00:00\",\"2024-11-01T00:00:00\",\"2024-06-01T00:00:00\",\"2024-03-01T00:00:00\",\"2024-07-01T00:00:00\",\"2024-04-01T00:00:00\",\"2024-01-01T00:00:00\",\"2024-04-01T00:00:00\",\"2023-10-01T00:00:00\",\"2023-06-01T00:00:00\",\"2024-05-01T00:00:00\",\"2024-05-01T00:00:00\",\"2025-02-01T00:00:00\",\"2024-07-01T00:00:00\",\"2024-02-01T00:00:00\",\"2024-05-01T00:00:00\",\"2024-08-01T00:00:00\",\"2023-03-01T00:00:00\",\"2023-06-01T00:00:00\",\"2023-10-01T00:00:00\",\"2024-04-01T00:00:00\",\"2024-02-01T00:00:00\",\"2023-06-01T00:00:00\",\"2024-04-01T00:00:00\",\"2023-11-01T00:00:00\",\"2024-07-01T00:00:00\",\"2023-12-01T00:00:00\",\"2023-07-01T00:00:00\",\"2024-11-01T00:00:00\",\"2024-10-01T00:00:00\",\"2023-08-01T00:00:00\",\"2025-01-01T00:00:00\",\"2023-10-01T00:00:00\",\"2024-09-01T00:00:00\",\"2024-08-01T00:00:00\",\"2024-11-01T00:00:00\",\"2024-08-01T00:00:00\",\"2025-01-01T00:00:00\",\"2023-07-01T00:00:00\",\"2024-03-01T00:00:00\",\"2024-03-01T00:00:00\",\"2024-05-01T00:00:00\",\"2023-11-01T00:00:00\",\"2023-10-01T00:00:00\",\"2024-07-01T00:00:00\",\"2023-08-01T00:00:00\",\"2024-10-01T00:00:00\",\"2024-05-01T00:00:00\",\"2024-01-01T00:00:00\",\"2024-07-01T00:00:00\",\"2024-09-01T00:00:00\",\"2024-11-01T00:00:00\",\"2024-01-01T00:00:00\",\"2024-08-01T00:00:00\",\"2024-02-01T00:00:00\",\"2023-12-01T00:00:00\",\"2024-11-01T00:00:00\",\"2024-09-01T00:00:00\",\"2024-01-01T00:00:00\",\"2024-07-01T00:00:00\",\"2024-08-01T00:00:00\",\"2023-08-01T00:00:00\",\"2024-11-01T00:00:00\",\"2023-12-01T00:00:00\",\"2023-10-01T00:00:00\",\"2024-04-01T00:00:00\",\"2025-02-01T00:00:00\",\"2024-01-01T00:00:00\",\"2025-02-01T00:00:00\",\"2024-03-01T00:00:00\",\"2024-08-01T00:00:00\",\"2023-01-01T00:00:00\",\"2024-03-01T00:00:00\",\"2023-04-01T00:00:00\",\"2024-10-01T00:00:00\",\"2024-06-01T00:00:00\",\"2024-12-01T00:00:00\",\"2023-07-01T00:00:00\",\"2024-12-01T00:00:00\",\"2025-01-01T00:00:00\",\"2024-09-01T00:00:00\",\"2023-07-01T00:00:00\",\"2024-06-01T00:00:00\",\"2023-07-01T00:00:00\",\"2024-07-01T00:00:00\",\"2023-05-01T00:00:00\",\"2025-05-01T00:00:00\",\"2024-06-01T00:00:00\",\"2024-12-01T00:00:00\",\"2023-11-01T00:00:00\",\"2024-01-01T00:00:00\",\"2023-09-01T00:00:00\",\"2024-12-01T00:00:00\",\"2023-08-01T00:00:00\",\"2025-03-01T00:00:00\",\"2024-07-01T00:00:00\",\"2024-10-01T00:00:00\",\"2023-10-01T00:00:00\",\"2024-11-01T00:00:00\",\"2024-10-01T00:00:00\",\"2023-06-01T00:00:00\",\"2023-11-01T00:00:00\",\"2023-12-01T00:00:00\",\"2024-04-01T00:00:00\",\"2024-02-01T00:00:00\",\"2024-10-01T00:00:00\",\"2024-12-01T00:00:00\",\"2024-06-01T00:00:00\",\"2023-12-01T00:00:00\",\"2024-01-01T00:00:00\",\"2025-02-01T00:00:00\",\"2024-01-01T00:00:00\",\"2024-09-01T00:00:00\",\"2024-08-01T00:00:00\",\"2024-01-01T00:00:00\",\"2025-01-01T00:00:00\",\"2023-08-01T00:00:00\",\"2024-06-01T00:00:00\",\"2023-09-01T00:00:00\",\"2024-10-01T00:00:00\",\"2025-01-01T00:00:00\",\"2024-10-01T00:00:00\",\"2024-04-01T00:00:00\",\"2024-05-01T00:00:00\",\"2024-11-01T00:00:00\",\"2024-03-01T00:00:00\",\"2024-01-01T00:00:00\",\"2024-02-01T00:00:00\",\"2024-03-01T00:00:00\",\"2025-02-01T00:00:00\",\"2024-05-01T00:00:00\",\"2023-05-01T00:00:00\",\"2023-10-01T00:00:00\",\"2023-09-01T00:00:00\",\"2023-10-01T00:00:00\",\"2024-03-01T00:00:00\",\"2024-02-01T00:00:00\",\"2024-05-01T00:00:00\",\"2024-04-01T00:00:00\",\"2025-03-01T00:00:00\",\"2024-07-01T00:00:00\",\"2024-07-01T00:00:00\",\"2024-11-01T00:00:00\",\"2024-09-01T00:00:00\",\"2024-03-01T00:00:00\",\"2024-02-01T00:00:00\",\"2023-05-01T00:00:00\",\"2024-09-01T00:00:00\",\"2024-02-01T00:00:00\",\"2024-10-01T00:00:00\",\"2023-04-01T00:00:00\",\"2024-12-01T00:00:00\",\"2025-04-01T00:00:00\",\"2024-05-01T00:00:00\",\"2023-08-01T00:00:00\",\"2023-10-01T00:00:00\",\"2025-01-01T00:00:00\",\"2024-09-01T00:00:00\",\"2024-07-01T00:00:00\",\"2024-02-01T00:00:00\",\"2023-12-01T00:00:00\",\"2023-07-01T00:00:00\",\"2023-03-01T00:00:00\",\"2025-03-01T00:00:00\",\"2024-07-01T00:00:00\",\"2023-07-01T00:00:00\",\"2024-03-01T00:00:00\",\"2023-10-01T00:00:00\",\"2024-08-01T00:00:00\",\"2024-12-01T00:00:00\",\"2024-05-01T00:00:00\",\"2024-08-01T00:00:00\",\"2023-09-01T00:00:00\",\"2024-09-01T00:00:00\",\"2024-10-01T00:00:00\",\"2024-04-01T00:00:00\",\"2024-12-01T00:00:00\",\"2024-01-01T00:00:00\",\"2024-08-01T00:00:00\",\"2023-08-01T00:00:00\",\"2024-02-01T00:00:00\",\"2024-09-01T00:00:00\",\"2024-11-01T00:00:00\",\"2023-02-01T00:00:00\",\"2023-09-01T00:00:00\",\"2023-11-01T00:00:00\",\"2024-05-01T00:00:00\",\"2023-12-01T00:00:00\",\"2024-09-01T00:00:00\",\"2023-12-01T00:00:00\",\"2024-07-01T00:00:00\",\"2024-08-01T00:00:00\",\"2024-04-01T00:00:00\",\"2024-04-01T00:00:00\",\"2024-09-01T00:00:00\",\"2024-06-01T00:00:00\",\"2023-11-01T00:00:00\",\"2024-01-01T00:00:00\",\"2024-09-01T00:00:00\",\"2024-09-01T00:00:00\",\"2024-11-01T00:00:00\",\"2024-05-01T00:00:00\",\"2024-09-01T00:00:00\",\"2023-11-01T00:00:00\",\"2024-07-01T00:00:00\",\"2023-07-01T00:00:00\",\"2024-05-01T00:00:00\",\"2023-04-01T00:00:00\",\"2023-06-01T00:00:00\",\"2024-03-01T00:00:00\",\"2024-01-01T00:00:00\",\"2024-02-01T00:00:00\",\"2024-05-01T00:00:00\",\"2023-09-01T00:00:00\",\"2024-10-01T00:00:00\",\"2023-06-01T00:00:00\",\"2024-06-01T00:00:00\",\"2024-08-01T00:00:00\",\"2024-08-01T00:00:00\",\"2023-12-01T00:00:00\",\"2024-10-01T00:00:00\",\"2023-07-01T00:00:00\",\"2023-11-01T00:00:00\",\"2024-08-01T00:00:00\",\"2024-10-01T00:00:00\",\"2023-03-01T00:00:00\",\"2024-06-01T00:00:00\",\"2023-11-01T00:00:00\",\"2024-05-01T00:00:00\",\"2024-07-01T00:00:00\",\"2025-01-01T00:00:00\",\"2024-04-01T00:00:00\",\"2024-02-01T00:00:00\",\"2024-01-01T00:00:00\",\"2025-04-01T00:00:00\",\"2024-12-01T00:00:00\",\"2024-08-01T00:00:00\",\"2024-05-01T00:00:00\",\"2023-09-01T00:00:00\",\"2023-06-01T00:00:00\",\"2023-11-01T00:00:00\",\"2024-12-01T00:00:00\",\"2023-10-01T00:00:00\",\"2024-01-01T00:00:00\",\"2025-01-01T00:00:00\",\"2024-02-01T00:00:00\",\"2024-08-01T00:00:00\",\"2024-12-01T00:00:00\",\"2024-06-01T00:00:00\",\"2024-04-01T00:00:00\",\"2024-03-01T00:00:00\",\"2024-11-01T00:00:00\",\"2024-09-01T00:00:00\",\"2024-10-01T00:00:00\",\"2023-09-01T00:00:00\",\"2024-01-01T00:00:00\",\"2023-12-01T00:00:00\",\"2024-05-01T00:00:00\",\"2025-03-01T00:00:00\",\"2024-01-01T00:00:00\",\"2024-02-01T00:00:00\",\"2024-07-01T00:00:00\",\"2023-10-01T00:00:00\",\"2024-01-01T00:00:00\",\"2024-08-01T00:00:00\",\"2025-01-01T00:00:00\",\"2024-05-01T00:00:00\",\"2023-09-01T00:00:00\",\"2024-01-01T00:00:00\",\"2025-04-01T00:00:00\",\"2024-04-01T00:00:00\",\"2023-11-01T00:00:00\",\"2023-09-01T00:00:00\",\"2024-07-01T00:00:00\",\"2024-04-01T00:00:00\",\"2023-05-01T00:00:00\",\"2024-02-01T00:00:00\",\"2025-02-01T00:00:00\",\"2024-03-01T00:00:00\",\"2023-10-01T00:00:00\",\"2024-05-01T00:00:00\",\"2024-11-01T00:00:00\",\"2023-10-01T00:00:00\",\"2023-12-01T00:00:00\",\"2024-04-01T00:00:00\",\"2024-01-01T00:00:00\",\"2024-02-01T00:00:00\",\"2023-10-01T00:00:00\",\"2024-04-01T00:00:00\",\"2024-10-01T00:00:00\",\"2024-09-01T00:00:00\",\"2024-11-01T00:00:00\",\"2024-11-01T00:00:00\",\"2023-09-01T00:00:00\",\"2023-08-01T00:00:00\",\"2023-04-01T00:00:00\",\"2024-11-01T00:00:00\",\"2024-07-01T00:00:00\",\"2024-05-01T00:00:00\",\"2023-08-01T00:00:00\",\"2024-09-01T00:00:00\",\"2024-04-01T00:00:00\",\"2025-01-01T00:00:00\",\"2023-07-01T00:00:00\",\"2024-08-01T00:00:00\",\"2023-10-01T00:00:00\",\"2023-09-01T00:00:00\",\"2024-05-01T00:00:00\",\"2024-02-01T00:00:00\",\"2024-03-01T00:00:00\",\"2024-02-01T00:00:00\",\"2024-05-01T00:00:00\",\"2024-10-01T00:00:00\",\"2023-09-01T00:00:00\",\"2024-05-01T00:00:00\",\"2023-11-01T00:00:00\",\"2024-11-01T00:00:00\",\"2024-12-01T00:00:00\",\"2024-04-01T00:00:00\",\"2025-01-01T00:00:00\",\"2023-10-01T00:00:00\",\"2024-01-01T00:00:00\",\"2023-12-01T00:00:00\",\"2024-02-01T00:00:00\",\"2024-04-01T00:00:00\",\"2025-04-01T00:00:00\",\"2024-03-01T00:00:00\",\"2025-04-01T00:00:00\",\"2024-03-01T00:00:00\",\"2024-02-01T00:00:00\",\"2024-05-01T00:00:00\",\"2023-10-01T00:00:00\",\"2023-10-01T00:00:00\",\"2024-01-01T00:00:00\",\"2024-06-01T00:00:00\",\"2024-01-01T00:00:00\",\"2024-07-01T00:00:00\",\"2023-12-01T00:00:00\",\"2023-09-01T00:00:00\",\"2024-09-01T00:00:00\",\"2024-08-01T00:00:00\",\"2024-12-01T00:00:00\",\"2024-03-01T00:00:00\",\"2025-02-01T00:00:00\",\"2025-01-01T00:00:00\",\"2023-07-01T00:00:00\",\"2024-02-01T00:00:00\",\"2024-11-01T00:00:00\",\"2023-08-01T00:00:00\",\"2024-06-01T00:00:00\",\"2024-05-01T00:00:00\",\"2024-09-01T00:00:00\",\"2024-09-01T00:00:00\",\"2023-08-01T00:00:00\",\"2025-02-01T00:00:00\",\"2023-08-01T00:00:00\",\"2023-05-01T00:00:00\",\"2024-07-01T00:00:00\",\"2024-03-01T00:00:00\",\"2023-12-01T00:00:00\",\"2025-03-01T00:00:00\",\"2023-09-01T00:00:00\",\"2023-08-01T00:00:00\",\"2023-12-01T00:00:00\",\"2024-02-01T00:00:00\",\"2023-06-01T00:00:00\",\"2024-07-01T00:00:00\",\"2024-04-01T00:00:00\",\"2024-09-01T00:00:00\",\"2024-01-01T00:00:00\",\"2023-10-01T00:00:00\",\"2023-11-01T00:00:00\",\"2024-12-01T00:00:00\",\"2024-09-01T00:00:00\",\"2023-10-01T00:00:00\",\"2025-01-01T00:00:00\",\"2024-06-01T00:00:00\",\"2024-07-01T00:00:00\",\"2023-05-01T00:00:00\",\"2024-06-01T00:00:00\",\"2023-08-01T00:00:00\",\"2023-02-01T00:00:00\",\"2024-06-01T00:00:00\",\"2024-04-01T00:00:00\",\"2024-03-01T00:00:00\",\"2023-08-01T00:00:00\",\"2024-07-01T00:00:00\",\"2024-03-01T00:00:00\",\"2024-01-01T00:00:00\",\"2024-06-01T00:00:00\",\"2024-08-01T00:00:00\",\"2023-11-01T00:00:00\",\"2024-08-01T00:00:00\",\"2023-06-01T00:00:00\",\"2023-08-01T00:00:00\",\"2023-11-01T00:00:00\",\"2023-12-01T00:00:00\",\"2023-12-01T00:00:00\",\"2023-11-01T00:00:00\",\"2024-05-01T00:00:00\",\"2024-10-01T00:00:00\",\"2024-08-01T00:00:00\",\"2024-04-01T00:00:00\",\"2024-10-01T00:00:00\",\"2025-04-01T00:00:00\",\"2024-06-01T00:00:00\",\"2023-12-01T00:00:00\",\"2023-12-01T00:00:00\",\"2023-12-01T00:00:00\",\"2023-10-01T00:00:00\",\"2024-07-01T00:00:00\",\"2024-04-01T00:00:00\",\"2025-02-01T00:00:00\",\"2024-08-01T00:00:00\",\"2024-01-01T00:00:00\",\"2024-11-01T00:00:00\",\"2024-12-01T00:00:00\",\"2024-04-01T00:00:00\",\"2023-11-01T00:00:00\",\"2024-04-01T00:00:00\",\"2024-03-01T00:00:00\",\"2023-12-01T00:00:00\",\"2024-04-01T00:00:00\",\"2024-03-01T00:00:00\",\"2025-02-01T00:00:00\",\"2023-06-01T00:00:00\",\"2024-07-01T00:00:00\",\"2024-09-01T00:00:00\",\"2024-12-01T00:00:00\",\"2024-08-01T00:00:00\",\"2025-01-01T00:00:00\",\"2023-07-01T00:00:00\",\"2024-11-01T00:00:00\",\"2024-08-01T00:00:00\",\"2024-08-01T00:00:00\",\"2024-12-01T00:00:00\",\"2024-03-01T00:00:00\",\"2023-07-01T00:00:00\",\"2023-12-01T00:00:00\",\"2023-05-01T00:00:00\",\"2023-12-01T00:00:00\",\"2023-05-01T00:00:00\",\"2024-03-01T00:00:00\",\"2023-12-01T00:00:00\",\"2023-06-01T00:00:00\",\"2024-02-01T00:00:00\",\"2024-05-01T00:00:00\",\"2023-08-01T00:00:00\",\"2024-06-01T00:00:00\",\"2023-12-01T00:00:00\",\"2023-12-01T00:00:00\",\"2024-03-01T00:00:00\",\"2024-02-01T00:00:00\",\"2024-08-01T00:00:00\",\"2024-08-01T00:00:00\",\"2024-05-01T00:00:00\",\"2024-01-01T00:00:00\",\"2023-09-01T00:00:00\",\"2023-11-01T00:00:00\",\"2023-11-01T00:00:00\",\"2024-06-01T00:00:00\",\"2023-04-01T00:00:00\",\"2024-10-01T00:00:00\",\"2024-01-01T00:00:00\",\"2023-10-01T00:00:00\",\"2023-06-01T00:00:00\",\"2024-11-01T00:00:00\",\"2023-12-01T00:00:00\",\"2023-12-01T00:00:00\",\"2024-07-01T00:00:00\",\"2023-06-01T00:00:00\",\"2023-09-01T00:00:00\",\"2024-08-01T00:00:00\",\"2024-01-01T00:00:00\",\"2024-09-01T00:00:00\",\"2025-01-01T00:00:00\",\"2024-02-01T00:00:00\",\"2024-03-01T00:00:00\",\"2024-09-01T00:00:00\",\"2023-08-01T00:00:00\",\"2025-04-01T00:00:00\",\"2024-10-01T00:00:00\",\"2024-05-01T00:00:00\",\"2024-07-01T00:00:00\",\"2024-02-01T00:00:00\",\"2023-04-01T00:00:00\",\"2023-04-01T00:00:00\",\"2024-07-01T00:00:00\",\"2024-06-01T00:00:00\",\"2024-03-01T00:00:00\",\"2024-03-01T00:00:00\",\"2025-02-01T00:00:00\",\"2024-06-01T00:00:00\",\"2024-05-01T00:00:00\",\"2024-11-01T00:00:00\",\"2024-04-01T00:00:00\",\"2024-02-01T00:00:00\",\"2024-04-01T00:00:00\",\"2025-01-01T00:00:00\",\"2023-09-01T00:00:00\",\"2024-02-01T00:00:00\",\"2024-10-01T00:00:00\",\"2023-09-01T00:00:00\",\"2024-11-01T00:00:00\",\"2024-10-01T00:00:00\",\"2023-07-01T00:00:00\",\"2025-03-01T00:00:00\",\"2023-07-01T00:00:00\",\"2024-06-01T00:00:00\",\"2024-07-01T00:00:00\",\"2024-03-01T00:00:00\",\"2023-07-01T00:00:00\",\"2024-10-01T00:00:00\",\"2023-11-01T00:00:00\",\"2024-06-01T00:00:00\",\"2024-04-01T00:00:00\",\"2024-06-01T00:00:00\",\"2024-10-01T00:00:00\",\"2024-03-01T00:00:00\",\"2024-07-01T00:00:00\",\"2025-02-01T00:00:00\",\"2024-12-01T00:00:00\",\"2025-01-01T00:00:00\",\"2024-09-01T00:00:00\",\"2024-04-01T00:00:00\",\"2024-10-01T00:00:00\",\"2024-08-01T00:00:00\",\"2024-06-01T00:00:00\",\"2024-02-01T00:00:00\",\"2024-09-01T00:00:00\",\"2024-03-01T00:00:00\",\"2023-12-01T00:00:00\",\"2024-06-01T00:00:00\",\"2023-08-01T00:00:00\",\"2024-01-01T00:00:00\",\"2023-11-01T00:00:00\",\"2024-11-01T00:00:00\",\"2024-01-01T00:00:00\",\"2024-05-01T00:00:00\",\"2024-06-01T00:00:00\",\"2023-10-01T00:00:00\",\"2023-09-01T00:00:00\",\"2023-09-01T00:00:00\",\"2024-04-01T00:00:00\",\"2023-05-01T00:00:00\",\"2023-09-01T00:00:00\",\"2025-01-01T00:00:00\",\"2024-01-01T00:00:00\",\"2024-04-01T00:00:00\",\"2024-12-01T00:00:00\",\"2023-05-01T00:00:00\",\"2025-02-01T00:00:00\",\"2024-06-01T00:00:00\",\"2024-09-01T00:00:00\",\"2023-10-01T00:00:00\",\"2023-12-01T00:00:00\",\"2023-12-01T00:00:00\",\"2024-07-01T00:00:00\",\"2024-07-01T00:00:00\",\"2025-02-01T00:00:00\",\"2024-01-01T00:00:00\",\"2024-09-01T00:00:00\",\"2024-09-01T00:00:00\",\"2024-02-01T00:00:00\",\"2024-06-01T00:00:00\",\"2023-11-01T00:00:00\",\"2023-10-01T00:00:00\",\"2024-01-01T00:00:00\",\"2024-12-01T00:00:00\",\"2024-05-01T00:00:00\",\"2024-07-01T00:00:00\",\"2024-08-01T00:00:00\",\"2024-03-01T00:00:00\",\"2024-09-01T00:00:00\",\"2025-01-01T00:00:00\",\"2023-12-01T00:00:00\",\"2024-07-01T00:00:00\",\"2025-05-01T00:00:00\",\"2023-12-01T00:00:00\",\"2023-09-01T00:00:00\",\"2024-06-01T00:00:00\",\"2023-10-01T00:00:00\",\"2023-11-01T00:00:00\",\"2023-08-01T00:00:00\",\"2024-05-01T00:00:00\",\"2025-02-01T00:00:00\",\"2024-07-01T00:00:00\",\"2024-03-01T00:00:00\",\"2024-10-01T00:00:00\",\"2024-09-01T00:00:00\",\"2024-01-01T00:00:00\",\"2025-03-01T00:00:00\",\"2023-11-01T00:00:00\",\"2024-05-01T00:00:00\",\"2024-06-01T00:00:00\",\"2024-11-01T00:00:00\",\"2024-10-01T00:00:00\",\"2024-04-01T00:00:00\",\"2024-10-01T00:00:00\",\"2025-03-01T00:00:00\",\"2024-02-01T00:00:00\",\"2024-08-01T00:00:00\",\"2024-03-01T00:00:00\",\"2024-09-01T00:00:00\",\"2024-05-01T00:00:00\",\"2024-04-01T00:00:00\",\"2025-03-01T00:00:00\",\"2023-11-01T00:00:00\",\"2023-10-01T00:00:00\",\"2024-06-01T00:00:00\",\"2024-07-01T00:00:00\",\"2024-12-01T00:00:00\",\"2024-02-01T00:00:00\",\"2023-06-01T00:00:00\",\"2023-08-01T00:00:00\",\"2024-01-01T00:00:00\",\"2023-09-01T00:00:00\",\"2024-07-01T00:00:00\",\"2023-06-01T00:00:00\",\"2024-02-01T00:00:00\",\"2023-12-01T00:00:00\",\"2025-03-01T00:00:00\",\"2023-09-01T00:00:00\",\"2023-11-01T00:00:00\",\"2023-10-01T00:00:00\",\"2025-04-01T00:00:00\",\"2024-06-01T00:00:00\",\"2025-05-01T00:00:00\",\"2023-08-01T00:00:00\",\"2024-06-01T00:00:00\",\"2024-05-01T00:00:00\",\"2024-01-01T00:00:00\",\"2024-02-01T00:00:00\",\"2023-11-01T00:00:00\",\"2023-11-01T00:00:00\",\"2023-07-01T00:00:00\",\"2024-04-01T00:00:00\",\"2024-11-01T00:00:00\",\"2024-08-01T00:00:00\",\"2024-06-01T00:00:00\",\"2024-10-01T00:00:00\",\"2024-02-01T00:00:00\",\"2024-11-01T00:00:00\",\"2025-05-01T00:00:00\",\"2024-11-01T00:00:00\",\"2025-03-01T00:00:00\",\"2024-01-01T00:00:00\",\"2023-11-01T00:00:00\",\"2023-09-01T00:00:00\",\"2024-03-01T00:00:00\",\"2023-11-01T00:00:00\",\"2024-09-01T00:00:00\",\"2024-08-01T00:00:00\",\"2024-04-01T00:00:00\",\"2023-10-01T00:00:00\",\"2024-05-01T00:00:00\",\"2024-12-01T00:00:00\",\"2023-11-01T00:00:00\",\"2023-09-01T00:00:00\",\"2023-07-01T00:00:00\",\"2023-12-01T00:00:00\",\"2024-06-01T00:00:00\",\"2023-12-01T00:00:00\",\"2024-02-01T00:00:00\",\"2024-08-01T00:00:00\",\"2023-11-01T00:00:00\",\"2024-03-01T00:00:00\",\"2025-03-01T00:00:00\",\"2023-08-01T00:00:00\",\"2024-04-01T00:00:00\",\"2024-06-01T00:00:00\",\"2024-12-01T00:00:00\",\"2024-10-01T00:00:00\",\"2023-11-01T00:00:00\",\"2025-02-01T00:00:00\",\"2025-01-01T00:00:00\",\"2024-03-01T00:00:00\",\"2024-08-01T00:00:00\",\"2024-06-01T00:00:00\",\"2023-12-01T00:00:00\",\"2024-03-01T00:00:00\",\"2024-04-01T00:00:00\",\"2024-12-01T00:00:00\",\"2024-09-01T00:00:00\",\"2024-02-01T00:00:00\",\"2024-05-01T00:00:00\",\"2023-11-01T00:00:00\",\"2024-06-01T00:00:00\",\"2023-12-01T00:00:00\",\"2024-10-01T00:00:00\",\"2024-07-01T00:00:00\",\"2024-02-01T00:00:00\",\"2024-03-01T00:00:00\",\"2024-10-01T00:00:00\"],\"xaxis\":\"x5\",\"y\":[109168.11356493768,148124.43203224314,112705.00454252091,97601.86889689958,107808.5294724332,93248.55606626971,123480.7825976935,101190.76429060432,76230.40150425154,133665.7712494704,118936.56269624498,112456.55429674462,149047.0858098205,102592.1616283957,97601.86889689958,102592.1616283957,112705.00454252091,93812.99966451291,101190.76429060432,101190.76429060432,124668.6531185944,149047.0858098205,93248.55606626971,101190.76429060432,148124.43203224314,93470.10305971424,93812.99966451291,112705.00454252091,102592.1616283957,93248.55606626971,93812.99966451291,102592.1616283957,107808.5294724332,149047.0858098205,109168.11356493768,123480.7825976935,133665.7712494704,140344.72474667328,126131.95682091042,125293.49995637158,112705.00454252091,135985.65200711286,148124.43203224314,133665.7712494704,148124.43203224314,125293.49995637158,123480.7825976935,112456.55429674462,112456.55429674462,101190.76429060432,107808.5294724332,112705.00454252091,149047.0858098205,126131.95682091042,140344.72474667328,101190.76429060432,97601.86889689958,149047.0858098205,135985.65200711286,133665.7712494704,97601.86889689958,148124.43203224314,93248.55606626971,109168.11356493768,133665.7712494704,135985.65200711286,97601.86889689958,149047.0858098205,148124.43203224314,126131.95682091042,133665.7712494704,109168.11356493768,112705.00454252091,102592.1616283957,124668.6531185944,97601.86889689958,124668.6531185944,112456.55429674462,148124.43203224314,93305.41195705684,112456.55429674462,81601.5562331571,140344.72474667328,118936.56269624498,137645.1147542079,123480.7825976935,137645.1147542079,125293.49995637158,135985.65200711286,123480.7825976935,118936.56269624498,123480.7825976935,149047.0858098205,76230.40150425154,134531.28840181913,118936.56269624498,137645.1147542079,107808.5294724332,97601.86889689958,110470.58135304652,137645.1147542079,126131.95682091042,151426.49199853317,149047.0858098205,140344.72474667328,112705.00454252091,133665.7712494704,140344.72474667328,93812.99966451291,107808.5294724332,109168.11356493768,102592.1616283957,93248.55606626971,140344.72474667328,137645.1147542079,118936.56269624498,109168.11356493768,97601.86889689958,124668.6531185944,97601.86889689958,135985.65200711286,148124.43203224314,97601.86889689958,125293.49995637158,126131.95682091042,118936.56269624498,110470.58135304652,140344.72474667328,125293.49995637158,140344.72474667328,102592.1616283957,101190.76429060432,133665.7712494704,112456.55429674462,97601.86889689958,93248.55606626971,112456.55429674462,124668.6531185944,101190.76429060432,76230.40150425154,112705.00454252091,110470.58135304652,112705.00454252091,112456.55429674462,93248.55606626971,101190.76429060432,102592.1616283957,151426.49199853317,149047.0858098205,149047.0858098205,133665.7712494704,135985.65200711286,112456.55429674462,93248.55606626971,76230.40150425154,135985.65200711286,93248.55606626971,140344.72474667328,81601.5562331571,137645.1147542079,135924.4680010032,101190.76429060432,126131.95682091042,112705.00454252091,125293.49995637158,135985.65200711286,149047.0858098205,93248.55606626971,109168.11356493768,123480.7825976935,93470.10305971424,151426.49199853317,149047.0858098205,123480.7825976935,112456.55429674462,112705.00454252091,148124.43203224314,137645.1147542079,101190.76429060432,148124.43203224314,110470.58135304652,135985.65200711286,140344.72474667328,102592.1616283957,137645.1147542079,97601.86889689958,148124.43203224314,126131.95682091042,93248.55606626971,135985.65200711286,133665.7712494704,90744.3702810209,110470.58135304652,107808.5294724332,101190.76429060432,109168.11356493768,135985.65200711286,109168.11356493768,149047.0858098205,148124.43203224314,102592.1616283957,102592.1616283957,135985.65200711286,118936.56269624498,107808.5294724332,97601.86889689958,135985.65200711286,135985.65200711286,133665.7712494704,101190.76429060432,135985.65200711286,107808.5294724332,149047.0858098205,123480.7825976935,101190.76429060432,81601.5562331571,93812.99966451291,112456.55429674462,97601.86889689958,93248.55606626971,101190.76429060432,110470.58135304652,140344.72474667328,93812.99966451291,118936.56269624498,148124.43203224314,148124.43203224314,109168.11356493768,140344.72474667328,123480.7825976935,107808.5294724332,148124.43203224314,140344.72474667328,93470.10305971424,118936.56269624498,107808.5294724332,101190.76429060432,149047.0858098205,125293.49995637158,102592.1616283957,93248.55606626971,97601.86889689958,135924.4680010032,137645.1147542079,148124.43203224314,101190.76429060432,110470.58135304652,93812.99966451291,107808.5294724332,137645.1147542079,112705.00454252091,97601.86889689958,125293.49995637158,93248.55606626971,148124.43203224314,137645.1147542079,118936.56269624498,102592.1616283957,112456.55429674462,133665.7712494704,135985.65200711286,140344.72474667328,110470.58135304652,97601.86889689958,109168.11356493768,101190.76429060432,151426.49199853317,97601.86889689958,93248.55606626971,149047.0858098205,112705.00454252091,97601.86889689958,148124.43203224314,125293.49995637158,101190.76429060432,110470.58135304652,97601.86889689958,135924.4680010032,102592.1616283957,107808.5294724332,110470.58135304652,149047.0858098205,102592.1616283957,76230.40150425154,93248.55606626971,124668.6531185944,112456.55429674462,112705.00454252091,101190.76429060432,133665.7712494704,112705.00454252091,109168.11356493768,102592.1616283957,97601.86889689958,93248.55606626971,112705.00454252091,102592.1616283957,140344.72474667328,135985.65200711286,133665.7712494704,133665.7712494704,110470.58135304652,126131.95682091042,81601.5562331571,133665.7712494704,149047.0858098205,101190.76429060432,126131.95682091042,135985.65200711286,102592.1616283957,125293.49995637158,123480.7825976935,148124.43203224314,112705.00454252091,110470.58135304652,101190.76429060432,93248.55606626971,112456.55429674462,93248.55606626971,101190.76429060432,140344.72474667328,110470.58135304652,101190.76429060432,107808.5294724332,133665.7712494704,137645.1147542079,102592.1616283957,125293.49995637158,112705.00454252091,97601.86889689958,109168.11356493768,93248.55606626971,102592.1616283957,135924.4680010032,112456.55429674462,135924.4680010032,112456.55429674462,93248.55606626971,101190.76429060432,112705.00454252091,112705.00454252091,97601.86889689958,118936.56269624498,97601.86889689958,149047.0858098205,109168.11356493768,110470.58135304652,135985.65200711286,148124.43203224314,137645.1147542079,112456.55429674462,124668.6531185944,125293.49995637158,123480.7825976935,93248.55606626971,133665.7712494704,126131.95682091042,118936.56269624498,101190.76429060432,135985.65200711286,135985.65200711286,126131.95682091042,124668.6531185944,126131.95682091042,76230.40150425154,149047.0858098205,112456.55429674462,109168.11356493768,151426.49199853317,110470.58135304652,126131.95682091042,109168.11356493768,93248.55606626971,93812.99966451291,149047.0858098205,102592.1616283957,135985.65200711286,97601.86889689958,112705.00454252091,107808.5294724332,137645.1147542079,135985.65200711286,112705.00454252091,125293.49995637158,118936.56269624498,149047.0858098205,76230.40150425154,118936.56269624498,126131.95682091042,90744.3702810209,118936.56269624498,102592.1616283957,112456.55429674462,126131.95682091042,149047.0858098205,112456.55429674462,97601.86889689958,118936.56269624498,148124.43203224314,107808.5294724332,148124.43203224314,93812.99966451291,126131.95682091042,107808.5294724332,109168.11356493768,109168.11356493768,107808.5294724332,101190.76429060432,140344.72474667328,148124.43203224314,102592.1616283957,140344.72474667328,135924.4680010032,118936.56269624498,109168.11356493768,109168.11356493768,109168.11356493768,112705.00454252091,149047.0858098205,102592.1616283957,124668.6531185944,148124.43203224314,97601.86889689958,133665.7712494704,137645.1147542079,102592.1616283957,107808.5294724332,102592.1616283957,112456.55429674462,109168.11356493768,102592.1616283957,112456.55429674462,124668.6531185944,93812.99966451291,149047.0858098205,135985.65200711286,137645.1147542079,148124.43203224314,125293.49995637158,123480.7825976935,133665.7712494704,148124.43203224314,148124.43203224314,137645.1147542079,112456.55429674462,123480.7825976935,109168.11356493768,76230.40150425154,109168.11356493768,76230.40150425154,112456.55429674462,109168.11356493768,93812.99966451291,93248.55606626971,101190.76429060432,126131.95682091042,118936.56269624498,109168.11356493768,109168.11356493768,112456.55429674462,93248.55606626971,148124.43203224314,148124.43203224314,101190.76429060432,97601.86889689958,110470.58135304652,107808.5294724332,107808.5294724332,118936.56269624498,81601.5562331571,140344.72474667328,97601.86889689958,112705.00454252091,93812.99966451291,133665.7712494704,109168.11356493768,109168.11356493768,149047.0858098205,93812.99966451291,110470.58135304652,148124.43203224314,97601.86889689958,135985.65200711286,125293.49995637158,93248.55606626971,112456.55429674462,135985.65200711286,126131.95682091042,135924.4680010032,140344.72474667328,101190.76429060432,149047.0858098205,93248.55606626971,81601.5562331571,81601.5562331571,149047.0858098205,118936.56269624498,112456.55429674462,112456.55429674462,124668.6531185944,118936.56269624498,101190.76429060432,133665.7712494704,102592.1616283957,93248.55606626971,102592.1616283957,125293.49995637158,110470.58135304652,93248.55606626971,140344.72474667328,110470.58135304652,133665.7712494704,140344.72474667328,123480.7825976935,151426.49199853317,123480.7825976935,118936.56269624498,149047.0858098205,112456.55429674462,123480.7825976935,140344.72474667328,107808.5294724332,118936.56269624498,102592.1616283957,118936.56269624498,140344.72474667328,112456.55429674462,149047.0858098205,124668.6531185944,137645.1147542079,125293.49995637158,135985.65200711286,102592.1616283957,140344.72474667328,148124.43203224314,118936.56269624498,93248.55606626971,135985.65200711286,112456.55429674462,109168.11356493768,118936.56269624498,126131.95682091042,97601.86889689958,107808.5294724332,133665.7712494704,97601.86889689958,101190.76429060432,118936.56269624498,112705.00454252091,110470.58135304652,110470.58135304652,102592.1616283957,76230.40150425154,110470.58135304652,125293.49995637158,97601.86889689958,102592.1616283957,137645.1147542079,76230.40150425154,124668.6531185944,118936.56269624498,135985.65200711286,112705.00454252091,109168.11356493768,109168.11356493768,149047.0858098205,149047.0858098205,124668.6531185944,97601.86889689958,135985.65200711286,135985.65200711286,93248.55606626971,118936.56269624498,107808.5294724332,112705.00454252091,97601.86889689958,137645.1147542079,101190.76429060432,149047.0858098205,148124.43203224314,112456.55429674462,135985.65200711286,125293.49995637158,109168.11356493768,149047.0858098205,134531.28840181913,109168.11356493768,110470.58135304652,118936.56269624498,112705.00454252091,107808.5294724332,126131.95682091042,101190.76429060432,124668.6531185944,149047.0858098205,112456.55429674462,140344.72474667328,135985.65200711286,97601.86889689958,151426.49199853317,107808.5294724332,101190.76429060432,118936.56269624498,133665.7712494704,140344.72474667328,102592.1616283957,140344.72474667328,151426.49199853317,93248.55606626971,148124.43203224314,112456.55429674462,135985.65200711286,101190.76429060432,102592.1616283957,151426.49199853317,107808.5294724332,112705.00454252091,118936.56269624498,149047.0858098205,137645.1147542079,93248.55606626971,93812.99966451291,126131.95682091042,97601.86889689958,110470.58135304652,149047.0858098205,93812.99966451291,93248.55606626971,109168.11356493768,151426.49199853317,110470.58135304652,107808.5294724332,112705.00454252091,135924.4680010032,118936.56269624498,134531.28840181913,126131.95682091042,118936.56269624498,101190.76429060432,97601.86889689958,93248.55606626971,107808.5294724332,107808.5294724332,123480.7825976935,102592.1616283957,133665.7712494704,148124.43203224314,118936.56269624498,140344.72474667328,93248.55606626971,133665.7712494704,134531.28840181913,133665.7712494704,151426.49199853317,97601.86889689958,107808.5294724332,110470.58135304652,112456.55429674462,107808.5294724332,135985.65200711286,148124.43203224314,102592.1616283957,112705.00454252091,101190.76429060432,137645.1147542079,107808.5294724332,110470.58135304652,123480.7825976935,109168.11356493768,118936.56269624498,109168.11356493768,93248.55606626971,148124.43203224314,107808.5294724332,112456.55429674462,151426.49199853317,126131.95682091042,102592.1616283957,118936.56269624498,137645.1147542079,140344.72474667328,107808.5294724332,124668.6531185944,125293.49995637158,112456.55429674462,148124.43203224314,118936.56269624498,109168.11356493768,112456.55429674462,102592.1616283957,137645.1147542079,135985.65200711286,93248.55606626971,101190.76429060432,107808.5294724332,118936.56269624498,109168.11356493768,140344.72474667328,149047.0858098205,93248.55606626971,112456.55429674462,140344.72474667328],\"yaxis\":\"y5\",\"type\":\"scattergl\"},{\"hovertemplate\":\"Tipo de Valor=AI_forecast\\u003cbr\\u003eSUBBRAND=Pepsi Regular (L3)\\u003cbr\\u003eFecha=%{x}\\u003cbr\\u003eVentas=%{y}\\u003cextra\\u003e\\u003c\\u002fextra\\u003e\",\"legendgroup\":\"AI_forecast\",\"marker\":{\"color\":\"#636efa\",\"symbol\":\"circle\"},\"mode\":\"markers\",\"name\":\"AI_forecast\",\"showlegend\":false,\"x\":[\"2023-12-01T00:00:00\",\"2024-01-01T00:00:00\",\"2023-08-01T00:00:00\",\"2025-02-01T00:00:00\",\"2024-08-01T00:00:00\",\"2024-06-01T00:00:00\",\"2024-06-01T00:00:00\",\"2024-09-01T00:00:00\",\"2024-06-01T00:00:00\",\"2024-11-01T00:00:00\",\"2023-08-01T00:00:00\",\"2023-06-01T00:00:00\",\"2024-12-01T00:00:00\",\"2023-12-01T00:00:00\",\"2024-09-01T00:00:00\",\"2024-08-01T00:00:00\",\"2024-02-01T00:00:00\",\"2023-08-01T00:00:00\",\"2024-04-01T00:00:00\",\"2024-10-01T00:00:00\",\"2024-05-01T00:00:00\",\"2025-01-01T00:00:00\",\"2024-04-01T00:00:00\",\"2024-05-01T00:00:00\",\"2024-01-01T00:00:00\",\"2024-12-01T00:00:00\",\"2025-04-01T00:00:00\",\"2024-04-01T00:00:00\",\"2024-02-01T00:00:00\",\"2023-09-01T00:00:00\",\"2023-12-01T00:00:00\",\"2025-03-01T00:00:00\",\"2024-07-01T00:00:00\",\"2024-07-01T00:00:00\",\"2023-11-01T00:00:00\",\"2024-11-01T00:00:00\",\"2024-07-01T00:00:00\",\"2025-01-01T00:00:00\",\"2023-09-01T00:00:00\",\"2023-11-01T00:00:00\",\"2024-09-01T00:00:00\",\"2023-12-01T00:00:00\",\"2024-06-01T00:00:00\",\"2024-01-01T00:00:00\",\"2024-11-01T00:00:00\",\"2023-10-01T00:00:00\",\"2024-08-01T00:00:00\",\"2024-04-01T00:00:00\",\"2024-01-01T00:00:00\",\"2023-11-01T00:00:00\",\"2024-10-01T00:00:00\",\"2023-07-01T00:00:00\",\"2023-12-01T00:00:00\",\"2023-07-01T00:00:00\",\"2024-08-01T00:00:00\",\"2025-01-01T00:00:00\",\"2024-03-01T00:00:00\",\"2024-01-01T00:00:00\",\"2024-02-01T00:00:00\",\"2024-10-01T00:00:00\",\"2024-04-01T00:00:00\",\"2023-09-01T00:00:00\",\"2025-03-01T00:00:00\",\"2024-02-01T00:00:00\",\"2024-04-01T00:00:00\",\"2024-02-01T00:00:00\",\"2024-08-01T00:00:00\",\"2024-04-01T00:00:00\",\"2024-01-01T00:00:00\",\"2025-03-01T00:00:00\",\"2025-05-01T00:00:00\",\"2023-06-01T00:00:00\",\"2025-01-01T00:00:00\",\"2024-12-01T00:00:00\",\"2023-06-01T00:00:00\",\"2023-11-01T00:00:00\",\"2024-04-01T00:00:00\",\"2024-10-01T00:00:00\",\"2024-09-01T00:00:00\",\"2023-11-01T00:00:00\",\"2025-04-01T00:00:00\",\"2024-10-01T00:00:00\",\"2024-06-01T00:00:00\",\"2024-07-01T00:00:00\",\"2023-02-01T00:00:00\",\"2023-05-01T00:00:00\",\"2024-03-01T00:00:00\",\"2024-02-01T00:00:00\",\"2024-04-01T00:00:00\",\"2023-10-01T00:00:00\",\"2023-12-01T00:00:00\",\"2024-12-01T00:00:00\",\"2023-12-01T00:00:00\",\"2024-03-01T00:00:00\",\"2024-02-01T00:00:00\",\"2024-02-01T00:00:00\",\"2025-03-01T00:00:00\",\"2024-07-01T00:00:00\",\"2024-06-01T00:00:00\",\"2023-03-01T00:00:00\",\"2024-11-01T00:00:00\",\"2025-04-01T00:00:00\",\"2025-04-01T00:00:00\",\"2023-08-01T00:00:00\",\"2024-08-01T00:00:00\",\"2023-09-01T00:00:00\",\"2024-12-01T00:00:00\",\"2023-12-01T00:00:00\",\"2024-06-01T00:00:00\",\"2024-06-01T00:00:00\",\"2023-09-01T00:00:00\",\"2024-03-01T00:00:00\",\"2023-09-01T00:00:00\",\"2024-10-01T00:00:00\",\"2024-12-01T00:00:00\",\"2023-10-01T00:00:00\",\"2023-07-01T00:00:00\",\"2024-02-01T00:00:00\",\"2024-03-01T00:00:00\",\"2024-10-01T00:00:00\",\"2025-02-01T00:00:00\",\"2024-08-01T00:00:00\",\"2024-11-01T00:00:00\",\"2024-09-01T00:00:00\",\"2024-02-01T00:00:00\",\"2025-01-01T00:00:00\",\"2023-09-01T00:00:00\",\"2024-11-01T00:00:00\",\"2024-08-01T00:00:00\",\"2023-12-01T00:00:00\",\"2024-03-01T00:00:00\",\"2023-04-01T00:00:00\",\"2024-09-01T00:00:00\",\"2025-01-01T00:00:00\",\"2024-10-01T00:00:00\",\"2024-04-01T00:00:00\",\"2023-09-01T00:00:00\",\"2023-08-01T00:00:00\",\"2023-11-01T00:00:00\",\"2025-02-01T00:00:00\",\"2023-12-01T00:00:00\",\"2024-10-01T00:00:00\",\"2024-09-01T00:00:00\",\"2024-05-01T00:00:00\",\"2024-03-01T00:00:00\",\"2024-07-01T00:00:00\",\"2025-02-01T00:00:00\",\"2024-11-01T00:00:00\",\"2024-05-01T00:00:00\",\"2024-05-01T00:00:00\",\"2024-07-01T00:00:00\",\"2024-12-01T00:00:00\",\"2024-01-01T00:00:00\",\"2024-08-01T00:00:00\",\"2024-10-01T00:00:00\",\"2024-09-01T00:00:00\",\"2024-05-01T00:00:00\",\"2024-03-01T00:00:00\",\"2025-03-01T00:00:00\",\"2024-06-01T00:00:00\",\"2025-03-01T00:00:00\",\"2024-07-01T00:00:00\",\"2023-07-01T00:00:00\",\"2024-11-01T00:00:00\",\"2024-05-01T00:00:00\",\"2024-07-01T00:00:00\",\"2024-05-01T00:00:00\",\"2024-06-01T00:00:00\",\"2023-08-01T00:00:00\",\"2024-02-01T00:00:00\",\"2023-11-01T00:00:00\",\"2024-07-01T00:00:00\",\"2023-09-01T00:00:00\",\"2024-03-01T00:00:00\",\"2024-10-01T00:00:00\",\"2024-04-01T00:00:00\",\"2023-01-01T00:00:00\",\"2024-01-01T00:00:00\",\"2024-01-01T00:00:00\",\"2025-02-01T00:00:00\",\"2024-08-01T00:00:00\",\"2024-05-01T00:00:00\",\"2023-10-01T00:00:00\",\"2024-06-01T00:00:00\",\"2024-07-01T00:00:00\",\"2023-05-01T00:00:00\",\"2024-08-01T00:00:00\",\"2023-12-01T00:00:00\",\"2024-06-01T00:00:00\",\"2024-07-01T00:00:00\",\"2023-11-01T00:00:00\",\"2024-08-01T00:00:00\",\"2023-10-01T00:00:00\",\"2025-02-01T00:00:00\",\"2024-05-01T00:00:00\",\"2023-10-01T00:00:00\",\"2023-11-01T00:00:00\",\"2023-06-01T00:00:00\",\"2023-11-01T00:00:00\",\"2024-04-01T00:00:00\",\"2024-02-01T00:00:00\",\"2024-07-01T00:00:00\",\"2025-04-01T00:00:00\",\"2024-12-01T00:00:00\",\"2024-06-01T00:00:00\",\"2023-08-01T00:00:00\",\"2024-06-01T00:00:00\",\"2024-04-01T00:00:00\",\"2024-03-01T00:00:00\",\"2025-02-01T00:00:00\",\"2023-11-01T00:00:00\",\"2023-06-01T00:00:00\",\"2024-08-01T00:00:00\",\"2024-01-01T00:00:00\",\"2023-07-01T00:00:00\",\"2024-06-01T00:00:00\",\"2024-06-01T00:00:00\",\"2024-09-01T00:00:00\",\"2024-09-01T00:00:00\",\"2023-11-01T00:00:00\",\"2024-02-01T00:00:00\",\"2024-08-01T00:00:00\",\"2024-09-01T00:00:00\",\"2023-11-01T00:00:00\",\"2024-08-01T00:00:00\",\"2023-06-01T00:00:00\",\"2024-12-01T00:00:00\",\"2024-06-01T00:00:00\",\"2023-12-01T00:00:00\",\"2023-06-01T00:00:00\",\"2024-05-01T00:00:00\",\"2023-08-01T00:00:00\",\"2023-08-01T00:00:00\",\"2024-05-01T00:00:00\",\"2024-07-01T00:00:00\",\"2024-05-01T00:00:00\",\"2024-01-01T00:00:00\",\"2024-11-01T00:00:00\",\"2024-06-01T00:00:00\",\"2024-08-01T00:00:00\",\"2023-10-01T00:00:00\",\"2023-10-01T00:00:00\",\"2023-12-01T00:00:00\",\"2024-09-01T00:00:00\",\"2025-02-01T00:00:00\",\"2024-04-01T00:00:00\",\"2023-11-01T00:00:00\",\"2024-09-01T00:00:00\",\"2025-05-01T00:00:00\",\"2024-05-01T00:00:00\",\"2023-11-01T00:00:00\",\"2024-04-01T00:00:00\",\"2024-06-01T00:00:00\",\"2023-02-01T00:00:00\",\"2024-10-01T00:00:00\",\"2023-12-01T00:00:00\",\"2024-09-01T00:00:00\",\"2024-06-01T00:00:00\",\"2023-12-01T00:00:00\",\"2023-11-01T00:00:00\",\"2023-09-01T00:00:00\",\"2024-05-01T00:00:00\",\"2024-11-01T00:00:00\",\"2023-12-01T00:00:00\",\"2024-09-01T00:00:00\",\"2023-07-01T00:00:00\",\"2024-01-01T00:00:00\",\"2024-07-01T00:00:00\",\"2024-09-01T00:00:00\",\"2023-12-01T00:00:00\",\"2024-04-01T00:00:00\",\"2024-10-01T00:00:00\",\"2024-11-01T00:00:00\",\"2024-07-01T00:00:00\",\"2024-02-01T00:00:00\",\"2024-06-01T00:00:00\",\"2024-07-01T00:00:00\",\"2024-01-01T00:00:00\",\"2024-02-01T00:00:00\",\"2024-05-01T00:00:00\",\"2024-06-01T00:00:00\",\"2025-01-01T00:00:00\",\"2023-11-01T00:00:00\",\"2024-10-01T00:00:00\",\"2024-05-01T00:00:00\",\"2023-12-01T00:00:00\",\"2024-02-01T00:00:00\",\"2024-10-01T00:00:00\",\"2024-09-01T00:00:00\",\"2023-11-01T00:00:00\",\"2024-08-01T00:00:00\",\"2024-10-01T00:00:00\",\"2024-02-01T00:00:00\",\"2024-12-01T00:00:00\",\"2024-02-01T00:00:00\",\"2024-02-01T00:00:00\",\"2023-12-01T00:00:00\",\"2023-10-01T00:00:00\",\"2023-10-01T00:00:00\",\"2024-02-01T00:00:00\",\"2024-01-01T00:00:00\",\"2025-03-01T00:00:00\",\"2025-02-01T00:00:00\",\"2024-03-01T00:00:00\",\"2024-07-01T00:00:00\",\"2025-02-01T00:00:00\",\"2024-12-01T00:00:00\",\"2024-03-01T00:00:00\",\"2024-03-01T00:00:00\",\"2023-11-01T00:00:00\",\"2025-02-01T00:00:00\",\"2024-04-01T00:00:00\",\"2024-11-01T00:00:00\",\"2024-11-01T00:00:00\",\"2024-09-01T00:00:00\",\"2024-07-01T00:00:00\",\"2024-08-01T00:00:00\",\"2023-09-01T00:00:00\",\"2024-04-01T00:00:00\",\"2024-04-01T00:00:00\",\"2024-09-01T00:00:00\",\"2023-10-01T00:00:00\",\"2023-09-01T00:00:00\",\"2024-12-01T00:00:00\",\"2024-02-01T00:00:00\",\"2024-04-01T00:00:00\",\"2024-04-01T00:00:00\",\"2023-06-01T00:00:00\",\"2024-05-01T00:00:00\",\"2024-05-01T00:00:00\",\"2024-06-01T00:00:00\",\"2023-08-01T00:00:00\",\"2023-12-01T00:00:00\",\"2025-01-01T00:00:00\",\"2025-01-01T00:00:00\",\"2023-04-01T00:00:00\",\"2024-05-01T00:00:00\",\"2023-07-01T00:00:00\",\"2025-05-01T00:00:00\",\"2023-11-01T00:00:00\",\"2024-11-01T00:00:00\",\"2024-04-01T00:00:00\",\"2024-05-01T00:00:00\",\"2023-06-01T00:00:00\",\"2023-09-01T00:00:00\",\"2023-11-01T00:00:00\",\"2024-08-01T00:00:00\",\"2024-09-01T00:00:00\",\"2024-02-01T00:00:00\",\"2024-03-01T00:00:00\",\"2024-04-01T00:00:00\",\"2023-08-01T00:00:00\",\"2023-09-01T00:00:00\",\"2024-01-01T00:00:00\",\"2023-10-01T00:00:00\",\"2023-10-01T00:00:00\",\"2024-08-01T00:00:00\",\"2024-10-01T00:00:00\",\"2023-09-01T00:00:00\",\"2024-06-01T00:00:00\",\"2024-07-01T00:00:00\",\"2024-08-01T00:00:00\",\"2023-06-01T00:00:00\",\"2024-02-01T00:00:00\",\"2024-01-01T00:00:00\",\"2024-10-01T00:00:00\",\"2024-07-01T00:00:00\",\"2023-12-01T00:00:00\",\"2024-04-01T00:00:00\",\"2024-03-01T00:00:00\",\"2024-01-01T00:00:00\",\"2024-04-01T00:00:00\",\"2023-05-01T00:00:00\",\"2023-10-01T00:00:00\",\"2024-03-01T00:00:00\",\"2024-11-01T00:00:00\",\"2024-10-01T00:00:00\",\"2024-08-01T00:00:00\",\"2024-01-01T00:00:00\",\"2024-03-01T00:00:00\",\"2023-10-01T00:00:00\",\"2024-02-01T00:00:00\",\"2023-12-01T00:00:00\",\"2024-07-01T00:00:00\",\"2023-10-01T00:00:00\",\"2024-02-01T00:00:00\",\"2023-08-01T00:00:00\",\"2024-08-01T00:00:00\",\"2023-08-01T00:00:00\",\"2024-02-01T00:00:00\",\"2023-06-01T00:00:00\",\"2024-06-01T00:00:00\",\"2024-01-01T00:00:00\",\"2024-07-01T00:00:00\",\"2023-09-01T00:00:00\",\"2024-06-01T00:00:00\",\"2023-10-01T00:00:00\",\"2023-03-01T00:00:00\",\"2024-05-01T00:00:00\",\"2024-03-01T00:00:00\",\"2023-04-01T00:00:00\",\"2023-04-01T00:00:00\",\"2023-09-01T00:00:00\",\"2024-05-01T00:00:00\",\"2023-07-01T00:00:00\",\"2024-10-01T00:00:00\",\"2023-03-01T00:00:00\",\"2024-10-01T00:00:00\",\"2024-01-01T00:00:00\",\"2024-07-01T00:00:00\",\"2025-01-01T00:00:00\",\"2024-03-01T00:00:00\",\"2023-11-01T00:00:00\",\"2023-12-01T00:00:00\",\"2024-05-01T00:00:00\",\"2023-10-01T00:00:00\",\"2024-11-01T00:00:00\",\"2023-12-01T00:00:00\",\"2024-01-01T00:00:00\",\"2024-09-01T00:00:00\",\"2025-01-01T00:00:00\",\"2024-07-01T00:00:00\",\"2024-05-01T00:00:00\",\"2025-03-01T00:00:00\",\"2024-07-01T00:00:00\",\"2025-03-01T00:00:00\",\"2024-11-01T00:00:00\",\"2024-12-01T00:00:00\",\"2024-04-01T00:00:00\",\"2024-01-01T00:00:00\",\"2025-01-01T00:00:00\",\"2023-10-01T00:00:00\",\"2023-10-01T00:00:00\",\"2023-08-01T00:00:00\",\"2024-03-01T00:00:00\",\"2024-09-01T00:00:00\",\"2024-08-01T00:00:00\",\"2023-11-01T00:00:00\",\"2023-11-01T00:00:00\",\"2024-06-01T00:00:00\",\"2024-02-01T00:00:00\",\"2023-10-01T00:00:00\",\"2024-12-01T00:00:00\",\"2024-04-01T00:00:00\",\"2025-01-01T00:00:00\",\"2024-08-01T00:00:00\",\"2023-07-01T00:00:00\",\"2024-01-01T00:00:00\",\"2024-09-01T00:00:00\",\"2024-07-01T00:00:00\",\"2024-06-01T00:00:00\",\"2024-05-01T00:00:00\",\"2024-09-01T00:00:00\",\"2025-02-01T00:00:00\",\"2023-11-01T00:00:00\",\"2024-11-01T00:00:00\",\"2023-12-01T00:00:00\",\"2023-06-01T00:00:00\",\"2025-04-01T00:00:00\",\"2024-08-01T00:00:00\",\"2024-08-01T00:00:00\",\"2024-06-01T00:00:00\",\"2023-12-01T00:00:00\",\"2024-01-01T00:00:00\",\"2024-05-01T00:00:00\",\"2024-01-01T00:00:00\",\"2024-03-01T00:00:00\",\"2023-07-01T00:00:00\",\"2023-07-01T00:00:00\",\"2023-05-01T00:00:00\",\"2023-10-01T00:00:00\",\"2024-05-01T00:00:00\",\"2023-11-01T00:00:00\",\"2024-01-01T00:00:00\",\"2023-09-01T00:00:00\",\"2024-05-01T00:00:00\",\"2023-07-01T00:00:00\",\"2024-12-01T00:00:00\",\"2024-01-01T00:00:00\",\"2024-01-01T00:00:00\",\"2024-03-01T00:00:00\",\"2023-08-01T00:00:00\",\"2023-10-01T00:00:00\",\"2024-10-01T00:00:00\",\"2023-12-01T00:00:00\",\"2023-12-01T00:00:00\",\"2024-03-01T00:00:00\",\"2024-07-01T00:00:00\",\"2023-07-01T00:00:00\",\"2023-09-01T00:00:00\",\"2024-09-01T00:00:00\",\"2024-05-01T00:00:00\",\"2024-04-01T00:00:00\",\"2023-05-01T00:00:00\",\"2023-05-01T00:00:00\",\"2024-03-01T00:00:00\",\"2024-07-01T00:00:00\",\"2023-08-01T00:00:00\",\"2023-07-01T00:00:00\",\"2024-04-01T00:00:00\",\"2023-08-01T00:00:00\",\"2024-03-01T00:00:00\",\"2023-04-01T00:00:00\",\"2023-12-01T00:00:00\",\"2024-01-01T00:00:00\",\"2023-09-01T00:00:00\",\"2024-11-01T00:00:00\",\"2024-03-01T00:00:00\",\"2024-02-01T00:00:00\",\"2024-03-01T00:00:00\",\"2024-06-01T00:00:00\",\"2025-01-01T00:00:00\",\"2023-12-01T00:00:00\",\"2024-12-01T00:00:00\",\"2023-10-01T00:00:00\",\"2024-09-01T00:00:00\",\"2024-11-01T00:00:00\",\"2024-03-01T00:00:00\",\"2023-05-01T00:00:00\",\"2023-05-01T00:00:00\",\"2024-02-01T00:00:00\",\"2024-11-01T00:00:00\",\"2024-10-01T00:00:00\",\"2023-07-01T00:00:00\",\"2025-01-01T00:00:00\",\"2024-04-01T00:00:00\",\"2023-09-01T00:00:00\",\"2023-08-01T00:00:00\",\"2023-11-01T00:00:00\",\"2024-12-01T00:00:00\",\"2024-08-01T00:00:00\",\"2024-02-01T00:00:00\",\"2024-09-01T00:00:00\",\"2024-03-01T00:00:00\",\"2023-05-01T00:00:00\",\"2023-04-01T00:00:00\",\"2024-10-01T00:00:00\",\"2024-01-01T00:00:00\",\"2024-03-01T00:00:00\",\"2024-12-01T00:00:00\"],\"xaxis\":\"x6\",\"y\":[135418.34172940973,112046.30300984366,169507.80137484762,151146.23818929074,212770.51798603297,154844.89708829756,154844.89708829756,182895.83625553825,154844.89708829756,167337.9414286622,169507.80137484762,123632.02510948491,179040.10565928926,135418.34172940973,182895.83625553825,212770.51798603297,113109.70864539914,169507.80137484762,126001.35500096493,181433.7017012585,126458.80678899298,149977.24373229308,126001.35500096493,126458.80678899298,112046.30300984366,179040.10565928926,168047.07744964998,126001.35500096493,113109.70864539914,138957.01668492224,135418.34172940973,174888.2663367556,197087.394055089,197087.394055089,126506.45178176166,167337.9414286622,197087.394055089,149977.24373229308,138957.01668492224,126506.45178176166,182895.83625553825,135418.34172940973,154844.89708829756,112046.30300984366,167337.9414286622,139687.26677604066,212770.51798603297,126001.35500096493,112046.30300984366,126506.45178176166,181433.7017012585,157118.6501661744,135418.34172940973,157118.6501661744,212770.51798603297,149977.24373229308,133299.70451428602,112046.30300984366,113109.70864539914,181433.7017012585,126001.35500096493,138957.01668492224,174888.2663367556,113109.70864539914,126001.35500096493,113109.70864539914,212770.51798603297,126001.35500096493,112046.30300984366,174888.2663367556,165380.787288148,123632.02510948491,149977.24373229308,179040.10565928926,123632.02510948491,126506.45178176166,126001.35500096493,181433.7017012585,182895.83625553825,126506.45178176166,168047.07744964998,181433.7017012585,154844.89708829756,197087.394055089,98158.97059111515,96536.48918442789,133299.70451428602,113109.70864539914,126001.35500096493,139687.26677604066,135418.34172940973,179040.10565928926,135418.34172940973,133299.70451428602,113109.70864539914,113109.70864539914,174888.2663367556,197087.394055089,154844.89708829756,101737.23253481097,167337.9414286622,168047.07744964998,168047.07744964998,169507.80137484762,212770.51798603297,138957.01668492224,179040.10565928926,135418.34172940973,154844.89708829756,154844.89708829756,138957.01668492224,133299.70451428602,138957.01668492224,181433.7017012585,179040.10565928926,139687.26677604066,157118.6501661744,113109.70864539914,133299.70451428602,181433.7017012585,151146.23818929074,212770.51798603297,167337.9414286622,182895.83625553825,113109.70864539914,149977.24373229308,138957.01668492224,167337.9414286622,212770.51798603297,135418.34172940973,133299.70451428602,95152.13542397549,182895.83625553825,149977.24373229308,181433.7017012585,126001.35500096493,138957.01668492224,169507.80137484762,126506.45178176166,151146.23818929074,135418.34172940973,181433.7017012585,182895.83625553825,126458.80678899298,133299.70451428602,197087.394055089,151146.23818929074,167337.9414286622,126458.80678899298,126458.80678899298,197087.394055089,179040.10565928926,112046.30300984366,212770.51798603297,181433.7017012585,182895.83625553825,126458.80678899298,133299.70451428602,174888.2663367556,154844.89708829756,174888.2663367556,197087.394055089,157118.6501661744,167337.9414286622,126458.80678899298,197087.394055089,126458.80678899298,154844.89708829756,169507.80137484762,113109.70864539914,126506.45178176166,197087.394055089,138957.01668492224,133299.70451428602,181433.7017012585,126001.35500096493,108418.89166220822,112046.30300984366,112046.30300984366,151146.23818929074,212770.51798603297,126458.80678899298,139687.26677604066,154844.89708829756,197087.394055089,96536.48918442789,212770.51798603297,135418.34172940973,154844.89708829756,197087.394055089,126506.45178176166,212770.51798603297,139687.26677604066,151146.23818929074,126458.80678899298,139687.26677604066,126506.45178176166,123632.02510948491,126506.45178176166,126001.35500096493,113109.70864539914,197087.394055089,168047.07744964998,179040.10565928926,154844.89708829756,169507.80137484762,154844.89708829756,126001.35500096493,133299.70451428602,151146.23818929074,126506.45178176166,123632.02510948491,212770.51798603297,112046.30300984366,157118.6501661744,154844.89708829756,154844.89708829756,182895.83625553825,182895.83625553825,126506.45178176166,113109.70864539914,212770.51798603297,182895.83625553825,126506.45178176166,212770.51798603297,123632.02510948491,179040.10565928926,154844.89708829756,135418.34172940973,123632.02510948491,126458.80678899298,169507.80137484762,169507.80137484762,126458.80678899298,197087.394055089,126458.80678899298,112046.30300984366,167337.9414286622,154844.89708829756,212770.51798603297,139687.26677604066,139687.26677604066,135418.34172940973,182895.83625553825,151146.23818929074,126001.35500096493,126506.45178176166,182895.83625553825,165380.787288148,126458.80678899298,126506.45178176166,126001.35500096493,154844.89708829756,98158.97059111515,181433.7017012585,135418.34172940973,182895.83625553825,154844.89708829756,135418.34172940973,126506.45178176166,138957.01668492224,126458.80678899298,167337.9414286622,135418.34172940973,182895.83625553825,157118.6501661744,112046.30300984366,197087.394055089,182895.83625553825,135418.34172940973,126001.35500096493,181433.7017012585,167337.9414286622,197087.394055089,113109.70864539914,154844.89708829756,197087.394055089,112046.30300984366,113109.70864539914,126458.80678899298,154844.89708829756,149977.24373229308,126506.45178176166,181433.7017012585,126458.80678899298,135418.34172940973,113109.70864539914,181433.7017012585,182895.83625553825,126506.45178176166,212770.51798603297,181433.7017012585,113109.70864539914,179040.10565928926,113109.70864539914,113109.70864539914,135418.34172940973,139687.26677604066,139687.26677604066,113109.70864539914,112046.30300984366,174888.2663367556,151146.23818929074,133299.70451428602,197087.394055089,151146.23818929074,179040.10565928926,133299.70451428602,133299.70451428602,126506.45178176166,151146.23818929074,126001.35500096493,167337.9414286622,167337.9414286622,182895.83625553825,197087.394055089,212770.51798603297,138957.01668492224,126001.35500096493,126001.35500096493,182895.83625553825,139687.26677604066,138957.01668492224,179040.10565928926,113109.70864539914,126001.35500096493,126001.35500096493,123632.02510948491,126458.80678899298,126458.80678899298,154844.89708829756,169507.80137484762,135418.34172940973,149977.24373229308,149977.24373229308,95152.13542397549,126458.80678899298,157118.6501661744,165380.787288148,126506.45178176166,167337.9414286622,126001.35500096493,126458.80678899298,123632.02510948491,138957.01668492224,126506.45178176166,212770.51798603297,182895.83625553825,113109.70864539914,133299.70451428602,126001.35500096493,169507.80137484762,138957.01668492224,112046.30300984366,139687.26677604066,139687.26677604066,212770.51798603297,181433.7017012585,138957.01668492224,154844.89708829756,197087.394055089,212770.51798603297,123632.02510948491,113109.70864539914,112046.30300984366,181433.7017012585,197087.394055089,135418.34172940973,126001.35500096493,133299.70451428602,112046.30300984366,126001.35500096493,96536.48918442789,139687.26677604066,133299.70451428602,167337.9414286622,181433.7017012585,212770.51798603297,112046.30300984366,133299.70451428602,139687.26677604066,113109.70864539914,135418.34172940973,197087.394055089,139687.26677604066,113109.70864539914,169507.80137484762,212770.51798603297,169507.80137484762,113109.70864539914,123632.02510948491,154844.89708829756,112046.30300984366,197087.394055089,138957.01668492224,154844.89708829756,139687.26677604066,101737.23253481097,126458.80678899298,133299.70451428602,95152.13542397549,95152.13542397549,138957.01668492224,126458.80678899298,157118.6501661744,181433.7017012585,101737.23253481097,181433.7017012585,112046.30300984366,197087.394055089,149977.24373229308,133299.70451428602,126506.45178176166,135418.34172940973,126458.80678899298,139687.26677604066,167337.9414286622,135418.34172940973,112046.30300984366,182895.83625553825,149977.24373229308,197087.394055089,126458.80678899298,174888.2663367556,197087.394055089,174888.2663367556,167337.9414286622,179040.10565928926,126001.35500096493,112046.30300984366,149977.24373229308,139687.26677604066,139687.26677604066,169507.80137484762,133299.70451428602,182895.83625553825,212770.51798603297,126506.45178176166,126506.45178176166,154844.89708829756,113109.70864539914,139687.26677604066,179040.10565928926,126001.35500096493,149977.24373229308,212770.51798603297,157118.6501661744,112046.30300984366,182895.83625553825,197087.394055089,154844.89708829756,126458.80678899298,182895.83625553825,151146.23818929074,126506.45178176166,167337.9414286622,135418.34172940973,123632.02510948491,168047.07744964998,212770.51798603297,212770.51798603297,154844.89708829756,135418.34172940973,112046.30300984366,126458.80678899298,112046.30300984366,133299.70451428602,157118.6501661744,157118.6501661744,96536.48918442789,139687.26677604066,126458.80678899298,126506.45178176166,112046.30300984366,138957.01668492224,126458.80678899298,157118.6501661744,179040.10565928926,112046.30300984366,112046.30300984366,133299.70451428602,169507.80137484762,139687.26677604066,181433.7017012585,135418.34172940973,135418.34172940973,133299.70451428602,197087.394055089,157118.6501661744,138957.01668492224,182895.83625553825,126458.80678899298,126001.35500096493,96536.48918442789,96536.48918442789,133299.70451428602,197087.394055089,169507.80137484762,157118.6501661744,126001.35500096493,169507.80137484762,133299.70451428602,95152.13542397549,135418.34172940973,112046.30300984366,138957.01668492224,167337.9414286622,133299.70451428602,113109.70864539914,133299.70451428602,154844.89708829756,149977.24373229308,135418.34172940973,179040.10565928926,139687.26677604066,182895.83625553825,167337.9414286622,133299.70451428602,96536.48918442789,96536.48918442789,113109.70864539914,167337.9414286622,181433.7017012585,157118.6501661744,149977.24373229308,126001.35500096493,138957.01668492224,169507.80137484762,126506.45178176166,179040.10565928926,212770.51798603297,113109.70864539914,182895.83625553825,133299.70451428602,96536.48918442789,95152.13542397549,181433.7017012585,112046.30300984366,133299.70451428602,179040.10565928926],\"yaxis\":\"y6\",\"type\":\"scattergl\"},{\"hovertemplate\":\"Tipo de Valor=AI_forecast\\u003cbr\\u003eSUBBRAND=Lipton (L3)\\u003cbr\\u003eFecha=%{x}\\u003cbr\\u003eVentas=%{y}\\u003cextra\\u003e\\u003c\\u002fextra\\u003e\",\"legendgroup\":\"AI_forecast\",\"marker\":{\"color\":\"#636efa\",\"symbol\":\"circle\"},\"mode\":\"markers\",\"name\":\"AI_forecast\",\"showlegend\":false,\"x\":[\"2025-03-01T00:00:00\",\"2024-06-01T00:00:00\",\"2024-05-01T00:00:00\",\"2023-10-01T00:00:00\",\"2024-11-01T00:00:00\",\"2024-01-01T00:00:00\",\"2024-06-01T00:00:00\",\"2025-05-01T00:00:00\",\"2024-02-01T00:00:00\",\"2024-11-01T00:00:00\",\"2023-10-01T00:00:00\",\"2024-09-01T00:00:00\",\"2023-12-01T00:00:00\",\"2023-09-01T00:00:00\",\"2024-02-01T00:00:00\",\"2024-12-01T00:00:00\",\"2023-02-01T00:00:00\",\"2023-01-01T00:00:00\",\"2025-01-01T00:00:00\",\"2023-11-01T00:00:00\",\"2024-04-01T00:00:00\",\"2023-08-01T00:00:00\",\"2023-11-01T00:00:00\",\"2024-09-01T00:00:00\",\"2024-10-01T00:00:00\",\"2024-06-01T00:00:00\",\"2024-02-01T00:00:00\",\"2023-10-01T00:00:00\",\"2024-08-01T00:00:00\",\"2025-02-01T00:00:00\",\"2024-01-01T00:00:00\",\"2024-02-01T00:00:00\",\"2023-11-01T00:00:00\",\"2024-05-01T00:00:00\",\"2023-05-01T00:00:00\",\"2023-09-01T00:00:00\",\"2023-08-01T00:00:00\",\"2024-08-01T00:00:00\",\"2024-04-01T00:00:00\",\"2024-09-01T00:00:00\",\"2024-02-01T00:00:00\",\"2023-12-01T00:00:00\",\"2024-10-01T00:00:00\",\"2024-06-01T00:00:00\",\"2023-06-01T00:00:00\",\"2023-12-01T00:00:00\",\"2024-05-01T00:00:00\",\"2024-01-01T00:00:00\",\"2023-06-01T00:00:00\",\"2023-03-01T00:00:00\",\"2024-08-01T00:00:00\",\"2024-11-01T00:00:00\",\"2024-12-01T00:00:00\",\"2024-04-01T00:00:00\",\"2023-08-01T00:00:00\",\"2023-07-01T00:00:00\",\"2024-05-01T00:00:00\",\"2024-07-01T00:00:00\",\"2023-06-01T00:00:00\",\"2023-11-01T00:00:00\",\"2024-08-01T00:00:00\",\"2025-04-01T00:00:00\",\"2024-03-01T00:00:00\",\"2023-12-01T00:00:00\",\"2024-01-01T00:00:00\",\"2024-06-01T00:00:00\",\"2023-10-01T00:00:00\",\"2024-03-01T00:00:00\",\"2023-12-01T00:00:00\",\"2024-03-01T00:00:00\",\"2024-01-01T00:00:00\",\"2024-07-01T00:00:00\",\"2023-12-01T00:00:00\",\"2024-05-01T00:00:00\",\"2024-02-01T00:00:00\",\"2023-06-01T00:00:00\",\"2023-11-01T00:00:00\",\"2024-07-01T00:00:00\",\"2024-12-01T00:00:00\",\"2023-09-01T00:00:00\",\"2024-07-01T00:00:00\",\"2023-08-01T00:00:00\",\"2023-12-01T00:00:00\",\"2024-02-01T00:00:00\",\"2024-09-01T00:00:00\",\"2024-09-01T00:00:00\",\"2024-09-01T00:00:00\",\"2024-12-01T00:00:00\",\"2023-05-01T00:00:00\",\"2023-07-01T00:00:00\",\"2023-10-01T00:00:00\",\"2025-01-01T00:00:00\",\"2023-05-01T00:00:00\",\"2024-04-01T00:00:00\",\"2024-04-01T00:00:00\",\"2024-05-01T00:00:00\",\"2023-09-01T00:00:00\",\"2024-12-01T00:00:00\",\"2024-09-01T00:00:00\",\"2024-10-01T00:00:00\",\"2023-04-01T00:00:00\",\"2024-05-01T00:00:00\",\"2024-07-01T00:00:00\",\"2024-03-01T00:00:00\",\"2024-07-01T00:00:00\",\"2023-07-01T00:00:00\",\"2023-07-01T00:00:00\",\"2024-10-01T00:00:00\",\"2023-07-01T00:00:00\",\"2025-03-01T00:00:00\",\"2023-05-01T00:00:00\",\"2023-06-01T00:00:00\",\"2023-07-01T00:00:00\",\"2024-01-01T00:00:00\",\"2023-08-01T00:00:00\",\"2023-12-01T00:00:00\",\"2024-04-01T00:00:00\",\"2024-08-01T00:00:00\",\"2024-04-01T00:00:00\",\"2024-06-01T00:00:00\",\"2023-09-01T00:00:00\",\"2024-04-01T00:00:00\",\"2023-07-01T00:00:00\",\"2023-09-01T00:00:00\",\"2023-08-01T00:00:00\",\"2024-02-01T00:00:00\",\"2023-12-01T00:00:00\",\"2023-11-01T00:00:00\",\"2024-07-01T00:00:00\",\"2023-08-01T00:00:00\",\"2023-10-01T00:00:00\",\"2023-02-01T00:00:00\",\"2024-10-01T00:00:00\",\"2023-11-01T00:00:00\",\"2024-05-01T00:00:00\",\"2024-02-01T00:00:00\",\"2024-03-01T00:00:00\",\"2023-11-01T00:00:00\",\"2024-11-01T00:00:00\",\"2023-04-01T00:00:00\",\"2023-10-01T00:00:00\",\"2024-07-01T00:00:00\",\"2025-04-01T00:00:00\",\"2024-10-01T00:00:00\",\"2023-11-01T00:00:00\",\"2025-01-01T00:00:00\",\"2023-06-01T00:00:00\",\"2024-08-01T00:00:00\",\"2024-05-01T00:00:00\",\"2024-03-01T00:00:00\",\"2025-01-01T00:00:00\",\"2024-06-01T00:00:00\",\"2024-08-01T00:00:00\",\"2023-03-01T00:00:00\",\"2024-07-01T00:00:00\",\"2024-03-01T00:00:00\",\"2024-11-01T00:00:00\",\"2024-03-01T00:00:00\",\"2023-09-01T00:00:00\",\"2023-12-01T00:00:00\",\"2024-03-01T00:00:00\",\"2023-10-01T00:00:00\",\"2024-01-01T00:00:00\",\"2024-09-01T00:00:00\",\"2024-10-01T00:00:00\",\"2024-05-01T00:00:00\",\"2024-07-01T00:00:00\",\"2024-05-01T00:00:00\",\"2024-08-01T00:00:00\",\"2024-06-01T00:00:00\",\"2024-04-01T00:00:00\",\"2024-06-01T00:00:00\",\"2025-01-01T00:00:00\",\"2025-02-01T00:00:00\",\"2023-09-01T00:00:00\",\"2024-06-01T00:00:00\",\"2025-02-01T00:00:00\",\"2024-08-01T00:00:00\",\"2025-03-01T00:00:00\",\"2025-02-01T00:00:00\",\"2023-05-01T00:00:00\",\"2023-10-01T00:00:00\",\"2024-01-01T00:00:00\",\"2024-03-01T00:00:00\",\"2024-03-01T00:00:00\",\"2024-04-01T00:00:00\",\"2023-11-01T00:00:00\",\"2023-09-01T00:00:00\",\"2024-04-01T00:00:00\",\"2023-08-01T00:00:00\",\"2024-09-01T00:00:00\",\"2024-11-01T00:00:00\",\"2023-04-01T00:00:00\",\"2024-07-01T00:00:00\",\"2024-04-01T00:00:00\",\"2024-06-01T00:00:00\",\"2024-01-01T00:00:00\",\"2023-12-01T00:00:00\",\"2024-01-01T00:00:00\",\"2024-10-01T00:00:00\",\"2024-08-01T00:00:00\",\"2024-01-01T00:00:00\",\"2024-01-01T00:00:00\",\"2024-12-01T00:00:00\",\"2023-03-01T00:00:00\",\"2024-02-01T00:00:00\",\"2024-03-01T00:00:00\",\"2023-12-01T00:00:00\",\"2024-02-01T00:00:00\",\"2023-10-01T00:00:00\",\"2024-02-01T00:00:00\",\"2024-06-01T00:00:00\",\"2024-05-01T00:00:00\",\"2023-11-01T00:00:00\",\"2024-11-01T00:00:00\",\"2023-04-01T00:00:00\"],\"xaxis\":\"x3\",\"y\":[10605.542993636758,12867.49097730129,10670.82149414435,12935.122224413335,12044.024510748077,11080.310966594398,12867.49097730129,10007.57857053952,10568.10383807964,12044.024510748077,12935.122224413335,14869.415407986156,10873.862267002278,13541.707696124613,10568.10383807964,11604.300852275832,6789.577855539911,7967.645287146979,11981.476712505251,11381.188699641985,11082.29724051223,17823.455442918654,11381.188699641985,14869.415407986156,13935.546760165353,12867.49097730129,10568.10383807964,12935.122224413335,18807.62338631865,11606.954210715065,11080.310966594398,10568.10383807964,11381.188699641985,10670.82149414435,8268.051417636028,13541.707696124613,17823.455442918654,18807.62338631865,11082.29724051223,14869.415407986156,10568.10383807964,10873.862267002278,13935.546760165353,12867.49097730129,11570.737089164359,10873.862267002278,10670.82149414435,11080.310966594398,11570.737089164359,7093.528947682299,18807.62338631865,12044.024510748077,11604.300852275832,11082.29724051223,17823.455442918654,15748.17626034907,10670.82149414435,16859.727815412494,11570.737089164359,11381.188699641985,18807.62338631865,10131.502183082404,10667.505206505773,10873.862267002278,11080.310966594398,12867.49097730129,12935.122224413335,10667.505206505773,10873.862267002278,10667.505206505773,11080.310966594398,16859.727815412494,10873.862267002278,10670.82149414435,10568.10383807964,11570.737089164359,11381.188699641985,16859.727815412494,11604.300852275832,13541.707696124613,16859.727815412494,17823.455442918654,10873.862267002278,10568.10383807964,14869.415407986156,14869.415407986156,14869.415407986156,11604.300852275832,8268.051417636028,15748.17626034907,12935.122224413335,11981.476712505251,8268.051417636028,11082.29724051223,11082.29724051223,10670.82149414435,13541.707696124613,11604.300852275832,14869.415407986156,13935.546760165353,8839.31760205407,10670.82149414435,16859.727815412494,10667.505206505773,16859.727815412494,15748.17626034907,15748.17626034907,13935.546760165353,15748.17626034907,10605.542993636758,8268.051417636028,11570.737089164359,15748.17626034907,11080.310966594398,17823.455442918654,10873.862267002278,11082.29724051223,18807.62338631865,11082.29724051223,12867.49097730129,13541.707696124613,11082.29724051223,15748.17626034907,13541.707696124613,17823.455442918654,10568.10383807964,10873.862267002278,11381.188699641985,16859.727815412494,17823.455442918654,12935.122224413335,6789.577855539911,13935.546760165353,11381.188699641985,10670.82149414435,10568.10383807964,10667.505206505773,11381.188699641985,12044.024510748077,8839.31760205407,12935.122224413335,16859.727815412494,10131.502183082404,13935.546760165353,11381.188699641985,11981.476712505251,11570.737089164359,18807.62338631865,10670.82149414435,10667.505206505773,11981.476712505251,12867.49097730129,18807.62338631865,7093.528947682299,16859.727815412494,10667.505206505773,12044.024510748077,10667.505206505773,13541.707696124613,10873.862267002278,10667.505206505773,12935.122224413335,11080.310966594398,14869.415407986156,13935.546760165353,10670.82149414435,16859.727815412494,10670.82149414435,18807.62338631865,12867.49097730129,11082.29724051223,12867.49097730129,11981.476712505251,11606.954210715065,13541.707696124613,12867.49097730129,11606.954210715065,18807.62338631865,10605.542993636758,11606.954210715065,8268.051417636028,12935.122224413335,11080.310966594398,10667.505206505773,10667.505206505773,11082.29724051223,11381.188699641985,13541.707696124613,11082.29724051223,17823.455442918654,14869.415407986156,12044.024510748077,8839.31760205407,16859.727815412494,11082.29724051223,12867.49097730129,11080.310966594398,10873.862267002278,11080.310966594398,13935.546760165353,18807.62338631865,11080.310966594398,11080.310966594398,11604.300852275832,7093.528947682299,10568.10383807964,10667.505206505773,10873.862267002278,10568.10383807964,12935.122224413335,10568.10383807964,12867.49097730129,10670.82149414435,11381.188699641985,12044.024510748077,8839.31760205407],\"yaxis\":\"y3\",\"type\":\"scattergl\"},{\"hovertemplate\":\"Tipo de Valor=AI_forecast\\u003cbr\\u003eSUBBRAND=7up Free (L3)\\u003cbr\\u003eFecha=%{x}\\u003cbr\\u003eVentas=%{y}\\u003cextra\\u003e\\u003c\\u002fextra\\u003e\",\"legendgroup\":\"AI_forecast\",\"marker\":{\"color\":\"#636efa\",\"symbol\":\"circle\"},\"mode\":\"markers\",\"name\":\"AI_forecast\",\"showlegend\":false,\"x\":[\"2024-01-01T00:00:00\",\"2023-08-01T00:00:00\",\"2024-01-01T00:00:00\",\"2023-12-01T00:00:00\",\"2024-12-01T00:00:00\",\"2024-07-01T00:00:00\",\"2024-10-01T00:00:00\",\"2024-04-01T00:00:00\",\"2024-06-01T00:00:00\",\"2025-01-01T00:00:00\",\"2024-12-01T00:00:00\",\"2023-04-01T00:00:00\",\"2023-05-01T00:00:00\",\"2023-05-01T00:00:00\",\"2024-02-01T00:00:00\",\"2024-02-01T00:00:00\",\"2024-02-01T00:00:00\",\"2025-02-01T00:00:00\",\"2024-09-01T00:00:00\",\"2024-07-01T00:00:00\",\"2023-12-01T00:00:00\",\"2025-01-01T00:00:00\",\"2024-06-01T00:00:00\",\"2024-01-01T00:00:00\",\"2023-09-01T00:00:00\",\"2024-10-01T00:00:00\",\"2023-10-01T00:00:00\",\"2024-04-01T00:00:00\",\"2023-06-01T00:00:00\",\"2023-11-01T00:00:00\",\"2023-07-01T00:00:00\",\"2024-07-01T00:00:00\",\"2024-01-01T00:00:00\",\"2023-10-01T00:00:00\",\"2023-07-01T00:00:00\",\"2024-01-01T00:00:00\",\"2023-06-01T00:00:00\",\"2024-04-01T00:00:00\",\"2024-01-01T00:00:00\",\"2024-01-01T00:00:00\",\"2025-02-01T00:00:00\",\"2023-04-01T00:00:00\",\"2024-08-01T00:00:00\",\"2024-10-01T00:00:00\",\"2023-12-01T00:00:00\",\"2024-10-01T00:00:00\",\"2023-07-01T00:00:00\",\"2024-08-01T00:00:00\",\"2023-05-01T00:00:00\",\"2024-06-01T00:00:00\",\"2024-06-01T00:00:00\",\"2024-08-01T00:00:00\",\"2024-11-01T00:00:00\",\"2024-04-01T00:00:00\",\"2024-11-01T00:00:00\",\"2023-10-01T00:00:00\",\"2023-12-01T00:00:00\",\"2023-12-01T00:00:00\",\"2024-05-01T00:00:00\",\"2025-02-01T00:00:00\",\"2024-10-01T00:00:00\",\"2024-07-01T00:00:00\",\"2024-06-01T00:00:00\",\"2023-06-01T00:00:00\",\"2024-02-01T00:00:00\",\"2023-06-01T00:00:00\",\"2023-09-01T00:00:00\",\"2024-06-01T00:00:00\",\"2023-08-01T00:00:00\",\"2024-10-01T00:00:00\",\"2024-07-01T00:00:00\",\"2024-03-01T00:00:00\",\"2023-10-01T00:00:00\",\"2023-06-01T00:00:00\",\"2024-05-01T00:00:00\",\"2023-11-01T00:00:00\",\"2024-08-01T00:00:00\",\"2023-07-01T00:00:00\",\"2024-05-01T00:00:00\",\"2023-08-01T00:00:00\",\"2024-09-01T00:00:00\",\"2023-12-01T00:00:00\",\"2024-10-01T00:00:00\",\"2024-12-01T00:00:00\",\"2024-04-01T00:00:00\",\"2024-03-01T00:00:00\",\"2024-05-01T00:00:00\",\"2023-11-01T00:00:00\",\"2024-02-01T00:00:00\",\"2025-04-01T00:00:00\",\"2025-03-01T00:00:00\",\"2024-08-01T00:00:00\",\"2025-03-01T00:00:00\",\"2024-08-01T00:00:00\",\"2024-02-01T00:00:00\",\"2024-07-01T00:00:00\",\"2024-03-01T00:00:00\",\"2024-06-01T00:00:00\",\"2023-06-01T00:00:00\",\"2024-01-01T00:00:00\",\"2024-09-01T00:00:00\",\"2023-03-01T00:00:00\",\"2023-12-01T00:00:00\",\"2024-12-01T00:00:00\",\"2024-04-01T00:00:00\",\"2023-12-01T00:00:00\",\"2023-09-01T00:00:00\",\"2023-09-01T00:00:00\",\"2024-04-01T00:00:00\",\"2023-12-01T00:00:00\",\"2024-06-01T00:00:00\",\"2024-09-01T00:00:00\",\"2024-06-01T00:00:00\",\"2024-08-01T00:00:00\",\"2025-02-01T00:00:00\",\"2024-08-01T00:00:00\",\"2023-09-01T00:00:00\",\"2024-10-01T00:00:00\",\"2024-02-01T00:00:00\",\"2023-10-01T00:00:00\",\"2023-10-01T00:00:00\",\"2024-11-01T00:00:00\",\"2023-07-01T00:00:00\",\"2024-04-01T00:00:00\",\"2025-03-01T00:00:00\",\"2025-05-01T00:00:00\",\"2024-05-01T00:00:00\",\"2023-12-01T00:00:00\",\"2024-01-01T00:00:00\",\"2024-07-01T00:00:00\",\"2023-04-01T00:00:00\",\"2024-01-01T00:00:00\",\"2023-12-01T00:00:00\",\"2024-10-01T00:00:00\",\"2023-11-01T00:00:00\",\"2023-04-01T00:00:00\",\"2023-07-01T00:00:00\",\"2024-06-01T00:00:00\",\"2023-11-01T00:00:00\",\"2024-02-01T00:00:00\",\"2023-03-01T00:00:00\",\"2023-07-01T00:00:00\",\"2023-08-01T00:00:00\",\"2023-02-01T00:00:00\",\"2023-11-01T00:00:00\",\"2024-02-01T00:00:00\",\"2024-12-01T00:00:00\",\"2024-05-01T00:00:00\",\"2024-05-01T00:00:00\",\"2024-10-01T00:00:00\",\"2025-02-01T00:00:00\",\"2023-11-01T00:00:00\",\"2023-11-01T00:00:00\",\"2025-05-01T00:00:00\",\"2024-02-01T00:00:00\",\"2024-02-01T00:00:00\",\"2024-08-01T00:00:00\",\"2024-10-01T00:00:00\",\"2024-04-01T00:00:00\",\"2025-04-01T00:00:00\",\"2023-07-01T00:00:00\",\"2024-02-01T00:00:00\",\"2024-05-01T00:00:00\",\"2024-12-01T00:00:00\",\"2024-05-01T00:00:00\",\"2024-05-01T00:00:00\",\"2024-03-01T00:00:00\",\"2024-08-01T00:00:00\",\"2024-11-01T00:00:00\",\"2023-12-01T00:00:00\",\"2024-11-01T00:00:00\",\"2023-12-01T00:00:00\",\"2023-04-01T00:00:00\",\"2024-12-01T00:00:00\",\"2023-12-01T00:00:00\",\"2024-05-01T00:00:00\",\"2025-01-01T00:00:00\",\"2024-10-01T00:00:00\",\"2024-09-01T00:00:00\",\"2024-11-01T00:00:00\",\"2024-03-01T00:00:00\",\"2024-07-01T00:00:00\",\"2024-09-01T00:00:00\",\"2023-12-01T00:00:00\",\"2023-09-01T00:00:00\",\"2024-08-01T00:00:00\",\"2023-10-01T00:00:00\",\"2023-11-01T00:00:00\",\"2024-01-01T00:00:00\",\"2025-03-01T00:00:00\",\"2023-11-01T00:00:00\",\"2024-03-01T00:00:00\",\"2024-06-01T00:00:00\",\"2024-09-01T00:00:00\",\"2024-12-01T00:00:00\",\"2024-04-01T00:00:00\",\"2023-09-01T00:00:00\",\"2024-03-01T00:00:00\",\"2023-06-01T00:00:00\",\"2024-03-01T00:00:00\",\"2023-09-01T00:00:00\",\"2024-07-01T00:00:00\",\"2024-07-01T00:00:00\",\"2023-11-01T00:00:00\",\"2025-02-01T00:00:00\",\"2023-10-01T00:00:00\",\"2024-12-01T00:00:00\",\"2024-03-01T00:00:00\",\"2023-11-01T00:00:00\",\"2024-02-01T00:00:00\",\"2024-05-01T00:00:00\",\"2023-07-01T00:00:00\",\"2024-06-01T00:00:00\",\"2024-10-01T00:00:00\",\"2023-12-01T00:00:00\",\"2023-09-01T00:00:00\",\"2024-11-01T00:00:00\",\"2024-07-01T00:00:00\",\"2023-12-01T00:00:00\",\"2024-01-01T00:00:00\",\"2025-01-01T00:00:00\",\"2023-06-01T00:00:00\",\"2024-03-01T00:00:00\",\"2024-06-01T00:00:00\",\"2024-06-01T00:00:00\",\"2024-05-01T00:00:00\",\"2024-10-01T00:00:00\",\"2023-11-01T00:00:00\",\"2024-03-01T00:00:00\",\"2025-03-01T00:00:00\",\"2023-11-01T00:00:00\",\"2024-08-01T00:00:00\",\"2024-01-01T00:00:00\",\"2023-08-01T00:00:00\",\"2023-05-01T00:00:00\",\"2023-09-01T00:00:00\",\"2024-06-01T00:00:00\",\"2024-03-01T00:00:00\",\"2025-04-01T00:00:00\",\"2024-04-01T00:00:00\",\"2023-08-01T00:00:00\",\"2024-04-01T00:00:00\",\"2024-05-01T00:00:00\",\"2024-09-01T00:00:00\",\"2023-02-01T00:00:00\",\"2024-09-01T00:00:00\",\"2024-04-01T00:00:00\",\"2024-01-01T00:00:00\",\"2023-12-01T00:00:00\",\"2024-02-01T00:00:00\",\"2023-11-01T00:00:00\",\"2024-01-01T00:00:00\",\"2024-07-01T00:00:00\",\"2024-08-01T00:00:00\",\"2024-07-01T00:00:00\",\"2024-07-01T00:00:00\",\"2024-11-01T00:00:00\",\"2023-11-01T00:00:00\",\"2024-09-01T00:00:00\",\"2023-09-01T00:00:00\",\"2023-10-01T00:00:00\",\"2025-02-01T00:00:00\",\"2025-01-01T00:00:00\",\"2023-10-01T00:00:00\",\"2024-03-01T00:00:00\",\"2024-03-01T00:00:00\",\"2024-07-01T00:00:00\",\"2024-07-01T00:00:00\",\"2024-05-01T00:00:00\",\"2023-11-01T00:00:00\",\"2024-12-01T00:00:00\",\"2024-11-01T00:00:00\",\"2024-07-01T00:00:00\",\"2024-03-01T00:00:00\",\"2024-03-01T00:00:00\",\"2024-09-01T00:00:00\",\"2024-03-01T00:00:00\",\"2024-10-01T00:00:00\",\"2025-01-01T00:00:00\",\"2023-08-01T00:00:00\",\"2023-11-01T00:00:00\",\"2023-08-01T00:00:00\",\"2025-01-01T00:00:00\",\"2024-03-01T00:00:00\",\"2024-11-01T00:00:00\",\"2024-06-01T00:00:00\",\"2024-11-01T00:00:00\",\"2023-06-01T00:00:00\",\"2024-09-01T00:00:00\",\"2024-04-01T00:00:00\",\"2024-04-01T00:00:00\",\"2023-09-01T00:00:00\",\"2024-07-01T00:00:00\",\"2023-05-01T00:00:00\",\"2023-10-01T00:00:00\",\"2023-10-01T00:00:00\",\"2023-08-01T00:00:00\",\"2024-04-01T00:00:00\",\"2023-09-01T00:00:00\",\"2023-09-01T00:00:00\",\"2023-05-01T00:00:00\",\"2024-07-01T00:00:00\",\"2023-10-01T00:00:00\",\"2024-02-01T00:00:00\",\"2023-09-01T00:00:00\",\"2024-05-01T00:00:00\",\"2024-09-01T00:00:00\",\"2024-04-01T00:00:00\",\"2024-06-01T00:00:00\",\"2025-01-01T00:00:00\",\"2024-05-01T00:00:00\",\"2024-04-01T00:00:00\",\"2024-01-01T00:00:00\",\"2024-05-01T00:00:00\",\"2024-03-01T00:00:00\",\"2025-03-01T00:00:00\",\"2024-10-01T00:00:00\",\"2024-11-01T00:00:00\",\"2024-01-01T00:00:00\",\"2023-07-01T00:00:00\",\"2023-08-01T00:00:00\",\"2024-09-01T00:00:00\",\"2024-09-01T00:00:00\",\"2024-09-01T00:00:00\",\"2024-07-01T00:00:00\",\"2024-04-01T00:00:00\",\"2023-10-01T00:00:00\",\"2024-03-01T00:00:00\",\"2024-06-01T00:00:00\",\"2024-11-01T00:00:00\",\"2024-09-01T00:00:00\",\"2023-11-01T00:00:00\",\"2024-01-01T00:00:00\",\"2024-11-01T00:00:00\",\"2024-01-01T00:00:00\",\"2024-02-01T00:00:00\",\"2024-08-01T00:00:00\",\"2024-02-01T00:00:00\",\"2023-10-01T00:00:00\",\"2024-06-01T00:00:00\",\"2023-10-01T00:00:00\",\"2023-08-01T00:00:00\",\"2024-12-01T00:00:00\",\"2023-12-01T00:00:00\",\"2023-01-01T00:00:00\",\"2023-08-01T00:00:00\",\"2023-10-01T00:00:00\",\"2025-01-01T00:00:00\",\"2024-04-01T00:00:00\",\"2024-01-01T00:00:00\",\"2024-03-01T00:00:00\",\"2023-12-01T00:00:00\",\"2023-12-01T00:00:00\",\"2025-02-01T00:00:00\",\"2024-08-01T00:00:00\",\"2024-09-01T00:00:00\",\"2024-06-01T00:00:00\",\"2024-08-01T00:00:00\",\"2023-05-01T00:00:00\",\"2024-08-01T00:00:00\",\"2023-08-01T00:00:00\",\"2023-07-01T00:00:00\",\"2024-05-01T00:00:00\",\"2024-06-01T00:00:00\",\"2024-02-01T00:00:00\",\"2025-04-01T00:00:00\",\"2024-08-01T00:00:00\",\"2024-08-01T00:00:00\",\"2024-02-01T00:00:00\",\"2024-05-01T00:00:00\",\"2024-02-01T00:00:00\",\"2024-05-01T00:00:00\",\"2024-02-01T00:00:00\",\"2023-03-01T00:00:00\",\"2024-04-01T00:00:00\",\"2024-01-01T00:00:00\",\"2024-12-01T00:00:00\",\"2025-01-01T00:00:00\"],\"xaxis\":\"x4\",\"y\":[64159.17479423365,90483.32077406193,64159.17479423365,73151.46551120351,82642.29756093037,85253.40387531382,87201.5355480127,65261.85447689658,81945.12528634968,68865.21161833999,82642.29756093037,52698.93088519548,66224.87562502654,66224.87562502654,56039.3346572621,56039.3346572621,56039.3346572621,64273.75407017189,81642.41334108145,85253.40387531382,73151.46551120351,68865.21161833999,81945.12528634968,64159.17479423365,79318.36728186815,87201.5355480127,81941.9265340716,65261.85447689658,75103.36958623263,74733.26625877891,84834.38874781191,85253.40387531382,64159.17479423365,81941.9265340716,84834.38874781191,64159.17479423365,75103.36958623263,65261.85447689658,64159.17479423365,64159.17479423365,64273.75407017189,52698.93088519548,93445.0901678753,87201.5355480127,73151.46551120351,87201.5355480127,84834.38874781191,93445.0901678753,66224.87562502654,81945.12528634968,81945.12528634968,93445.0901678753,80178.92416748583,65261.85447689658,80178.92416748583,81941.9265340716,73151.46551120351,73151.46551120351,80577.46117256672,64273.75407017189,87201.5355480127,85253.40387531382,81945.12528634968,75103.36958623263,56039.3346572621,75103.36958623263,79318.36728186815,81945.12528634968,90483.32077406193,87201.5355480127,85253.40387531382,62892.95758505498,81941.9265340716,75103.36958623263,80577.46117256672,74733.26625877891,93445.0901678753,84834.38874781191,80577.46117256672,90483.32077406193,81642.41334108145,73151.46551120351,87201.5355480127,82642.29756093037,65261.85447689658,62892.95758505498,80577.46117256672,74733.26625877891,56039.3346572621,68044.84860391845,72856.75784500524,93445.0901678753,72856.75784500524,93445.0901678753,56039.3346572621,85253.40387531382,62892.95758505498,81945.12528634968,75103.36958623263,64159.17479423365,81642.41334108145,57633.888264958245,73151.46551120351,82642.29756093037,65261.85447689658,73151.46551120351,79318.36728186815,79318.36728186815,65261.85447689658,73151.46551120351,81945.12528634968,81642.41334108145,81945.12528634968,93445.0901678753,64273.75407017189,93445.0901678753,79318.36728186815,87201.5355480127,56039.3346572621,81941.9265340716,81941.9265340716,80178.92416748583,84834.38874781191,65261.85447689658,72856.75784500524,78024.74571726596,80577.46117256672,73151.46551120351,64159.17479423365,85253.40387531382,52698.93088519548,64159.17479423365,73151.46551120351,87201.5355480127,74733.26625877891,52698.93088519548,84834.38874781191,81945.12528634968,74733.26625877891,56039.3346572621,57633.888264958245,84834.38874781191,90483.32077406193,62864.658973448626,74733.26625877891,56039.3346572621,82642.29756093037,80577.46117256672,80577.46117256672,87201.5355480127,64273.75407017189,74733.26625877891,74733.26625877891,78024.74571726596,56039.3346572621,56039.3346572621,93445.0901678753,87201.5355480127,65261.85447689658,68044.84860391845,84834.38874781191,56039.3346572621,80577.46117256672,82642.29756093037,80577.46117256672,80577.46117256672,62892.95758505498,93445.0901678753,80178.92416748583,73151.46551120351,80178.92416748583,73151.46551120351,52698.93088519548,82642.29756093037,73151.46551120351,80577.46117256672,68865.21161833999,87201.5355480127,81642.41334108145,80178.92416748583,62892.95758505498,85253.40387531382,81642.41334108145,73151.46551120351,79318.36728186815,93445.0901678753,81941.9265340716,74733.26625877891,64159.17479423365,72856.75784500524,74733.26625877891,62892.95758505498,81945.12528634968,81642.41334108145,82642.29756093037,65261.85447689658,79318.36728186815,62892.95758505498,75103.36958623263,62892.95758505498,79318.36728186815,85253.40387531382,85253.40387531382,74733.26625877891,64273.75407017189,81941.9265340716,82642.29756093037,62892.95758505498,74733.26625877891,56039.3346572621,80577.46117256672,84834.38874781191,81945.12528634968,87201.5355480127,73151.46551120351,79318.36728186815,80178.92416748583,85253.40387531382,73151.46551120351,64159.17479423365,68865.21161833999,75103.36958623263,62892.95758505498,81945.12528634968,81945.12528634968,80577.46117256672,87201.5355480127,74733.26625877891,62892.95758505498,72856.75784500524,74733.26625877891,93445.0901678753,64159.17479423365,90483.32077406193,66224.87562502654,79318.36728186815,81945.12528634968,62892.95758505498,68044.84860391845,65261.85447689658,90483.32077406193,65261.85447689658,80577.46117256672,81642.41334108145,62864.658973448626,81642.41334108145,65261.85447689658,64159.17479423365,73151.46551120351,56039.3346572621,74733.26625877891,64159.17479423365,85253.40387531382,93445.0901678753,85253.40387531382,85253.40387531382,80178.92416748583,74733.26625877891,81642.41334108145,79318.36728186815,81941.9265340716,64273.75407017189,68865.21161833999,81941.9265340716,62892.95758505498,62892.95758505498,85253.40387531382,85253.40387531382,80577.46117256672,74733.26625877891,82642.29756093037,80178.92416748583,85253.40387531382,62892.95758505498,62892.95758505498,81642.41334108145,62892.95758505498,87201.5355480127,68865.21161833999,90483.32077406193,74733.26625877891,90483.32077406193,68865.21161833999,62892.95758505498,80178.92416748583,81945.12528634968,80178.92416748583,75103.36958623263,81642.41334108145,65261.85447689658,65261.85447689658,79318.36728186815,85253.40387531382,66224.87562502654,81941.9265340716,81941.9265340716,90483.32077406193,65261.85447689658,79318.36728186815,79318.36728186815,66224.87562502654,85253.40387531382,81941.9265340716,56039.3346572621,79318.36728186815,80577.46117256672,81642.41334108145,65261.85447689658,81945.12528634968,68865.21161833999,80577.46117256672,65261.85447689658,64159.17479423365,80577.46117256672,62892.95758505498,72856.75784500524,87201.5355480127,80178.92416748583,64159.17479423365,84834.38874781191,90483.32077406193,81642.41334108145,81642.41334108145,81642.41334108145,85253.40387531382,65261.85447689658,81941.9265340716,62892.95758505498,81945.12528634968,80178.92416748583,81642.41334108145,74733.26625877891,64159.17479423365,80178.92416748583,64159.17479423365,56039.3346572621,93445.0901678753,56039.3346572621,81941.9265340716,81945.12528634968,81941.9265340716,90483.32077406193,82642.29756093037,73151.46551120351,60943.9754538628,90483.32077406193,81941.9265340716,68865.21161833999,65261.85447689658,64159.17479423365,62892.95758505498,73151.46551120351,73151.46551120351,64273.75407017189,93445.0901678753,81642.41334108145,81945.12528634968,93445.0901678753,66224.87562502654,93445.0901678753,90483.32077406193,84834.38874781191,80577.46117256672,81945.12528634968,56039.3346572621,68044.84860391845,93445.0901678753,93445.0901678753,56039.3346572621,80577.46117256672,56039.3346572621,80577.46117256672,56039.3346572621,57633.888264958245,65261.85447689658,64159.17479423365,82642.29756093037,68865.21161833999],\"yaxis\":\"y4\",\"type\":\"scattergl\"},{\"hovertemplate\":\"Tipo de Valor=AI_forecast\\u003cbr\\u003eSUBBRAND=7up (L3)\\u003cbr\\u003eFecha=%{x}\\u003cbr\\u003eVentas=%{y}\\u003cextra\\u003e\\u003c\\u002fextra\\u003e\",\"legendgroup\":\"AI_forecast\",\"marker\":{\"color\":\"#636efa\",\"symbol\":\"circle\"},\"mode\":\"markers\",\"name\":\"AI_forecast\",\"showlegend\":false,\"x\":[\"2024-04-01T00:00:00\",\"2024-05-01T00:00:00\",\"2023-09-01T00:00:00\",\"2024-03-01T00:00:00\",\"2024-07-01T00:00:00\",\"2025-02-01T00:00:00\",\"2024-02-01T00:00:00\",\"2024-01-01T00:00:00\",\"2023-06-01T00:00:00\",\"2025-03-01T00:00:00\",\"2024-02-01T00:00:00\",\"2024-04-01T00:00:00\",\"2025-02-01T00:00:00\",\"2024-09-01T00:00:00\",\"2023-07-01T00:00:00\",\"2024-01-01T00:00:00\",\"2024-07-01T00:00:00\",\"2024-10-01T00:00:00\",\"2023-11-01T00:00:00\",\"2024-08-01T00:00:00\",\"2023-11-01T00:00:00\",\"2023-07-01T00:00:00\",\"2023-09-01T00:00:00\",\"2023-12-01T00:00:00\",\"2023-08-01T00:00:00\",\"2023-07-01T00:00:00\",\"2023-08-01T00:00:00\",\"2024-01-01T00:00:00\",\"2023-06-01T00:00:00\",\"2023-08-01T00:00:00\",\"2025-05-01T00:00:00\",\"2023-11-01T00:00:00\",\"2024-10-01T00:00:00\",\"2024-10-01T00:00:00\",\"2024-07-01T00:00:00\",\"2023-11-01T00:00:00\",\"2023-06-01T00:00:00\",\"2023-05-01T00:00:00\",\"2024-06-01T00:00:00\",\"2024-02-01T00:00:00\",\"2024-12-01T00:00:00\",\"2024-02-01T00:00:00\",\"2023-05-01T00:00:00\",\"2024-09-01T00:00:00\",\"2023-04-01T00:00:00\",\"2024-08-01T00:00:00\",\"2023-08-01T00:00:00\",\"2024-01-01T00:00:00\",\"2024-04-01T00:00:00\",\"2024-01-01T00:00:00\",\"2023-09-01T00:00:00\",\"2024-05-01T00:00:00\",\"2023-08-01T00:00:00\",\"2024-09-01T00:00:00\",\"2023-02-01T00:00:00\",\"2025-01-01T00:00:00\",\"2024-09-01T00:00:00\",\"2024-11-01T00:00:00\",\"2025-03-01T00:00:00\",\"2023-07-01T00:00:00\",\"2023-01-01T00:00:00\",\"2023-12-01T00:00:00\",\"2024-01-01T00:00:00\",\"2024-03-01T00:00:00\",\"2024-03-01T00:00:00\",\"2024-02-01T00:00:00\",\"2023-06-01T00:00:00\",\"2023-10-01T00:00:00\",\"2024-06-01T00:00:00\",\"2024-05-01T00:00:00\",\"2024-02-01T00:00:00\",\"2023-10-01T00:00:00\",\"2024-12-01T00:00:00\",\"2024-05-01T00:00:00\",\"2023-05-01T00:00:00\",\"2024-01-01T00:00:00\",\"2024-10-01T00:00:00\",\"2023-10-01T00:00:00\",\"2024-08-01T00:00:00\",\"2023-10-01T00:00:00\",\"2024-07-01T00:00:00\",\"2024-07-01T00:00:00\",\"2024-04-01T00:00:00\",\"2024-04-01T00:00:00\",\"2024-11-01T00:00:00\",\"2024-03-01T00:00:00\",\"2024-05-01T00:00:00\",\"2023-10-01T00:00:00\",\"2024-11-01T00:00:00\",\"2023-09-01T00:00:00\",\"2024-03-01T00:00:00\",\"2023-10-01T00:00:00\",\"2024-04-01T00:00:00\",\"2024-05-01T00:00:00\",\"2023-12-01T00:00:00\",\"2024-06-01T00:00:00\",\"2024-04-01T00:00:00\",\"2023-11-01T00:00:00\",\"2024-08-01T00:00:00\",\"2023-03-01T00:00:00\",\"2024-06-01T00:00:00\",\"2025-03-01T00:00:00\",\"2024-08-01T00:00:00\",\"2023-06-01T00:00:00\",\"2024-01-01T00:00:00\",\"2024-09-01T00:00:00\",\"2024-03-01T00:00:00\",\"2024-02-01T00:00:00\",\"2024-07-01T00:00:00\",\"2023-11-01T00:00:00\",\"2023-12-01T00:00:00\",\"2024-05-01T00:00:00\",\"2023-10-01T00:00:00\",\"2024-02-01T00:00:00\",\"2024-08-01T00:00:00\",\"2024-01-01T00:00:00\",\"2023-10-01T00:00:00\",\"2024-08-01T00:00:00\",\"2024-03-01T00:00:00\",\"2024-06-01T00:00:00\",\"2023-12-01T00:00:00\",\"2024-10-01T00:00:00\",\"2023-04-01T00:00:00\",\"2023-08-01T00:00:00\",\"2024-11-01T00:00:00\",\"2024-11-01T00:00:00\",\"2024-12-01T00:00:00\",\"2023-11-01T00:00:00\",\"2023-04-01T00:00:00\",\"2024-10-01T00:00:00\",\"2024-06-01T00:00:00\",\"2024-09-01T00:00:00\",\"2024-03-01T00:00:00\",\"2024-09-01T00:00:00\",\"2024-02-01T00:00:00\",\"2023-07-01T00:00:00\",\"2024-07-01T00:00:00\",\"2024-07-01T00:00:00\",\"2024-07-01T00:00:00\",\"2024-05-01T00:00:00\",\"2024-06-01T00:00:00\",\"2024-12-01T00:00:00\",\"2024-05-01T00:00:00\",\"2024-04-01T00:00:00\",\"2024-05-01T00:00:00\",\"2023-08-01T00:00:00\",\"2025-04-01T00:00:00\",\"2023-03-01T00:00:00\",\"2023-11-01T00:00:00\",\"2024-12-01T00:00:00\",\"2024-08-01T00:00:00\",\"2023-05-01T00:00:00\",\"2023-11-01T00:00:00\",\"2023-05-01T00:00:00\",\"2023-10-01T00:00:00\",\"2023-07-01T00:00:00\",\"2023-03-01T00:00:00\",\"2025-04-01T00:00:00\",\"2023-12-01T00:00:00\",\"2025-01-01T00:00:00\",\"2024-06-01T00:00:00\",\"2023-12-01T00:00:00\",\"2024-01-01T00:00:00\",\"2024-01-01T00:00:00\",\"2024-03-01T00:00:00\",\"2023-09-01T00:00:00\",\"2023-09-01T00:00:00\",\"2023-12-01T00:00:00\",\"2024-06-01T00:00:00\",\"2023-04-01T00:00:00\",\"2024-12-01T00:00:00\",\"2024-02-01T00:00:00\",\"2024-05-01T00:00:00\",\"2024-03-01T00:00:00\",\"2024-07-01T00:00:00\",\"2023-09-01T00:00:00\",\"2024-09-01T00:00:00\",\"2025-01-01T00:00:00\",\"2024-06-01T00:00:00\",\"2024-10-01T00:00:00\",\"2025-02-01T00:00:00\",\"2024-04-01T00:00:00\",\"2023-02-01T00:00:00\",\"2023-07-01T00:00:00\",\"2024-02-01T00:00:00\",\"2025-01-01T00:00:00\",\"2023-09-01T00:00:00\",\"2023-10-01T00:00:00\",\"2023-12-01T00:00:00\",\"2024-03-01T00:00:00\",\"2024-11-01T00:00:00\",\"2024-06-01T00:00:00\",\"2024-01-01T00:00:00\",\"2023-08-01T00:00:00\",\"2024-02-01T00:00:00\",\"2024-04-01T00:00:00\",\"2023-12-01T00:00:00\",\"2023-11-01T00:00:00\",\"2023-06-01T00:00:00\",\"2023-12-01T00:00:00\",\"2025-01-01T00:00:00\",\"2024-06-01T00:00:00\",\"2024-08-01T00:00:00\",\"2024-08-01T00:00:00\",\"2024-04-01T00:00:00\",\"2025-02-01T00:00:00\",\"2024-10-01T00:00:00\",\"2024-03-01T00:00:00\",\"2023-09-01T00:00:00\",\"2024-07-01T00:00:00\",\"2024-09-01T00:00:00\",\"2023-12-01T00:00:00\",\"2024-04-01T00:00:00\",\"2024-05-01T00:00:00\",\"2024-11-01T00:00:00\",\"2023-11-01T00:00:00\"],\"xaxis\":\"x\",\"y\":[53503.771680212165,52173.449072899406,81159.17951153015,59118.57754672136,101021.47434538342,32243.445592683827,48019.28964178628,54306.07734794527,81588.01118002883,45250.51862381341,48019.28964178628,53503.771680212165,32243.445592683827,76049.75009724895,110389.85471916267,54306.07734794527,101021.47434538342,72202.83831216049,61646.138159272756,103993.6224470063,61646.138159272756,110389.85471916267,81159.17951153015,100064.1895682566,111799.64917017068,110389.85471916267,111799.64917017068,54306.07734794527,81588.01118002883,111799.64917017068,45099.09715405307,61646.138159272756,72202.83831216049,72202.83831216049,101021.47434538342,61646.138159272756,81588.01118002883,62236.14777472959,73368.6114723126,48019.28964178628,91480.56972039794,48019.28964178628,62236.14777472959,76049.75009724895,63017.52127968144,103993.6224470063,111799.64917017068,54306.07734794527,53503.771680212165,54306.07734794527,81159.17951153015,52173.449072899406,111799.64917017068,76049.75009724895,58540.64087295313,43216.83152028751,76049.75009724895,58223.66412849987,45250.51862381341,110389.85471916267,52156.149274496944,100064.1895682566,54306.07734794527,59118.57754672136,59118.57754672136,48019.28964178628,81588.01118002883,78675.03122622971,73368.6114723126,52173.449072899406,48019.28964178628,78675.03122622971,91480.56972039794,52173.449072899406,62236.14777472959,54306.07734794527,72202.83831216049,78675.03122622971,103993.6224470063,78675.03122622971,101021.47434538342,101021.47434538342,53503.771680212165,53503.771680212165,58223.66412849987,59118.57754672136,52173.449072899406,78675.03122622971,58223.66412849987,81159.17951153015,59118.57754672136,78675.03122622971,53503.771680212165,52173.449072899406,100064.1895682566,73368.6114723126,53503.771680212165,61646.138159272756,103993.6224470063,61134.60720995977,73368.6114723126,45250.51862381341,103993.6224470063,81588.01118002883,54306.07734794527,76049.75009724895,59118.57754672136,48019.28964178628,101021.47434538342,61646.138159272756,100064.1895682566,52173.449072899406,78675.03122622971,48019.28964178628,103993.6224470063,54306.07734794527,78675.03122622971,103993.6224470063,59118.57754672136,73368.6114723126,100064.1895682566,72202.83831216049,63017.52127968144,111799.64917017068,58223.66412849987,58223.66412849987,91480.56972039794,61646.138159272756,63017.52127968144,72202.83831216049,73368.6114723126,76049.75009724895,59118.57754672136,76049.75009724895,48019.28964178628,110389.85471916267,101021.47434538342,101021.47434538342,101021.47434538342,52173.449072899406,73368.6114723126,91480.56972039794,52173.449072899406,53503.771680212165,52173.449072899406,111799.64917017068,41420.484946519166,61134.60720995977,61646.138159272756,91480.56972039794,103993.6224470063,62236.14777472959,61646.138159272756,62236.14777472959,78675.03122622971,110389.85471916267,61134.60720995977,41420.484946519166,100064.1895682566,43216.83152028751,73368.6114723126,100064.1895682566,54306.07734794527,54306.07734794527,59118.57754672136,81159.17951153015,81159.17951153015,100064.1895682566,73368.6114723126,63017.52127968144,91480.56972039794,48019.28964178628,52173.449072899406,59118.57754672136,101021.47434538342,81159.17951153015,76049.75009724895,43216.83152028751,73368.6114723126,72202.83831216049,32243.445592683827,53503.771680212165,58540.64087295313,110389.85471916267,48019.28964178628,43216.83152028751,81159.17951153015,78675.03122622971,100064.1895682566,59118.57754672136,58223.66412849987,73368.6114723126,54306.07734794527,111799.64917017068,48019.28964178628,53503.771680212165,100064.1895682566,61646.138159272756,81588.01118002883,100064.1895682566,43216.83152028751,73368.6114723126,103993.6224470063,103993.6224470063,53503.771680212165,32243.445592683827,72202.83831216049,59118.57754672136,81159.17951153015,101021.47434538342,76049.75009724895,100064.1895682566,53503.771680212165,52173.449072899406,58223.66412849987,61646.138159272756],\"yaxis\":\"y\",\"type\":\"scattergl\"},{\"hovertemplate\":\"Tipo de Valor=actual\\u003cbr\\u003eSUBBRAND=Pepsi Max (L3)\\u003cbr\\u003eFecha=%{x}\\u003cbr\\u003eVentas=%{y}\\u003cextra\\u003e\\u003c\\u002fextra\\u003e\",\"legendgroup\":\"actual\",\"marker\":{\"color\":\"#EF553B\",\"symbol\":\"circle\"},\"mode\":\"markers\",\"name\":\"actual\",\"showlegend\":true,\"x\":[\"2023-04-01T00:00:00\",\"2023-01-01T00:00:00\",\"2024-05-01T00:00:00\",\"2024-03-01T00:00:00\",\"2023-10-01T00:00:00\",\"2024-02-01T00:00:00\",\"2023-05-01T00:00:00\",\"2024-08-01T00:00:00\",\"2023-07-01T00:00:00\",\"2023-09-01T00:00:00\",\"2023-03-01T00:00:00\",\"2024-01-01T00:00:00\",\"2023-11-01T00:00:00\",\"2023-12-01T00:00:00\",\"2024-06-01T00:00:00\",\"2023-06-01T00:00:00\",\"2024-04-01T00:00:00\",\"2024-07-01T00:00:00\",\"2023-08-01T00:00:00\",\"2023-02-01T00:00:00\"],\"xaxis\":\"x5\",\"y\":[90623.55743784914,83274.05549724207,94165.227223096,95639.02841081204,130091.60765395944,100246.4604717935,85757.98791767348,150238.709291102,125493.49625476392,108423.09226152318,108883.1082384134,97238.51342749008,112481.01179068074,105442.11223403168,113988.682873909,115198.26101891116,106530.7355251386,135627.644361161,148935.01617841818,80772.49512162477],\"yaxis\":\"y5\",\"type\":\"scattergl\"},{\"hovertemplate\":\"Tipo de Valor=actual\\u003cbr\\u003eSUBBRAND=Pepsi Regular (L3)\\u003cbr\\u003eFecha=%{x}\\u003cbr\\u003eVentas=%{y}\\u003cextra\\u003e\\u003c\\u002fextra\\u003e\",\"legendgroup\":\"actual\",\"marker\":{\"color\":\"#EF553B\",\"symbol\":\"circle\"},\"mode\":\"markers\",\"name\":\"actual\",\"showlegend\":false,\"x\":[\"2024-08-01T00:00:00\",\"2023-07-01T00:00:00\",\"2023-04-01T00:00:00\",\"2023-09-01T00:00:00\",\"2023-03-01T00:00:00\",\"2023-10-01T00:00:00\",\"2023-12-01T00:00:00\",\"2023-08-01T00:00:00\",\"2023-06-01T00:00:00\",\"2023-02-01T00:00:00\",\"2024-01-01T00:00:00\",\"2024-02-01T00:00:00\",\"2024-07-01T00:00:00\",\"2024-04-01T00:00:00\",\"2023-11-01T00:00:00\",\"2024-06-01T00:00:00\",\"2024-03-01T00:00:00\",\"2023-01-01T00:00:00\",\"2023-05-01T00:00:00\",\"2024-05-01T00:00:00\"],\"xaxis\":\"x6\",\"y\":[173370.457123134,162071.55519256374,99838.51406116813,140729.30844064584,122439.03679157892,151523.86577670075,115494.26762467154,186616.62295196296,143831.89772037225,85035.20179214247,113340.61179034613,108317.83149722092,165327.090656767,115596.74681056407,123046.45431128611,130166.523426768,100264.4079378386,99292.75887089389,115891.54759145631,111719.09364367],\"yaxis\":\"y6\",\"type\":\"scattergl\"},{\"hovertemplate\":\"Tipo de Valor=actual\\u003cbr\\u003eSUBBRAND=Lipton (L3)\\u003cbr\\u003eFecha=%{x}\\u003cbr\\u003eVentas=%{y}\\u003cextra\\u003e\\u003c\\u002fextra\\u003e\",\"legendgroup\":\"actual\",\"marker\":{\"color\":\"#EF553B\",\"symbol\":\"circle\"},\"mode\":\"markers\",\"name\":\"actual\",\"showlegend\":false,\"x\":[\"2024-02-01T00:00:00\",\"2024-07-01T00:00:00\",\"2023-12-01T00:00:00\",\"2024-08-01T00:00:00\",\"2024-05-01T00:00:00\",\"2024-01-01T00:00:00\",\"2024-04-01T00:00:00\",\"2023-05-01T00:00:00\",\"2024-06-01T00:00:00\",\"2023-06-01T00:00:00\",\"2023-03-01T00:00:00\",\"2023-10-01T00:00:00\",\"2023-04-01T00:00:00\",\"2024-03-01T00:00:00\",\"2023-02-01T00:00:00\",\"2023-09-01T00:00:00\",\"2023-08-01T00:00:00\",\"2023-01-01T00:00:00\",\"2023-11-01T00:00:00\",\"2023-07-01T00:00:00\"],\"xaxis\":\"x3\",\"y\":[8003.513133044036,15308.024486978,8591.425799032075,16677.562291743,8909.258698302,7392.653203701226,9613.097292765917,11759.247227955731,9739.012208266,11845.311399723854,9426.005681457948,10942.085509666931,9617.009842166068,6855.564870062626,10132.837981585457,10634.28934295154,16355.798251764669,9208.97938049918,8034.032890992088,13255.914481677031],\"yaxis\":\"y3\",\"type\":\"scattergl\"},{\"hovertemplate\":\"Tipo de Valor=actual\\u003cbr\\u003eSUBBRAND=7up Free (L3)\\u003cbr\\u003eFecha=%{x}\\u003cbr\\u003eVentas=%{y}\\u003cextra\\u003e\\u003c\\u002fextra\\u003e\",\"legendgroup\":\"actual\",\"marker\":{\"color\":\"#EF553B\",\"symbol\":\"circle\"},\"mode\":\"markers\",\"name\":\"actual\",\"showlegend\":false,\"x\":[\"2023-10-01T00:00:00\",\"2024-01-01T00:00:00\",\"2024-02-01T00:00:00\",\"2024-07-01T00:00:00\",\"2023-05-01T00:00:00\",\"2024-03-01T00:00:00\",\"2023-03-01T00:00:00\",\"2023-12-01T00:00:00\",\"2024-05-01T00:00:00\",\"2024-08-01T00:00:00\",\"2023-08-01T00:00:00\",\"2023-04-01T00:00:00\",\"2023-06-01T00:00:00\",\"2024-04-01T00:00:00\",\"2023-11-01T00:00:00\",\"2024-06-01T00:00:00\",\"2023-02-01T00:00:00\",\"2023-01-01T00:00:00\",\"2023-07-01T00:00:00\",\"2023-09-01T00:00:00\"],\"xaxis\":\"x4\",\"y\":[83196.89587639924,60318.99423122441,59482.85058485907,94034.761505568,64424.03987398998,62914.44527414004,64655.47145032158,63811.6805944221,64397.071565943,101061.307263671,105712.72961973328,54815.01624992075,76407.2321369573,70054.79630581953,74531.12053248259,75371.66526949,50344.87118975999,54525.1755862856,92339.32988163334,75888.8082792544],\"yaxis\":\"y4\",\"type\":\"scattergl\"},{\"hovertemplate\":\"Tipo de Valor=actual\\u003cbr\\u003eSUBBRAND=7up (L3)\\u003cbr\\u003eFecha=%{x}\\u003cbr\\u003eVentas=%{y}\\u003cextra\\u003e\\u003c\\u002fextra\\u003e\",\"legendgroup\":\"actual\",\"marker\":{\"color\":\"#EF553B\",\"symbol\":\"circle\"},\"mode\":\"markers\",\"name\":\"actual\",\"showlegend\":false,\"x\":[\"2024-04-01T00:00:00\",\"2023-05-01T00:00:00\",\"2023-12-01T00:00:00\",\"2023-08-01T00:00:00\",\"2023-04-01T00:00:00\",\"2024-01-01T00:00:00\",\"2024-02-01T00:00:00\",\"2024-08-01T00:00:00\",\"2024-03-01T00:00:00\",\"2023-03-01T00:00:00\",\"2023-11-01T00:00:00\",\"2024-06-01T00:00:00\",\"2023-01-01T00:00:00\",\"2023-09-01T00:00:00\",\"2023-10-01T00:00:00\",\"2024-05-01T00:00:00\",\"2023-06-01T00:00:00\",\"2023-07-01T00:00:00\",\"2023-02-01T00:00:00\",\"2024-07-01T00:00:00\"],\"xaxis\":\"x\",\"y\":[74882.99296245942,82918.33366906652,100807.92233802738,106715.95381781296,73141.16028298099,71405.76048903509,76848.37996555197,96514.247673526,66435.80973984348,94306.65094820118,99913.5795238565,79701.862588321,78971.96959557036,84366.48226666574,92671.3869433897,77568.360654581,91915.88401372284,103384.94030894028,69302.9735194043,95936.841771572],\"yaxis\":\"y\",\"type\":\"scattergl\"}],                        {\"template\":{\"data\":{\"histogram2dcontour\":[{\"type\":\"histogram2dcontour\",\"colorbar\":{\"outlinewidth\":0,\"ticks\":\"\"},\"colorscale\":[[0.0,\"#0d0887\"],[0.1111111111111111,\"#46039f\"],[0.2222222222222222,\"#7201a8\"],[0.3333333333333333,\"#9c179e\"],[0.4444444444444444,\"#bd3786\"],[0.5555555555555556,\"#d8576b\"],[0.6666666666666666,\"#ed7953\"],[0.7777777777777778,\"#fb9f3a\"],[0.8888888888888888,\"#fdca26\"],[1.0,\"#f0f921\"]]}],\"choropleth\":[{\"type\":\"choropleth\",\"colorbar\":{\"outlinewidth\":0,\"ticks\":\"\"}}],\"histogram2d\":[{\"type\":\"histogram2d\",\"colorbar\":{\"outlinewidth\":0,\"ticks\":\"\"},\"colorscale\":[[0.0,\"#0d0887\"],[0.1111111111111111,\"#46039f\"],[0.2222222222222222,\"#7201a8\"],[0.3333333333333333,\"#9c179e\"],[0.4444444444444444,\"#bd3786\"],[0.5555555555555556,\"#d8576b\"],[0.6666666666666666,\"#ed7953\"],[0.7777777777777778,\"#fb9f3a\"],[0.8888888888888888,\"#fdca26\"],[1.0,\"#f0f921\"]]}],\"heatmap\":[{\"type\":\"heatmap\",\"colorbar\":{\"outlinewidth\":0,\"ticks\":\"\"},\"colorscale\":[[0.0,\"#0d0887\"],[0.1111111111111111,\"#46039f\"],[0.2222222222222222,\"#7201a8\"],[0.3333333333333333,\"#9c179e\"],[0.4444444444444444,\"#bd3786\"],[0.5555555555555556,\"#d8576b\"],[0.6666666666666666,\"#ed7953\"],[0.7777777777777778,\"#fb9f3a\"],[0.8888888888888888,\"#fdca26\"],[1.0,\"#f0f921\"]]}],\"heatmapgl\":[{\"type\":\"heatmapgl\",\"colorbar\":{\"outlinewidth\":0,\"ticks\":\"\"},\"colorscale\":[[0.0,\"#0d0887\"],[0.1111111111111111,\"#46039f\"],[0.2222222222222222,\"#7201a8\"],[0.3333333333333333,\"#9c179e\"],[0.4444444444444444,\"#bd3786\"],[0.5555555555555556,\"#d8576b\"],[0.6666666666666666,\"#ed7953\"],[0.7777777777777778,\"#fb9f3a\"],[0.8888888888888888,\"#fdca26\"],[1.0,\"#f0f921\"]]}],\"contourcarpet\":[{\"type\":\"contourcarpet\",\"colorbar\":{\"outlinewidth\":0,\"ticks\":\"\"}}],\"contour\":[{\"type\":\"contour\",\"colorbar\":{\"outlinewidth\":0,\"ticks\":\"\"},\"colorscale\":[[0.0,\"#0d0887\"],[0.1111111111111111,\"#46039f\"],[0.2222222222222222,\"#7201a8\"],[0.3333333333333333,\"#9c179e\"],[0.4444444444444444,\"#bd3786\"],[0.5555555555555556,\"#d8576b\"],[0.6666666666666666,\"#ed7953\"],[0.7777777777777778,\"#fb9f3a\"],[0.8888888888888888,\"#fdca26\"],[1.0,\"#f0f921\"]]}],\"surface\":[{\"type\":\"surface\",\"colorbar\":{\"outlinewidth\":0,\"ticks\":\"\"},\"colorscale\":[[0.0,\"#0d0887\"],[0.1111111111111111,\"#46039f\"],[0.2222222222222222,\"#7201a8\"],[0.3333333333333333,\"#9c179e\"],[0.4444444444444444,\"#bd3786\"],[0.5555555555555556,\"#d8576b\"],[0.6666666666666666,\"#ed7953\"],[0.7777777777777778,\"#fb9f3a\"],[0.8888888888888888,\"#fdca26\"],[1.0,\"#f0f921\"]]}],\"mesh3d\":[{\"type\":\"mesh3d\",\"colorbar\":{\"outlinewidth\":0,\"ticks\":\"\"}}],\"scatter\":[{\"fillpattern\":{\"fillmode\":\"overlay\",\"size\":10,\"solidity\":0.2},\"type\":\"scatter\"}],\"parcoords\":[{\"type\":\"parcoords\",\"line\":{\"colorbar\":{\"outlinewidth\":0,\"ticks\":\"\"}}}],\"scatterpolargl\":[{\"type\":\"scatterpolargl\",\"marker\":{\"colorbar\":{\"outlinewidth\":0,\"ticks\":\"\"}}}],\"bar\":[{\"error_x\":{\"color\":\"#2a3f5f\"},\"error_y\":{\"color\":\"#2a3f5f\"},\"marker\":{\"line\":{\"color\":\"#E5ECF6\",\"width\":0.5},\"pattern\":{\"fillmode\":\"overlay\",\"size\":10,\"solidity\":0.2}},\"type\":\"bar\"}],\"scattergeo\":[{\"type\":\"scattergeo\",\"marker\":{\"colorbar\":{\"outlinewidth\":0,\"ticks\":\"\"}}}],\"scatterpolar\":[{\"type\":\"scatterpolar\",\"marker\":{\"colorbar\":{\"outlinewidth\":0,\"ticks\":\"\"}}}],\"histogram\":[{\"marker\":{\"pattern\":{\"fillmode\":\"overlay\",\"size\":10,\"solidity\":0.2}},\"type\":\"histogram\"}],\"scattergl\":[{\"type\":\"scattergl\",\"marker\":{\"colorbar\":{\"outlinewidth\":0,\"ticks\":\"\"}}}],\"scatter3d\":[{\"type\":\"scatter3d\",\"line\":{\"colorbar\":{\"outlinewidth\":0,\"ticks\":\"\"}},\"marker\":{\"colorbar\":{\"outlinewidth\":0,\"ticks\":\"\"}}}],\"scattermapbox\":[{\"type\":\"scattermapbox\",\"marker\":{\"colorbar\":{\"outlinewidth\":0,\"ticks\":\"\"}}}],\"scatterternary\":[{\"type\":\"scatterternary\",\"marker\":{\"colorbar\":{\"outlinewidth\":0,\"ticks\":\"\"}}}],\"scattercarpet\":[{\"type\":\"scattercarpet\",\"marker\":{\"colorbar\":{\"outlinewidth\":0,\"ticks\":\"\"}}}],\"carpet\":[{\"aaxis\":{\"endlinecolor\":\"#2a3f5f\",\"gridcolor\":\"white\",\"linecolor\":\"white\",\"minorgridcolor\":\"white\",\"startlinecolor\":\"#2a3f5f\"},\"baxis\":{\"endlinecolor\":\"#2a3f5f\",\"gridcolor\":\"white\",\"linecolor\":\"white\",\"minorgridcolor\":\"white\",\"startlinecolor\":\"#2a3f5f\"},\"type\":\"carpet\"}],\"table\":[{\"cells\":{\"fill\":{\"color\":\"#EBF0F8\"},\"line\":{\"color\":\"white\"}},\"header\":{\"fill\":{\"color\":\"#C8D4E3\"},\"line\":{\"color\":\"white\"}},\"type\":\"table\"}],\"barpolar\":[{\"marker\":{\"line\":{\"color\":\"#E5ECF6\",\"width\":0.5},\"pattern\":{\"fillmode\":\"overlay\",\"size\":10,\"solidity\":0.2}},\"type\":\"barpolar\"}],\"pie\":[{\"automargin\":true,\"type\":\"pie\"}]},\"layout\":{\"autotypenumbers\":\"strict\",\"colorway\":[\"#636efa\",\"#EF553B\",\"#00cc96\",\"#ab63fa\",\"#FFA15A\",\"#19d3f3\",\"#FF6692\",\"#B6E880\",\"#FF97FF\",\"#FECB52\"],\"font\":{\"color\":\"#2a3f5f\"},\"hovermode\":\"closest\",\"hoverlabel\":{\"align\":\"left\"},\"paper_bgcolor\":\"white\",\"plot_bgcolor\":\"#E5ECF6\",\"polar\":{\"bgcolor\":\"#E5ECF6\",\"angularaxis\":{\"gridcolor\":\"white\",\"linecolor\":\"white\",\"ticks\":\"\"},\"radialaxis\":{\"gridcolor\":\"white\",\"linecolor\":\"white\",\"ticks\":\"\"}},\"ternary\":{\"bgcolor\":\"#E5ECF6\",\"aaxis\":{\"gridcolor\":\"white\",\"linecolor\":\"white\",\"ticks\":\"\"},\"baxis\":{\"gridcolor\":\"white\",\"linecolor\":\"white\",\"ticks\":\"\"},\"caxis\":{\"gridcolor\":\"white\",\"linecolor\":\"white\",\"ticks\":\"\"}},\"coloraxis\":{\"colorbar\":{\"outlinewidth\":0,\"ticks\":\"\"}},\"colorscale\":{\"sequential\":[[0.0,\"#0d0887\"],[0.1111111111111111,\"#46039f\"],[0.2222222222222222,\"#7201a8\"],[0.3333333333333333,\"#9c179e\"],[0.4444444444444444,\"#bd3786\"],[0.5555555555555556,\"#d8576b\"],[0.6666666666666666,\"#ed7953\"],[0.7777777777777778,\"#fb9f3a\"],[0.8888888888888888,\"#fdca26\"],[1.0,\"#f0f921\"]],\"sequentialminus\":[[0.0,\"#0d0887\"],[0.1111111111111111,\"#46039f\"],[0.2222222222222222,\"#7201a8\"],[0.3333333333333333,\"#9c179e\"],[0.4444444444444444,\"#bd3786\"],[0.5555555555555556,\"#d8576b\"],[0.6666666666666666,\"#ed7953\"],[0.7777777777777778,\"#fb9f3a\"],[0.8888888888888888,\"#fdca26\"],[1.0,\"#f0f921\"]],\"diverging\":[[0,\"#8e0152\"],[0.1,\"#c51b7d\"],[0.2,\"#de77ae\"],[0.3,\"#f1b6da\"],[0.4,\"#fde0ef\"],[0.5,\"#f7f7f7\"],[0.6,\"#e6f5d0\"],[0.7,\"#b8e186\"],[0.8,\"#7fbc41\"],[0.9,\"#4d9221\"],[1,\"#276419\"]]},\"xaxis\":{\"gridcolor\":\"white\",\"linecolor\":\"white\",\"ticks\":\"\",\"title\":{\"standoff\":15},\"zerolinecolor\":\"white\",\"automargin\":true,\"zerolinewidth\":2},\"yaxis\":{\"gridcolor\":\"white\",\"linecolor\":\"white\",\"ticks\":\"\",\"title\":{\"standoff\":15},\"zerolinecolor\":\"white\",\"automargin\":true,\"zerolinewidth\":2},\"scene\":{\"xaxis\":{\"backgroundcolor\":\"#E5ECF6\",\"gridcolor\":\"white\",\"linecolor\":\"white\",\"showbackground\":true,\"ticks\":\"\",\"zerolinecolor\":\"white\",\"gridwidth\":2},\"yaxis\":{\"backgroundcolor\":\"#E5ECF6\",\"gridcolor\":\"white\",\"linecolor\":\"white\",\"showbackground\":true,\"ticks\":\"\",\"zerolinecolor\":\"white\",\"gridwidth\":2},\"zaxis\":{\"backgroundcolor\":\"#E5ECF6\",\"gridcolor\":\"white\",\"linecolor\":\"white\",\"showbackground\":true,\"ticks\":\"\",\"zerolinecolor\":\"white\",\"gridwidth\":2}},\"shapedefaults\":{\"line\":{\"color\":\"#2a3f5f\"}},\"annotationdefaults\":{\"arrowcolor\":\"#2a3f5f\",\"arrowhead\":0,\"arrowwidth\":1},\"geo\":{\"bgcolor\":\"white\",\"landcolor\":\"#E5ECF6\",\"subunitcolor\":\"white\",\"showland\":true,\"showlakes\":true,\"lakecolor\":\"white\"},\"title\":{\"x\":0.05},\"mapbox\":{\"style\":\"light\"}}},\"xaxis\":{\"anchor\":\"y\",\"domain\":[0.0,0.49],\"title\":{\"text\":\"Fecha\"},\"showticklabels\":true},\"yaxis\":{\"anchor\":\"x\",\"domain\":[0.0,0.2866666666666666],\"title\":{\"text\":\"Ventas\"}},\"xaxis2\":{\"anchor\":\"y2\",\"domain\":[0.51,1.0],\"title\":{\"text\":\"Fecha\"},\"showticklabels\":true},\"yaxis2\":{\"anchor\":\"x2\",\"domain\":[0.0,0.2866666666666666],\"matches\":\"y\",\"showticklabels\":false},\"xaxis3\":{\"anchor\":\"y3\",\"domain\":[0.0,0.49],\"showticklabels\":true},\"yaxis3\":{\"anchor\":\"x3\",\"domain\":[0.35666666666666663,0.6433333333333333],\"matches\":\"y\",\"title\":{\"text\":\"Ventas\"}},\"xaxis4\":{\"anchor\":\"y4\",\"domain\":[0.51,1.0],\"showticklabels\":true},\"yaxis4\":{\"anchor\":\"x4\",\"domain\":[0.35666666666666663,0.6433333333333333],\"matches\":\"y\",\"showticklabels\":false},\"xaxis5\":{\"anchor\":\"y5\",\"domain\":[0.0,0.49],\"showticklabels\":true},\"yaxis5\":{\"anchor\":\"x5\",\"domain\":[0.7133333333333333,0.9999999999999999],\"matches\":\"y\",\"title\":{\"text\":\"Ventas\"}},\"xaxis6\":{\"anchor\":\"y6\",\"domain\":[0.51,1.0],\"showticklabels\":true},\"yaxis6\":{\"anchor\":\"x6\",\"domain\":[0.7133333333333333,0.9999999999999999],\"matches\":\"y\",\"showticklabels\":false},\"annotations\":[{\"font\":{},\"showarrow\":false,\"text\":\"SUBBRAND=7up (L3)\",\"x\":0.245,\"xanchor\":\"center\",\"xref\":\"paper\",\"y\":0.2866666666666666,\"yanchor\":\"bottom\",\"yref\":\"paper\"},{\"font\":{},\"showarrow\":false,\"text\":\"SUBBRAND=Lipton (L3)\",\"x\":0.245,\"xanchor\":\"center\",\"xref\":\"paper\",\"y\":0.6433333333333333,\"yanchor\":\"bottom\",\"yref\":\"paper\"},{\"font\":{},\"showarrow\":false,\"text\":\"SUBBRAND=7up Free (L3)\",\"x\":0.755,\"xanchor\":\"center\",\"xref\":\"paper\",\"y\":0.6433333333333333,\"yanchor\":\"bottom\",\"yref\":\"paper\"},{\"font\":{},\"showarrow\":false,\"text\":\"SUBBRAND=Pepsi Max (L3)\",\"x\":0.245,\"xanchor\":\"center\",\"xref\":\"paper\",\"y\":0.9999999999999999,\"yanchor\":\"bottom\",\"yref\":\"paper\"},{\"font\":{},\"showarrow\":false,\"text\":\"SUBBRAND=Pepsi Regular (L3)\",\"x\":0.755,\"xanchor\":\"center\",\"xref\":\"paper\",\"y\":0.9999999999999999,\"yanchor\":\"bottom\",\"yref\":\"paper\"}],\"legend\":{\"title\":{\"text\":\"Tipo de Ventas\"},\"tracegroupgap\":0},\"title\":{\"text\":\"Comparación de Ventas Actual y Forecast (Media) por Sub-marca en España\",\"x\":0.5},\"margin\":{\"t\":60,\"b\":40,\"l\":40,\"r\":40},\"height\":1200},                        {\"responsive\": true}                    ).then(function(){\n",
              "                            \n",
              "var gd = document.getElementById('254ea74b-963b-439e-b497-c1237cb3d662');\n",
              "var x = new MutationObserver(function (mutations, observer) {{\n",
              "        var display = window.getComputedStyle(gd).display;\n",
              "        if (!display || display === 'none') {{\n",
              "            console.log([gd, 'removed!']);\n",
              "            Plotly.purge(gd);\n",
              "            observer.disconnect();\n",
              "        }}\n",
              "}});\n",
              "\n",
              "// Listen for the removal of the full notebook cells\n",
              "var notebookContainer = gd.closest('#notebook-container');\n",
              "if (notebookContainer) {{\n",
              "    x.observe(notebookContainer, {childList: true});\n",
              "}}\n",
              "\n",
              "// Listen for the clearing of the current output cell\n",
              "var outputEl = gd.closest('.output');\n",
              "if (outputEl) {{\n",
              "    x.observe(outputEl, {childList: true});\n",
              "}}\n",
              "\n",
              "                        })                };                            </script>        </div>\n",
              "</body>\n",
              "</html>"
            ]
          },
          "metadata": {}
        }
      ]
    },
    {
      "cell_type": "markdown",
      "source": [
        "Una vez tenemos el gráfico correcto, se pueden contemplar que las predicicones parecen buenas pero para asegurarnos se calcula el mae y el mape de cada producto.\n"
      ],
      "metadata": {
        "id": "k0RCBpndf_6y"
      }
    },
    {
      "cell_type": "markdown",
      "source": [
        "El MAE es la media del valor absoluto de los errores entre las predicciones y los valores reales. Es una medida de precisión que indica, en promedio, cuánto difieren las predicciones de los valores reales sin tener en cuenta la dirección del error (positiva o negativa)."
      ],
      "metadata": {
        "id": "3vYwEVoVgX_i"
      }
    },
    {
      "cell_type": "markdown",
      "source": [
        "El MAPE es la media del error absoluto en porcentaje, lo que permite interpretar el error en relación con el tamaño de los valores reales. Es útil para entender el error en términos relativos."
      ],
      "metadata": {
        "id": "qnpEjF7TgY9z"
      }
    },
    {
      "cell_type": "code",
      "source": [
        "comparison_df = df_ventas_espana[(df_ventas_espana['SCENARIO'] == 'actual') & (df_ventas_espana['FORECAST_MEAN'].notna())]\n",
        "\n",
        "resultados_precision = []\n",
        "\n",
        "for subbrand in comparison_df['SUBBRAND'].unique():\n",
        "    datos_subbrand = comparison_df[comparison_df['SUBBRAND'] == subbrand]\n",
        "\n",
        "    actual = datos_subbrand['AMOUNT']\n",
        "    forecast_mean = datos_subbrand['FORECAST_MEAN']\n",
        "\n",
        "\n",
        "    mae = abs(actual - forecast_mean).mean()\n",
        "    mape = (abs((actual - forecast_mean) / actual) * 100).mean()\n",
        "\n",
        "    resultados_precision.append({'SUBBRAND': subbrand, 'MAE': mae, 'MAPE': mape})\n",
        "\n",
        "\n",
        "df_resultados_precision = pd.DataFrame(resultados_precision)\n",
        "\n",
        "\n",
        "print(df_resultados_precision)\n"
      ],
      "metadata": {
        "colab": {
          "base_uri": "https://localhost:8080/"
        },
        "id": "YtjSdJ0H4xWc",
        "outputId": "cab0792e-0c00-4566-a91c-a9d866f423b0"
      },
      "execution_count": null,
      "outputs": [
        {
          "output_type": "stream",
          "name": "stdout",
          "text": [
            "             SUBBRAND           MAE       MAPE\n",
            "0       7up Free (L3)   5969.565691   8.454255\n",
            "1         Lipton (L3)   2302.784718  24.024355\n",
            "2            7up (L3)  14955.236690  17.946149\n",
            "3  Pepsi Regular (L3)  15317.612310  11.996670\n",
            "4      Pepsi Max (L3)   9181.196495   8.488560\n"
          ]
        }
      ]
    },
    {
      "cell_type": "markdown",
      "source": [
        "Observaciones a destacar:\n",
        "\n",
        "\n",
        "1.   Lipton tiene el MAPE más alto lo que significa que sus predicciones son menos precisas que las de otras marcas como  7up.\n",
        "2.   Aunque Pepsi Regular tenga el MAE más alto, el MAPE de 12% indica que el error es razonable y el MAE es alto debido a que la cantidad de ventas es muy grande.\n",
        "3. Pepsi Max y 7up Free tienen MAPE bajos, de 8.48% y 8.45%, nos indica que las predicciones son relativamente precisas.\n",
        "\n"
      ],
      "metadata": {
        "id": "Aw-em2jHg3XI"
      }
    }
  ]
}